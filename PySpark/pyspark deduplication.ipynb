{
 "cells": [
  {
   "cell_type": "code",
   "execution_count": null,
   "metadata": {},
   "outputs": [],
   "source": [
    "from pyspark.sql import SparkSession\n",
    "\n",
    "# Initialize Spark session\n",
    "spark = SparkSession.builder \\\n",
    "    .appName(\"Data Deduplication\") \\\n",
    "    .getOrCreate()\n",
    "\n",
    "# Assuming df is your DataFrame\n",
    "df = spark.createDataFrame(data, schema=columns)\n",
    "\n",
    "# Deduplicate data\n",
    "df_deduplicated = df.dropDuplicates()\n",
    "\n",
    "# Deduplicate based on specific columns (e.g., Employee Name and Department)\n",
    "df_deduplicated_specific = df.dropDuplicates([\"Employee Name\", \"Department\"])\n",
    "\n",
    "# Show deduplicated DataFrames\n",
    "df_deduplicated.show()\n",
    "df_deduplicated_specific.show()\n",
    "\n",
    "# Stop Spark session\n",
    "spark.stop()\n"
   ]
  },
  {
   "cell_type": "code",
   "execution_count": null,
   "metadata": {},
   "outputs": [],
   "source": [
    "from pyspark.sql import SparkSession\n",
    "\n",
    "# Create a Spark session\n",
    "spark = SparkSession.builder.appName(\"DeduplicationExample\").getOrCreate()\n",
    "\n",
    "# Sample data\n",
    "data = [(\"Alice\", 1), (\"Bob\", 2), (\"Alice\", 1), (\"Dave\", 4)]\n",
    "columns = [\"Name\", \"ID\"]\n",
    "\n",
    "# Create DataFrame\n",
    "df = spark.createDataFrame(data, schema=columns)\n",
    "\n",
    "# Drop duplicates\n",
    "dedup_df = df.dropDuplicates()\n",
    "\n",
    "# Show the result\n",
    "dedup_df.show()\n"
   ]
  },
  {
   "cell_type": "code",
   "execution_count": null,
   "metadata": {},
   "outputs": [],
   "source": [
    "# use distinct()\n",
    "distinct_df = df.distinct()\n",
    "distinct_df.show()\n"
   ]
  },
  {
   "cell_type": "code",
   "execution_count": null,
   "metadata": {},
   "outputs": [],
   "source": [
    "# use window function\n",
    "from pyspark.sql.window import Window\n",
    "from pyspark.sql.functions import row_number, col\n",
    "\n",
    "# Sample data with a timestamp\n",
    "data = [(\"Alice\", 1, \"2021-01-01\"), (\"Alice\", 1, \"2021-01-02\"), (\"Bob\", 2, \"2021-01-01\")]\n",
    "columns = [\"Name\", \"ID\", \"Date\"]\n",
    "\n",
    "# Create DataFrame\n",
    "df = spark.createDataFrame(data, schema=columns)\n",
    "\n",
    "# Define a window specification\n",
    "windowSpec = Window.partitionBy(\"Name\", \"ID\").orderBy(col(\"Date\").desc())\n",
    "\n",
    "# Apply the window specification\n",
    "dedup_df = df.withColumn(\"rank\", row_number().over(windowSpec)).filter(col(\"rank\") == 1).drop(\"rank\")\n",
    "\n",
    "# Show the result\n",
    "dedup_df.show()\n"
   ]
  }
 ],
 "metadata": {
  "language_info": {
   "name": "python"
  }
 },
 "nbformat": 4,
 "nbformat_minor": 2
}
