{
 "cells": [
  {
   "cell_type": "code",
   "execution_count": null,
   "metadata": {},
   "outputs": [],
   "source": [
    "from dateutil.parser import parse\n",
    "import pandas as pd\n",
    "\n",
    "def correct_date_format(df, column_name):\n",
    "    corrected_dates = []\n",
    "    for date in df[column_name]:\n",
    "        try:\n",
    "            # Attempt to parse the date\n",
    "            parsed_date = parse(date)\n",
    "            # Format the date as YYYY-MM-DD\n",
    "            corrected_date = parsed_date.strftime('%Y-%m-%d')\n",
    "            corrected_dates.append(corrected_date)\n",
    "        except ValueError:\n",
    "            # If parsing fails, append a placeholder or the original faulty date\n",
    "            corrected_dates.append('Invalid Date')\n",
    "\n",
    "    df[column_name] = corrected_dates\n",
    "    return df\n",
    "\n",
    "# Sample DataFrame\n",
    "data = pd.DataFrame({\n",
    "    'dates': ['2021-12-01', '12/02/2021', '13/03/22', 'April 5, 2022', 'invalid date']\n",
    "})\n",
    "\n",
    "# Correct the date format\n",
    "corrected_data = correct_date_format(data, 'dates')\n",
    "print(corrected_data)\n"
   ]
  }
 ],
 "metadata": {
  "language_info": {
   "name": "python"
  }
 },
 "nbformat": 4,
 "nbformat_minor": 2
}
