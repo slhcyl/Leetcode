{
 "cells": [
  {
   "cell_type": "code",
   "execution_count": null,
   "metadata": {},
   "outputs": [],
   "source": [
    "from pyspark.sql import SparkSession\n",
    "from pyspark.sql.functions import when, col\n",
    "\n",
    "# Initialize Spark session\n",
    "spark = SparkSession.builder \\\n",
    "    .appName(\"Data Cleansing\") \\\n",
    "    .getOrCreate()\n",
    "\n",
    "# Example DataFrame\n",
    "df = spark.createDataFrame(data, schema=columns)\n",
    "\n",
    "# Replace negative salaries with 0\n",
    "df_cleansed = df.withColumn(\"Salary\", when(col(\"Salary\") < 0, 0).otherwise(col(\"Salary\")))\n",
    "\n",
    "# Fill missing values or handle nulls\n",
    "df_cleansed = df_cleansed.fillna({\"Salary\": 0})  # Assume a default salary of 0 where null\n",
    "\n",
    "# Formatting corrections, such as trimming whitespace\n",
    "from pyspark.sql.functions import trim\n",
    "df_cleansed = df_cleansed.withColumn(\"Employee Name\", trim(col(\"Employee Name\")))\n",
    "\n",
    "# Show cleansed DataFrame\n",
    "df_cleansed.show()\n",
    "\n",
    "# Stop Spark session\n",
    "spark.stop()\n"
   ]
  }
 ],
 "metadata": {
  "language_info": {
   "name": "python"
  }
 },
 "nbformat": 4,
 "nbformat_minor": 2
}
