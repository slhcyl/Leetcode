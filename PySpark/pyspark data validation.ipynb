{
 "cells": [
  {
   "cell_type": "code",
   "execution_count": null,
   "metadata": {},
   "outputs": [],
   "source": [
    "from pyspark.sql import SparkSession\n",
    "from pyspark.sql.functions import col, regexp_extract\n",
    "\n",
    "# Initialize Spark session\n",
    "spark = SparkSession.builder \\\n",
    "    .appName(\"Data Validation\") \\\n",
    "    .getOrCreate()\n",
    "\n",
    "# Example DataFrame\n",
    "data = [(\"James\", \"Sales\", 3000), (\"Michael\", \"Sales\", 4600), (\"Robert\", \"Sales\", 4100), (\"Maria\", \"Finance\", 3000), (\"James\", \"Sales\", 3000)]\n",
    "columns = [\"Employee Name\", \"Department\", \"Salary\"]\n",
    "df = spark.createDataFrame(data, schema=columns)\n",
    "\n",
    "# Validate Salary: Must be greater than 0\n",
    "df_valid = df.filter(col(\"Salary\") > 0)\n",
    "\n",
    "# Validate Employee Name: Must not contain numbers, using regex\n",
    "df_valid = df_valid.withColumn(\"Valid Name\", regexp_extract(col(\"Employee Name\"), \"^[a-zA-Z]+\\\\s*[a-zA-Z]*$\", 0))\n",
    "df_valid = df_valid.filter(col(\"Valid Name\") != \"\")\n",
    "\n",
    "# Show validated DataFrame\n",
    "df_valid.show()\n",
    "\n",
    "# Stop Spark session\n",
    "spark.stop()\n"
   ]
  },
  {
   "cell_type": "markdown",
   "metadata": {},
   "source": [
    "Regular Expression Breakdown\n",
    "The regular expression used here is \"^[a-zA-Z]+\\\\s*[a-zA-Z]*$\":\n",
    "\n",
    "^: Asserts the start of a string. This ensures that the pattern must match from the very beginning of the string.\n",
    "[a-zA-Z]+: Matches one or more (+) characters that are either lowercase (a-z) or uppercase (A-Z). This part expects at least one alphabetic character at the beginning of the string.\n",
    "\\s*: Matches zero or more (*) whitespace characters. In regular expressions in Spark, the backslash must be escaped with another backslash, hence \\\\s instead of \\s.\n",
    "[a-zA-Z]*: Matches zero or more (*) alphabetic characters following the optional whitespace. This allows for a second part of a name that can be completely omitted.\n",
    "$: Asserts the end of a string. This ensures that the pattern must match until the very end of the string.\n",
    "What the Regex Does\n",
    "This regex pattern essentially validates names that could consist of one or two words (e.g., \"John\" or \"John Doe\"). It does not allow for any characters other than alphabetic characters in these words, and they may be separated by a space. Names with more than one space, or names including characters other than letters (like hyphens, apostrophes, or additional spaces), will not match.\n",
    "\n",
    "Practical Example\n",
    "When this line is executed, Spark will check each entry in the \"Employee Name\" column, apply the regex, and populate the \"Valid Name\" column with the matched result if the name fits the criteria described, or an empty string if it doesn't. The use of 0 in regexp_extract means it captures the entire match of the pattern."
   ]
  }
 ],
 "metadata": {
  "language_info": {
   "name": "python"
  }
 },
 "nbformat": 4,
 "nbformat_minor": 2
}
