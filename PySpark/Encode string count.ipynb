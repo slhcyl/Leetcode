{
 "cells": [
  {
   "cell_type": "code",
   "execution_count": null,
   "metadata": {},
   "outputs": [],
   "source": [
    "def encode(plain_text):\n",
    "    # Initialize variables\n",
    "    encoded_text = ''\n",
    "    count = 1\n",
    "\n",
    "    # Iterate over the string\n",
    "    for i in range(1, len(plain_text)):\n",
    "        # If the current and previous characters are the same, increment the count\n",
    "        if plain_text[i] == plain_text[i - 1]:\n",
    "            count += 1\n",
    "        else:\n",
    "            # Else, add the previous character and count to the encoded string\n",
    "            encoded_text += str(count) + plain_text[i - 1]\n",
    "            count = 1  # Reset count for the new character\n",
    "    \n",
    "    # Add the last character and its count\n",
    "    encoded_text += str(count) + plain_text[-1]\n",
    "    \n",
    "    return encoded_text\n",
    "\n",
    "# Test the function with an example\n",
    "encode('aaaabbccaaa')"
   ]
  }
 ],
 "metadata": {
  "language_info": {
   "name": "python"
  }
 },
 "nbformat": 4,
 "nbformat_minor": 2
}
