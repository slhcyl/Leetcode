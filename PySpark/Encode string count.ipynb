{
 "cells": [
  {
   "cell_type": "code",
   "execution_count": 1,
   "metadata": {},
   "outputs": [
    {
     "data": {
      "text/plain": [
       "'4a2b2c3a'"
      ]
     },
     "execution_count": 1,
     "metadata": {},
     "output_type": "execute_result"
    }
   ],
   "source": [
    "def encode(plain_text):\n",
    "    # Initialize variables\n",
    "    encoded_text = ''\n",
    "    count = 1\n",
    "\n",
    "    # Iterate over the string\n",
    "    for i in range(1, len(plain_text)):\n",
    "        # If the current and previous characters are the same, increment the count\n",
    "        if plain_text[i] == plain_text[i - 1]:\n",
    "            count += 1\n",
    "        else:\n",
    "            # Else, add the previous character and count to the encoded string\n",
    "            encoded_text += str(count) + plain_text[i - 1]\n",
    "            count = 1  # Reset count for the new character\n",
    "    \n",
    "    # Add the last character and its count\n",
    "    encoded_text += str(count) + plain_text[-1]\n",
    "    \n",
    "    return encoded_text\n",
    "\n",
    "# Test the function with an example\n",
    "encode('aaaabbccaaa')"
   ]
  }
 ],
 "metadata": {
  "kernelspec": {
   "display_name": "Python 3",
   "language": "python",
   "name": "python3"
  },
  "language_info": {
   "codemirror_mode": {
    "name": "ipython",
    "version": 3
   },
   "file_extension": ".py",
   "mimetype": "text/x-python",
   "name": "python",
   "nbconvert_exporter": "python",
   "pygments_lexer": "ipython3",
   "version": "3.10.11"
  }
 },
 "nbformat": 4,
 "nbformat_minor": 2
}
