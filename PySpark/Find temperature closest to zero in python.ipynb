{
 "cells": [
  {
   "cell_type": "code",
   "execution_count": 1,
   "metadata": {},
   "outputs": [
    {
     "name": "stdout",
     "output_type": "stream",
     "text": [
      "Temperature closest to zero is: 2\n"
     ]
    }
   ],
   "source": [
    "temperatures = [-10, 15, -5, 7, 2, -2]\n",
    "closest_temperature = None\n",
    "\n",
    "for temp in temperatures:\n",
    "    if closest_temperature is None:\n",
    "        closest_temperature = temp\n",
    "    elif abs(temp) < abs(closest_temperature):\n",
    "        closest_temperature = temp\n",
    "    elif abs(temp) == abs(closest_temperature) and temp > closest_temperature:\n",
    "        closest_temperature = temp\n",
    "\n",
    "print(\"Temperature closest to zero is:\", closest_temperature)\n"
   ]
  },
  {
   "cell_type": "code",
   "execution_count": null,
   "metadata": {},
   "outputs": [],
   "source": [
    "temperatures = [-10, 15, -5, 7, 2, -2]\n",
    "closest_temperature = min(temperatures, key=lambda x: (abs(x), -x))\n",
    "print(\"Temperature closest to zero is:\", closest_temperature)\n"
   ]
  }
 ],
 "metadata": {
  "kernelspec": {
   "display_name": "Python 3",
   "language": "python",
   "name": "python3"
  },
  "language_info": {
   "codemirror_mode": {
    "name": "ipython",
    "version": 3
   },
   "file_extension": ".py",
   "mimetype": "text/x-python",
   "name": "python",
   "nbconvert_exporter": "python",
   "pygments_lexer": "ipython3",
   "version": "3.10.11"
  }
 },
 "nbformat": 4,
 "nbformat_minor": 2
}
