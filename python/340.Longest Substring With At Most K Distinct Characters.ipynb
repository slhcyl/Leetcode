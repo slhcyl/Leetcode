{
 "cells": [
  {
   "cell_type": "markdown",
   "metadata": {},
   "source": [
    "340. Longest Substring with At Most K Distinct Characters\n",
    "Solved\n",
    "Medium\n",
    "Topics\n",
    "Companies\n",
    "Given a string s and an integer k, return the length of the longest \n",
    "substring\n",
    " of s that contains at most k distinct characters.\n",
    "\n",
    " \n",
    "\n",
    "Example 1:\n",
    "\n",
    "Input: s = \"eceba\", k = 2\n",
    "Output: 3\n",
    "Explanation: The substring is \"ece\" with length 3.\n",
    "Example 2:\n",
    "\n",
    "Input: s = \"aa\", k = 1\n",
    "Output: 2\n",
    "Explanation: The substring is \"aa\" with length 2.\n",
    " \n",
    "\n",
    "Constraints:\n",
    "\n",
    "1 <= s.length <= 5 * 104\n",
    "0 <= k <= 50"
   ]
  },
  {
   "cell_type": "markdown",
   "metadata": {},
   "source": [
    "Complexity Analysis\n",
    "Let n be the length of the input string s and kkk be the maximum number of distinct characters.\n",
    "Time complexity: O(n)\n",
    "In the iteration of the right boundary right, we shift it from 0 to n - 1. Although we may move the left boundary left in each step, left always stays to the left of right, which means left moves at most n - 1 times.\n",
    "At each step, we update the value of an element in the hash map counter, which takes constant time.\n",
    "To sum up, the overall time complexity is O(n).\n",
    "Space complexity: O(k)\n",
    "We need to record the occurrence of each distinct character in the valid window. During the iteration, there might be at most O(k+1) unique characters in the window, which takes O(k) space.\n"
   ]
  },
  {
   "cell_type": "code",
   "execution_count": null,
   "metadata": {},
   "outputs": [],
   "source": [
    "class Solution:\n",
    "    def lengthOfLongestSubstringKDistinct(self, s: str, k: int) -> int:\n",
    "        hashmap = {}\n",
    "        l = 0\n",
    "        max_length = 0\n",
    "\n",
    "        for r in range(len(s)):\n",
    "            hashmap[s[r]] = 1 + hashmap.get(s[r], 0)\n",
    "            # sliding window began\n",
    "            while len(hashmap) > k:\n",
    "                hashmap[s[l]] -= 1\n",
    "                if hashmap[s[l]] == 0:\n",
    "                    del hashmap[s[l]] # hashmap.pop(s[l])\n",
    "                l += 1\n",
    "            max_length = max(max_length, r - l + 1)\n",
    "        return max_length\n"
   ]
  }
 ],
 "metadata": {
  "language_info": {
   "name": "python"
  }
 },
 "nbformat": 4,
 "nbformat_minor": 2
}
