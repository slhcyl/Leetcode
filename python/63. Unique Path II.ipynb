{
 "cells": [
  {
   "cell_type": "markdown",
   "metadata": {},
   "source": [
    "63. Unique Paths II\n",
    "Solved\n",
    "Medium\n",
    "Topics\n",
    "Companies\n",
    "Hint\n",
    "You are given an m x n integer array grid. There is a robot initially located at the top-left corner (i.e., grid[0][0]). The robot tries to move to the bottom-right corner (i.e., grid[m - 1][n - 1]). The robot can only move either down or right at any point in time.\n",
    "\n",
    "An obstacle and space are marked as 1 or 0 respectively in grid. A path that the robot takes cannot include any square that is an obstacle.\n",
    "\n",
    "Return the number of possible unique paths that the robot can take to reach the bottom-right corner.\n",
    "\n",
    "The testcases are generated so that the answer will be less than or equal to 2 * 109.\n",
    "\n",
    " \n",
    "\n",
    "Example 1:\n",
    "\n",
    "\n",
    "Input: obstacleGrid = [[0,0,0],[0,1,0],[0,0,0]]\n",
    "Output: 2\n",
    "Explanation: There is one obstacle in the middle of the 3x3 grid above.\n",
    "There are two ways to reach the bottom-right corner:\n",
    "1. Right -> Right -> Down -> Down\n",
    "2. Down -> Down -> Right -> Right\n",
    "Example 2:\n",
    "\n",
    "\n",
    "Input: obstacleGrid = [[0,1],[0,0]]\n",
    "Output: 1\n",
    " \n",
    "\n",
    "Constraints:\n",
    "\n",
    "m == obstacleGrid.length\n",
    "n == obstacleGrid[i].length\n",
    "1 <= m, n <= 100\n",
    "obstacleGrid[i][j] is 0 or 1."
   ]
  },
  {
   "cell_type": "code",
   "execution_count": null,
   "metadata": {},
   "outputs": [],
   "source": [
    "# dynamic programming\n",
    "class Solution:\n",
    "    def uniquePathsWithObstacles(self, obstacleGrid: List[List[int]]) -> int:\n",
    "        # define row and column\n",
    "        M, N = len(obstacleGrid),len(obstacleGrid[0])\n",
    "        dp = [0] * N\n",
    "        dp[N-1] = 1\n",
    "\n",
    "\n",
    "        # Time: O(N*M), Space: O(N)\n",
    "        for r in reversed(range(M)):\n",
    "            for c in reversed(range(N)):\n",
    "                if obstacleGrid[r][c]:\n",
    "                    dp[c] = 0\n",
    "                elif c + 1 < N:\n",
    "                    dp[c] = dp[c] + dp[c+1]\n",
    "        return dp[0]      "
   ]
  },
  {
   "cell_type": "code",
   "execution_count": null,
   "metadata": {},
   "outputs": [],
   "source": [
    "class Solution:\n",
    "    def uniquePathsWithObstacles(self, grid: List[List[int]]) -> int:\n",
    "        # Time: O(N*M), Space: O(N*M)\n",
    "        M, N = len(grid), len(grid[0])\n",
    "        dp = {(M - 1, N - 1): 1}\n",
    "        \n",
    "        # Time: O(N*M), Space: O(N*M)\n",
    "        def dfs(r, c):\n",
    "            if r == M or c == N or grid[r][c]:\n",
    "                return 0\n",
    "            if (r, c) in dp:\n",
    "                return dp[(r, c)]\n",
    "            dp[(r, c)] = dfs(r + 1, c) + dfs(r, c + 1)\n",
    "            return dp[(r, c)]\n",
    "        return dfs(0, 0)\n"
   ]
  }
 ],
 "metadata": {
  "language_info": {
   "name": "python"
  }
 },
 "nbformat": 4,
 "nbformat_minor": 2
}
