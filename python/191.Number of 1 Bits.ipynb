{
 "cells": [
  {
   "cell_type": "markdown",
   "metadata": {},
   "source": [
    "191. Number of 1 Bits\n",
    "Solved\n",
    "Easy\n",
    "Topics\n",
    "Companies\n",
    "Write a function that takes the binary representation of a positive integer and returns the number of \n",
    "set bits\n",
    " it has (also known as the Hamming weight).\n",
    "\n",
    " \n",
    "\n",
    "Example 1:\n",
    "\n",
    "Input: n = 11\n",
    "\n",
    "Output: 3\n",
    "\n",
    "Explanation:\n",
    "\n",
    "The input binary string 1011 has a total of three set bits.\n",
    "\n",
    "Example 2:\n",
    "\n",
    "Input: n = 128\n",
    "\n",
    "Output: 1\n",
    "\n",
    "Explanation:\n",
    "\n",
    "The input binary string 10000000 has a total of one set bit.\n",
    "\n",
    "Example 3:\n",
    "\n",
    "Input: n = 2147483645\n",
    "\n",
    "Output: 30\n",
    "\n",
    "Explanation:\n",
    "\n",
    "The input binary string 1111111111111111111111111111101 has a total of thirty set bits.\n",
    "\n",
    " \n",
    "\n",
    "Constraints:\n",
    "\n",
    "1 <= n <= 231 - 1\n",
    " \n",
    "\n",
    "Follow up: If this function is called many times, how would you optimize it?"
   ]
  },
  {
   "cell_type": "code",
   "execution_count": null,
   "metadata": {},
   "outputs": [],
   "source": [
    "class Solution:\n",
    "    def hammingWeight(self, n: int) -> int:\n",
    "        res = 0\n",
    "        while n:\n",
    "            res += n % 2 \n",
    "            n = n >> 1\n",
    "        return res\n",
    "        "
   ]
  },
  {
   "cell_type": "code",
   "execution_count": null,
   "metadata": {},
   "outputs": [],
   "source": [
    "class Solution:\n",
    "    def hammingWeight(self, n: int) -> int:\n",
    "        res = 0\n",
    "        while n:\n",
    "            # n = n & (n-1)\n",
    "            n &= n - 1\n",
    "            res += 1\n",
    "        return res\n",
    "        "
   ]
  }
 ],
 "metadata": {
  "language_info": {
   "name": "python"
  }
 },
 "nbformat": 4,
 "nbformat_minor": 2
}
