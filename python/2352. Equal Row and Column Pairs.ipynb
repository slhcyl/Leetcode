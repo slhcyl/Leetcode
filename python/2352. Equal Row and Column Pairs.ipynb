{
 "cells": [
  {
   "cell_type": "markdown",
   "metadata": {},
   "source": [
    "2352. Equal Row and Column Pairs\n",
    "Solved\n",
    "Medium\n",
    "Topics\n",
    "Companies\n",
    "Hint\n",
    "Given a 0-indexed n x n integer matrix grid, return the number of pairs (ri, cj) such that row ri and column cj are equal.\n",
    "\n",
    "A row and column pair is considered equal if they contain the same elements in the same order (i.e., an equal array).\n",
    "\n",
    " \n",
    "\n",
    "Example 1:\n",
    "\n",
    "\n",
    "Input: grid = [[3,2,1],[1,7,6],[2,7,7]]\n",
    "Output: 1\n",
    "Explanation: There is 1 equal row and column pair:\n",
    "- (Row 2, Column 1): [2,7,7]\n",
    "Example 2:\n",
    "\n",
    "\n",
    "Input: grid = [[3,1,2,2],[1,4,4,5],[2,4,2,2],[2,4,2,2]]\n",
    "Output: 3\n",
    "Explanation: There are 3 equal row and column pairs:\n",
    "- (Row 0, Column 0): [3,1,2,2]\n",
    "- (Row 2, Column 2): [2,4,2,2]\n",
    "- (Row 3, Column 2): [2,4,2,2]\n",
    " \n",
    "\n",
    "Constraints:\n",
    "\n",
    "n == grid.length == grid[i].length\n",
    "1 <= n <= 200\n",
    "1 <= grid[i][j] <= 105"
   ]
  },
  {
   "cell_type": "markdown",
   "metadata": {},
   "source": [
    "Complexity Analysis\n",
    "Let n×nn \\times nn×n be the size of grid.\n",
    "\n",
    "Time complexity: O(n^2)\n",
    "\n",
    "We iterate over each row and column only once, converting one array of length nnn into a hashable object takes O(n) time.\n",
    "Operations like adding or checking on hash map take O(1) time.\n",
    "Space complexity: O(n^2)\n",
    "\n",
    "\n",
    "We store each row of the grid in the hash map, in the worst-case scenario, row_counter might contains n distinct rows of length nnn."
   ]
  },
  {
   "cell_type": "code",
   "execution_count": null,
   "metadata": {},
   "outputs": [],
   "source": [
    "class Solution:\n",
    "    def equalPairs(self, grid: List[List[int]]) -> int:\n",
    "        rowCount = collections.defaultdict(int) # provides a default value of 0 for missing keys, which means the count starts at zero.\n",
    "        count = 0\n",
    "        n = len(grid)\n",
    "        for row in grid:\n",
    "            rowCount[tuple(row)] = 1 + rowCount.get(tuple(row), 0)\n",
    "        \n",
    "        for col in range(n):\n",
    "            col_tuple = tuple(grid[row][col] for row in range(n))\n",
    "            count += rowCount.get(col_tuple,0)\n",
    "\n",
    "        return count"
   ]
  }
 ],
 "metadata": {
  "language_info": {
   "name": "python"
  }
 },
 "nbformat": 4,
 "nbformat_minor": 2
}
