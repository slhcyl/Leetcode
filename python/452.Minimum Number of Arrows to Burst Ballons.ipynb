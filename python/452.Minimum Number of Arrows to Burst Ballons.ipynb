{
 "cells": [
  {
   "cell_type": "markdown",
   "metadata": {},
   "source": [
    "452. Minimum Number of Arrows to Burst Balloons\n",
    "Solved\n",
    "Medium\n",
    "Topics\n",
    "Companies\n",
    "There are some spherical balloons taped onto a flat wall that represents the XY-plane. The balloons are represented as a 2D integer array points where points[i] = [xstart, xend] denotes a balloon whose horizontal diameter stretches between xstart and xend. You do not know the exact y-coordinates of the balloons.\n",
    "\n",
    "Arrows can be shot up directly vertically (in the positive y-direction) from different points along the x-axis. A balloon with xstart and xend is burst by an arrow shot at x if xstart <= x <= xend. There is no limit to the number of arrows that can be shot. A shot arrow keeps traveling up infinitely, bursting any balloons in its path.\n",
    "\n",
    "Given the array points, return the minimum number of arrows that must be shot to burst all balloons.\n",
    "\n",
    " \n",
    "\n",
    "Example 1:\n",
    "\n",
    "Input: points = [[10,16],[2,8],[1,6],[7,12]]\n",
    "Output: 2\n",
    "Explanation: The balloons can be burst by 2 arrows:\n",
    "- Shoot an arrow at x = 6, bursting the balloons [2,8] and [1,6].\n",
    "- Shoot an arrow at x = 11, bursting the balloons [10,16] and [7,12].\n",
    "Example 2:\n",
    "\n",
    "Input: points = [[1,2],[3,4],[5,6],[7,8]]\n",
    "Output: 4\n",
    "Explanation: One arrow needs to be shot for each balloon for a total of 4 arrows.\n",
    "Example 3:\n",
    "\n",
    "Input: points = [[1,2],[2,3],[3,4],[4,5]]\n",
    "Output: 2\n",
    "Explanation: The balloons can be burst by 2 arrows:\n",
    "- Shoot an arrow at x = 2, bursting the balloons [1,2] and [2,3].\n",
    "- Shoot an arrow at x = 4, bursting the balloons [3,4] and [4,5].\n",
    " \n",
    "\n",
    "Constraints:\n",
    "\n",
    "1 <= points.length <= 105\n",
    "points[i].length == 2\n",
    "-231 <= xstart < xend <= 231 - 1"
   ]
  },
  {
   "cell_type": "markdown",
   "metadata": {},
   "source": [
    "Complexity Analysis\n",
    "Time complexity : O(Nlog⁡N) because of sorting of the input data.\n",
    "Space complexity : O(N) or O(log⁡N)\n",
    "The space complexity of the sorting algorithm depends on the implementation of each programming language.\n",
    "For instance, the list.sort() function in Python is implemented with the Timsort algorithm whose space complexity is O(N).\n",
    "In Java, the Arrays.sort() is implemented as a variant of quicksort algorithm whose space complexity is O(log⁡N)."
   ]
  },
  {
   "cell_type": "code",
   "execution_count": null,
   "metadata": {},
   "outputs": [],
   "source": [
    "class Solution:\n",
    "    def findMinArrowShots(self, points: List[List[int]]) -> int:\n",
    "        if not points:\n",
    "            return 0\n",
    "        arrows = 1\n",
    "        \n",
    "        points.sort(key = lambda x:x[1])\n",
    "        first_end = points[0][1]\n",
    "        # this is to count non-overlapping intervals:\n",
    "        # so it doesn't matter if you use points[1:] or points\n",
    "         # if the current balloon starts after the end of another one,\n",
    "        # one needs one more arrow\n",
    "        for start, end in points[1:]:\n",
    "            if start > first_end:\n",
    "                first_end = end\n",
    "                arrows +=1\n",
    "        return arrows"
   ]
  },
  {
   "cell_type": "code",
   "execution_count": null,
   "metadata": {},
   "outputs": [],
   "source": [
    "class Solution:\n",
    "    def findMinArrowShots(self, points: List[List[int]]) -> int:\n",
    "        arrow = 0\n",
    "        points.sort(key = lambda x:x[1])\n",
    "        first_end = float('-inf')\n",
    "\n",
    "        for start, end in points:\n",
    "            if start > first_end:\n",
    "                first_end = end\n",
    "                arrow += 1\n",
    "        return arrow"
   ]
  }
 ],
 "metadata": {
  "language_info": {
   "name": "python"
  }
 },
 "nbformat": 4,
 "nbformat_minor": 2
}
