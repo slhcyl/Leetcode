{
 "cells": [
  {
   "cell_type": "markdown",
   "metadata": {},
   "source": [
    "921. Minimum Add to Make Parentheses Valid\n",
    "Solved\n",
    "Medium\n",
    "Topics\n",
    "Companies\n",
    "A parentheses string is valid if and only if:\n",
    "\n",
    "It is the empty string,\n",
    "It can be written as AB (A concatenated with B), where A and B are valid strings, or\n",
    "It can be written as (A), where A is a valid string.\n",
    "You are given a parentheses string s. In one move, you can insert a parenthesis at any position of the string.\n",
    "\n",
    "For example, if s = \"()))\", you can insert an opening parenthesis to be \"(()))\" or a closing parenthesis to be \"())))\".\n",
    "Return the minimum number of moves required to make s valid.\n",
    "\n",
    " \n",
    "\n",
    "Example 1:\n",
    "\n",
    "Input: s = \"())\"\n",
    "Output: 1\n",
    "Example 2:\n",
    "\n",
    "Input: s = \"(((\"\n",
    "Output: 3\n",
    " \n",
    "\n",
    "Constraints:\n",
    "\n",
    "1 <= s.length <= 1000\n",
    "s[i] is either '(' or ')'."
   ]
  },
  {
   "cell_type": "code",
   "execution_count": null,
   "metadata": {},
   "outputs": [],
   "source": [
    "# t o(n)\n",
    "# s o(n)\n",
    "class Solution:\n",
    "    def minAddToMakeValid(self, s: str) -> int:\n",
    "        stack = []\n",
    "        cnt = 0\n",
    "        for c in s:\n",
    "            if c == '(':\n",
    "                stack.append(c)\n",
    "            elif c == ')':\n",
    "                if not stack:\n",
    "                    cnt += 1\n",
    "                else:\n",
    "                    stack.pop()\n",
    "        return cnt + len(stack)"
   ]
  },
  {
   "cell_type": "code",
   "execution_count": null,
   "metadata": {},
   "outputs": [],
   "source": [
    "# t o(n)\n",
    "# s o(1)\n",
    "class Solution:\n",
    "    def minAddToMakeValid(self, s: str) -> int:\n",
    "        l_cnt = r_cnt = added = 0\n",
    "\n",
    "        for c in s:\n",
    "            if c == '(':\n",
    "                l_cnt += 1\n",
    "            else:\n",
    "                if l_cnt > r_cnt:\n",
    "                    r_cnt += 1\n",
    "                else:\n",
    "                    added += 1\n",
    "        added += l_cnt - r_cnt\n",
    "\n",
    "        return added"
   ]
  }
 ],
 "metadata": {
  "language_info": {
   "name": "python"
  }
 },
 "nbformat": 4,
 "nbformat_minor": 2
}
