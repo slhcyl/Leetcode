{
 "cells": [
  {
   "cell_type": "markdown",
   "metadata": {},
   "source": [
    "2215. Find the Difference of Two Arrays\n",
    "Solved\n",
    "Easy\n",
    "Topics\n",
    "Companies\n",
    "Hint\n",
    "Given two 0-indexed integer arrays nums1 and nums2, return a list answer of size 2 where:\n",
    "\n",
    "answer[0] is a list of all distinct integers in nums1 which are not present in nums2.\n",
    "answer[1] is a list of all distinct integers in nums2 which are not present in nums1.\n",
    "Note that the integers in the lists may be returned in any order.\n",
    "\n",
    " \n",
    "\n",
    "Example 1:\n",
    "\n",
    "Input: nums1 = [1,2,3], nums2 = [2,4,6]\n",
    "Output: [[1,3],[4,6]]\n",
    "Explanation:\n",
    "For nums1, nums1[1] = 2 is present at index 0 of nums2, whereas nums1[0] = 1 and nums1[2] = 3 are not present in nums2. Therefore, answer[0] = [1,3].\n",
    "For nums2, nums2[0] = 2 is present at index 1 of nums1, whereas nums2[1] = 4 and nums2[2] = 6 are not present in nums2. Therefore, answer[1] = [4,6].\n",
    "Example 2:\n",
    "\n",
    "Input: nums1 = [1,2,3,3], nums2 = [1,1,2,2]\n",
    "Output: [[3],[]]\n",
    "Explanation:\n",
    "For nums1, nums1[2] and nums1[3] are not present in nums2. Since nums1[2] == nums1[3], their value is only included once and answer[0] = [3].\n",
    "Every integer in nums2 is present in nums1. Therefore, answer[1] = [].\n",
    " \n",
    "\n",
    "Constraints:\n",
    "\n",
    "1 <= nums1.length, nums2.length <= 1000\n",
    "-1000 <= nums1[i], nums2[i] <= 1000"
   ]
  },
  {
   "cell_type": "code",
   "execution_count": null,
   "metadata": {},
   "outputs": [],
   "source": [
    "# Time Complexity: O(n+m), where n and m are the lengths of nums1 and nums2, respectively. \n",
    "# Converting arrays to sets and computing differences both have linear time complexity.\n",
    "# Space Complexity: O(n+m) for storing the sets created from nums1 and nums2.\n",
    "class Solution:\n",
    "    def findDifference(self, nums1: List[int], nums2: List[int]) -> List[List[int]]:\n",
    "        set1 = set(nums1)\n",
    "        set2 = set(nums2)\n",
    "\n",
    "        diff1 = list(set1 - set2)\n",
    "        diff2 = list(set2 - set1)\n",
    "\n",
    "        return [diff1, diff2]"
   ]
  },
  {
   "cell_type": "code",
   "execution_count": null,
   "metadata": {},
   "outputs": [],
   "source": [
    "class Solution:\n",
    "    def findDifference(self, nums1: List[int], nums2: List[int]) -> List[List[int]]:\n",
    "        set1 = set(nums1)\n",
    "        set2 = set(nums2)\n",
    "\n",
    "        diff1 = [n for n in set1 if n not in set2]\n",
    "        diff2 = [n for n in set2 if n not in set1]\n",
    "\n",
    "        return [diff1, diff2]\n"
   ]
  },
  {
   "cell_type": "code",
   "execution_count": null,
   "metadata": {},
   "outputs": [],
   "source": [
    "class Solution:\n",
    "    def findDifference(self, nums1: List[int], nums2: List[int]) -> List[List[int]]:\n",
    "        set1 = set(nums1)\n",
    "        set2 = set(nums2)\n",
    "\n",
    "        diff1 = []\n",
    "        diff2 = []\n",
    "        for n in set1:\n",
    "            if n not in set2:\n",
    "                diff1.append(n)\n",
    "        \n",
    "        for n in set2:\n",
    "            if n not in set1:\n",
    "                diff2.append(n)\n",
    "\n",
    "        return [diff1, diff2]"
   ]
  }
 ],
 "metadata": {
  "language_info": {
   "name": "python"
  }
 },
 "nbformat": 4,
 "nbformat_minor": 2
}
