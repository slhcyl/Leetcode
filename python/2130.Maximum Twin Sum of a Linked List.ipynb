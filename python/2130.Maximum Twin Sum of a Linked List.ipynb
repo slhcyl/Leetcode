{
 "cells": [
  {
   "cell_type": "markdown",
   "metadata": {},
   "source": [
    "2130. Maximum Twin Sum of a Linked List\n",
    "Solved\n",
    "Medium\n",
    "Topics\n",
    "Companies\n",
    "Hint\n",
    "In a linked list of size n, where n is even, the ith node (0-indexed) of the linked list is known as the twin of the (n-1-i)th node, if 0 <= i <= (n / 2) - 1.\n",
    "\n",
    "For example, if n = 4, then node 0 is the twin of node 3, and node 1 is the twin of node 2. These are the only nodes with twins for n = 4.\n",
    "The twin sum is defined as the sum of a node and its twin.\n",
    "\n",
    "Given the head of a linked list with even length, return the maximum twin sum of the linked list.\n",
    "\n",
    " \n",
    "\n",
    "Example 1:\n",
    "\n",
    "\n",
    "Input: head = [5,4,2,1]\n",
    "Output: 6\n",
    "Explanation:\n",
    "Nodes 0 and 1 are the twins of nodes 3 and 2, respectively. All have twin sum = 6.\n",
    "There are no other nodes with twins in the linked list.\n",
    "Thus, the maximum twin sum of the linked list is 6. \n",
    "Example 2:\n",
    "\n",
    "\n",
    "Input: head = [4,2,2,3]\n",
    "Output: 7\n",
    "Explanation:\n",
    "The nodes with twins present in this linked list are:\n",
    "- Node 0 is the twin of node 3 having a twin sum of 4 + 3 = 7.\n",
    "- Node 1 is the twin of node 2 having a twin sum of 2 + 2 = 4.\n",
    "Thus, the maximum twin sum of the linked list is max(7, 4) = 7. \n",
    "Example 3:\n",
    "\n",
    "\n",
    "Input: head = [1,100000]\n",
    "Output: 100001\n",
    "Explanation:\n",
    "There is only one node with a twin in the linked list having twin sum of 1 + 100000 = 100001.\n",
    " \n",
    "\n",
    "Constraints:\n",
    "\n",
    "The number of nodes in the list is an even integer in the range [2, 105].\n",
    "1 <= Node.val <= 105"
   ]
  },
  {
   "cell_type": "markdown",
   "metadata": {},
   "source": [
    "Complexity Analysis\n",
    "Here, nnn is the number of nodes in the linked list.\n",
    "\n",
    "Time complexity: O(n)\n",
    "\n",
    "It takes O(n) time to iterate over the linked list to find the middle and then reverse the second half of the linked list.\n",
    "We iterate over the half of the linked list to find the maximum twin sum, which also takes O(n) time.\n",
    "Space complexity: O(1)\n",
    "\n",
    "Except for a few pointers that take up constant space, we don't take up any space."
   ]
  },
  {
   "cell_type": "markdown",
   "metadata": {},
   "source": [
    "when fast is initiated two step head first (slow = head, fast = head.next.next), then (slow = slow.next, fast=fast.next.next), fast.next.next, for even linked list, the slow will stop at the left side of the middle nodes (even nodes the middle has two nodes), if it is odds, slow stop at the middle node which is only one\n",
    "when fast is initiated the same as slow (slow=head, fast=head), then (slow = slow.next, fast=fast.next.next), slow will stop at the right side of the middle nodes for even linked list, the odd linked list where slow will stop at the right next to the middle node\n"
   ]
  },
  {
   "cell_type": "code",
   "execution_count": null,
   "metadata": {},
   "outputs": [],
   "source": [
    "# Definition for singly-linked list.\n",
    "# class ListNode:\n",
    "#     def __init__(self, val=0, next=None):\n",
    "#         self.val = val\n",
    "#         self.next = next\n",
    "class Solution:\n",
    "    def pairSum(self, head: Optional[ListNode]) -> int:\n",
    "        slow = fast = head\n",
    "        # Step 1: Find the middle of the linked list\n",
    "        # slow right stops at the second node of the twin in the middle, so it can break the half and reverse the rest list\n",
    "        while fast and fast.next:\n",
    "            slow = slow.next\n",
    "            fast = fast.next.next\n",
    "        # Step 2: Reverse the second half\n",
    "        prev = None\n",
    "        while slow:\n",
    "            next_node = slow.next\n",
    "            slow.next = prev\n",
    "            prev = slow\n",
    "            slow = next_node\n",
    "        # Step 3: Calculate the twin sums\n",
    "        max_sum = 0\n",
    "        first, second = head, prev\n",
    "        while second:\n",
    "            max_sum = max(max_sum, first.val + second.val)\n",
    "            first = first.next\n",
    "            second = second.next\n",
    "\n",
    "        return max_sum"
   ]
  }
 ],
 "metadata": {
  "language_info": {
   "name": "python"
  }
 },
 "nbformat": 4,
 "nbformat_minor": 2
}
