{
 "cells": [
  {
   "cell_type": "markdown",
   "metadata": {},
   "source": [
    "135. Candy\n",
    "Solved\n",
    "Hard\n",
    "Topics\n",
    "Companies\n",
    "There are n children standing in a line. Each child is assigned a rating value given in the integer array ratings.\n",
    "\n",
    "You are giving candies to these children subjected to the following requirements:\n",
    "\n",
    "Each child must have at least one candy.\n",
    "Children with a higher rating get more candies than their neighbors.\n",
    "Return the minimum number of candies you need to have to distribute the candies to the children.\n",
    "\n",
    " \n",
    "\n",
    "Example 1:\n",
    "\n",
    "Input: ratings = [1,0,2]\n",
    "Output: 5\n",
    "Explanation: You can allocate to the first, second and third child with 2, 1, 2 candies respectively.\n",
    "Example 2:\n",
    "\n",
    "Input: ratings = [1,2,2]\n",
    "Output: 4\n",
    "Explanation: You can allocate to the first, second and third child with 1, 2, 1 candies respectively.\n",
    "The third child gets 1 candy because it satisfies the above two conditions.\n",
    " \n",
    "\n",
    "Constraints:\n",
    "\n",
    "n == ratings.length\n",
    "1 <= n <= 2 * 104\n",
    "0 <= ratings[i] <= 2 * 104"
   ]
  },
  {
   "cell_type": "code",
   "execution_count": null,
   "metadata": {},
   "outputs": [],
   "source": [
    "'''Complexity Analysis\n",
    "Time complexity : O(n). The array candies of size n is traversed thrice.\n",
    "Space complexity : O(n)). An array candies of size n is used.'''\n",
    "class Solution:\n",
    "    def candy(self, ratings: List[int]) -> int:\n",
    "        # compose an array to store the base number of candy for each child \n",
    "        # each child must have at least one candy\n",
    "        candies = [1] * len(ratings)\n",
    "\n",
    "        # compare child to its left neighbor starting from the second child, because the first child doesn't have left neighbor\n",
    "        for i in range(1, len(ratings)):\n",
    "            if ratings[i] > ratings[i-1]:\n",
    "                candies[i] = candies[i-1] + 1\n",
    "\n",
    "        # compare child to its right neighbor starting from the last second child because the last child doesn't have the right neighbor\n",
    "        for i in range(len(ratings) - 2, -1, -1):\n",
    "            if ratings[i] > ratings[i+1]:\n",
    "                # if current child has more candies than the right neigbhor's candies, we don't want to override the correct one\n",
    "                candies[i] = max(candies[i], candies[i+1]+1)\n",
    "\n",
    "        return sum(candies)"
   ]
  }
 ],
 "metadata": {
  "language_info": {
   "name": "python"
  }
 },
 "nbformat": 4,
 "nbformat_minor": 2
}
