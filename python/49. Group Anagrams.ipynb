{
 "cells": [
  {
   "cell_type": "markdown",
   "metadata": {},
   "source": [
    "49. Group Anagrams\n",
    "Solved\n",
    "Medium\n",
    "Topics\n",
    "Companies\n",
    "Given an array of strings strs, group the anagrams together. You can return the answer in any order.\n",
    "\n",
    "An Anagram is a word or phrase formed by rearranging the letters of a different word or phrase, typically using all the original letters exactly once.\n",
    "\n",
    " \n",
    "\n",
    "Example 1:\n",
    "\n",
    "Input: strs = [\"eat\",\"tea\",\"tan\",\"ate\",\"nat\",\"bat\"]\n",
    "Output: [[\"bat\"],[\"nat\",\"tan\"],[\"ate\",\"eat\",\"tea\"]]\n",
    "Example 2:\n",
    "\n",
    "Input: strs = [\"\"]\n",
    "Output: [[\"\"]]\n",
    "Example 3:\n",
    "\n",
    "Input: strs = [\"a\"]\n",
    "Output: [[\"a\"]]\n",
    " \n",
    "\n",
    "Constraints:\n",
    "\n",
    "1 <= strs.length <= 104\n",
    "0 <= strs[i].length <= 100\n",
    "strs[i] consists of lowercase English letters."
   ]
  },
  {
   "cell_type": "code",
   "execution_count": null,
   "metadata": {},
   "outputs": [],
   "source": [
    "class Solution:\n",
    "    def groupAnagrams(self, strs: List[str]) -> List[List[str]]:\n",
    "        res = defaultdict(list)\n",
    "\n",
    "        for str in strs:\n",
    "            count = [0] * 26\n",
    "\n",
    "            for c in str:\n",
    "                count[ord(c) - ord('a')] += 1 # index 0 to 25 will be mapped to count of each letter from a to z\n",
    "\n",
    "            res[tuple(count)].append(str)\n",
    "        \n",
    "        return res.values()\n",
    "    # time O(NK)\n",
    "    # space O(NK)\n",
    "\"\"\"\n",
    "Complexity Analysis\n",
    "\n",
    "Time Complexity: O(NK)O(NK)O(NK), where NNN is the length of strs, and KKK is the maximum length of a string in strs. \n",
    "Counting each string is linear in the size of the string, and we count every string.\n",
    "\n",
    "Space Complexity: O(NK)O(NK)O(NK), the total information content stored in ans.\n",
    "\"\"\""
   ]
  },
  {
   "cell_type": "code",
   "execution_count": null,
   "metadata": {},
   "outputs": [],
   "source": [
    "class Solution(object):\n",
    "    def groupAnagrams(self, strs):\n",
    "        ans = collections.defaultdict(list)\n",
    "        for s in strs:\n",
    "            ans[tuple(sorted(s))].append(s)\n",
    "        return ans.values()"
   ]
  }
 ],
 "metadata": {
  "kernelspec": {
   "display_name": "Python 3",
   "language": "python",
   "name": "python3"
  },
  "language_info": {
   "codemirror_mode": {
    "name": "ipython",
    "version": 3
   },
   "file_extension": ".py",
   "mimetype": "text/x-python",
   "name": "python",
   "nbconvert_exporter": "python",
   "pygments_lexer": "ipython3",
   "version": "3.10.11"
  }
 },
 "nbformat": 4,
 "nbformat_minor": 2
}
