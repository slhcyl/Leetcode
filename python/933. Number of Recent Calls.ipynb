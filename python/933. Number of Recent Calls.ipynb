{
 "cells": [
  {
   "cell_type": "markdown",
   "metadata": {},
   "source": [
    "933. Number of Recent Calls\n",
    "Solved\n",
    "Easy\n",
    "Topics\n",
    "Companies\n",
    "You have a RecentCounter class which counts the number of recent requests within a certain time frame.\n",
    "\n",
    "Implement the RecentCounter class:\n",
    "\n",
    "RecentCounter() Initializes the counter with zero recent requests.\n",
    "int ping(int t) Adds a new request at time t, where t represents some time in milliseconds, and returns the number of requests that has happened in the past 3000 milliseconds (including the new request). Specifically, return the number of requests that have happened in the inclusive range [t - 3000, t].\n",
    "It is guaranteed that every call to ping uses a strictly larger value of t than the previous call.\n",
    "\n",
    " \n",
    "\n",
    "Example 1:\n",
    "\n",
    "Input\n",
    "[\"RecentCounter\", \"ping\", \"ping\", \"ping\", \"ping\"]\n",
    "[[], [1], [100], [3001], [3002]]\n",
    "Output\n",
    "[null, 1, 2, 3, 3]\n",
    "\n",
    "Explanation\n",
    "RecentCounter recentCounter = new RecentCounter();\n",
    "recentCounter.ping(1);     // requests = [1], range is [-2999,1], return 1\n",
    "recentCounter.ping(100);   // requests = [1, 100], range is [-2900,100], return 2\n",
    "recentCounter.ping(3001);  // requests = [1, 100, 3001], range is [1,3001], return 3\n",
    "recentCounter.ping(3002);  // requests = [1, 100, 3001, 3002], range is [2,3002], return 3\n",
    " \n",
    "\n",
    "Constraints:\n",
    "\n",
    "1 <= t <= 109\n",
    "Each test case will call ping with strictly increasing values of t.\n",
    "At most 104 calls will be made to ping."
   ]
  },
  {
   "cell_type": "markdown",
   "metadata": {},
   "source": [
    "Complexity Analysis\n",
    "\n",
    "First of all, let us estimate the upper-bound on the size of our sliding window.\n",
    "Here we quote an important condition from the problem description: \"It is guaranteed that every call to ping uses a strictly larger value of t than before.\"\n",
    "Based on the above condition, the maximal number of elements in our sliding window would be 300030003000, which is also the maximal time difference between the head and the tail elements.\n",
    "\n",
    "Time Complexity: O(1)\n",
    "\n",
    "The main time complexity of our ping() function lies in the loop, which in the worst case would run 3000 iterations to pop out all outdated elements, and in the best case a single iteration.\n",
    "\n",
    "Therefore, for a single invocation of ping() function, its time complexity is O(3000)=O(1).\n",
    "\n",
    "If we assume that there is a ping call at each timestamp, then the cost of ping() is further amortized, where at each invocation, we would only need to pop out a single element, once the sliding window reaches its upper bound.\n",
    "\n",
    "Space Complexity: O(1)\n",
    "\n",
    "As we estimated before, the maximal size of our sliding window is 3000, which is a constant."
   ]
  },
  {
   "cell_type": "code",
   "execution_count": null,
   "metadata": {},
   "outputs": [],
   "source": [
    "# sliding window\n",
    "# first in first out: queue\n",
    "class RecentCounter:\n",
    "\n",
    "    def __init__(self):\n",
    "        self.requests = collections.deque()\n",
    "\n",
    "    def ping(self, t: int) -> int:\n",
    "        self.requests.append(t)\n",
    "\n",
    "        while self.requests and self.requests[0] < t - 3000:\n",
    "            self.requests.popleft()\n",
    "        return len(self.requests)\n",
    "\n",
    "\n",
    "# Your RecentCounter object will be instantiated and called as such:\n",
    "# obj = RecentCounter()\n",
    "# param_1 = obj.ping(t)"
   ]
  }
 ],
 "metadata": {
  "language_info": {
   "name": "python"
  }
 },
 "nbformat": 4,
 "nbformat_minor": 2
}
