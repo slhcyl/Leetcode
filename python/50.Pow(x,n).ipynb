{
 "cells": [
  {
   "cell_type": "markdown",
   "metadata": {},
   "source": [
    "\n",
    "Code\n",
    "Testcase\n",
    "Testcase\n",
    "Test Result\n",
    "50. Pow(x, n)\n",
    "Solved\n",
    "Medium\n",
    "Topics\n",
    "Companies\n",
    "Implement pow(x, n), which calculates x raised to the power n (i.e., xn).\n",
    "\n",
    " \n",
    "\n",
    "Example 1:\n",
    "\n",
    "Input: x = 2.00000, n = 10\n",
    "Output: 1024.00000\n",
    "Example 2:\n",
    "\n",
    "Input: x = 2.10000, n = 3\n",
    "Output: 9.26100\n",
    "Example 3:\n",
    "\n",
    "Input: x = 2.00000, n = -2\n",
    "Output: 0.25000\n",
    "Explanation: 2-2 = 1/22 = 1/4 = 0.25\n",
    " \n",
    "\n",
    "Constraints:\n",
    "\n",
    "-100.0 < x < 100.0\n",
    "-231 <= n <= 231-1\n",
    "n is an integer.\n",
    "Either x is not zero or n > 0.\n",
    "-104 <= xn <= 104"
   ]
  },
  {
   "cell_type": "code",
   "execution_count": null,
   "metadata": {},
   "outputs": [],
   "source": [
    "# t O(log(n)) binary tree\n",
    "# s o(1)\n",
    "class Solution:\n",
    "    def myPow(self, x: float, n: int) -> float:\n",
    "        if n == 0:\n",
    "            return 1\n",
    "        if n == 1:\n",
    "            return x\n",
    "\n",
    "        if n < 0:\n",
    "            x = 1/x\n",
    "            n = -n\n",
    "\n",
    "        result = 1\n",
    "        while n:\n",
    "            if n % 2 == 1:\n",
    "                result *= x\n",
    "            x *= x\n",
    "            n //= 2\n",
    "        return result"
   ]
  },
  {
   "cell_type": "code",
   "execution_count": null,
   "metadata": {},
   "outputs": [],
   "source": [
    "class Solution:\n",
    "    def myPow(self, x: float, n: int) -> float:\n",
    "        def helper(x, n):\n",
    "            if x == 0: return 0\n",
    "            if n == 0: return 1\n",
    "\n",
    "            res = helper(x*x, n//2)\n",
    "            return x * res if n % 2 else res\n",
    "\n",
    "        res = helper(x,abs(n))\n",
    "        return res if n > 0 else 1/res"
   ]
  },
  {
   "cell_type": "code",
   "execution_count": null,
   "metadata": {},
   "outputs": [],
   "source": [
    "class Solution:\n",
    "    def binaryExp(self, x: float, n: int) -> float:\n",
    "        # Base case, to stop recursive calls.\n",
    "        if n == 0:\n",
    "            return 1\n",
    "       \n",
    "        # Handle case where, n < 0.\n",
    "        if n < 0:\n",
    "            return 1.0 / self.binaryExp(x, -1 * n)\n",
    "       \n",
    "        # Perform Binary Exponentiation.\n",
    "        # If 'n' is odd we perform Binary Exponentiation on 'n - 1' and multiply result with 'x'.\n",
    "        if n % 2 == 1:\n",
    "            return x * self.binaryExp(x * x, (n - 1) // 2)\n",
    "        # Otherwise we calculate result by performing Binary Exponentiation on 'n'.\n",
    "        else:\n",
    "            return self.binaryExp(x * x, n // 2)\n",
    "\n",
    "    def myPow(self, x: float, n: int) -> float:\n",
    "        return self.binaryExp(x, n)"
   ]
  }
 ],
 "metadata": {
  "language_info": {
   "name": "python"
  }
 },
 "nbformat": 4,
 "nbformat_minor": 2
}
