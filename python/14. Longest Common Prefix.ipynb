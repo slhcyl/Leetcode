{
 "cells": [
  {
   "cell_type": "markdown",
   "metadata": {},
   "source": [
    "14. Longest Common Prefix\n",
    "Solved\n",
    "Easy\n",
    "Topics\n",
    "Companies\n",
    "Write a function to find the longest common prefix string amongst an array of strings.\n",
    "\n",
    "If there is no common prefix, return an empty string \"\".\n",
    "\n",
    " \n",
    "\n",
    "Example 1:\n",
    "\n",
    "Input: strs = [\"flower\",\"flow\",\"flight\"]\n",
    "Output: \"fl\"\n",
    "Example 2:\n",
    "\n",
    "Input: strs = [\"dog\",\"racecar\",\"car\"]\n",
    "Output: \"\"\n",
    "Explanation: There is no common prefix among the input strings.\n",
    " \n",
    "\n",
    "Constraints:\n",
    "\n",
    "1 <= strs.length <= 200\n",
    "0 <= strs[i].length <= 200\n",
    "strs[i] consists of only lowercase English letters."
   ]
  },
  {
   "cell_type": "code",
   "execution_count": null,
   "metadata": {},
   "outputs": [],
   "source": [
    "'''Complexity Analysis\n",
    "Time complexity : O(S) , where S is the sum of all characters in all strings.\n",
    "In the worst case there will be nnn equal strings with length mmm and the algorithm performs S=m⋅n character comparisons.\n",
    "Even though the worst case is still the same as Approach 1, in the best case there are at most n⋅minLen comparisons where minLen is the length of the shortest string in the array.\n",
    "Space complexity : O(1). We only used constant extra space.'''\n",
    "# the \"horizontal scanning\" method\n",
    "class Solution:\n",
    "    def longestCommonPrefix(self, strs: List[str]) -> str:\n",
    "        res = ''\n",
    "\n",
    "        for i in range(len(strs[0])):\n",
    "            for s in strs[1:]:\n",
    "                if i == len(s) or s[i] != strs[0][i]:\n",
    "                    return res\n",
    "            res += strs[0][i]\n",
    "\n",
    "        return res"
   ]
  },
  {
   "cell_type": "code",
   "execution_count": null,
   "metadata": {},
   "outputs": [],
   "source": [
    "# Time Complexity: O(n⋅m)\n",
    "# Space Complexity: O(1)\n",
    "def longestCommonPrefix(strs):\n",
    "    if not strs:\n",
    "        return \"\"\n",
    "    \n",
    "    # Start with the first string in the array as the initial prefix\n",
    "    prefix = strs[0]\n",
    "    \n",
    "    # Compare this prefix with each string in the array\n",
    "    for string in strs:\n",
    "        # Reduce the prefix length until it matches the start of the current string\n",
    "        while not string.startswith(prefix):\n",
    "            prefix = prefix[:-1]  # Remove the last character from the prefix\n",
    "            if not prefix:\n",
    "                return \"\"  # Return empty string if the prefix is reduced to nothing\n",
    "    \n",
    "    return prefix"
   ]
  },
  {
   "cell_type": "markdown",
   "metadata": {},
   "source": [
    "Time Complexity:\n",
    "O(S), where S is the sum of all characters in all strings. \n",
    "In the worst case, the first string is compared with all other strings character by character until the prefix is reduced to the smallest possible size.\n",
    "Space Complexity:\n",
    "O(1). No additional significant space is required, as the space used to store the prefix does not grow with the size of the input array."
   ]
  }
 ],
 "metadata": {
  "language_info": {
   "name": "python"
  }
 },
 "nbformat": 4,
 "nbformat_minor": 2
}
