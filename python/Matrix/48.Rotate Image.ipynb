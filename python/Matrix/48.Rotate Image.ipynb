{
 "cells": [
  {
   "cell_type": "markdown",
   "metadata": {},
   "source": [
    "48. Rotate Image\n",
    "Solved\n",
    "Medium\n",
    "Topics\n",
    "Companies\n",
    "You are given an n x n 2D matrix representing an image, rotate the image by 90 degrees (clockwise).\n",
    "\n",
    "You have to rotate the image in-place, which means you have to modify the input 2D matrix directly. DO NOT allocate another 2D matrix and do the rotation.\n",
    "\n",
    " \n",
    "\n",
    "Example 1:\n",
    "\n",
    "\n",
    "Input: matrix = [[1,2,3],[4,5,6],[7,8,9]]\n",
    "Output: [[7,4,1],[8,5,2],[9,6,3]]\n",
    "Example 2:\n",
    "\n",
    "\n",
    "Input: matrix = [[5,1,9,11],[2,4,8,10],[13,3,6,7],[15,14,12,16]]\n",
    "Output: [[15,13,2,5],[14,3,4,1],[12,6,8,9],[16,7,10,11]]\n",
    " \n",
    "\n",
    "Constraints:\n",
    "\n",
    "n == matrix.length == matrix[i].length\n",
    "1 <= n <= 20\n",
    "-1000 <= matrix[i][j] <= 1000"
   ]
  },
  {
   "cell_type": "code",
   "execution_count": null,
   "metadata": {},
   "outputs": [],
   "source": [
    "'''Complexity Analysis\n",
    "Let M be the number of cells in the matrix.\n",
    "Time complexity: O(M), as each cell is getting read once and written once.\n",
    "Space complexity: O(1) because we do not use any other additional data structures.'''\n",
    "class Solution:\n",
    "    def rotate(self, matrix: List[List[int]]) -> None:\n",
    "        l, r = 0, len(matrix) - 1\n",
    "\n",
    "        while l < r:\n",
    "            '''l is the starting index of the current layer.\n",
    "                    r is the ending index of the current layer.\n",
    "                    range(r - l) will produce a sequence from 0 to r - l - 1, iterating exactly r - l times.'''\n",
    "            for i in range(r-l):\n",
    "                top, bottom = l, r\n",
    "\t\t\t\t\n",
    "\t\t\t\t\t\t\t\t\t\t   \n",
    "                topLeft = matrix[top][l+i]\n",
    "\n",
    "                # move the bottom left to the top left\n",
    "                matrix[top][l+i] = matrix[bottom-i][l]\n",
    "\n",
    "                # move the bottom right to the bottom left\n",
    "                matrix[bottom-i][l] = matrix[bottom][r-i]\n",
    "\n",
    "                # move the top right to the bottom right\n",
    "                matrix[bottom][r-i] = matrix[top+i][r]\n",
    "\n",
    "                # move the top left to the top right\n",
    "                matrix[top+i][r] = topLeft\n",
    "\n",
    "\t\t\t\t\t\t\t\t\t\t  \n",
    "            l += 1\n",
    "            r -= 1"
   ]
  }
 ],
 "metadata": {
  "language_info": {
   "name": "python"
  }
 },
 "nbformat": 4,
 "nbformat_minor": 2
}
