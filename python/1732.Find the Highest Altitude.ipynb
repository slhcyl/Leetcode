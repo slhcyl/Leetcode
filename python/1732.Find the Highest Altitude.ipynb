{
 "cells": [
  {
   "cell_type": "markdown",
   "metadata": {},
   "source": [
    "1732. Find the Highest Altitude\n",
    "Solved\n",
    "Easy\n",
    "Topics\n",
    "Companies\n",
    "Hint\n",
    "There is a biker going on a road trip. The road trip consists of n + 1 points at different altitudes. The biker starts his trip on point 0 with altitude equal 0.\n",
    "\n",
    "You are given an integer array gain of length n where gain[i] is the net gain in altitude between points i​​​​​​ and i + 1 for all (0 <= i < n). Return the highest altitude of a point.\n",
    "\n",
    " \n",
    "\n",
    "Example 1:\n",
    "\n",
    "Input: gain = [-5,1,5,0,-7]\n",
    "Output: 1\n",
    "Explanation: The altitudes are [0,-5,-4,1,1,-6]. The highest is 1.\n",
    "Example 2:\n",
    "\n",
    "Input: gain = [-4,-3,-2,-1,4,3,2]\n",
    "Output: 0\n",
    "Explanation: The altitudes are [0,-4,-7,-9,-10,-6,-3,-1]. The highest is 0.\n",
    " \n",
    "\n",
    "Constraints:\n",
    "\n",
    "n == gain.length\n",
    "1 <= n <= 100\n",
    "-100 <= gain[i] <= 100\n"
   ]
  },
  {
   "cell_type": "markdown",
   "metadata": {},
   "source": [
    "Here, NNN is the number of integers in the list gain.\n",
    "\n",
    "Time complexity: O(N).\n",
    "\n",
    "We iterate over every integer in the list gain only once, and hence the total time complexity is equal to O(N).\n",
    "\n",
    "Space complexity: O(1).\n",
    "\n",
    "We only need two variables, currentAltitude andhighestPoint; hence the space complexity is constant."
   ]
  },
  {
   "cell_type": "code",
   "execution_count": null,
   "metadata": {},
   "outputs": [],
   "source": [
    "class Solution:\n",
    "    def largestAltitude(self, gain: List[int]) -> int:\n",
    "        highest = 0\n",
    "        prefix = 0\n",
    "\n",
    "        for num in gain:\n",
    "            prefix += num\n",
    "            highest = max(prefix, highest)\n",
    "        return highest\n",
    "# adding gain to starting point 0 culmulatively to get each altitude\n",
    "'''the altitude at a point is the sum of gains on the left of it, \n",
    "which is nothing but the prefix sum at this index. Therefore, we can find the prefix sum and return the maximum as the highest reached altitude.'''"
   ]
  },
  {
   "cell_type": "code",
   "execution_count": null,
   "metadata": {},
   "outputs": [],
   "source": [
    "class Solution:\n",
    "    def largestAltitude(self, gain: List[int]) -> int:\n",
    "        current_altitude = 0\n",
    "        # Highest altitude currently is 0.\n",
    "        highest_point = current_altitude\n",
    "        \n",
    "        for altitude_gain in gain:\n",
    "            # Adding the gain in altitude to the current altitude.\n",
    "            current_altitude += altitude_gain\n",
    "            # Update the highest altitude.\n",
    "            highest_point = max(highest_point, current_altitude)\n",
    "        \n",
    "        return highest_point"
   ]
  }
 ],
 "metadata": {
  "language_info": {
   "name": "python"
  }
 },
 "nbformat": 4,
 "nbformat_minor": 2
}
