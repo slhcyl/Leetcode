{
 "cells": [
  {
   "cell_type": "markdown",
   "metadata": {},
   "source": [
    "57. Insert Interval\n",
    "Solved\n",
    "Medium\n",
    "Topics\n",
    "Companies\n",
    "Hint\n",
    "You are given an array of non-overlapping intervals intervals where intervals[i] = [starti, endi] represent the start and the end of the ith interval and intervals is sorted in ascending order by starti. You are also given an interval newInterval = [start, end] that represents the start and end of another interval.\n",
    "\n",
    "Insert newInterval into intervals such that intervals is still sorted in ascending order by starti and intervals still does not have any overlapping intervals (merge overlapping intervals if necessary).\n",
    "\n",
    "Return intervals after the insertion.\n",
    "\n",
    "Note that you don't need to modify intervals in-place. You can make a new array and return it.\n",
    "\n",
    " \n",
    "\n",
    "Example 1:\n",
    "\n",
    "Input: intervals = [[1,3],[6,9]], newInterval = [2,5]\n",
    "Output: [[1,5],[6,9]]\n",
    "Example 2:\n",
    "\n",
    "Input: intervals = [[1,2],[3,5],[6,7],[8,10],[12,16]], newInterval = [4,8]\n",
    "Output: [[1,2],[3,10],[12,16]]\n",
    "Explanation: Because the new interval [4,8] overlaps with [3,5],[6,7],[8,10].\n",
    " \n",
    "\n",
    "Constraints:\n",
    "\n",
    "0 <= intervals.length <= 104\n",
    "intervals[i].length == 2\n",
    "0 <= starti <= endi <= 105\n",
    "intervals is sorted by starti in ascending order.\n",
    "newInterval.length == 2\n",
    "0 <= start <= end <= 105"
   ]
  },
  {
   "cell_type": "markdown",
   "metadata": {},
   "source": [
    "Complexity Analysis\n",
    "Let NNN be the number of intervals.\n",
    "\n",
    "Time complexity: O(N)\n",
    "\n",
    "We iterate through the intervals once, and each interval is considered and processed only once.\n",
    "\n",
    "Space complexity: O(1)\n",
    "\n",
    "We only use the result (res) array to store output, so this could be considered O(1)"
   ]
  },
  {
   "cell_type": "code",
   "execution_count": null,
   "metadata": {},
   "outputs": [],
   "source": [
    "class Solution:\n",
    "    def insert(self, intervals: List[List[int]], newInterval: List[int]) -> List[List[int]]:\n",
    "        res = []\n",
    "\n",
    "        for i in range(len(intervals)):\n",
    "            # newInterval is not overlapping in the beginning\n",
    "            if newInterval[1] < intervals[i][0]:\n",
    "                res.append(newInterval)\n",
    "                return res + intervals[i:]\n",
    "            # newInterval is not overlapping\n",
    "            elif newInterval[0] > intervals[i][1]:\n",
    "                res.append(intervals[i])\n",
    "            else:\n",
    "                # overlapping\n",
    "                newInterval = [min(newInterval[0], intervals[i][0]), max(newInterval[1], intervals[i][1])]\n",
    "        # that means newInterval is not overlapping with any intervals and append last\n",
    "        res.append(newInterval)\n",
    "        return res"
   ]
  },
  {
   "cell_type": "code",
   "execution_count": null,
   "metadata": {},
   "outputs": [],
   "source": [
    "class Solution:\n",
    "    def insert(\n",
    "        self, intervals: List[List[int]], newInterval: List[int]\n",
    "    ) -> List[List[int]]:\n",
    "        n = len(intervals)\n",
    "        i = 0\n",
    "        res = []\n",
    "\n",
    "        # Case 1: No overlapping before merging intervals\n",
    "        while i < n and intervals[i][1] < newInterval[0]:\n",
    "            res.append(intervals[i])\n",
    "            i += 1\n",
    "\n",
    "        # Case 2: Overlapping and merging intervals\n",
    "        while i < n and newInterval[1] >= intervals[i][0]:\n",
    "            newInterval[0] = min(newInterval[0], intervals[i][0])\n",
    "            newInterval[1] = max(newInterval[1], intervals[i][1])\n",
    "            i += 1\n",
    "        res.append(newInterval)\n",
    "\n",
    "        # Case 3: No overlapping after merging newInterval\n",
    "        while i < n:\n",
    "            res.append(intervals[i])\n",
    "            i += 1\n",
    "\n",
    "        return res"
   ]
  }
 ],
 "metadata": {
  "language_info": {
   "name": "python"
  }
 },
 "nbformat": 4,
 "nbformat_minor": 2
}
