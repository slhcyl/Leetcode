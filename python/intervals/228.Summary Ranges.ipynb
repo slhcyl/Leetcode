{
 "cells": [
  {
   "cell_type": "markdown",
   "metadata": {},
   "source": [
    "228. Summary Ranges\n",
    "Easy\n",
    "Topics\n",
    "Companies\n",
    "You are given a sorted unique integer array nums.\n",
    "\n",
    "A range [a,b] is the set of all integers from a to b (inclusive).\n",
    "\n",
    "Return the smallest sorted list of ranges that cover all the numbers in the array exactly. That is, each element of nums is covered by exactly one of the ranges, and there is no integer x such that x is in one of the ranges but not in nums.\n",
    "\n",
    "Each range [a,b] in the list should be output as:\n",
    "\n",
    "\"a->b\" if a != b\n",
    "\"a\" if a == b\n",
    " \n",
    "\n",
    "Example 1:\n",
    "\n",
    "Input: nums = [0,1,2,4,5,7]\n",
    "Output: [\"0->2\",\"4->5\",\"7\"]\n",
    "Explanation: The ranges are:\n",
    "[0,2] --> \"0->2\"\n",
    "[4,5] --> \"4->5\"\n",
    "[7,7] --> \"7\"\n",
    "Example 2:\n",
    "\n",
    "Input: nums = [0,2,3,4,6,8,9]\n",
    "Output: [\"0\",\"2->4\",\"6\",\"8->9\"]\n",
    "Explanation: The ranges are:\n",
    "[0,0] --> \"0\"\n",
    "[2,4] --> \"2->4\"\n",
    "[6,6] --> \"6\"\n",
    "[8,9] --> \"8->9\"\n",
    " \n",
    "\n",
    "Constraints:\n",
    "\n",
    "0 <= nums.length <= 20\n",
    "-231 <= nums[i] <= 231 - 1\n",
    "All the values of nums are unique.\n",
    "nums is sorted in ascending order."
   ]
  },
  {
   "cell_type": "markdown",
   "metadata": {},
   "source": [
    "Complexity Analysis\n",
    "Here n is the number of elements in nums.\n",
    "\n",
    "Time complexity: O(n).\n",
    "\n",
    "We iterate over each nums element once, either including it in the current range or creating a new range from it, which takes O(n) time for nnn elements.\n",
    "We also add all of the ranges to the ranges list. In the worst-case situation, nnn elements could be added to the list if each consecutive element in nums differs by more than 1, requiring O(n) time to insert all the required ranges.\n",
    "Space complexity: O(1).\n",
    "\n",
    "Except for a few integer variables like i and start that use constant space, we do not consume any space (if we ignore the space consumed by the input and output)."
   ]
  },
  {
   "cell_type": "code",
   "execution_count": null,
   "metadata": {},
   "outputs": [],
   "source": [
    "class Solution:\n",
    "    def summaryRanges(self, nums: List[int]) -> List[str]:\n",
    "        range = []\n",
    "        i = 0\n",
    "        while i < len(nums):\n",
    "            start = nums[i]\n",
    "            while i + 1 < len(nums) and nums[i] + 1 == nums[i+1]:\n",
    "                i += 1\n",
    "\n",
    "            if start != nums[i]:\n",
    "                range.append(str(start) + '->'+str(nums[i]))\n",
    "            else:\n",
    "                range.append(str(start))\n",
    "                \n",
    "            i += 1\n",
    "        return range"
   ]
  }
 ],
 "metadata": {
  "language_info": {
   "name": "python"
  }
 },
 "nbformat": 4,
 "nbformat_minor": 2
}
