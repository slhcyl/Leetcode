{
 "cells": [
  {
   "cell_type": "markdown",
   "metadata": {},
   "source": [
    "1762. Buildings With an Ocean View\n",
    "Solved\n",
    "Medium\n",
    "Topics\n",
    "Companies\n",
    "Hint\n",
    "There are n buildings in a line. You are given an integer array heights of size n that represents the heights of the buildings in the line.\n",
    "\n",
    "The ocean is to the right of the buildings. A building has an ocean view if the building can see the ocean without obstructions. Formally, a building has an ocean view if all the buildings to its right have a smaller height.\n",
    "\n",
    "Return a list of indices (0-indexed) of buildings that have an ocean view, sorted in increasing order.\n",
    "\n",
    " \n",
    "\n",
    "Example 1:\n",
    "\n",
    "Input: heights = [4,2,3,1]\n",
    "Output: [0,2,3]\n",
    "Explanation: Building 1 (0-indexed) does not have an ocean view because building 2 is taller.\n",
    "Example 2:\n",
    "\n",
    "Input: heights = [4,3,2,1]\n",
    "Output: [0,1,2,3]\n",
    "Explanation: All the buildings have an ocean view.\n",
    "Example 3:\n",
    "\n",
    "Input: heights = [1,3,2,4]\n",
    "Output: [3]\n",
    "Explanation: Only building 3 has an ocean view.\n",
    " \n",
    "\n",
    "Constraints:\n",
    "\n",
    "1 <= heights.length <= 105\n",
    "1 <= heights[i] <= 109"
   ]
  },
  {
   "cell_type": "code",
   "execution_count": null,
   "metadata": {},
   "outputs": [],
   "source": [
    "# T O(n)\n",
    "# S O(1)\n",
    "# Monotonic Stack Space Optimization\n",
    "class Solution:\n",
    "    def findBuildings(self, heights: List[int]) -> List[int]:\n",
    "        if not heights:\n",
    "            return []\n",
    "            \n",
    "        max_height = -1\n",
    "        res = collections.deque([])\n",
    "\n",
    "        for i in range(len(heights)-1, -1, -1):\n",
    "            cur_height = heights[i]\n",
    "            if cur_height > max_height:\n",
    "                res.appendleft(i)\n",
    "                max_height = cur_height\n",
    "        return res"
   ]
  },
  {
   "cell_type": "code",
   "execution_count": null,
   "metadata": {},
   "outputs": [],
   "source": [
    "class Solution:\n",
    "    def findBuildings(self, heights: List[int]) -> List[int]:\n",
    "        if not heights:\n",
    "            return []\n",
    "\n",
    "        max_height = -1\n",
    "        res = []\n",
    "\n",
    "        for i in range(len(heights)-1, -1, -1):\n",
    "            cur_height = heights[i]\n",
    "            if cur_height > max_height:\n",
    "                res.append(i)\n",
    "                max_height = cur_height\n",
    "        res.reverse()\n",
    "        return res"
   ]
  }
 ],
 "metadata": {
  "language_info": {
   "name": "python"
  }
 },
 "nbformat": 4,
 "nbformat_minor": 2
}
