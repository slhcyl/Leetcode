{
 "cells": [
  {
   "cell_type": "markdown",
   "metadata": {},
   "source": [
    "771. Jewels and Stones\n",
    "Solved\n",
    "Easy\n",
    "Topics\n",
    "Companies\n",
    "Hint\n",
    "You're given strings jewels representing the types of stones that are jewels, and stones representing the stones you have. Each character in stones is a type of stone you have. You want to know how many of the stones you have are also jewels.\n",
    "\n",
    "Letters are case sensitive, so \"a\" is considered a different type of stone from \"A\".\n",
    "\n",
    " \n",
    "\n",
    "Example 1:\n",
    "\n",
    "Input: jewels = \"aA\", stones = \"aAAbbbb\"\n",
    "Output: 3\n",
    "Example 2:\n",
    "\n",
    "Input: jewels = \"z\", stones = \"ZZ\"\n",
    "Output: 0\n",
    " \n",
    "\n",
    "Constraints:\n",
    "\n",
    "1 <= jewels.length, stones.length <= 50\n",
    "jewels and stones consist of only English letters.\n",
    "All the characters of jewels are unique."
   ]
  },
  {
   "cell_type": "code",
   "execution_count": null,
   "metadata": {},
   "outputs": [],
   "source": [
    "# Time Complexity: O(J.length+S.length). The O(J.length) part comes from creating J. The O(S.length) part comes from searching S.\n",
    "# Space Complexity: O(J.length).\n",
    "class Solution:\n",
    "    def numJewelsInStones(self, jewels: str, stones: str) -> int:\n",
    "        jewel_set = set(jewels)\n",
    "        count = 0\n",
    "        for i in range(len(stones)):\n",
    "            if stones[i] in jewel_set:\n",
    "                count +=1\n",
    "\n",
    "        return count"
   ]
  }
 ],
 "metadata": {
  "language_info": {
   "name": "python"
  }
 },
 "nbformat": 4,
 "nbformat_minor": 2
}
