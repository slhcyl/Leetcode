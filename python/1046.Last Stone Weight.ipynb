{
 "cells": [
  {
   "cell_type": "markdown",
   "metadata": {},
   "source": [
    "1046. Last Stone Weight\n",
    "Solved\n",
    "Easy\n",
    "Topics\n",
    "Companies\n",
    "Hint\n",
    "You are given an array of integers stones where stones[i] is the weight of the ith stone.\n",
    "\n",
    "We are playing a game with the stones. On each turn, we choose the heaviest two stones and smash them together. Suppose the heaviest two stones have weights x and y with x <= y. The result of this smash is:\n",
    "\n",
    "If x == y, both stones are destroyed, and\n",
    "If x != y, the stone of weight x is destroyed, and the stone of weight y has new weight y - x.\n",
    "At the end of the game, there is at most one stone left.\n",
    "\n",
    "Return the weight of the last remaining stone. If there are no stones left, return 0.\n",
    "\n",
    " \n",
    "\n",
    "Example 1:\n",
    "\n",
    "Input: stones = [2,7,4,1,8,1]\n",
    "Output: 1\n",
    "Explanation: \n",
    "We combine 7 and 8 to get 1 so the array converts to [2,4,1,1,1] then,\n",
    "we combine 2 and 4 to get 2 so the array converts to [2,1,1,1] then,\n",
    "we combine 2 and 1 to get 1 so the array converts to [1,1,1] then,\n",
    "we combine 1 and 1 to get 0 so the array converts to [1] then that's the value of the last stone.\n",
    "Example 2:\n",
    "\n",
    "Input: stones = [1]\n",
    "Output: 1\n",
    " \n",
    "\n",
    "Constraints:\n",
    "\n",
    "1 <= stones.length <= 30\n",
    "1 <= stones[i] <= 1000"
   ]
  },
  {
   "cell_type": "markdown",
   "metadata": {},
   "source": [
    "Complexity Analysis\n",
    "Let NNN be the length of stones.\n",
    "\n",
    "Time complexity : O(N log⁡ N).\n",
    "\n",
    "Converting an array into a Heap takes O(N) time (it isn't actually sorting; it's putting them into an order that allows us to get the maximums, each in O(log⁡ N) time).\n",
    "\n",
    "Like before, the main loop iterates up to N−1 times. This time however, it's doing up to three O(log⁡ N) operations each time; two removes, and an optional add. Like always, the three is an ignored constant. This means that we're doing N⋅O(log⁡ N)=O(N log⁡ N) operations.\n",
    "\n",
    "Space complexity : O(N) or O(log⁡ N).\n",
    "\n",
    "In Python, converting a list to a heap is done in place, requiring O(1) auxiliary space, giving a total space complexity of O(1). Modifying the input has its pros and cons; it saves space, but it means that other functions can't use the same array.\n",
    "\n",
    "In Java though, it's O(N) to create the PriorityQueue.\n",
    "\n",
    "We could reduce the space complexity to O(1) by implementing our own iterative heapfiy, if needed."
   ]
  },
  {
   "cell_type": "code",
   "execution_count": null,
   "metadata": {},
   "outputs": [],
   "source": [
    "# Space Complexity: O(n)\n",
    "# Time Complexity: O(nlogn)\n",
    "class Solution:\n",
    "    def lastStoneWeight(self, stones: List[int]) -> int:\n",
    "        stones = [ -s for s in stones]\n",
    "        heapq.heapify(stones)\n",
    "\n",
    "        while len(stones) > 1:\n",
    "            first = heapq.heappop(stones)\n",
    "            second = heapq.heappop(stones)\n",
    "            if second > first:\n",
    "                # first and second is negative, so second is larger\n",
    "                heapq.heappush(stones, first - second)\n",
    "            \n",
    "        # stones.append(0)\n",
    "        # return abs(stones[0])\n",
    "        return -stones[0] if stones else 0"
   ]
  },
  {
   "cell_type": "code",
   "execution_count": null,
   "metadata": {},
   "outputs": [],
   "source": [
    "# There's a private _heapify_max method.\n",
    "# https://github.com/python/cpython/blob/1170d5a292b46f754cd29c245a040f1602f70301/Lib/heapq.py#L198\n",
    "class Solution(object):\n",
    "    def lastStoneWeight(self, stones):\n",
    "        heapq._heapify_max(stones)\n",
    "        while len(stones) > 1:\n",
    "            max_stone = heapq._heappop_max(stones)\n",
    "            diff = max_stone - stones[0]\n",
    "            if diff:\n",
    "                heapq._heapreplace_max(stones, diff)\n",
    "            else:\n",
    "                heapq._heappop_max(stones)\n",
    "        \n",
    "        stones.append(0)\n",
    "        return stones[0]"
   ]
  }
 ],
 "metadata": {
  "language_info": {
   "name": "python"
  }
 },
 "nbformat": 4,
 "nbformat_minor": 2
}
