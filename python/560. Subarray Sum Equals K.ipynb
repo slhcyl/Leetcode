{
 "cells": [
  {
   "cell_type": "markdown",
   "metadata": {},
   "source": [
    "560. Subarray Sum Equals K\n",
    "Solved\n",
    "Medium\n",
    "Topics\n",
    "Companies\n",
    "Hint\n",
    "Given an array of integers nums and an integer k, return the total number of subarrays whose sum equals to k.\n",
    "\n",
    "A subarray is a contiguous non-empty sequence of elements within an array.\n",
    "\n",
    " \n",
    "\n",
    "Example 1:\n",
    "\n",
    "Input: nums = [1,1,1], k = 2\n",
    "Output: 2\n",
    "Example 2:\n",
    "\n",
    "Input: nums = [1,2,3], k = 3\n",
    "Output: 2\n",
    " \n",
    "\n",
    "Constraints:\n",
    "\n",
    "1 <= nums.length <= 2 * 104\n",
    "-1000 <= nums[i] <= 1000\n",
    "-107 <= k <= 107"
   ]
  },
  {
   "cell_type": "code",
   "execution_count": null,
   "metadata": {},
   "outputs": [],
   "source": [
    "class Solution:\n",
    "    def subarraySum(self, nums: List[int], k: int) -> int:\n",
    "        count = 0\n",
    "        # a single value that is equal to k will be counted as an array\n",
    "        prefixsum = {0:1} \n",
    "        cursum = 0\n",
    "        for num in nums:\n",
    "            cursum += num\n",
    "            diff = cursum - k\n",
    "            if diff in prefixsum:\n",
    "                count += prefixsum[diff]\n",
    "            prefixsum[cursum] = prefixsum.get(cursum,0) + 1\n",
    "        return count\n",
    "            \n",
    "# t O(N)\n",
    "# S O(N)\n",
    "\n",
    "# nums = [1, 1, 1, 2, 3], k = 3\n",
    "# num=1, c_sum=1, c_sum-3=-2, cnt=0, {0:1,1:1}\n",
    "# 1    , 2       , -1        , 0   , {0:1,1:1,2:1}\n",
    "# 1     , 3       , 0        , 1    , {0:1,1:1,2:1,3:1}\n",
    "# 2, 5, 2, 2, {0:1,1:1,2:1,3:1,5:1}\n",
    "# 3, 8, 5, 3 , {0:1,1:1,2:1,3:1,5:1,8:1}\n"
   ]
  }
 ],
 "metadata": {
  "language_info": {
   "name": "python"
  }
 },
 "nbformat": 4,
 "nbformat_minor": 2
}
