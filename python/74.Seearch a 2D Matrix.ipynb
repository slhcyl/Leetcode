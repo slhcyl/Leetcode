{
 "cells": [
  {
   "cell_type": "markdown",
   "metadata": {},
   "source": [
    "74. Search a 2D Matrix\n",
    "Solved\n",
    "Medium\n",
    "Topics\n",
    "Companies\n",
    "You are given an m x n integer matrix matrix with the following two properties:\n",
    "\n",
    "Each row is sorted in non-decreasing order.\n",
    "The first integer of each row is greater than the last integer of the previous row.\n",
    "Given an integer target, return true if target is in matrix or false otherwise.\n",
    "\n",
    "You must write a solution in O(log(m * n)) time complexity.\n",
    "\n",
    " \n",
    "\n",
    "Example 1:\n",
    "\n",
    "\n",
    "Input: matrix = [[1,3,5,7],[10,11,16,20],[23,30,34,60]], target = 3\n",
    "Output: true\n",
    "Example 2:\n",
    "\n",
    "\n",
    "Input: matrix = [[1,3,5,7],[10,11,16,20],[23,30,34,60]], target = 13\n",
    "Output: false\n",
    " \n",
    "\n",
    "Constraints:\n",
    "\n",
    "m == matrix.length\n",
    "n == matrix[i].length\n",
    "1 <= m, n <= 100\n",
    "-104 <= matrix[i][j], target <= 104"
   ]
  },
  {
   "cell_type": "code",
   "execution_count": null,
   "metadata": {},
   "outputs": [],
   "source": [
    "class Solution:\n",
    "    def searchMatrix(self, matrix: List[List[int]], target: int) -> bool:\n",
    "        ROWS, COLS = len(matrix), len(matrix[0])\n",
    "        # print(len(matrix), len(matrix[0]))\n",
    "\n",
    "        top, bot = 0, ROWS - 1\n",
    "        while top <= bot:\n",
    "            row = (top + bot)//2\n",
    "            if target > matrix[row][-1]:\n",
    "                top = row + 1\n",
    "            elif target < matrix[row][0]:\n",
    "                bot = row - 1\n",
    "            else:\n",
    "                break\n",
    "\n",
    "        if not (top <= bot):\n",
    "            return False\n",
    "        row = (top + bot)//2\n",
    "        l, r = 0, COLS - 1\n",
    "        while l <= r:\n",
    "            m = (l + r)//2\n",
    "            if target > matrix[row][m]:\n",
    "                l = m + 1\n",
    "            elif target < matrix[row][m]:\n",
    "                r = m - 1\n",
    "            else:\n",
    "                return True\n",
    "\n",
    "        return False "
   ]
  }
 ],
 "metadata": {
  "language_info": {
   "name": "python"
  }
 },
 "nbformat": 4,
 "nbformat_minor": 2
}
