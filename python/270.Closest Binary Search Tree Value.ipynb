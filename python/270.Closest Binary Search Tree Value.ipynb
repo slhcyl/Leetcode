{
 "cells": [
  {
   "cell_type": "code",
   "execution_count": null,
   "metadata": {},
   "outputs": [],
   "source": [
    "# time complexity of O(h), where h is the height of the tree, and a constant space complexity O(1) if iterative \n",
    "# (or O(h) if recursive due to the call stack). This makes it particularly well-suited for balanced BSTs where h≈log(n).\n",
    "# Definition for a binary tree node.\n",
    "# class TreeNode:\n",
    "#     def __init__(self, val=0, left=None, right=None):\n",
    "#         self.val = val\n",
    "#         self.left = left\n",
    "#         self.right = right\n",
    "\n",
    "class Solution:\n",
    "    def closestValue(self, root: TreeNode, target: float) -> int:\n",
    "        closest = root.val  # Initialize the closest value\n",
    "\n",
    "        # Start with the root node\n",
    "        node = root\n",
    "        while node:\n",
    "            # Update the closest value if the current node is closer to the target\n",
    "            if abs(node.val - target) < abs(closest - target):\n",
    "                closest = node.val\n",
    "            \n",
    "            # Move left or right depending on how the node's value compares to the target\n",
    "            if target < node.val:\n",
    "                node = node.left\n",
    "            else:\n",
    "                node = node.right\n",
    "        \n",
    "        return closest"
   ]
  },
  {
   "cell_type": "code",
   "execution_count": null,
   "metadata": {},
   "outputs": [],
   "source": [
    "class Solution:\n",
    "    def closestValue(self, root: Optional[TreeNode], target: float) -> int:\n",
    "        closest = root.val\n",
    "        node = root\n",
    "        while node:\n",
    "            if abs(node.val - target) < abs(closest - target) or (abs(node.val - target) == abs(closest - target) and node.val < closest):\n",
    "                closest = node.val\n",
    "\n",
    "            if target < node.val:\n",
    "                node = node.left\n",
    "            else:\n",
    "                node = node.right\n",
    "        return closest"
   ]
  }
 ],
 "metadata": {
  "language_info": {
   "name": "python"
  }
 },
 "nbformat": 4,
 "nbformat_minor": 2
}
