{
 "cells": [
  {
   "cell_type": "markdown",
   "metadata": {},
   "source": [
    "1161. Maximum Level Sum of a Binary Tree\n",
    "Solved\n",
    "Medium\n",
    "Topics\n",
    "Companies\n",
    "Hint\n",
    "Given the root of a binary tree, the level of its root is 1, the level of its children is 2, and so on.\n",
    "\n",
    "Return the smallest level x such that the sum of all the values of nodes at level x is maximal.\n",
    "\n",
    " \n",
    "\n",
    "Example 1:\n",
    "\n",
    "\n",
    "Input: root = [1,7,0,7,-8,null,null]\n",
    "Output: 2\n",
    "Explanation: \n",
    "Level 1 sum = 1.\n",
    "Level 2 sum = 7 + 0 = 7.\n",
    "Level 3 sum = 7 + -8 = -1.\n",
    "So we return the level with the maximum sum which is level 2.\n",
    "Example 2:\n",
    "\n",
    "Input: root = [989,null,10250,98693,-89388,null,null,null,-32127]\n",
    "Output: 2\n",
    " \n",
    "\n",
    "Constraints:\n",
    "\n",
    "The number of nodes in the tree is in the range [1, 104].\n",
    "-105 <= Node.val <= 105"
   ]
  },
  {
   "cell_type": "markdown",
   "metadata": {},
   "source": [
    "Complexity Analysis\n",
    "Here nnn is the number of nodes in the given binary tree.\n",
    "\n",
    "Time complexity: O(n).\n",
    "\n",
    "Each queue operation in the BFS algorithm takes O(1) time, and a single node can only be pushed once, leading to O(n) operations for nnn nodes.\n",
    "The computation of sum of all the values of nodes at a level also takes O(n)time as each node's value is used once.\n",
    "Space complexity: O(n).\n",
    "\n",
    "As the BFS queue stores the nodes in level-wise manner, the maximum number of nodes in the BFS queue would equal to the most number of nodes at any level. So, the best case would be O(1) where all the levels have just one node.\n",
    "The worst case would be a complete binary tree. In a complete binary tree, the last or second last level would have the most nodes (the last level can have multiple null nodes). Because we are iterating by level, the BFS queue will be most crowded when all of the nodes from the last level (or second last level) are in the queue. Assume we have a complete binary tree with height hhh and a fully filled last level having 2^h nodes. All the nodes at each level add up to 1 + 2 + 4 + 8 +... + 2^h = n. This implies that 2^{h + 1} - 1 = n, and thus 2^h = (n + 1) / 2. Because the last level hhh has 2^h nodes, the BFS queue will have (n+1)/2=O(n) elements in the worst-case scenario."
   ]
  },
  {
   "cell_type": "code",
   "execution_count": null,
   "metadata": {},
   "outputs": [],
   "source": [
    "# Definition for a binary tree node.\n",
    "# class TreeNode:\n",
    "#     def __init__(self, val=0, left=None, right=None):\n",
    "#         self.val = val\n",
    "#         self.left = left\n",
    "#         self.right = right\n",
    "class Solution:\n",
    "    def maxLevelSum(self, root: Optional[TreeNode]) -> int:\n",
    "        if not root:\n",
    "            return root\n",
    "\n",
    "        maxSum = float('-inf')\n",
    "        maxSum_at = 0\n",
    "        queue = collections.deque([(root, 1)])\n",
    "\n",
    "        while queue:\n",
    "            size = len(queue)\n",
    "            levelSum = 0\n",
    "            current_level = queue[0][1]\n",
    "            \n",
    "            for i in range(size):\n",
    "                node, level = queue.popleft()\n",
    "                levelSum += node.val\n",
    "\n",
    "                if node.left:\n",
    "                    queue.append((node.left,level + 1))\n",
    "                if node.right:\n",
    "                    queue.append((node.right,level + 1))\n",
    "\n",
    "            if maxSum < levelSum:\n",
    "                maxSum = levelSum\n",
    "                maxSum_at = current_level\n",
    "\n",
    "        return maxSum_at\n"
   ]
  }
 ],
 "metadata": {
  "language_info": {
   "name": "python"
  }
 },
 "nbformat": 4,
 "nbformat_minor": 2
}
