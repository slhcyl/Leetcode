{
 "cells": [
  {
   "cell_type": "markdown",
   "metadata": {},
   "source": [
    "841. Keys and Rooms\n",
    "Solved\n",
    "Medium\n",
    "Topics\n",
    "Companies\n",
    "There are n rooms labeled from 0 to n - 1 and all the rooms are locked except for room 0. Your goal is to visit all the rooms. However, you cannot enter a locked room without having its key.\n",
    "\n",
    "When you visit a room, you may find a set of distinct keys in it. Each key has a number on it, denoting which room it unlocks, and you can take all of them with you to unlock the other rooms.\n",
    "\n",
    "Given an array rooms where rooms[i] is the set of keys that you can obtain if you visited room i, return true if you can visit all the rooms, or false otherwise.\n",
    "\n",
    " \n",
    "\n",
    "Example 1:\n",
    "\n",
    "Input: rooms = [[1],[2],[3],[]]\n",
    "Output: true\n",
    "Explanation: \n",
    "We visit room 0 and pick up key 1.\n",
    "We then visit room 1 and pick up key 2.\n",
    "We then visit room 2 and pick up key 3.\n",
    "We then visit room 3.\n",
    "Since we were able to visit every room, we return true.\n",
    "Example 2:\n",
    "\n",
    "Input: rooms = [[1,3],[3,0,1],[2],[0]]\n",
    "Output: false\n",
    "Explanation: We can not enter room number 2 since the only key that unlocks it is in that room.\n",
    " \n",
    "\n",
    "Constraints:\n",
    "\n",
    "n == rooms.length\n",
    "2 <= n <= 1000\n",
    "0 <= rooms[i].length <= 1000\n",
    "1 <= sum(rooms[i].length) <= 3000\n",
    "0 <= rooms[i][j] < n\n",
    "All the values of rooms[i] are unique."
   ]
  },
  {
   "cell_type": "code",
   "execution_count": null,
   "metadata": {},
   "outputs": [],
   "source": [
    "# dfs\n",
    "# The time complexity is O(n+k), where n is the number of rooms and k is the total number of keys, corresponding to the edges in the graph.\n",
    "# The space complexity is O(n) due to the recursion stack and the visited set.\n",
    "class Solution:\n",
    "    def canVisitAllRooms(self, rooms: List[List[int]]) -> bool:\n",
    "        visited = set()\n",
    "        \n",
    "        def dfs(room_index):\n",
    "            visited.add(room_index)\n",
    "            \n",
    "            for key in rooms[room_index]:\n",
    "                if key not in visited:\n",
    "                    dfs(key)\n",
    "                    \n",
    "        dfs(0)\n",
    "        \n",
    "        return len(visited) == len(rooms)"
   ]
  },
  {
   "cell_type": "code",
   "execution_count": null,
   "metadata": {},
   "outputs": [],
   "source": [
    "# bfs\n",
    "# Time Complexity: The worst-case time complexity is O(n+k), where n is the number of rooms and k is the total number of keys. Each room and each key is processed once.\n",
    "# Space Complexity: The worst-case space complexity is O(n) due to storing visited rooms \n",
    "# and the queue which might contain a significant number of entries in scenarios with many interconnected rooms.\n",
    "class Solution:\n",
    "    def canVisitAllRooms(self, rooms: List[List[int]]) -> bool:\n",
    "        visited = set()\n",
    "        queue = collections.deque([0])\n",
    "        visited.add(0)\n",
    "        \n",
    "        while queue:\n",
    "            room_index = queue.popleft()\n",
    "            \n",
    "            for key in rooms[room_index]:\n",
    "                if key not in visited:\n",
    "                    visited.add(key)\n",
    "                    queue.append(key)\n",
    "                    \n",
    "        return len(visited) == len(rooms)"
   ]
  }
 ],
 "metadata": {
  "language_info": {
   "name": "python"
  }
 },
 "nbformat": 4,
 "nbformat_minor": 2
}
