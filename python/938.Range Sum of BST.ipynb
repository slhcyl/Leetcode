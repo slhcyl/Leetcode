{
 "cells": [
  {
   "cell_type": "markdown",
   "metadata": {},
   "source": [
    "938. Range Sum of BST\n",
    "Solved\n",
    "Easy\n",
    "Topics\n",
    "Companies\n",
    "Given the root node of a binary search tree and two integers low and high, return the sum of values of all nodes with a value in the inclusive range [low, high].\n",
    "\n",
    " \n",
    "\n",
    "Example 1:\n",
    "\n",
    "\n",
    "Input: root = [10,5,15,3,7,null,18], low = 7, high = 15\n",
    "Output: 32\n",
    "Explanation: Nodes 7, 10, and 15 are in the range [7, 15]. 7 + 10 + 15 = 32.\n",
    "Example 2:\n",
    "\n",
    "\n",
    "Input: root = [10,5,15,3,7,13,18,1,null,6], low = 6, high = 10\n",
    "Output: 23\n",
    "Explanation: Nodes 6, 7, and 10 are in the range [6, 10]. 6 + 7 + 10 = 23.\n",
    " \n",
    "\n",
    "Constraints:\n",
    "\n",
    "The number of nodes in the tree is in the range [1, 2 * 104].\n",
    "1 <= Node.val <= 105\n",
    "1 <= low <= high <= 105\n",
    "All Node.val are unique."
   ]
  },
  {
   "cell_type": "code",
   "execution_count": null,
   "metadata": {},
   "outputs": [],
   "source": [
    "# iterative\n",
    "# t O(n)\n",
    "# s O(n) unbalanced, if balanced log(n)\n",
    "# Definition for a binary tree node.\n",
    "# class TreeNode:\n",
    "#     def __init__(self, val=0, left=None, right=None):\n",
    "#         self.val = val\n",
    "#         self.left = left\n",
    "#         self.right = right\n",
    "class Solution:\n",
    "    def rangeSumBST(self, root: Optional[TreeNode], low: int, high: int) -> int:\n",
    "        if not root:\n",
    "            return 0\n",
    "        ans = 0\n",
    "        stack = [root]\n",
    "\n",
    "        while stack:\n",
    "            node = stack.pop()\n",
    "            if node:\n",
    "                if low <= node.val <= high:\n",
    "                    ans += node.val\n",
    "                if low < node.val:\n",
    "                    stack.append(node.left)\n",
    "                if node.val < high:\n",
    "                    stack.append(node.right)\n",
    "        return ans\n",
    "        "
   ]
  },
  {
   "cell_type": "code",
   "execution_count": null,
   "metadata": {},
   "outputs": [],
   "source": [
    "# recursive:\n",
    "# don't use it in production due to overflow issue\n",
    "class Solution:\n",
    "    def rangeSumBST(self, root: Optional[TreeNode], low: int, high: int) -> int:\n",
    "        if not root:\n",
    "            return 0\n",
    "        self.total_sum = 0\n",
    "\n",
    "        self.dfs(root, low, high)\n",
    "\n",
    "        return self.total_sum\n",
    "        \n",
    "    def dfs(self, node, low, high):\n",
    "        if node:\n",
    "            if low <= node.val <= high:\n",
    "                self.total_sum += node.val\n",
    "            if low < node.val:\n",
    "                self.dfs(node.left, low, high)\n",
    "            if node.val < high:\n",
    "                self.dfs(node.right, low, high)"
   ]
  }
 ],
 "metadata": {
  "language_info": {
   "name": "python"
  }
 },
 "nbformat": 4,
 "nbformat_minor": 2
}
