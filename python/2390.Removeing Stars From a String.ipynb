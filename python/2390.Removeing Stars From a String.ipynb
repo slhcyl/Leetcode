{
 "cells": [
  {
   "cell_type": "markdown",
   "metadata": {},
   "source": [
    "2390. Removing Stars From a String\n",
    "Solved\n",
    "Medium\n",
    "Topics\n",
    "Companies\n",
    "Hint\n",
    "You are given a string s, which contains stars *.\n",
    "\n",
    "In one operation, you can:\n",
    "\n",
    "Choose a star in s.\n",
    "Remove the closest non-star character to its left, as well as remove the star itself.\n",
    "Return the string after all stars have been removed.\n",
    "\n",
    "Note:\n",
    "\n",
    "The input will be generated such that the operation is always possible.\n",
    "It can be shown that the resulting string will always be unique.\n",
    " \n",
    "\n",
    "Example 1:\n",
    "\n",
    "Input: s = \"leet**cod*e\"\n",
    "Output: \"lecoe\"\n",
    "Explanation: Performing the removals from left to right:\n",
    "- The closest character to the 1st star is 't' in \"leet**cod*e\". s becomes \"lee*cod*e\".\n",
    "- The closest character to the 2nd star is 'e' in \"lee*cod*e\". s becomes \"lecod*e\".\n",
    "- The closest character to the 3rd star is 'd' in \"lecod*e\". s becomes \"lecoe\".\n",
    "There are no more stars, so we return \"lecoe\".\n",
    "Example 2:\n",
    "\n",
    "Input: s = \"erase*****\"\n",
    "Output: \"\"\n",
    "Explanation: The entire string is removed, so we return an empty string.\n",
    " \n",
    "\n",
    "Constraints:\n",
    "\n",
    "1 <= s.length <= 105\n",
    "s consists of lowercase English letters and stars *.\n",
    "The operation above can be performed on s."
   ]
  },
  {
   "cell_type": "markdown",
   "metadata": {},
   "source": [
    "Complexity Analysis\n",
    "Here, nnn is the length of s.\n",
    "\n",
    "Time complexity: O(n)\n",
    "\n",
    "We iterate over s and for every character we either push it in the stack or pop the top character from the stack which takes O(1) time per character. It takes O(n) time for nnn characters.\n",
    "To form the answer string, we remove all the characters from the stack. Because a stack can have maximum of nnn characters, it would also take O(n) time in that case.\n",
    "We also require O(n) time to reverse answer which can have nnn characters.\n",
    "Space complexity: O(n)\n",
    "\n",
    "The stack used in the solution can grow to a maximum size of nnn. We would need O(n)space in that case."
   ]
  },
  {
   "cell_type": "code",
   "execution_count": null,
   "metadata": {},
   "outputs": [],
   "source": [
    "class Solution:\n",
    "    def removeStars(self, s: str) -> str:\n",
    "        stack = []\n",
    "\n",
    "        for i in range(len(s)):\n",
    "            if s[i] != '*':\n",
    "                stack.append(s[i])\n",
    "            else:\n",
    "                stack.pop()\n",
    "\n",
    "        return ''.join(stack)"
   ]
  }
 ],
 "metadata": {
  "language_info": {
   "name": "python"
  }
 },
 "nbformat": 4,
 "nbformat_minor": 2
}
