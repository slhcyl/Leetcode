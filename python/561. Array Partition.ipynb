{
 "cells": [
  {
   "cell_type": "markdown",
   "metadata": {},
   "source": [
    "561. Array Partition\n",
    "Solved\n",
    "Easy\n",
    "Topics\n",
    "Companies\n",
    "Hint\n",
    "Given an integer array nums of 2n integers, group these integers into n pairs (a1, b1), (a2, b2), ..., (an, bn) such that the sum of min(ai, bi) for all i is maximized. Return the maximized sum.\n",
    "\n",
    " \n",
    "\n",
    "Example 1:\n",
    "\n",
    "Input: nums = [1,4,3,2]\n",
    "Output: 4\n",
    "Explanation: All possible pairings (ignoring the ordering of elements) are:\n",
    "1. (1, 4), (2, 3) -> min(1, 4) + min(2, 3) = 1 + 2 = 3\n",
    "2. (1, 3), (2, 4) -> min(1, 3) + min(2, 4) = 1 + 2 = 3\n",
    "3. (1, 2), (3, 4) -> min(1, 2) + min(3, 4) = 1 + 3 = 4\n",
    "So the maximum possible sum is 4.\n",
    "Example 2:\n",
    "\n",
    "Input: nums = [6,2,6,5,1,2]\n",
    "Output: 9\n",
    "Explanation: The optimal pairing is (2, 1), (2, 5), (6, 6). min(2, 1) + min(2, 5) + min(6, 6) = 1 + 2 + 6 = 9.\n",
    " \n",
    "\n",
    "Constraints:\n",
    "\n",
    "1 <= n <= 104\n",
    "nums.length == 2 * n\n",
    "-104 <= nums[i] <= 104"
   ]
  },
  {
   "cell_type": "markdown",
   "metadata": {},
   "source": [
    "Complexity Analysis\n",
    "\n",
    "Here, NNN is the number of pairs that will be produced (i.e., the size of list nums is 2⋅N).\n",
    "\n",
    "Time complexity: O(Nlog⁡N)\n",
    "\n",
    "Sorting the list nums of size 2⋅N will take O(2⋅Nlog⁡(2⋅N)) time which is equivalent to O(Nlog⁡N), and iterating over the list will take an additional O(N) time. Hence, the time complexity is O(Nlog⁡N).\n",
    "\n",
    "Space complexity: O(N)\n",
    "\n",
    "The only variable we need is maxSum, which takes O(1) space. However, some space will be used for sorting the list nums. The space complexity of the sorting algorithm depends on the implementation of each programming language. For instance, in Java, the Arrays.sort() for primitives is implemented as a variant of the QuickSort algorithm whose space complexity is O(log⁡N). In C++, sort() function provided by STL is a hybrid of QuickSort, Heap Sort, and Insertion Sort and has a worst-case space complexity of O(log⁡N). Python, on the other hand, uses Timsort, which has a space complexity of O(N). Thus, the use of the built-in sort() function could add up to O(N) to the space complexity."
   ]
  },
  {
   "cell_type": "code",
   "execution_count": null,
   "metadata": {},
   "outputs": [],
   "source": [
    "class Solution:\n",
    "    def arrayPairSum(self, nums: List[int]) -> int:\n",
    "        sum_min = 0\n",
    "        nums.sort()\n",
    "\n",
    "        for i in range(0, len(nums), 2):\n",
    "            sum_min += nums[i]\n",
    "        \n",
    "        return sum_min"
   ]
  },
  {
   "cell_type": "markdown",
   "metadata": {},
   "source": [
    "Overall Space Complexity:\n",
    "Sorting Space: O(log n)\n",
    "Pairing and Summing Space: O(1)\n",
    "Since the space complexity of the sorting process dominates the overall space complexity of the algorithm, the total space complexity for solving the array partition problem as described would be O(log n).\n",
    "\n",
    "Practical Implications:\n",
    "The O(log n) space complexity is reflective of the worst-case scenario where the sort operation requires additional space for operations like merging.\n",
    "If you are using an environment or a programming language where you can guarantee an in-place sort with a space complexity of O(1), such as certain implementations of quicksort, then the overall space complexity of the solution could be reduced to O(1). However, in Python and many other high-level languages, the default sort method optimizes for stability and performance, often at the cost of requiring some additional space.\n",
    "Thus, for most practical purposes and especially in Python, you should consider the space complexity of this solution to be O(log n). This accounts for the extra memory used by the sorting algorithm under typical scenarios."
   ]
  }
 ],
 "metadata": {
  "language_info": {
   "name": "python"
  }
 },
 "nbformat": 4,
 "nbformat_minor": 2
}
