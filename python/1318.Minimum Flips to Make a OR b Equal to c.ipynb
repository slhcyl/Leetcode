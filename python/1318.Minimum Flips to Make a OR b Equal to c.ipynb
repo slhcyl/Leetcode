{
 "cells": [
  {
   "cell_type": "markdown",
   "metadata": {},
   "source": [
    "1318. Minimum Flips to Make a OR b Equal to c\n",
    "Medium\n",
    "Topics\n",
    "Companies\n",
    "Hint\n",
    "Given 3 positives numbers a, b and c. Return the minimum flips required in some bits of a and b to make ( a OR b == c ). (bitwise OR operation).\n",
    "Flip operation consists of change any single bit 1 to 0 or change the bit 0 to 1 in their binary representation.\n",
    "\n",
    " \n",
    "\n",
    "Example 1:\n",
    "\n",
    "\n",
    "\n",
    "Input: a = 2, b = 6, c = 5\n",
    "Output: 3\n",
    "Explanation: After flips a = 1 , b = 4 , c = 5 such that (a OR b == c)\n",
    "Example 2:\n",
    "\n",
    "Input: a = 4, b = 2, c = 7\n",
    "Output: 1\n",
    "Example 3:\n",
    "\n",
    "Input: a = 1, b = 2, c = 3\n",
    "Output: 0\n",
    " \n",
    "\n",
    "Constraints:\n",
    "\n",
    "1 <= a <= 10^9\n",
    "1 <= b <= 10^9\n",
    "1 <= c <= 10^9"
   ]
  },
  {
   "cell_type": "code",
   "execution_count": null,
   "metadata": {},
   "outputs": [],
   "source": [
    "'''Complexity Analysis\n",
    "Let n be the maximum length in the binary representation of a, b or c.\n",
    "Time complexity: O(n)\n",
    "We need to iterate over the bits of the numbers. Note that we have n as the number of bits, which is logarithmic with the actual values.\n",
    "\n",
    "Space complexity: O(1)\n",
    "We only need to update answer and modify a, b and c.'''\n",
    "class Solution:\n",
    "    def minFlips(self, a: int, b: int, c: int) -> int:\n",
    "        ans = 0\n",
    "        while a or b or c:\n",
    "            # c & 1 == 1, either a & 1 or b & 1 == 1\n",
    "            if c & 1:\n",
    "                ans += 0 if ((a & 1) or (b & 1)) else 1\n",
    "            # c & 1 == 0, both a&1 and b&1 == 0\n",
    "            else:\n",
    "                ans += (a&1) + (b&1)\n",
    "            # iterate from the rightmost(least significant) to the leftmost (most significant)\n",
    "            # Shift all numbers to the right by a >>= 1, b >>= 1, c >>= 1. If all numbers are equal to 0, return answer, otherwise, repeat steps 3 and 4.\n",
    "            a >>= 1\n",
    "            b >>= 1\n",
    "            c >>= 1\n",
    "\n",
    "        return ans"
   ]
  }
 ],
 "metadata": {
  "language_info": {
   "name": "python"
  }
 },
 "nbformat": 4,
 "nbformat_minor": 2
}
