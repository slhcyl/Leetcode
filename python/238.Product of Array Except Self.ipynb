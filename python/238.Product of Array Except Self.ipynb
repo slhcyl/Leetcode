{
 "cells": [
  {
   "cell_type": "markdown",
   "metadata": {},
   "source": [
    "238. Product of Array Except Self\n",
    "Solved\n",
    "Medium\n",
    "Topics\n",
    "Companies\n",
    "Hint\n",
    "Given an integer array nums, return an array answer such that answer[i] is equal to the product of all the elements of nums except nums[i].\n",
    "\n",
    "The product of any prefix or suffix of nums is guaranteed to fit in a 32-bit integer.\n",
    "\n",
    "You must write an algorithm that runs in O(n) time and without using the division operation.\n",
    "\n",
    " \n",
    "\n",
    "Example 1:\n",
    "\n",
    "Input: nums = [1,2,3,4]\n",
    "Output: [24,12,8,6]\n",
    "Example 2:\n",
    "\n",
    "Input: nums = [-1,1,0,-3,3]\n",
    "Output: [0,0,9,0,0]\n",
    " \n",
    "\n",
    "Constraints:\n",
    "\n",
    "2 <= nums.length <= 105\n",
    "-30 <= nums[i] <= 30\n",
    "The product of any prefix or suffix of nums is guaranteed to fit in a 32-bit integer.\n",
    " \n",
    "\n",
    "Follow up: Can you solve the problem in O(1) extra space complexity? (The output array does not count as extra space for space complexity analysis.)"
   ]
  },
  {
   "cell_type": "markdown",
   "metadata": {},
   "source": [
    "Complexity analysis\n",
    "\n",
    "Time complexity : O(N) where NNN represents the number of elements in the input array. We use one iteration to construct the array LLL, one to update the array answeransweranswer.\n",
    "Space complexity : O(1) since don't use any additional array for our computations. The problem statement mentions that using the answeransweranswer array doesn't add to the space complexity."
   ]
  },
  {
   "cell_type": "code",
   "execution_count": null,
   "metadata": {},
   "outputs": [],
   "source": [
    "class Solution:\n",
    "    def productExceptSelf(self, nums: List[int]) -> List[int]:\n",
    "        prefix = suffix = 1\n",
    "        res = [0] * len(nums)\n",
    "\n",
    "        for i in range(len(nums)):\n",
    "            res[i] = prefix\n",
    "            prefix *= nums[i]\n",
    "\n",
    "        for i in range(len(nums)-1, -1, -1):\n",
    "            res[i] *= suffix\n",
    "            suffix *= nums[i]\n",
    "\n",
    "        return res\n",
    "# time O(n)\n",
    "# space O(1)"
   ]
  },
  {
   "cell_type": "code",
   "execution_count": null,
   "metadata": {},
   "outputs": [],
   "source": [
    "class Solution:\n",
    "    def productExceptSelf(self, nums: List[int]) -> List[int]:\n",
    "        res = [1] * len(nums)\n",
    "\n",
    "        for i in range(1, len(nums)):\n",
    "            res[i] = res[i - 1] * nums[i - 1]\n",
    "\n",
    "        postfix = 1\n",
    "        for i in range(len(nums) - 1, -1, -1):\n",
    "            res[i] *= postfix\n",
    "            postfix *= nums[i]\n",
    "        return res "
   ]
  },
  {
   "cell_type": "code",
   "execution_count": null,
   "metadata": {},
   "outputs": [],
   "source": [
    "class Solution:\n",
    "    def productExceptSelf(self, nums: List[int]) -> List[int]:\n",
    "        prefix = suffix = 1\n",
    "\n",
    "        res = [1] * len(nums)\n",
    "\n",
    "        for i in range(1, len(nums)):\n",
    "            prefix *= nums[i - 1]\n",
    "            res[i] = prefix\n",
    "\n",
    "        for i in range(len(nums)-2, -1, -1):\n",
    "            suffix *= nums[i+1]\n",
    "            res[i] = res[i] * suffix\n",
    "        return res"
   ]
  }
 ],
 "metadata": {
  "kernelspec": {
   "display_name": "Python 3",
   "language": "python",
   "name": "python3"
  },
  "language_info": {
   "codemirror_mode": {
    "name": "ipython",
    "version": 3
   },
   "file_extension": ".py",
   "mimetype": "text/x-python",
   "name": "python",
   "nbconvert_exporter": "python",
   "pygments_lexer": "ipython3",
   "version": "3.10.11"
  }
 },
 "nbformat": 4,
 "nbformat_minor": 2
}
