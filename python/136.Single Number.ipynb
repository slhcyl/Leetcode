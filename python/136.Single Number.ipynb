{
 "cells": [
  {
   "cell_type": "markdown",
   "metadata": {},
   "source": [
    "136. Single Number\n",
    "Solved\n",
    "Easy\n",
    "Topics\n",
    "Companies\n",
    "Given a non-empty array of integers nums, every element appears twice except for one. Find that single one.\n",
    "\n",
    "You must implement a solution with a linear runtime complexity and use only constant extra space.\n",
    "\n",
    " \n",
    "\n",
    "Example 1:\n",
    "\n",
    "Input: nums = [2,2,1]\n",
    "Output: 1\n",
    "Example 2:\n",
    "\n",
    "Input: nums = [4,1,2,1,2]\n",
    "Output: 4\n",
    "Example 3:\n",
    "\n",
    "Input: nums = [1]\n",
    "Output: 1\n",
    " \n",
    "\n",
    "Constraints:\n",
    "\n",
    "1 <= nums.length <= 3 * 104\n",
    "-3 * 104 <= nums[i] <= 3 * 104\n",
    "Each element in the array appears twice except for one element which appears only once."
   ]
  },
  {
   "cell_type": "code",
   "execution_count": null,
   "metadata": {},
   "outputs": [],
   "source": [
    "# Time complexity : O(n⋅1)=O(n). Time complexity of for loop is O(n). Time complexity of hash table(dictionary in python) operation pop is O(1).\n",
    "# Space complexity : O(n). The space required by hash_table is equal to the number of elements in nums.\n",
    "class Solution:\n",
    "    def singleNumber(self, nums: List[int]) -> int:\n",
    "        hashmap = {}\n",
    "\n",
    "        for num in nums:\n",
    "            if num in hashmap:\n",
    "                hashmap[num] += 1\n",
    "            else:\n",
    "                hashmap[num] = 1\n",
    "\n",
    "        for num in hashmap:\n",
    "            if hashmap[num] == 1:\n",
    "                return num"
   ]
  },
  {
   "cell_type": "code",
   "execution_count": null,
   "metadata": {},
   "outputs": [],
   "source": [
    "# Time complexity : O(n). We only iterate through nums, so the time complexity is the number of elements in nums.\n",
    "# Space complexity : O(1).\n",
    "def singleNumber(nums):\n",
    "    result = 0\n",
    "    for num in nums:\n",
    "        result ^= num\n",
    "    return result\n",
    "\n"
   ]
  },
  {
   "cell_type": "markdown",
   "metadata": {},
   "source": [
    "Approach 4: Bit Manipulation\n",
    "Concept\n",
    "\n",
    "If we take XOR of zero and some bit, it will return that bit\n",
    "a⊕0=a\n",
    "If we take XOR of two same bits, it will return 0\n",
    "a⊕a=0\n",
    "So we can XOR all bits together to find the unique"
   ]
  },
  {
   "cell_type": "code",
   "execution_count": null,
   "metadata": {},
   "outputs": [],
   "source": [
    "# 2∗(a+b+c)−(a+a+b+b+c)=c\n",
    "class Solution(object):\n",
    "    def singleNumber(self, nums: List[int]) -> int:\n",
    "        return 2 * sum(set(nums)) - sum(nums)"
   ]
  }
 ],
 "metadata": {
  "language_info": {
   "name": "python"
  }
 },
 "nbformat": 4,
 "nbformat_minor": 2
}
