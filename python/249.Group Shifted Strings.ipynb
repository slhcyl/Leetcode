{
 "cells": [
  {
   "cell_type": "markdown",
   "metadata": {},
   "source": [
    "249. Group Shifted Strings\n",
    "Solved\n",
    "Medium\n",
    "Topics\n",
    "Companies\n",
    "We can shift a string by shifting each of its letters to its successive letter.\n",
    "\n",
    "For example, \"abc\" can be shifted to be \"bcd\".\n",
    "We can keep shifting the string to form a sequence.\n",
    "\n",
    "For example, we can keep shifting \"abc\" to form the sequence: \"abc\" -> \"bcd\" -> ... -> \"xyz\".\n",
    "Given an array of strings strings, group all strings[i] that belong to the same shifting sequence. You may return the answer in any order.\n",
    "\n",
    " \n",
    "\n",
    "Example 1:\n",
    "\n",
    "Input: strings = [\"abc\",\"bcd\",\"acef\",\"xyz\",\"az\",\"ba\",\"a\",\"z\"]\n",
    "Output: [[\"acef\"],[\"a\",\"z\"],[\"abc\",\"bcd\",\"xyz\"],[\"az\",\"ba\"]]\n",
    "Example 2:\n",
    "\n",
    "Input: strings = [\"a\"]\n",
    "Output: [[\"a\"]]\n",
    " \n",
    "\n",
    "Constraints:\n",
    "\n",
    "1 <= strings.length <= 200\n",
    "1 <= strings[i].length <= 50\n",
    "strings[i] consists of lowercase English letters."
   ]
  },
  {
   "cell_type": "code",
   "execution_count": null,
   "metadata": {},
   "outputs": [],
   "source": [
    "# Time Complexity: O(N * L) where N is the number of strings and L is the maximum length of a string. \n",
    "# This is because for each string, we compute the key by iterating through its characters.\n",
    "# Space Complexity: O(N * L) to store the results and intermediate data structures.\n",
    "class Solution:\n",
    "    def groupStrings(self, strings: List[str]) -> List[List[str]]:\n",
    "        from collections import defaultdict\n",
    "        groups = defaultdict(list)\n",
    "        \n",
    "        for s in strings:\n",
    "            key = ()  # Use a tuple for the key as tuples are hashable and can be dictionary keys\n",
    "            for i in range(1, len(s)):\n",
    "                # Circular difference, taken modulo 26\n",
    "                circular_diff = (ord(s[i]) - ord(s[i - 1])) % 26\n",
    "                key += (circular_diff,) #  concatenate the new tuple (circular_diff,) to the existing tuple stored in key. \n",
    "            \n",
    "            # Append the string to the corresponding group in the dictionary\n",
    "            groups[key].append(s)\n",
    "            print(groups)\n",
    "        return list(groups.values())"
   ]
  },
  {
   "cell_type": "code",
   "execution_count": null,
   "metadata": {},
   "outputs": [],
   "source": [
    "class Solution:\n",
    "    def groupStrings(self, strings: List[str]) -> List[List[str]]:\n",
    "        grouping = collections.defaultdict(list)\n",
    "\n",
    "        for s in strings:\n",
    "            key = ()\n",
    "            for i in range(1, len(s)):\n",
    "                norm_diff = (ord(s[i]) - ord(s[i-1])) % 26\n",
    "                key += (norm_diff,)\n",
    "\n",
    "            grouping[key].append(s)\n",
    "        return grouping.values()"
   ]
  }
 ],
 "metadata": {
  "language_info": {
   "name": "python"
  }
 },
 "nbformat": 4,
 "nbformat_minor": 2
}
