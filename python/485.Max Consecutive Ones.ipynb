{
 "cells": [
  {
   "cell_type": "markdown",
   "metadata": {},
   "source": [
    "485. Max Consecutive Ones\n",
    "Solved\n",
    "Easy\n",
    "Topics\n",
    "Companies\n",
    "Hint\n",
    "Given a binary array nums, return the maximum number of consecutive 1's in the array.\n",
    "\n",
    " \n",
    "\n",
    "Example 1:\n",
    "\n",
    "Input: nums = [1,1,0,1,1,1]\n",
    "Output: 3\n",
    "Explanation: The first two digits or the last three digits are consecutive 1s. The maximum number of consecutive 1s is 3.\n",
    "Example 2:\n",
    "\n",
    "Input: nums = [1,0,1,1,0,1]\n",
    "Output: 2\n",
    " \n",
    "\n",
    "Constraints:\n",
    "\n",
    "1 <= nums.length <= 105\n",
    "nums[i] is either 0 or 1."
   ]
  },
  {
   "cell_type": "markdown",
   "metadata": {},
   "source": [
    "Solution\n",
    "The constraints for this problem make it easy\n",
    "to understand that it can be done in one iteration.\n",
    "\n",
    "The length of input array is a positive integer and will not exceed 10,000\n",
    "\n",
    "How else do you expect to find the number of 1's in an array without making at least one pass through the array. So let's look at the solution.\n",
    "\n",
    "Approach: One pass\n",
    "Intuition\n",
    "\n",
    "The intuition is pretty simple. We keep a count of the number of 1's encountered. And reset the count whenever we encounter anything other than 1 (which is 0 for this problem). Thus, maintaining count of 1's between zeros or rather maintaining counts of contiguous 1's. It's the same as keeping a track of the number of hours of sleep you had, without waking up in between.\n",
    "\n",
    "Algorithm\n",
    "\n",
    "Maintain a counter for the number of 1's.\n",
    "\n",
    "Increment the counter by 1, whenever you encounter a 1.\n",
    "\n",
    "Whenever you encounter a 0\n",
    "\n",
    "a. Use the current count of 1's to find the maximum contiguous 1's till now.\n",
    "\n",
    "b. Afterwards, reset the counter for 1's to 0.\n",
    "\n",
    "Return the maximum in the end.\n",
    "\n",
    "\n",
    "In the above diagram we found out that the maximum number of consecutive 1's is 3. There were two breaks in the count we encountered while iterating the array. Every time the break i.e. 0 was encountered we had to reset the count of 1 to zero.\n",
    "\n",
    "Note - The maximum count is only calculated when we encounter a break i.e. 0, since thats where a subarray of 1's ends.\n",
    "\n",
    "Complexity Analysis\n",
    "\n",
    "Time Complexity: O(N)O(N)O(N), where NNN is the number of elements in the array.\n",
    "\n",
    "Space Complexity: O(1)O(1)O(1). We do not use any extra space."
   ]
  },
  {
   "cell_type": "code",
   "execution_count": null,
   "metadata": {},
   "outputs": [],
   "source": [
    "class Solution:\n",
    "    def findMaxConsecutiveOnes(self, nums: List[int]) -> int:\n",
    "        count = max_count = 0\n",
    "        for num in nums:\n",
    "            if num == 1:\n",
    "                # Increment the count of 1's by one.\n",
    "                count += 1\n",
    "            else:\n",
    "                # Find the maximum till now.\n",
    "                max_count = max(max_count, count)\n",
    "                # Reset count of 1.\n",
    "                count = 0\n",
    "        return max(max_count, count)"
   ]
  },
  {
   "cell_type": "markdown",
   "metadata": {},
   "source": [
    "Follow up:\n",
    "You can also try something fancy one liner solution as shared by Stefan Pochmann.\n",
    "\n",
    "def findMaxConsecutiveOnes(self, nums):\n",
    "  return max(map(len, ''.join(map(str, nums)).split('0')))\n",
    "Note, how he converts the list into a string, using map and join functions. Then, splits the resultant string on 0. The maximum of the lengths of these list of strings of 1's is the answer we are looking for."
   ]
  },
  {
   "cell_type": "code",
   "execution_count": null,
   "metadata": {},
   "outputs": [],
   "source": [
    "def findMaxConsecutiveOnes(self, nums):\n",
    "  return max(map(len, ''.join(map(str, nums)).split('0')))"
   ]
  }
 ],
 "metadata": {
  "language_info": {
   "name": "python"
  }
 },
 "nbformat": 4,
 "nbformat_minor": 2
}
