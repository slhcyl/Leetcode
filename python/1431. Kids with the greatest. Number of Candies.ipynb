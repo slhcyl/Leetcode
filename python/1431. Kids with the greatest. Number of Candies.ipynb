{
 "cells": [
  {
   "cell_type": "markdown",
   "metadata": {},
   "source": [
    "1431. Kids With the Greatest Number of Candies\n",
    "Solved\n",
    "Easy\n",
    "Topics\n",
    "Companies\n",
    "Hint\n",
    "There are n kids with candies. You are given an integer array candies, where each candies[i] represents the number of candies the ith kid has, and an integer extraCandies, denoting the number of extra candies that you have.\n",
    "\n",
    "Return a boolean array result of length n, where result[i] is true if, after giving the ith kid all the extraCandies, they will have the greatest number of candies among all the kids, or false otherwise.\n",
    "\n",
    "Note that multiple kids can have the greatest number of candies.\n",
    "\n",
    " \n",
    "\n",
    "Example 1:\n",
    "\n",
    "Input: candies = [2,3,5,1,3], extraCandies = 3\n",
    "Output: [true,true,true,false,true] \n",
    "Explanation: If you give all extraCandies to:\n",
    "- Kid 1, they will have 2 + 3 = 5 candies, which is the greatest among the kids.\n",
    "- Kid 2, they will have 3 + 3 = 6 candies, which is the greatest among the kids.\n",
    "- Kid 3, they will have 5 + 3 = 8 candies, which is the greatest among the kids.\n",
    "- Kid 4, they will have 1 + 3 = 4 candies, which is not the greatest among the kids.\n",
    "- Kid 5, they will have 3 + 3 = 6 candies, which is the greatest among the kids.\n",
    "Example 2:\n",
    "\n",
    "Input: candies = [4,2,1,1,2], extraCandies = 1\n",
    "Output: [true,false,false,false,false] \n",
    "Explanation: There is only 1 extra candy.\n",
    "Kid 1 will always have the greatest number of candies, even if a different kid is given the extra candy.\n",
    "Example 3:\n",
    "\n",
    "Input: candies = [12,1,12], extraCandies = 10\n",
    "Output: [true,false,true]\n",
    " \n",
    "\n",
    "Constraints:\n",
    "\n",
    "n == candies.length\n",
    "2 <= n <= 100\n",
    "1 <= candies[i] <= 100\n",
    "1 <= extraCandies <= 50"
   ]
  },
  {
   "cell_type": "markdown",
   "metadata": {},
   "source": [
    "Complexity Analysis\n",
    "Here, nnn is the number of kids.\n",
    "\n",
    "Time complexity: O(n)\n",
    "\n",
    "We iterate over the candies array to find out maxCandies which takes O(n) time.\n",
    "We iterate over the candies array once more. We check for each kid whether they will have the most candies among all the children after receiving extraCandies and push the result in result which takes O(1) time. It requires O(n) time for nnn kids.\n",
    "Space complexity: O(1)\n",
    "\n",
    "Without counting the space of input and output, we are not using any space except for some integers like maxCandies and candy."
   ]
  },
  {
   "cell_type": "code",
   "execution_count": null,
   "metadata": {},
   "outputs": [],
   "source": [
    "'''Time Complexity:\n",
    "O(n): Where n is the number of children. The algorithm performs a single pass to find the maximum and another pass to determine the results, \n",
    "making it linear in terms of time complexity.\n",
    "Space Complexity:\n",
    "O(n): The space complexity is linear relative to the input size because of the result list that is returned, containing n boolean values.'''\n",
    "class Solution:\n",
    "    def kidsWithCandies(self, candies: List[int], extraCandies: int) -> List[bool]:\n",
    "        most_candy = max(candies)\n",
    "\n",
    "        res = []\n",
    "\n",
    "        for i in range(len(candies)):\n",
    "            if candies[i] + extraCandies >= most_candy:\n",
    "                res.append(True)\n",
    "            else:\n",
    "                res.append(False)\n",
    "        return res"
   ]
  },
  {
   "cell_type": "code",
   "execution_count": null,
   "metadata": {},
   "outputs": [],
   "source": [
    "class Solution:\n",
    "    def kidsWithCandies(self, candies: List[int], extraCandies: int) -> List[bool]:\n",
    "        most_candy = candies[0]\n",
    "\n",
    "        res = []\n",
    "        for i in range(len(candies)):\n",
    "            if candies[i] > most_candy:\n",
    "                most_candy = candies[i]\n",
    "\n",
    "        for i in range(len(candies)):\n",
    "            if candies[i] + extraCandies >= most_candy:\n",
    "                res.append(True)\n",
    "            else:\n",
    "                res.append(False)\n",
    "        return res"
   ]
  }
 ],
 "metadata": {
  "language_info": {
   "name": "python"
  }
 },
 "nbformat": 4,
 "nbformat_minor": 2
}
