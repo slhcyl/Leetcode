{
 "cells": [
  {
   "cell_type": "markdown",
   "metadata": {},
   "source": [
    "735. Asteroid Collision\n",
    "Solved\n",
    "Medium\n",
    "Topics\n",
    "Companies\n",
    "Hint\n",
    "We are given an array asteroids of integers representing asteroids in a row.\n",
    "\n",
    "For each asteroid, the absolute value represents its size, and the sign represents its direction (positive meaning right, negative meaning left). Each asteroid moves at the same speed.\n",
    "\n",
    "Find out the state of the asteroids after all collisions. If two asteroids meet, the smaller one will explode. If both are the same size, both will explode. Two asteroids moving in the same direction will never meet.\n",
    "\n",
    " \n",
    "\n",
    "Example 1:\n",
    "\n",
    "Input: asteroids = [5,10,-5]\n",
    "Output: [5,10]\n",
    "Explanation: The 10 and -5 collide resulting in 10. The 5 and 10 never collide.\n",
    "Example 2:\n",
    "\n",
    "Input: asteroids = [8,-8]\n",
    "Output: []\n",
    "Explanation: The 8 and -8 collide exploding each other.\n",
    "Example 3:\n",
    "\n",
    "Input: asteroids = [10,2,-5]\n",
    "Output: [10]\n",
    "Explanation: The 2 and -5 collide resulting in -5. The 10 and -5 collide resulting in 10.\n",
    " \n",
    "\n",
    "Constraints:\n",
    "\n",
    "2 <= asteroids.length <= 104\n",
    "-1000 <= asteroids[i] <= 1000\n",
    "asteroids[i] != 0"
   ]
  },
  {
   "cell_type": "markdown",
   "metadata": {},
   "source": [
    "Complexity\n",
    "Time Complexity: \n",
    "O(n), as each asteroid is pushed and popped from the stack once.\n",
    "Space Complexity: \n",
    "O(n), due to the stack storing up to n asteroids.\n",
    "Time complexity: O(N).\n",
    "\n",
    "We iterate over each asteroid in the list, and for each asteroid, we might iterate over the asteroids we have in the stack and keep popping until they explode. The important point is that each asteroid can be added and removed from the stack only once. Therefore, each asteroid can be processed only twice, first when we iterate over it and then again while popping it from the stack. Therefore, the total time complexity is equal to O(N).\n",
    "\n",
    "Space complexity: O(N).\n",
    "\n",
    "The only space required is for the stack; the maximum number of asteroids that could be there in the stack is NNN when there is no asteroid collision. The final list that we return, remainingAsteroids, is used to store the output, which is generally not considered part of space complexity. Hence, the total space complexity equals O(N)."
   ]
  },
  {
   "cell_type": "markdown",
   "metadata": {},
   "source": [
    "The first important thing to find out is when two asteroids will collide. Two stones moving in the same direction can never collide. Hence it's tempting to assume that whenever two asteroids are moving in opposite directions, they will collide. However, consider the below image; the red stone is moving in the left direction, and the blue stone is moving in the right direction. It is clear from the picture these two asteroids will never collide.\n",
    "\n",
    "On the other hand, if the red stone is moving towards the right and the blue stone is moving towards the left, they will collide, as shown below. Therefore, the only case when the asteroids will collide is when the asteroid on the left-hand side is moving towards the right, and the asteroid on the right side is moving towards the left."
   ]
  },
  {
   "cell_type": "code",
   "execution_count": null,
   "metadata": {},
   "outputs": [],
   "source": [
    "class Solution:\n",
    "    def asteroidCollision(self, asteroids: List[int]) -> List[int]:\n",
    "        stack = []\n",
    "\n",
    "        for asteroid in asteroids:\n",
    "            while stack and asteroid < 0 and stack[-1] > 0:\n",
    "                top = stack.pop()\n",
    "                if abs(asteroid) == abs(top):\n",
    "                    asteroid = 0\n",
    "                elif abs(asteroid) < abs(top):\n",
    "                    asteroid = top\n",
    "\n",
    "            if asteroid:\n",
    "                stack.append(asteroid)\n",
    "        return stack"
   ]
  },
  {
   "cell_type": "code",
   "execution_count": null,
   "metadata": {},
   "outputs": [],
   "source": [
    "class Solution:\n",
    "    def asteroidCollision(self, asteroids: List[int]) -> List[int]:\n",
    "        stack = []\n",
    "\n",
    "        for asteroid in asteroids:\n",
    "            while stack and asteroid < 0 and stack[-1] > 0:\n",
    "                top = stack.pop()\n",
    "                if abs(asteroid) == abs(top):\n",
    "                    asteroid = 0\n",
    "                elif abs(asteroid) < abs(top):\n",
    "                    asteroid = top\n",
    "                else:\n",
    "                    asteroid = asteroid\n",
    "            if asteroid:\n",
    "                stack.append(asteroid)\n",
    "        return stack"
   ]
  }
 ],
 "metadata": {
  "language_info": {
   "name": "python"
  }
 },
 "nbformat": 4,
 "nbformat_minor": 2
}
