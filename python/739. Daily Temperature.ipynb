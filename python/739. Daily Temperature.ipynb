{
 "cells": [
  {
   "cell_type": "markdown",
   "metadata": {},
   "source": [
    "739. Daily Temperatures\n",
    "Solved\n",
    "Medium\n",
    "Topics\n",
    "Companies\n",
    "Hint\n",
    "Given an array of integers temperatures represents the daily temperatures, return an array answer such that answer[i] is the number of days you have to wait after the ith day to get a warmer temperature. If there is no future day for which this is possible, keep answer[i] == 0 instead.\n",
    "\n",
    " \n",
    "\n",
    "Example 1:\n",
    "\n",
    "Input: temperatures = [73,74,75,71,69,72,76,73]\n",
    "Output: [1,1,4,2,1,1,0,0]\n",
    "Example 2:\n",
    "\n",
    "Input: temperatures = [30,40,50,60]\n",
    "Output: [1,1,1,0]\n",
    "Example 3:\n",
    "\n",
    "Input: temperatures = [30,60,90]\n",
    "Output: [1,1,0]\n",
    " \n",
    "\n",
    "Constraints:\n",
    "\n",
    "1 <= temperatures.length <= 105\n",
    "30 <= temperatures[i] <= 100"
   ]
  },
  {
   "cell_type": "markdown",
   "metadata": {},
   "source": [
    "Given NNN as the length of temperatures,\n",
    "\n",
    "Time complexity: O(N)\n",
    "\n",
    "At first glance, it may look like the time complexity of this algorithm should be O(N^2), because there is a nested while loop inside the for loop. However, each element can only be added to the stack once, which means the stack is limited to NNN pops. Every iteration of the while loop uses 1 pop, which means the while loop will not iterate more than NNN times in total, across all iterations of the for loop.\n",
    "\n",
    "An easier way to think about this is that in the worst case, every element will be pushed and popped once. This gives a time complexity of O(2⋅N)=O(N).\n",
    "\n",
    "Space complexity: O(N)\n",
    "\n",
    "If the input was non-increasing, then no element would ever be popped from the stack, and the stack would grow to a size of N elements at the end.\n",
    "\n",
    "Note: answer does not count towards the space complexity because space used for the output format does not count."
   ]
  },
  {
   "cell_type": "code",
   "execution_count": null,
   "metadata": {},
   "outputs": [],
   "source": [
    "# monotonic stack\n",
    "# t O(n)\n",
    "# s O(n)\n",
    "class Solution:\n",
    "    def dailyTemperatures(self, temperatures: List[int]) -> List[int]:\n",
    "        answer = [0] * len(temperatures)\n",
    "        stack = []\n",
    "\n",
    "        for idx, temperature in enumerate(temperatures):\n",
    "            while stack and temperature > stack[-1][0]:\n",
    "                prev_temp, prev_idx = stack.pop()\n",
    "                answer[prev_idx] = idx - prev_idx\n",
    "\n",
    "            stack.append([temperature, idx])\n",
    "\n",
    "        return answer"
   ]
  }
 ],
 "metadata": {
  "language_info": {
   "name": "python"
  }
 },
 "nbformat": 4,
 "nbformat_minor": 2
}
