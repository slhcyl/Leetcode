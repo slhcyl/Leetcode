{
 "cells": [
  {
   "cell_type": "markdown",
   "metadata": {},
   "source": [
    "67. Add Binary\n",
    "Solved\n",
    "Easy\n",
    "Topics\n",
    "Companies\n",
    "Given two binary strings a and b, return their sum as a binary string.\n",
    "\n",
    " \n",
    "\n",
    "Example 1:\n",
    "\n",
    "Input: a = \"11\", b = \"1\"\n",
    "Output: \"100\"\n",
    "Example 2:\n",
    "\n",
    "Input: a = \"1010\", b = \"1011\"\n",
    "Output: \"10101\"\n",
    " \n",
    "\n",
    "Constraints:\n",
    "\n",
    "1 <= a.length, b.length <= 104\n",
    "a and b consist only of '0' or '1' characters.\n",
    "Each string does not contain leading zeros except for the zero itself."
   ]
  },
  {
   "cell_type": "markdown",
   "metadata": {},
   "source": [
    "The expression ord(a[i]) - ord('0') is used in the code to convert a binary character ('0' or '1') into its corresponding integer value (0 or 1). This conversion is necessary for performing numerical operations like addition and determining the carry. Here's how it works:\n",
    "\n",
    "ord(char): This is a built-in Python function that returns the integer representing the Unicode code point of the given Unicode character. For example, ord('0') returns 48 and ord('1') returns 49.\n",
    "ord(a[i]) - ord('0'): When you subtract the Unicode value of '0' from the Unicode value of the character at a[i] (which could be '0' or '1'), you effectively convert the character '0' to the integer 0 and the character '1' to the integer 1. Here’s the math:\n",
    "If a[i] is '0': ord('0') - ord('0') = 48 - 48 = 0\n",
    "If a[i] is '1': ord('1') - ord('0') = 49 - 48 = 1\n",
    "This technique is a common way to convert a character digit into its numeric equivalent in programming, particularly when dealing with characters that represent numbers in various bases (like binary in this case). Using ord() ensures that you're working with actual numbers in your calculations, allowing you to perform arithmetic operations correctly."
   ]
  },
  {
   "cell_type": "code",
   "execution_count": null,
   "metadata": {},
   "outputs": [],
   "source": [
    "# t O(n) n is the length of the longer string, each operation inside the loop is O(1)\n",
    "# s O(n)\n",
    "class Solution:\n",
    "    def addBinary(self, a: str, b: str) -> str:\n",
    "        res = ''\n",
    "        carry = 0\n",
    "\n",
    "        # reverse the string because we want to access the element backwards\n",
    "        a, b = a[::-1], b[::-1]\n",
    "        for i in range(max(len(a), len(b))):\n",
    "            digitA = ord(a[i]) - ord('0') if i < len(a) else 0\n",
    "            digitB = ord(b[i]) - ord('0') if i < len(b) else 0\n",
    "\n",
    "            total = digitA + digitB + carry\n",
    "            carry = total // 2\n",
    "            char = str(total % 2)\n",
    "            # prepend  the most significant bits on the left as the loop proceeds because we loop the strings backwards\n",
    "            res = char + res\n",
    "\n",
    "        if carry:\n",
    "            res = '1' + res\n",
    "\n",
    "        return res"
   ]
  }
 ],
 "metadata": {
  "language_info": {
   "name": "python"
  }
 },
 "nbformat": 4,
 "nbformat_minor": 2
}
