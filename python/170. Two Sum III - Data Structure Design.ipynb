{
 "cells": [
  {
   "cell_type": "markdown",
   "metadata": {},
   "source": [
    "170. Two Sum III - Data structure design\n",
    "Solved\n",
    "Easy\n",
    "Topics\n",
    "Companies\n",
    "Design a data structure that accepts a stream of integers and checks if it has a pair of integers that sum up to a particular value.\n",
    "\n",
    "Implement the TwoSum class:\n",
    "\n",
    "TwoSum() Initializes the TwoSum object, with an empty array initially.\n",
    "void add(int number) Adds number to the data structure.\n",
    "boolean find(int value) Returns true if there exists any pair of numbers whose sum is equal to value, otherwise, it returns false.\n",
    " \n",
    "\n",
    "Example 1:\n",
    "\n",
    "Input\n",
    "[\"TwoSum\", \"add\", \"add\", \"add\", \"find\", \"find\"]\n",
    "[[], [1], [3], [5], [4], [7]]\n",
    "Output\n",
    "[null, null, null, null, true, false]\n",
    "\n",
    "Explanation\n",
    "TwoSum twoSum = new TwoSum();\n",
    "twoSum.add(1);   // [] --> [1]\n",
    "twoSum.add(3);   // [1] --> [1,3]\n",
    "twoSum.add(5);   // [1,3] --> [1,3,5]\n",
    "twoSum.find(4);  // 1 + 3 = 4, return true\n",
    "twoSum.find(7);  // No two integers sum up to 7, return false\n",
    " \n",
    "\n",
    "Constraints:\n",
    "\n",
    "-105 <= number <= 105\n",
    "-231 <= value <= 231 - 1\n",
    "At most 104 calls will be made to add and find."
   ]
  },
  {
   "cell_type": "markdown",
   "metadata": {},
   "source": [
    "Time Complexity:\n",
    "\n",
    "For the add(number) function: O(1), since it takes a constant time to update an entry in hashtable.\n",
    "\n",
    "For the find(value) function: O(N), where NNN is the total number of unique numbers. In the worst case, we would iterate through the entire table.\n",
    "\n",
    "Space Complexity: O(N), where NNN is the total number of unique numbers that we will see during the usage of the data structure."
   ]
  },
  {
   "cell_type": "code",
   "execution_count": null,
   "metadata": {},
   "outputs": [],
   "source": [
    "class TwoSum:\n",
    "\n",
    "    def __init__(self):\n",
    "        self.hashmap = {}\n",
    "\n",
    "    def add(self, number: int) -> None:\n",
    "        if number in self.hashmap:\n",
    "            self.hashmap[number] += 1\n",
    "        else:\n",
    "            self.hashmap[number] = 1\n",
    "\n",
    "    def find(self, value: int) -> bool:\n",
    "        for num in self.hashmap:\n",
    "            diff = value - num\n",
    "            if diff != num:\n",
    "                if diff in self.hashmap:\n",
    "                    return True\n",
    "            elif self.hashmap[num] > 1:\n",
    "                return True\n",
    "\n",
    "        return False"
   ]
  }
 ],
 "metadata": {
  "language_info": {
   "name": "python"
  }
 },
 "nbformat": 4,
 "nbformat_minor": 2
}
