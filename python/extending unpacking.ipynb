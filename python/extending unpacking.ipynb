{
 "cells": [
  {
   "cell_type": "markdown",
   "metadata": {},
   "source": [
    "The line command, *args = input().split() is a way to unpack the result of input().split() into variables. Let me break it down for you:\n",
    "\n",
    "input(): Takes user input as a string.\n",
    "split(): Splits the input string into a list of substrings based on whitespace (by default).\n",
    "Now, let's say the user enters a command along with arguments, like \"insert 0 5\". After splitting, the result would be the list ['insert', '0', '5'].\n",
    "\n",
    "command, *args: This is a special syntax in Python called \"extended unpacking.\" It assigns the first element of the list to the variable command, and the remaining elements are collected into a list called args. The * symbol is used for this purpose.\n",
    "Here's how it works in practice:"
   ]
  },
  {
   "cell_type": "code",
   "execution_count": 1,
   "metadata": {},
   "outputs": [
    {
     "name": "stdout",
     "output_type": "stream",
     "text": [
      "Command: insert\n",
      "Args: ['0', '5']\n"
     ]
    }
   ],
   "source": [
    "user_input = \"insert 0 5\"\n",
    "command, *args = user_input.split()\n",
    "\n",
    "print(\"Command:\", command)\n",
    "print(\"Args:\", args)"
   ]
  },
  {
   "cell_type": "markdown",
   "metadata": {},
   "source": [
    "The line i, e = map(int, args) is a way to unpack the elements of the args list into two variables i and e, converting each element to an integer using the int function.\n",
    "\n",
    "Here's a breakdown:\n",
    "\n",
    "map(int, args): Applies the int function to each element of the iterable args. This creates a new iterable of integers.\n",
    "\n",
    "i, e = ...: Unpacks the elements of the iterable into the variables i and e. If the iterable has two elements, it assigns the first element to i and the second element to e."
   ]
  },
  {
   "cell_type": "code",
   "execution_count": 5,
   "metadata": {},
   "outputs": [
    {
     "name": "stdout",
     "output_type": "stream",
     "text": [
      "i: 0\n",
      "e: 5\n",
      "[0, 5]\n"
     ]
    }
   ],
   "source": [
    "args = ['0', '5']\n",
    "i, e = map(int, args)\n",
    "my_list = map(int, args)\n",
    "my_list_list = list(my_list)\n",
    "print(\"i:\", i)\n",
    "print(\"e:\", e)\n",
    "print(my_list_list)"
   ]
  },
  {
   "cell_type": "markdown",
   "metadata": {},
   "source": [
    "In Python, a tuple is a collection data type that is similar to a list, but with one major difference: tuples are immutable, meaning their elements cannot be changed or modified after the tuple is created. This immutability makes tuples useful in situations where you want to ensure that the data remains constant.\n",
    "\n",
    "Here's how you can create a tuple using the tuple() constructor or by using parentheses:"
   ]
  },
  {
   "cell_type": "code",
   "execution_count": 6,
   "metadata": {},
   "outputs": [
    {
     "data": {
      "text/plain": [
       "(1, 2, 3)"
      ]
     },
     "execution_count": 6,
     "metadata": {},
     "output_type": "execute_result"
    }
   ],
   "source": [
    "# Input: \"1 2 3\"\n",
    "integer_list = map(int, \"1 2 3\".split())\n",
    "# After map: [1, 2, 3]\n",
    "tuple_of_integers = tuple(integer_list)\n",
    "# Resulting tuple: (1, 2, 3)\n",
    "tuple_of_integers"
   ]
  },
  {
   "cell_type": "markdown",
   "metadata": {},
   "source": [
    "\n",
    "A set in Python is a collection of unique elements. It is defined by enclosing elements in curly braces {}, or by using the set() constructor. Here's how you can create a set:\n",
    "The primary characteristic of a set is that it does not allow duplicate elements. If you try to add the same element multiple times, it will be treated as a single occurrence."
   ]
  },
  {
   "cell_type": "code",
   "execution_count": 7,
   "metadata": {},
   "outputs": [
    {
     "name": "stdout",
     "output_type": "stream",
     "text": [
      "{1, 2, 3, 4, 5}\n",
      "{3, 4, 5, 6, 7}\n"
     ]
    }
   ],
   "source": [
    "# Creating a set using curly braces\n",
    "my_set = {1, 2, 3, 4, 4, 5}\n",
    "\n",
    "# The set automatically removes duplicates\n",
    "print(my_set)  # Output: {1, 2, 3, 4, 5}\n",
    "\n",
    "# Creating a set using the set() constructor\n",
    "another_set = set([3, 4, 5, 6, 6, 7])\n",
    "\n",
    "# Again, duplicates are removed\n",
    "print(another_set)  # Output: {3, 4, 5, 6, 7}"
   ]
  },
  {
   "cell_type": "code",
   "execution_count": 10,
   "metadata": {},
   "outputs": [
    {
     "name": "stdout",
     "output_type": "stream",
     "text": [
      "['this', 'is', 'a', 'string']\n"
     ]
    }
   ],
   "source": [
    "a = \"this is a string\"\n",
    "a = a.split(\" \") # a is converted to a list of strings. \n",
    "print(a)"
   ]
  },
  {
   "cell_type": "code",
   "execution_count": 11,
   "metadata": {},
   "outputs": [
    {
     "name": "stdout",
     "output_type": "stream",
     "text": [
      "this-is-a-string\n"
     ]
    }
   ],
   "source": [
    "a = \"-\".join(a)\n",
    "print(a)"
   ]
  }
 ],
 "metadata": {
  "kernelspec": {
   "display_name": "Python 3",
   "language": "python",
   "name": "python3"
  },
  "language_info": {
   "codemirror_mode": {
    "name": "ipython",
    "version": 3
   },
   "file_extension": ".py",
   "mimetype": "text/x-python",
   "name": "python",
   "nbconvert_exporter": "python",
   "pygments_lexer": "ipython3",
   "version": "3.10.11"
  }
 },
 "nbformat": 4,
 "nbformat_minor": 2
}
