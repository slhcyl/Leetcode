{
 "cells": [
  {
   "cell_type": "markdown",
   "metadata": {},
   "source": [
    "876. Middle of the Linked List\n",
    "Solved\n",
    "Easy\n",
    "Topics\n",
    "Companies\n",
    "Given the head of a singly linked list, return the middle node of the linked list.\n",
    "\n",
    "If there are two middle nodes, return the second middle node.\n",
    "\n",
    " \n",
    "\n",
    "Example 1:\n",
    "\n",
    "\n",
    "Input: head = [1,2,3,4,5]\n",
    "Output: [3,4,5]\n",
    "Explanation: The middle node of the list is node 3.\n",
    "Example 2:\n",
    "\n",
    "\n",
    "Input: head = [1,2,3,4,5,6]\n",
    "Output: [4,5,6]\n",
    "Explanation: Since the list has two middle nodes with values 3 and 4, we return the second one.\n",
    " \n",
    "\n",
    "Constraints:\n",
    "\n",
    "The number of nodes in the list is in the range [1, 100].\n",
    "1 <= Node.val <= 100"
   ]
  },
  {
   "cell_type": "markdown",
   "metadata": {},
   "source": [
    "Approach 1: Output to Array\n",
    "Intuition and Algorithm\n",
    "\n",
    "Put every node into an array A in order. Then the middle node is just A[A.length // 2], since we can retrieve each node by index.\n",
    "\n",
    "We can initialize the array to be of length 100, as we're told in the problem description that the input contains between 1 and 100 nodes.\n",
    "Complexity Analysis\n",
    "\n",
    "Time Complexity: O(N)O(N)O(N), where NNN is the number of nodes in the given list.\n",
    "\n",
    "Space Complexity: O(N)O(N)O(N), the space used by A.\n"
   ]
  },
  {
   "cell_type": "code",
   "execution_count": null,
   "metadata": {},
   "outputs": [],
   "source": [
    "class Solution:\n",
    "    def middleNode(self, head: ListNode) -> ListNode:\n",
    "        arr = [head]\n",
    "        while arr[-1].next:\n",
    "            arr.append(arr[-1].next)\n",
    "        return arr[len(arr) // 2]"
   ]
  },
  {
   "cell_type": "markdown",
   "metadata": {},
   "source": [
    "Approach 2: Fast and Slow Pointer\n",
    "Intuition and Algorithm\n",
    "\n",
    "When traversing the list with a pointer slow, make another pointer fast that traverses twice as fast. When fast reaches the end of the list, slow must be in the middle.\n",
    "Complexity Analysis\n",
    "\n",
    "Time Complexity: O(N)O(N)O(N), where NNN is the number of nodes in the given list.\n",
    "\n",
    "Space Complexity: O(1)O(1)O(1), the space used by slow and fast."
   ]
  },
  {
   "cell_type": "code",
   "execution_count": null,
   "metadata": {},
   "outputs": [],
   "source": [
    "class Solution:\n",
    "    def middleNode(self, head):\n",
    "        slow = fast = head\n",
    "        while fast and fast.next:\n",
    "            slow = slow.next\n",
    "            fast = fast.next.next\n",
    "        return slow"
   ]
  },
  {
   "cell_type": "code",
   "execution_count": null,
   "metadata": {},
   "outputs": [],
   "source": [
    "class Solution:\n",
    "    def middleNode(self, head: Optional[ListNode]) -> Optional[ListNode]:\n",
    "        slow, fast = head,head \n",
    "        # slow = fast = head\n",
    "        while fast and fast.next:\n",
    "            slow = slow.next \n",
    "            fast = fast.next.next \n",
    "        return slow\n"
   ]
  },
  {
   "cell_type": "code",
   "execution_count": 2,
   "metadata": {},
   "outputs": [
    {
     "data": {
      "text/plain": [
       "[['aaa']]"
      ]
     },
     "execution_count": 2,
     "metadata": {},
     "output_type": "execute_result"
    }
   ],
   "source": []
  }
 ],
 "metadata": {
  "kernelspec": {
   "display_name": "Python 3",
   "language": "python",
   "name": "python3"
  },
  "language_info": {
   "codemirror_mode": {
    "name": "ipython",
    "version": 3
   },
   "file_extension": ".py",
   "mimetype": "text/x-python",
   "name": "python",
   "nbconvert_exporter": "python",
   "pygments_lexer": "ipython3",
   "version": "3.10.11"
  }
 },
 "nbformat": 4,
 "nbformat_minor": 2
}
