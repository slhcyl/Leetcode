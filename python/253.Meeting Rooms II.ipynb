{
 "cells": [
  {
   "cell_type": "markdown",
   "metadata": {},
   "source": [
    "253. Meeting Rooms II\n",
    "Solved\n",
    "Medium\n",
    "Topics\n",
    "Companies\n",
    "Hint\n",
    "Given an array of meeting time intervals intervals where intervals[i] = [starti, endi], return the minimum number of conference rooms required.\n",
    "\n",
    " \n",
    "\n",
    "Example 1:\n",
    "\n",
    "Input: intervals = [[0,30],[5,10],[15,20]]\n",
    "Output: 2\n",
    "Example 2:\n",
    "\n",
    "Input: intervals = [[7,10],[2,4]]\n",
    "Output: 1\n",
    " \n",
    "\n",
    "Constraints:\n",
    "\n",
    "1 <= intervals.length <= 104\n",
    "0 <= starti < endi <= 106"
   ]
  },
  {
   "cell_type": "markdown",
   "metadata": {},
   "source": [
    "Time Complexity: \n",
    "O(nlogn), where n is the number of meetings. This is due to sorting the meetings and each insertion in the heap (which happens in logarithmic time).\n",
    "Space Complexity: \n",
    "O(n), which is needed for the heap in the worst case scenario where all meetings overlap."
   ]
  },
  {
   "cell_type": "code",
   "execution_count": null,
   "metadata": {},
   "outputs": [],
   "source": [
    "class Solution:\n",
    "    def minMeetingRooms(self, intervals: List[List[int]]) -> int:\n",
    "        minHeap = []\n",
    "\n",
    "        intervals.sort(key = lambda x : x[0])\n",
    "\n",
    "        heapq.heappush(minHeap, intervals[0][1])\n",
    "\n",
    "        for interval in intervals[1:]:\n",
    "            # the earliest end time <= the current start time, the room can be reused(same room)\n",
    "            if minHeap[0] <= interval[0]:\n",
    "                heapq.heappop(minHeap)\n",
    "\n",
    "            heapq.heappush(minHeap, interval[1])\n",
    "\n",
    "        return len(minHeap)"
   ]
  }
 ],
 "metadata": {
  "language_info": {
   "name": "python"
  }
 },
 "nbformat": 4,
 "nbformat_minor": 2
}
