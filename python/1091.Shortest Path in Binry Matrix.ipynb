{
 "cells": [
  {
   "cell_type": "markdown",
   "metadata": {},
   "source": [
    "1091. Shortest Path in Binary Matrix\n",
    "Solved\n",
    "Medium\n",
    "Topics\n",
    "Companies\n",
    "Hint\n",
    "Given an n x n binary matrix grid, return the length of the shortest clear path in the matrix. If there is no clear path, return -1.\n",
    "\n",
    "A clear path in a binary matrix is a path from the top-left cell (i.e., (0, 0)) to the bottom-right cell (i.e., (n - 1, n - 1)) such that:\n",
    "\n",
    "All the visited cells of the path are 0.\n",
    "All the adjacent cells of the path are 8-directionally connected (i.e., they are different and they share an edge or a corner).\n",
    "The length of a clear path is the number of visited cells of this path.\n",
    "\n",
    " \n",
    "\n",
    "Example 1:\n",
    "\n",
    "\n",
    "Input: grid = [[0,1],[1,0]]\n",
    "Output: 2\n",
    "Example 2:\n",
    "\n",
    "\n",
    "Input: grid = [[0,0,0],[1,1,0],[1,1,0]]\n",
    "Output: 4\n",
    "Example 3:\n",
    "\n",
    "Input: grid = [[1,0,0],[1,1,0],[1,1,0]]\n",
    "Output: -1\n",
    " \n",
    "\n",
    "Constraints:\n",
    "\n",
    "n == grid.length\n",
    "n == grid[i].length\n",
    "1 <= n <= 100\n",
    "grid[i][j] is 0 or 1"
   ]
  },
  {
   "cell_type": "code",
   "execution_count": null,
   "metadata": {},
   "outputs": [],
   "source": [
    "class Solution:\n",
    "    def shortestPathBinaryMatrix(self, grid: List[List[int]]) -> int:\n",
    "        N = len(grid)\n",
    "        q = deque([(0,0,1)]) # r, c, length\n",
    "        visit = set((0,0))\n",
    "        directions = [[0, 1], [1, 0], [0, -1], [-1, 0],\n",
    "                  [1, 1], [-1, -1], [1, -1], [-1, 1]]\n",
    "\n",
    "        while q:\n",
    "            r, c, length = q.popleft()\n",
    "            if min(r,c) < 0 or max(r,c) >= N or grid[r][c]==1:\n",
    "                continue\n",
    "            if r == N - 1 and c == N - 1:\n",
    "                return length\n",
    "            for dr, dc in directions:\n",
    "                if (r + dr, c + dc) not in visit:\n",
    "                    q.append((r + dr, c + dc, length + 1))\n",
    "                    visit.add((r + dr, c + dc))\n",
    "        return -1\n",
    "# t o(n)\n",
    "# s O(n)"
   ]
  }
 ],
 "metadata": {
  "language_info": {
   "name": "python"
  }
 },
 "nbformat": 4,
 "nbformat_minor": 2
}
