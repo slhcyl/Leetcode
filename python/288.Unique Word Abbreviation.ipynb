{
 "cells": [
  {
   "cell_type": "markdown",
   "metadata": {},
   "source": [
    "288. Unique Word Abbreviation\n",
    "Solved\n",
    "Medium\n",
    "Topics\n",
    "Companies\n",
    "The abbreviation of a word is a concatenation of its first letter, the number of characters between the first and last letter, and its last letter. If a word has only two characters, then it is an abbreviation of itself.\n",
    "\n",
    "For example:\n",
    "\n",
    "dog --> d1g because there is one letter between the first letter 'd' and the last letter 'g'.\n",
    "internationalization --> i18n because there are 18 letters between the first letter 'i' and the last letter 'n'.\n",
    "it --> it because any word with only two characters is an abbreviation of itself.\n",
    "Implement the ValidWordAbbr class:\n",
    "\n",
    "ValidWordAbbr(String[] dictionary) Initializes the object with a dictionary of words.\n",
    "boolean isUnique(string word) Returns true if either of the following conditions are met (otherwise returns false):\n",
    "There is no word in dictionary whose abbreviation is equal to word's abbreviation.\n",
    "For any word in dictionary whose abbreviation is equal to word's abbreviation, that word and word are the same.\n",
    " \n",
    "\n",
    "Example 1:\n",
    "\n",
    "Input\n",
    "[\"ValidWordAbbr\", \"isUnique\", \"isUnique\", \"isUnique\", \"isUnique\", \"isUnique\"]\n",
    "[[[\"deer\", \"door\", \"cake\", \"card\"]], [\"dear\"], [\"cart\"], [\"cane\"], [\"make\"], [\"cake\"]]\n",
    "Output\n",
    "[null, false, true, false, true, true]\n",
    "\n",
    "Explanation\n",
    "ValidWordAbbr validWordAbbr = new ValidWordAbbr([\"deer\", \"door\", \"cake\", \"card\"]);\n",
    "validWordAbbr.isUnique(\"dear\"); // return false, dictionary word \"deer\" and word \"dear\" have the same abbreviation \"d2r\" but are not the same.\n",
    "validWordAbbr.isUnique(\"cart\"); // return true, no words in the dictionary have the abbreviation \"c2t\".\n",
    "validWordAbbr.isUnique(\"cane\"); // return false, dictionary word \"cake\" and word \"cane\" have the same abbreviation  \"c2e\" but are not the same.\n",
    "validWordAbbr.isUnique(\"make\"); // return true, no words in the dictionary have the abbreviation \"m2e\".\n",
    "validWordAbbr.isUnique(\"cake\"); // return true, because \"cake\" is already in the dictionary and no other word in the dictionary has \"c2e\" abbreviation.\n",
    " \n",
    "\n",
    "Constraints:\n",
    "\n",
    "1 <= dictionary.length <= 3 * 104\n",
    "1 <= dictionary[i].length <= 20\n",
    "dictionary[i] consists of lowercase English letters.\n",
    "1 <= word.length <= 20\n",
    "word consists of lowercase English letters.\n",
    "At most 5000 calls will be made to isUnique."
   ]
  },
  {
   "cell_type": "markdown",
   "metadata": {},
   "source": [
    "Time complexity : O(n) pre-processing, O(1) for each isUnique call.\n",
    "Both Approach #2 and Approach #3 above take O(n) pre-processing time in the constructor. This is totally worth it if isUnique is called repeatedly.\n",
    "\n",
    "Space complexity : O(n).\n",
    "We traded the extra O(n) space storing the table to reduce the time complexity in isUnique."
   ]
  },
  {
   "cell_type": "code",
   "execution_count": null,
   "metadata": {},
   "outputs": [],
   "source": [
    "class ValidWordAbbr:\n",
    "\n",
    "    def __init__(self, dictionary: List[str]):\n",
    "        self.abbr_dict = {}\n",
    "        for word in dictionary:\n",
    "            abbr = self.get_abbr(word)\n",
    "            if abbr not in self.abbr_dict:\n",
    "                self.abbr_dict[abbr] = set()\n",
    "            self.abbr_dict[abbr].add(word)\n",
    "\n",
    "    def get_abbr(self, word):\n",
    "        if len(word) <= 2:\n",
    "            return word\n",
    "        return word[0] + str(len(word)-2) + word[-1]\n",
    "\n",
    "    def isUnique(self, word: str) -> bool:\n",
    "        abbr = self.get_abbr(word)\n",
    "        if abbr not in self.abbr_dict:\n",
    "            return True\n",
    "        return len(self.abbr_dict[abbr]) == 1 and word in self.abbr_dict[abbr]\n",
    "\n",
    "            \n",
    "\n",
    "\n",
    "# Your ValidWordAbbr object will be instantiated and called as such:\n",
    "# obj = ValidWordAbbr(dictionary)\n",
    "# param_1 = obj.isUnique(word)"
   ]
  }
 ],
 "metadata": {
  "language_info": {
   "name": "python"
  }
 },
 "nbformat": 4,
 "nbformat_minor": 2
}
