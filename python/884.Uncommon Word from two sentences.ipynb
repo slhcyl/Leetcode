{
 "cells": [
  {
   "cell_type": "markdown",
   "metadata": {},
   "source": [
    "884. Uncommon Words from Two Sentences\n",
    "Solved\n",
    "Easy\n",
    "Topics\n",
    "Companies\n",
    "A sentence is a string of single-space separated words where each word consists only of lowercase letters.\n",
    "\n",
    "A word is uncommon if it appears exactly once in one of the sentences, and does not appear in the other sentence.\n",
    "\n",
    "Given two sentences s1 and s2, return a list of all the uncommon words. You may return the answer in any order.\n",
    "\n",
    " \n",
    "\n",
    "Example 1:\n",
    "\n",
    "Input: s1 = \"this apple is sweet\", s2 = \"this apple is sour\"\n",
    "Output: [\"sweet\",\"sour\"]\n",
    "Example 2:\n",
    "\n",
    "Input: s1 = \"apple apple\", s2 = \"banana\"\n",
    "Output: [\"banana\"]\n",
    " \n",
    "\n",
    "Constraints:\n",
    "\n",
    "1 <= s1.length, s2.length <= 200\n",
    "s1 and s2 consist of lowercase English letters and spaces.\n",
    "s1 and s2 do not have leading or trailing spaces.\n",
    "All the words in s1 and s2 are separated by a single space."
   ]
  },
  {
   "cell_type": "code",
   "execution_count": null,
   "metadata": {},
   "outputs": [],
   "source": [
    "class Solution:\n",
    "    def uncommonFromSentences(self, s1: str, s2: str) -> List[str]:\n",
    "        count = {}\n",
    "        for word in s1.split(' '):\n",
    "            count[word] = 1 + count.get(word,0)\n",
    "        for word in s2.split(' '):\n",
    "            count[word] = 1 + count.get(word,0)\n",
    "\n",
    "        return [word for word in count if count[word] == 1]\n",
    "# T: O(m + n) \n",
    "# S: O(m + n) "
   ]
  }
 ],
 "metadata": {
  "language_info": {
   "name": "python"
  }
 },
 "nbformat": 4,
 "nbformat_minor": 2
}
