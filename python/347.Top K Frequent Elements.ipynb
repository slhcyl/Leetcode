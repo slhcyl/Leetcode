{
 "cells": [
  {
   "cell_type": "markdown",
   "metadata": {},
   "source": [
    "\n",
    "Code\n",
    "Testcase\n",
    "Testcase\n",
    "Test Result\n",
    "347. Top K Frequent Elements\n",
    "Solved\n",
    "Medium\n",
    "Topics\n",
    "Companies\n",
    "Given an integer array nums and an integer k, return the k most frequent elements. You may return the answer in any order.\n",
    "\n",
    " \n",
    "\n",
    "Example 1:\n",
    "\n",
    "Input: nums = [1,1,1,2,2,3], k = 2\n",
    "Output: [1,2]\n",
    "Example 2:\n",
    "\n",
    "Input: nums = [1], k = 1\n",
    "Output: [1]\n",
    " \n",
    "\n",
    "Constraints:\n",
    "\n",
    "1 <= nums.length <= 105\n",
    "-104 <= nums[i] <= 104\n",
    "k is in the range [1, the number of unique elements in the array].\n",
    "It is guaranteed that the answer is unique.\n",
    " \n",
    "\n",
    "Follow up: Your algorithm's time complexity must be better than O(n log n), where n is the array's size."
   ]
  },
  {
   "cell_type": "code",
   "execution_count": null,
   "metadata": {},
   "outputs": [],
   "source": [
    "class Solution:\n",
    "    def topKFrequent(self, nums: List[int], k: int) -> List[int]:\n",
    "        countMap = {}\n",
    "        buckets = [[] for _ in range(len(nums) + 1)] # created the number of bucket holders \n",
    "        res = []\n",
    "        \n",
    "        for num in nums:\n",
    "            countMap[num] = 1 + countMap.get(num, 0)\n",
    "            \n",
    "        for num, frequency in countMap.items():\n",
    "            buckets[frequency].append(num)\n",
    "\n",
    "        for i in range(len(buckets) - 1, 0, -1):\n",
    "            # The for num in buckets[i] loop inside the main loop will not execute if buckets[i] is empty.\n",
    "            for num in buckets[i]:\n",
    "                res.append(num)\n",
    "                if len(res) == k:\n",
    "                    return res\n",
    "# time O(n)\n",
    "# Space O(n)"
   ]
  },
  {
   "cell_type": "code",
   "execution_count": null,
   "metadata": {},
   "outputs": [],
   "source": [
    "# heap:\n",
    "# Time complexity : O(Nlog⁡k) if k<Nk < Nk<N and O(N)\\mathcal{O}(N)O(N) in the particular case of N=k. That ensures time complexity to be better than O(Nlog⁡N).\n",
    "# Space complexity : O(N+k) to store the hash map with not more NNN elements and a heap with k elements.\n",
    "from collections import Counter\n",
    "class Solution:\n",
    "    def topKFrequent(self, nums: List[int], k: int) -> List[int]: \n",
    "        # O(1) time \n",
    "        if k == len(nums):\n",
    "            return nums\n",
    "        \n",
    "        # 1. Build hash map: character and how often it appears\n",
    "        # O(N) time\n",
    "        count = Counter(nums)   \n",
    "        # 2-3. Build heap of top k frequent elements and\n",
    "        # convert it into an output array\n",
    "        # O(N log k) time\n",
    "        return heapq.nlargest(k, count.keys(), key=count.get) "
   ]
  }
 ],
 "metadata": {
  "language_info": {
   "name": "python"
  }
 },
 "nbformat": 4,
 "nbformat_minor": 2
}
