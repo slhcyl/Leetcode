{
 "cells": [
  {
   "cell_type": "markdown",
   "metadata": {},
   "source": [
    "\n",
    "Code\n",
    "Testcase\n",
    "Testcase\n",
    "Test Result\n",
    "347. Top K Frequent Elements\n",
    "Solved\n",
    "Medium\n",
    "Topics\n",
    "Companies\n",
    "Given an integer array nums and an integer k, return the k most frequent elements. You may return the answer in any order.\n",
    "\n",
    " \n",
    "\n",
    "Example 1:\n",
    "\n",
    "Input: nums = [1,1,1,2,2,3], k = 2\n",
    "Output: [1,2]\n",
    "Example 2:\n",
    "\n",
    "Input: nums = [1], k = 1\n",
    "Output: [1]\n",
    " \n",
    "\n",
    "Constraints:\n",
    "\n",
    "1 <= nums.length <= 105\n",
    "-104 <= nums[i] <= 104\n",
    "k is in the range [1, the number of unique elements in the array].\n",
    "It is guaranteed that the answer is unique.\n",
    " \n",
    "\n",
    "Follow up: Your algorithm's time complexity must be better than O(n log n), where n is the array's size."
   ]
  },
  {
   "cell_type": "code",
   "execution_count": null,
   "metadata": {},
   "outputs": [],
   "source": [
    "class Solution:\n",
    "    def topKFrequent(self, nums: List[int], k: int) -> List[int]:\n",
    "        countmap = {}\n",
    "        freqlist = [[] for i in range(len(nums) + 1)]\n",
    "\n",
    "        for num in nums:\n",
    "            countmap[num] = 1 + countmap.get(num, 0)\n",
    "            \n",
    "\n",
    "        for num, cnt in countmap.items():\n",
    "            freqlist[cnt].append(num)\n",
    "    \n",
    "        res = []\n",
    "        for i in range(len(freqlist) - 1, 0, -1):\n",
    "            print(i,freqlist[i])\n",
    "            for num in freqlist[i]:\n",
    "                res.append(num)\n",
    "                if len(res) == k:\n",
    "                    return res\n",
    "# time O(n)\n",
    "# Space O(n)"
   ]
  }
 ],
 "metadata": {
  "language_info": {
   "name": "python"
  }
 },
 "nbformat": 4,
 "nbformat_minor": 2
}
