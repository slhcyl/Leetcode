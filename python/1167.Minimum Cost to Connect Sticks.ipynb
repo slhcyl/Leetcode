{
 "cells": [
  {
   "cell_type": "markdown",
   "metadata": {},
   "source": [
    "1167. Minimum Cost to Connect Sticks\n",
    "Solved\n",
    "Medium\n",
    "Topics\n",
    "Companies\n",
    "Hint\n",
    "You have some number of sticks with positive integer lengths. These lengths are given as an array sticks, where sticks[i] is the length of the ith stick.\n",
    "\n",
    "You can connect any two sticks of lengths x and y into one stick by paying a cost of x + y. You must connect all the sticks until there is only one stick remaining.\n",
    "\n",
    "Return the minimum cost of connecting all the given sticks into one stick in this way.\n",
    "\n",
    " \n",
    "\n",
    "Example 1:\n",
    "\n",
    "Input: sticks = [2,4,3]\n",
    "Output: 14\n",
    "Explanation: You start with sticks = [2,4,3].\n",
    "1. Combine sticks 2 and 3 for a cost of 2 + 3 = 5. Now you have sticks = [5,4].\n",
    "2. Combine sticks 5 and 4 for a cost of 5 + 4 = 9. Now you have sticks = [9].\n",
    "There is only one stick left, so you are done. The total cost is 5 + 9 = 14.\n",
    "Example 2:\n",
    "\n",
    "Input: sticks = [1,8,3,5]\n",
    "Output: 30\n",
    "Explanation: You start with sticks = [1,8,3,5].\n",
    "1. Combine sticks 1 and 3 for a cost of 1 + 3 = 4. Now you have sticks = [4,8,5].\n",
    "2. Combine sticks 4 and 5 for a cost of 4 + 5 = 9. Now you have sticks = [9,8].\n",
    "3. Combine sticks 9 and 8 for a cost of 9 + 8 = 17. Now you have sticks = [17].\n",
    "There is only one stick left, so you are done. The total cost is 4 + 9 + 17 = 30.\n",
    "Example 3:\n",
    "\n",
    "Input: sticks = [5]\n",
    "Output: 0\n",
    "Explanation: There is only one stick, so you don't need to do anything. The total cost is 0.\n",
    " \n",
    "\n",
    "Constraints:\n",
    "\n",
    "1 <= sticks.length <= 104\n",
    "1 <= sticks[i] <= 104"
   ]
  },
  {
   "cell_type": "markdown",
   "metadata": {},
   "source": [
    "Complexity Analysis\n",
    "Time Complexity: \n",
    "O(nlogn). The operations inside the loop (heappop and heappush) are logarithmic with respect to the number of elements in the heap. Since we're doing these operations for almost every element (until only one is left), the time complexity becomes O(nlogn).\n",
    "Space Complexity: \n",
    "O(n). The heap itself takes up O(n) space, where n is the number of sticks."
   ]
  },
  {
   "cell_type": "code",
   "execution_count": null,
   "metadata": {},
   "outputs": [],
   "source": [
    "class Solution:\n",
    "    def connectSticks(self, sticks: List[int]) -> int:\n",
    "        if len(sticks) <= 1:\n",
    "            return 0\n",
    "\n",
    "        minHeap = []\n",
    "\n",
    "        for stick in sticks:\n",
    "            heapq.heappush(minHeap, stick)\n",
    "        total_cost = 0\n",
    "        while len(minHeap) > 1:\n",
    "            x = heapq.heappop(minHeap)\n",
    "            y = heapq.heappop(minHeap)\n",
    "            cost = x + y\n",
    "            total_cost += cost\n",
    "            heapq.heappush(minHeap,cost)\n",
    "\n",
    "        return total_cost"
   ]
  }
 ],
 "metadata": {
  "language_info": {
   "name": "python"
  }
 },
 "nbformat": 4,
 "nbformat_minor": 2
}
