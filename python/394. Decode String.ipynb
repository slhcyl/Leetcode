{
 "cells": [
  {
   "cell_type": "markdown",
   "metadata": {},
   "source": [
    "394. Decode String\n",
    "Solved\n",
    "Medium\n",
    "Topics\n",
    "Companies\n",
    "Given an encoded string, return its decoded string.\n",
    "\n",
    "The encoding rule is: k[encoded_string], where the encoded_string inside the square brackets is being repeated exactly k times. Note that k is guaranteed to be a positive integer.\n",
    "\n",
    "You may assume that the input string is always valid; there are no extra white spaces, square brackets are well-formed, etc. Furthermore, you may assume that the original data does not contain any digits and that digits are only for those repeat numbers, k. For example, there will not be input like 3a or 2[4].\n",
    "\n",
    "The test cases are generated so that the length of the output will never exceed 105.\n",
    "\n",
    " \n",
    "\n",
    "Example 1:\n",
    "\n",
    "Input: s = \"3[a]2[bc]\"\n",
    "Output: \"aaabcbc\"\n",
    "Example 2:\n",
    "\n",
    "Input: s = \"3[a2[c]]\"\n",
    "Output: \"accaccacc\"\n",
    "Example 3:\n",
    "\n",
    "Input: s = \"2[abc]3[cd]ef\"\n",
    "Output: \"abcabccdcdcdef\"\n",
    " \n",
    "\n",
    "Constraints:\n",
    "\n",
    "1 <= s.length <= 30\n",
    "s consists of lowercase English letters, digits, and square brackets '[]'.\n",
    "s is guaranteed to be a valid input.\n",
    "All the integers in s are in the range [1, 300]."
   ]
  },
  {
   "cell_type": "markdown",
   "metadata": {},
   "source": [
    "For the problem of decoding a string formatted as `k[encoded_string]`, where the encoded_string inside the square brackets is repeated exactly k times, let's analyze the time and space complexity of the stack-based solution provided earlier:\n",
    "\n",
    "### Time Complexity\n",
    "\n",
    "1. **Traversal of the String**: \n",
    "   - The primary cost comes from iterating through each character in the string `s`. This needs to be done once, resulting in a time complexity of \\(O(n)\\), where \\(n\\) is the length of the input string.\n",
    "   - However, handling each character can vary in complexity depending on what the character is:\n",
    "     - Digits and letters are simply appended or accumulated, which is \\(O(1)\\) per operation.\n",
    "     - For each closing bracket `]`, the previously stored string needs to be repeated `k` times. This repetition is the costly part, especially if `k` is large and the enclosed string is long. The cost of repeating a string of length \\(m\\) for \\(k\\) times is \\(O(m \\times k)\\).\n",
    "\n",
    "2. **Nested Structures**:\n",
    "   - In the worst-case scenario, where nesting is deep (e.g., `2[2[2[a]]]`), each repetition operation can multiply the length of the string being constructed. This can lead to a multiplicative effect as you unwind the stack and concatenate repeated strings.\n",
    "\n",
    "Given the worst-case nesting and repeated concatenations, the time complexity in terms of the output length \\(L\\) (which can be much larger than the input length due to repetitions) is \\(O(L)\\), where \\(L\\) represents the length of the final decoded string.\n",
    "\n",
    "### Space Complexity\n",
    "\n",
    "1. **Stack Usage**:\n",
    "   - The stack is used to store strings and repetition factors as you traverse the string. In the worst case, you would store part of the string equivalent to the input size and additional integers for repetition factors.\n",
    "   - The space used by the stack can, therefore, grow linearly with the input size in scenarios with many nested brackets.\n",
    "\n",
    "2. **Output Storage**:\n",
    "   - The space needed to store the final output, or the current string being constructed and manipulated, is \\(O(L)\\), where \\(L\\) is the length of the decoded string output.\n",
    "\n",
    "3. **Overall Space Complexity**:\n",
    "   - Considering both the stack usage and the final output storage, the overall space complexity is \\(O(L)\\). This accounts for the maximum space required at any point during the computation, assuming the final output might need to be stored or returned.\n",
    "\n",
    "### Conclusion\n",
    "\n",
    "The time complexity of the function is dominated by the operations needed to construct the output string, particularly due to the repetitions specified by the nested structures, making it \\(O(L)\\), where \\(L\\) is the final output length. The space complexity is also \\(O(L)\\), primarily due to the space needed to store the final output string."
   ]
  },
  {
   "cell_type": "markdown",
   "metadata": {},
   "source": [
    "Complexity Analysis\n",
    "\n",
    "Assume, n is the length of the string s.\n",
    "\n",
    "Time Complexity: O(maxK⋅n), where maxK is the maximum value of k and n is the length of a given string s. We traverse a string of size n and iterate k times to decode each pattern of form k[string]. This gives us worst case time complexity as O(maxK⋅n).\n",
    "\n",
    "Space Complexity: O(m+n), where m is the number of letters(a-z) and n is the number of digits(0-9) in string s. In worst case, the maximum size of stringStack and countStack could be m and n respectively."
   ]
  },
  {
   "cell_type": "code",
   "execution_count": null,
   "metadata": {},
   "outputs": [],
   "source": [
    "class Solution:\n",
    "    def decodeString(self, s: str) -> str:\n",
    "        stack = []\n",
    "        k = 0\n",
    "        cur_str = ''\n",
    "\n",
    "        for char in s:\n",
    "            if char.isdigit():\n",
    "                k = k * 10 + int(char)\n",
    "            elif char == '[':\n",
    "                stack.append((cur_str, k))\n",
    "                cur_str = ''\n",
    "                k = 0\n",
    "            elif char == ']':\n",
    "                prev_str, times = stack.pop()\n",
    "                cur_str = prev_str + cur_str * times\n",
    "            else:\n",
    "                cur_str += char\n",
    "        return cur_str"
   ]
  }
 ],
 "metadata": {
  "language_info": {
   "name": "python"
  }
 },
 "nbformat": 4,
 "nbformat_minor": 2
}
