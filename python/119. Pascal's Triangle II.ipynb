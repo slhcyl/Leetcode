{
 "cells": [
  {
   "cell_type": "markdown",
   "metadata": {},
   "source": [
    "119. Pascal's Triangle II\n",
    "Solved\n",
    "Easy\n",
    "Topics\n",
    "Companies\n",
    "Given an integer rowIndex, return the rowIndexth (0-indexed) row of the Pascal's triangle.\n",
    "\n",
    "In Pascal's triangle, each number is the sum of the two numbers directly above it as shown:\n",
    "\n",
    "\n",
    " \n",
    "\n",
    "Example 1:\n",
    "\n",
    "Input: rowIndex = 3\n",
    "Output: [1,3,3,1]\n",
    "Example 2:\n",
    "\n",
    "Input: rowIndex = 0\n",
    "Output: [1]\n",
    "Example 3:\n",
    "\n",
    "Input: rowIndex = 1\n",
    "Output: [1,1]\n",
    " \n",
    "\n",
    "Constraints:\n",
    "\n",
    "0 <= rowIndex <= 33\n",
    " \n",
    "\n",
    "Follow up: Could you optimize your algorithm to use only O(rowIndex) extra space?"
   ]
  },
  {
   "cell_type": "code",
   "execution_count": null,
   "metadata": {},
   "outputs": [],
   "source": [
    "# Time Complexity: O(rowIndex^2). Although we are only creating one row, each row calculation involves iterating through the current row, \n",
    "# and the size of the row grows with the rowIndex, leading to a quadratic number of operations in terms of rowIndex.\n",
    "# Space Complexity: O(rowIndex). The extra space usage comes solely from the row list itself, which grows to the size of the rowIndex + 1 (for zero-indexed row).\n",
    "class Solution:\n",
    "    def getRow(self, rowIndex: int) -> List[int]:\n",
    "        row = [1]\n",
    "\n",
    "        for i in range(1, rowIndex + 1):\n",
    "            row.append(1)\n",
    "            for j in range(len(row) - 1 - 1, 0, -1):\n",
    "                row[j] += row[j - 1]\n",
    "        return row"
   ]
  },
  {
   "cell_type": "code",
   "execution_count": null,
   "metadata": {},
   "outputs": [],
   "source": [
    "# t O(rowIndex^2)\n",
    "# s O(rowIndex^2)\n",
    "class Solution:\n",
    "    def getRow(self, rowIndex: int) -> List[int]:\n",
    "        res = [[1]]\n",
    "\n",
    "        for i in range(rowIndex + 1):\n",
    "            temp = [0] + res[-1] + [0]\n",
    "            row = []\n",
    "            for j in range(len(res[-1]) + 1):\n",
    "                row.append(temp[j] + temp[j + 1])\n",
    "            res.append(row)\n",
    "        \n",
    "        return res[rowIndex]"
   ]
  }
 ],
 "metadata": {
  "language_info": {
   "name": "python"
  }
 },
 "nbformat": 4,
 "nbformat_minor": 2
}
