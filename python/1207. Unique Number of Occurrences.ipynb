{
 "cells": [
  {
   "cell_type": "markdown",
   "metadata": {},
   "source": [
    "1207. Unique Number of Occurrences\n",
    "Easy\n",
    "Topics\n",
    "Companies\n",
    "Hint\n",
    "Given an array of integers arr, return true if the number of occurrences of each value in the array is unique or false otherwise.\n",
    "\n",
    " \n",
    "\n",
    "Example 1:\n",
    "\n",
    "Input: arr = [1,2,2,1,1,3]\n",
    "Output: true\n",
    "Explanation: The value 1 has 3 occurrences, 2 has 2 and 3 has 1. No two values have the same number of occurrences.\n",
    "Example 2:\n",
    "\n",
    "Input: arr = [1,2]\n",
    "Output: false\n",
    "Example 3:\n",
    "\n",
    "Input: arr = [-3,0,1,-3,1,1,1,-3,10,0]\n",
    "Output: true\n",
    " \n",
    "\n",
    "Constraints:\n",
    "\n",
    "1 <= arr.length <= 1000\n",
    "-1000 <= arr[i] <= 1000"
   ]
  },
  {
   "cell_type": "markdown",
   "metadata": {},
   "source": [
    "Complexity Analysis\n",
    "Here, NNN is the size of array arr.\n",
    "\n",
    "Time complexity: O(N)\n",
    "\n",
    "We iterate over the array arr to find the frequency and store them in the hash map freq. Then, we insert these frequencies in the hash set freqSet, which has the insertion complexity of O(1). Hence, the total time complexity is equal to O(N).\n",
    "\n",
    "Space complexity: O(N).\n",
    "\n",
    "We are storing the NNN frequencies in the hash map freq that takes O(1) space for each element. We also store the frequency count in the hash set. Therefore, the total space complexity is equal to O(N)."
   ]
  },
  {
   "cell_type": "code",
   "execution_count": null,
   "metadata": {},
   "outputs": [],
   "source": [
    "'''Time Complexity: O(n), where n is the length of the input array. Counting the elements and converting to a set both have linear complexity.\n",
    "Space Complexity: O(n). The Counter object and the set will both take space proportional to the number of unique elements in the array.'''\n",
    "class Solution:\n",
    "    def uniqueOccurrences(self, arr: List[int]) -> bool:\n",
    "        countMap = {}\n",
    "\n",
    "        for num in arr:\n",
    "            if num in countMap:\n",
    "                countMap[num] += 1\n",
    "            else:\n",
    "                countMap[num] = 1\n",
    "\n",
    "        occurrence_set = set(countMap.values())\n",
    "\n",
    "        return len(occurrence_set) == len(countMap.values())"
   ]
  }
 ],
 "metadata": {
  "language_info": {
   "name": "python"
  }
 },
 "nbformat": 4,
 "nbformat_minor": 2
}
