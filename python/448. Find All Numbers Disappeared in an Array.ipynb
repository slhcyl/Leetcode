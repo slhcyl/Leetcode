{
 "cells": [
  {
   "cell_type": "markdown",
   "metadata": {},
   "source": [
    "448. Find All Numbers Disappeared in an Array\n",
    "Solved\n",
    "Easy\n",
    "Topics\n",
    "Companies\n",
    "Hint\n",
    "Given an array nums of n integers where nums[i] is in the range [1, n], return an array of all the integers in the range [1, n] that do not appear in nums.\n",
    "\n",
    " \n",
    "\n",
    "Example 1:\n",
    "\n",
    "Input: nums = [4,3,2,7,8,2,3,1]\n",
    "Output: [5,6]\n",
    "Example 2:\n",
    "\n",
    "Input: nums = [1,1]\n",
    "Output: [2]\n",
    " \n",
    "\n",
    "Constraints:\n",
    "\n",
    "n == nums.length\n",
    "1 <= n <= 105\n",
    "1 <= nums[i] <= n\n",
    " \n",
    "\n",
    "Follow up: Could you do it without extra space and in O(n) runtime? You may assume the returned list does not count as extra space."
   ]
  },
  {
   "cell_type": "code",
   "execution_count": null,
   "metadata": {},
   "outputs": [],
   "source": [
    "# Time Complexity: O(n). Both passes through the array (marking and collecting) each take linear time relative to the number of elements.\n",
    "# Space Complexity: O(1). The output array does not count towards the extra space by the problem's follow-up statement, \n",
    "# and no additional data structures are used beyond the input array.\n",
    "class Solution:\n",
    "    def findDisappearedNumbers(self, nums: List[int]) -> List[int]:\n",
    "        for num in nums:\n",
    "            index = abs(num) - 1\n",
    "            nums[index] = -1 * abs(nums[index]) # mark it as visited\n",
    "\n",
    "        res = []\n",
    "\n",
    "        for index, num in enumerate(nums):\n",
    "            if num > 0:\n",
    "                res.append(index + 1)\n",
    "\n",
    "        return res"
   ]
  },
  {
   "cell_type": "code",
   "execution_count": null,
   "metadata": {},
   "outputs": [],
   "source": [
    "# t O(n)\n",
    "# s O(n)\n",
    "class Solution:\n",
    "    def findDisappearedNumbers(self, nums: List[int]) -> List[int]:\n",
    "        nums_set = set ()\n",
    "\n",
    "        for num in nums:\n",
    "            nums_set.add(num)\n",
    "        \n",
    "        res = []\n",
    "\n",
    "        for num in range(1, len(nums) + 1):\n",
    "            if num not in nums_set:\n",
    "                res.append(num)\n",
    "        return res"
   ]
  }
 ],
 "metadata": {
  "language_info": {
   "name": "python"
  }
 },
 "nbformat": 4,
 "nbformat_minor": 2
}
