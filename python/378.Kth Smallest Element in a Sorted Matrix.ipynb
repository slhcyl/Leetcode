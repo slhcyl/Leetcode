{
 "cells": [
  {
   "cell_type": "markdown",
   "metadata": {},
   "source": [
    "378. Kth Smallest Element in a Sorted Matrix\n",
    "Solved\n",
    "Medium\n",
    "Topics\n",
    "Companies\n",
    "Given an n x n matrix where each of the rows and columns is sorted in ascending order, return the kth smallest element in the matrix.\n",
    "\n",
    "Note that it is the kth smallest element in the sorted order, not the kth distinct element.\n",
    "\n",
    "You must find a solution with a memory complexity better than O(n2).\n",
    "\n",
    " \n",
    "\n",
    "Example 1:\n",
    "\n",
    "Input: matrix = [[1,5,9],[10,11,13],[12,13,15]], k = 8\n",
    "Output: 13\n",
    "Explanation: The elements in the matrix are [1,5,9,10,11,12,13,13,15], and the 8th smallest number is 13\n",
    "Example 2:\n",
    "\n",
    "Input: matrix = [[-5]], k = 1\n",
    "Output: -5\n",
    " \n",
    "\n",
    "Constraints:\n",
    "\n",
    "n == matrix.length == matrix[i].length\n",
    "1 <= n <= 300\n",
    "-109 <= matrix[i][j] <= 109\n",
    "All the rows and columns of matrix are guaranteed to be sorted in non-decreasing order.\n",
    "1 <= k <= n2\n",
    " \n",
    "\n",
    "Follow up:\n",
    "\n",
    "Could you solve the problem with a constant memory (i.e., O(1) memory complexity)?\n",
    "Could you solve the problem in O(n) time complexity? The solution may be too advanced for an interview but you may find reading this paper fun."
   ]
  },
  {
   "cell_type": "markdown",
   "metadata": {},
   "source": [
    "Time Complexity: let X=min(K,N);X+Klog⁡(X)\n",
    "\n",
    "Well the heap construction takes O(X) time.\n",
    "After that, we perform KKK iterations and each iteration has two operations. We extract the minimum element from a heap containing X elements. Then we add a new element to this heap. Both the operations will take O(log⁡(X)) time.\n",
    "Thus, the total time complexity for this algorithm comes down to be O(X+Klog⁡(X)) where X is min(K,N).\n",
    "Space Complexity: O(X) which is occupied by the heap."
   ]
  },
  {
   "cell_type": "code",
   "execution_count": null,
   "metadata": {},
   "outputs": [],
   "source": [
    "class Solution:\n",
    "    def kthSmallest(self, matrix: List[List[int]], k: int) -> int:\n",
    "        minHeap = []\n",
    "        n = len(matrix)\n",
    "\n",
    "        for r in range(min(n, k)):\n",
    "            minHeap.append((matrix[r][0], r, 0))\n",
    "\n",
    "        heapq.heapify(minHeap)\n",
    "\n",
    "        while k:\n",
    "            val, row, col = heapq.heappop(minHeap)\n",
    "\n",
    "            if col + 1 < n:\n",
    "                heapq.heappush(minHeap,(matrix[row][col + 1], row, col + 1))\n",
    "\n",
    "            k -= 1\n",
    "\n",
    "        return val"
   ]
  }
 ],
 "metadata": {
  "language_info": {
   "name": "python"
  }
 },
 "nbformat": 4,
 "nbformat_minor": 2
}
