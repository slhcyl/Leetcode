{
 "cells": [
  {
   "cell_type": "markdown",
   "metadata": {},
   "source": [
    "350. Intersection of Two Arrays II\n",
    "Solved\n",
    "Easy\n",
    "Topics\n",
    "Companies\n",
    "Given two integer arrays nums1 and nums2, return an array of their intersection. Each element in the result must appear as many times as it shows in both arrays and you may return the result in any order.\n",
    "\n",
    " \n",
    "\n",
    "Example 1:\n",
    "\n",
    "Input: nums1 = [1,2,2,1], nums2 = [2,2]\n",
    "Output: [2,2]\n",
    "Example 2:\n",
    "\n",
    "Input: nums1 = [4,9,5], nums2 = [9,4,9,8,4]\n",
    "Output: [4,9]\n",
    "Explanation: [9,4] is also accepted.\n",
    " \n",
    "\n",
    "Constraints:\n",
    "\n",
    "1 <= nums1.length, nums2.length <= 1000\n",
    "0 <= nums1[i], nums2[i] <= 1000\n",
    " \n",
    "\n",
    "Follow up:\n",
    "\n",
    "What if the given array is already sorted? How would you optimize your algorithm?\n",
    "What if nums1's size is small compared to nums2's size? Which algorithm is better?\n",
    "What if elements of nums2 are stored on disk, and the memory is limited such that you cannot load all elements into the memory at once?"
   ]
  },
  {
   "cell_type": "code",
   "execution_count": null,
   "metadata": {},
   "outputs": [],
   "source": [
    "# Time Complexity: O(n+m), where nnn and mmm are the lengths of the arrays. We iterate through the first, and then through the second array; \n",
    "# insert and lookup operations in the hash map take a constant time.\n",
    "# Space Complexity: O(min⁡(n,m)). We use hash map to store numbers (and their counts) from the smaller array.\n",
    "class Solution:\n",
    "    def intersect(self, nums1: List[int], nums2: List[int]) -> List[int]:\n",
    "        map1 = {}\n",
    "        res = []\n",
    "\n",
    "        for num in nums1:\n",
    "            if num in map1:\n",
    "                map1[num] += 1\n",
    "            else:\n",
    "                map1[num] = 1\n",
    "\n",
    "        for num in nums2:\n",
    "            if num in map1 and map1[num] > 0:\n",
    "                map1[num] -= 1\n",
    "                res.append(num)\n",
    "                \n",
    "        return res"
   ]
  }
 ],
 "metadata": {
  "language_info": {
   "name": "python"
  }
 },
 "nbformat": 4,
 "nbformat_minor": 2
}
