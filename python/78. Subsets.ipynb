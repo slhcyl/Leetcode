{
 "cells": [
  {
   "cell_type": "markdown",
   "metadata": {},
   "source": [
    "78. Subsets\n",
    "Solved\n",
    "Medium\n",
    "Topics\n",
    "Companies\n",
    "Given an integer array nums of unique elements, return all possible \n",
    "subsets\n",
    " (the power set).\n",
    "\n",
    "The solution set must not contain duplicate subsets. Return the solution in any order.\n",
    "\n",
    " \n",
    "\n",
    "Example 1:\n",
    "\n",
    "Input: nums = [1,2,3]\n",
    "Output: [[],[1],[2],[1,2],[3],[1,3],[2,3],[1,2,3]]\n",
    "Example 2:\n",
    "\n",
    "Input: nums = [0]\n",
    "Output: [[],[0]]\n",
    " \n",
    "\n",
    "Constraints:\n",
    "\n",
    "1 <= nums.length <= 10\n",
    "-10 <= nums[i] <= 10\n",
    "All the numbers of nums are unique."
   ]
  },
  {
   "cell_type": "code",
   "execution_count": null,
   "metadata": {},
   "outputs": [],
   "source": [
    "class Solution:\n",
    "    def subsets(self, nums: List[int]) -> List[List[int]]:\n",
    "        res = []\n",
    "        subset = []\n",
    "\n",
    "        def dfs(i):\n",
    "            if i >= len(nums):\n",
    "                res.append(subset.copy())\n",
    "                return\n",
    "            # decision to include nums[i]\n",
    "            subset.append(nums[i])\n",
    "            dfs(i + 1)\n",
    "            # decision NOT to include nums[i]\n",
    "            subset.pop()\n",
    "            dfs(i + 1)\n",
    "        \n",
    "        dfs(0)\n",
    "        return res"
   ]
  }
 ],
 "metadata": {
  "language_info": {
   "name": "python"
  }
 },
 "nbformat": 4,
 "nbformat_minor": 2
}
