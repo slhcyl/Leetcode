{
 "cells": [
  {
   "cell_type": "markdown",
   "metadata": {},
   "source": [
    "1657. Determine if Two Strings Are Close\n",
    "Solved\n",
    "Medium\n",
    "Topics\n",
    "Companies\n",
    "Hint\n",
    "Two strings are considered close if you can attain one from the other using the following operations:\n",
    "\n",
    "Operation 1: Swap any two existing characters.\n",
    "For example, abcde -> aecdb\n",
    "Operation 2: Transform every occurrence of one existing character into another existing character, and do the same with the other character.\n",
    "For example, aacabb -> bbcbaa (all a's turn into b's, and all b's turn into a's)\n",
    "You can use the operations on either string as many times as necessary.\n",
    "\n",
    "Given two strings, word1 and word2, return true if word1 and word2 are close, and false otherwise.\n",
    "\n",
    " \n",
    "\n",
    "Example 1:\n",
    "\n",
    "Input: word1 = \"abc\", word2 = \"bca\"\n",
    "Output: true\n",
    "Explanation: You can attain word2 from word1 in 2 operations.\n",
    "Apply Operation 1: \"abc\" -> \"acb\"\n",
    "Apply Operation 1: \"acb\" -> \"bca\"\n",
    "Example 2:\n",
    "\n",
    "Input: word1 = \"a\", word2 = \"aa\"\n",
    "Output: false\n",
    "Explanation: It is impossible to attain word2 from word1, or vice versa, in any number of operations.\n",
    "Example 3:\n",
    "\n",
    "Input: word1 = \"cabbba\", word2 = \"abbccc\"\n",
    "Output: true\n",
    "Explanation: You can attain word2 from word1 in 3 operations.\n",
    "Apply Operation 1: \"cabbba\" -> \"caabbb\"\n",
    "Apply Operation 2: \"caabbb\" -> \"baaccc\"\n",
    "Apply Operation 2: \"baaccc\" -> \"abbccc\"\n",
    " \n",
    "\n",
    "Constraints:\n",
    "\n",
    "1 <= word1.length, word2.length <= 105\n",
    "word1 and word2 contain only lowercase English letters."
   ]
  },
  {
   "cell_type": "markdown",
   "metadata": {},
   "source": [
    "Intuition\n",
    "\n",
    "As discussed above, we have to check for the following conditions to determine if given strings word1 and word1 are close:\n",
    "\n",
    "The strings word1 and word2 must have the same characters (Condition 1).\n",
    "\n",
    "We can build a set that contains the characters in word1 and word2 and check if both sets are equal.\n",
    "\n",
    "The occurrence or frequency of characters in word1 and word2 must be the same. (Condition 2).\n",
    "\n",
    "One way to get the frequency of each character in a string is to use a hashmap. We could build a hashmap with each character as a key and it's frequency as a value of hashmap. Now, we have to verify if there are equal number of characters with a particular frequency. For this, we can sort the frequency values in the hashmap and check for equality.\n",
    "\n",
    "Instead of building a separate set to check for Condition 1, we can only build one hashmap and check if the keys (that represent each character in the string) are present in both maps.\n",
    "\n",
    "Algorithm\n",
    "\n",
    "Initialize hashmaps word1Map and word2Map for strings word1 and word2 respectively.\n",
    "Iterate over each word and build its hashmap where the key is the individual character of the word and value is the frequency of that character.\n",
    "To check if characters in word1 and word2 are the same, we must check if the key values of hashmaps word1Map and word2Map are the same.\n",
    "Now, to check the occurrence, we must sort the values of both hashmaps in increasing order and check for equality."
   ]
  },
  {
   "cell_type": "markdown",
   "metadata": {},
   "source": [
    "Complexity Analysis\n",
    "\n",
    "Time Complexity: O(n). We iterate over each word to build the hashmap which would take O(n) time.\n",
    "Further, we sort the character keys and frequency values of each hashmap. The maximum size of hashmap would be 26 as we store each character a-z only once. In the worst case, all the sort operations would take O(26log⁡26) time to sort those frequency values.\n",
    "This gives us total time complexity as O(n).\n",
    "\n",
    "Space Complexity: O(1), as the maximum size of each hashmap would be 26, we are using constant extra space."
   ]
  },
  {
   "cell_type": "code",
   "execution_count": null,
   "metadata": {},
   "outputs": [],
   "source": [
    "class Solution:\n",
    "    def closeStrings(self, word1: str, word2: str) -> bool:\n",
    "        \n",
    "        if set(word1) != set(word2):\n",
    "            return False\n",
    "\n",
    "        count1, count2 = {}, {}\n",
    "\n",
    "        for letter in word1:\n",
    "            count1[letter] = 1 + count1.get(letter,0)\n",
    "        for letter in word2:\n",
    "            count2[letter] = 1 + count2.get(letter,0)\n",
    "\n",
    "        return sorted(count1.values()) == sorted(count2.values())"
   ]
  }
 ],
 "metadata": {
  "language_info": {
   "name": "python"
  }
 },
 "nbformat": 4,
 "nbformat_minor": 2
}
