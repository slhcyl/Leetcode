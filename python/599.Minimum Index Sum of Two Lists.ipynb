{
 "cells": [
  {
   "cell_type": "markdown",
   "metadata": {},
   "source": [
    "599. Minimum Index Sum of Two Lists\n",
    "Solved\n",
    "Easy\n",
    "Topics\n",
    "Companies\n",
    "Given two arrays of strings list1 and list2, find the common strings with the least index sum.\n",
    "\n",
    "A common string is a string that appeared in both list1 and list2.\n",
    "\n",
    "A common string with the least index sum is a common string such that if it appeared at list1[i] and list2[j] then i + j should be the minimum value among all the other common strings.\n",
    "\n",
    "Return all the common strings with the least index sum. Return the answer in any order.\n",
    "\n",
    " \n",
    "\n",
    "Example 1:\n",
    "\n",
    "Input: list1 = [\"Shogun\",\"Tapioca Express\",\"Burger King\",\"KFC\"], list2 = [\"Piatti\",\"The Grill at Torrey Pines\",\"Hungry Hunter Steakhouse\",\"Shogun\"]\n",
    "Output: [\"Shogun\"]\n",
    "Explanation: The only common string is \"Shogun\".\n",
    "Example 2:\n",
    "\n",
    "Input: list1 = [\"Shogun\",\"Tapioca Express\",\"Burger King\",\"KFC\"], list2 = [\"KFC\",\"Shogun\",\"Burger King\"]\n",
    "Output: [\"Shogun\"]\n",
    "Explanation: The common string with the least index sum is \"Shogun\" with index sum = (0 + 1) = 1.\n",
    "Example 3:\n",
    "\n",
    "Input: list1 = [\"happy\",\"sad\",\"good\"], list2 = [\"sad\",\"happy\",\"good\"]\n",
    "Output: [\"sad\",\"happy\"]\n",
    "Explanation: There are three common strings:\n",
    "\"happy\" with index sum = (0 + 1) = 1.\n",
    "\"sad\" with index sum = (1 + 0) = 1.\n",
    "\"good\" with index sum = (2 + 2) = 4.\n",
    "The strings with the least index sum are \"sad\" and \"happy\".\n",
    " \n",
    "\n",
    "Constraints:\n",
    "\n",
    "1 <= list1.length, list2.length <= 1000\n",
    "1 <= list1[i].length, list2[i].length <= 30\n",
    "list1[i] and list2[i] consist of spaces ' ' and English letters.\n",
    "All the strings of list1 are unique.\n",
    "All the strings of list2 are unique.\n",
    "There is at least a common string between list1 and list2."
   ]
  },
  {
   "cell_type": "code",
   "execution_count": null,
   "metadata": {},
   "outputs": [],
   "source": [
    "# Time Complexity: O(N+M), where M are the lengths of list1 and list2, respectively. The time is mainly spent on building the map and then traversing list2.\n",
    "# Space Complexity: O(N), where N is the length of list1, for storing the map. \n",
    "# The space for storing the results is additional but is bounded by the smaller of the two lists in the worst case.\n",
    "class Solution:\n",
    "    def findRestaurant(self, list1: List[str], list2: List[str]) -> List[str]:\n",
    "        map1 = {word : i for i, word in enumerate(list1)}\n",
    "        min_sum = float('inf')\n",
    "        res = []\n",
    "\n",
    "        for i, word in enumerate(list2):\n",
    "            if word in map1:\n",
    "                index_sum = map1[word] + i\n",
    "                if index_sum < min_sum:\n",
    "                    min_sum = index_sum\n",
    "                    res = [word]\n",
    "                elif index_sum == min_sum:\n",
    "                    res.append(word)\n",
    "\n",
    "        return res"
   ]
  }
 ],
 "metadata": {
  "language_info": {
   "name": "python"
  }
 },
 "nbformat": 4,
 "nbformat_minor": 2
}
