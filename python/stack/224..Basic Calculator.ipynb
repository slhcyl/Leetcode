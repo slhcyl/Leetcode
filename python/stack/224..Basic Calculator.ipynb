{
 "cells": [
  {
   "cell_type": "markdown",
   "metadata": {},
   "source": [
    "224. Basic Calculator\n",
    "Solved\n",
    "Hard\n",
    "Topics\n",
    "Companies\n",
    "Given a string s representing a valid expression, implement a basic calculator to evaluate it, and return the result of the evaluation.\n",
    "\n",
    "Note: You are not allowed to use any built-in function which evaluates strings as mathematical expressions, such as eval().\n",
    "\n",
    " \n",
    "\n",
    "Example 1:\n",
    "\n",
    "Input: s = \"1 + 1\"\n",
    "Output: 2\n",
    "Example 2:\n",
    "\n",
    "Input: s = \" 2-1 + 2 \"\n",
    "Output: 3\n",
    "Example 3:\n",
    "\n",
    "Input: s = \"(1+(4+5+2)-3)+(6+8)\"\n",
    "Output: 23\n",
    " \n",
    "\n",
    "Constraints:\n",
    "\n",
    "1 <= s.length <= 3 * 105\n",
    "s consists of digits, '+', '-', '(', ')', and ' '.\n",
    "s represents a valid expression.\n",
    "'+' is not used as a unary operation (i.e., \"+1\" and \"+(2 + 3)\" is invalid).\n",
    "'-' could be used as a unary operation (i.e., \"-1\" and \"-(2 + 3)\" is valid).\n",
    "There will be no two consecutive operators in the input.\n",
    "Every number and running calculation will fit in a signed 32-bit integer."
   ]
  },
  {
   "cell_type": "markdown",
   "metadata": {},
   "source": [
    "Complexity Analysis\n",
    "\n",
    "Time Complexity: O(N), where N is the length of the string. The difference in time complexity between this approach and the previous one is that every character in this approach will get processed exactly once. However, in the previous approach, each character can potentially get processed twice, once when it's pushed onto the stack and once when it's popped for processing of the final result (or a subexpression). That's why this approach is faster.\n",
    "\n",
    "Space Complexity: O(N), where N is the length of the string.\n",
    "\n"
   ]
  },
  {
   "cell_type": "code",
   "execution_count": null,
   "metadata": {},
   "outputs": [],
   "source": [
    "class Solution:\n",
    "    def calculate(self, s: str) -> int:\n",
    "        cur = res = 0\n",
    "        stack = []\n",
    "        sign = 1\n",
    "\n",
    "        for char in s:\n",
    "            if char.isdigit():\n",
    "                # since it could be more than one digit\n",
    "                cur = cur * 10 + int(char)\n",
    "            elif char in '+-':\n",
    "                res += sign * cur\n",
    "                sign = 1 if char == '+' else -1\n",
    "                cur = 0\n",
    "            elif char == '(':\n",
    "                # Push the previous result and sign on to the stack, for later\n",
    "                # We push the result first, then sign\n",
    "                stack.append(res)\n",
    "                stack.append(sign)\n",
    "                 # Reset operand and result, as if new evaluation begins for the new sub-expression\n",
    "                res = 0\n",
    "                sign = 1\n",
    "            elif char == ')':\n",
    "                # Evaluate the expression to the left\n",
    "                # with result, sign and operand\n",
    "                res += sign * cur\n",
    "                # sign\n",
    "                res *= stack.pop()\n",
    "                # previous res\n",
    "                res += stack.pop()\n",
    "                # reset\n",
    "                cur = 0\n",
    "        # the last element may not be added in the loop\n",
    "        return res + sign * cur"
   ]
  }
 ],
 "metadata": {
  "language_info": {
   "name": "python"
  }
 },
 "nbformat": 4,
 "nbformat_minor": 2
}
