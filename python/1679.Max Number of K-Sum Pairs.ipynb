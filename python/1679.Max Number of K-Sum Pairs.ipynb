{
 "cells": [
  {
   "cell_type": "markdown",
   "metadata": {},
   "source": [
    "1679. Max Number of K-Sum Pairs\n",
    "Solved\n",
    "Medium\n",
    "Topics\n",
    "Companies\n",
    "Hint\n",
    "You are given an integer array nums and an integer k.\n",
    "\n",
    "In one operation, you can pick two numbers from the array whose sum equals k and remove them from the array.\n",
    "\n",
    "Return the maximum number of operations you can perform on the array.\n",
    "\n",
    " \n",
    "\n",
    "Example 1:\n",
    "\n",
    "Input: nums = [1,2,3,4], k = 5\n",
    "Output: 2\n",
    "Explanation: Starting with nums = [1,2,3,4]:\n",
    "- Remove numbers 1 and 4, then nums = [2,3]\n",
    "- Remove numbers 2 and 3, then nums = []\n",
    "There are no more pairs that sum up to 5, hence a total of 2 operations.\n",
    "Example 2:\n",
    "\n",
    "Input: nums = [3,1,3,4,3], k = 6\n",
    "Output: 1\n",
    "Explanation: Starting with nums = [3,1,3,4,3]:\n",
    "- Remove the first two 3's, then nums = [1,4,3]\n",
    "There are no more pairs that sum up to 6, hence a total of 1 operation.\n",
    " \n",
    "\n",
    "Constraints:\n",
    "\n",
    "1 <= nums.length <= 105\n",
    "1 <= nums[i] <= 109\n",
    "1 <= k <= 109"
   ]
  },
  {
   "cell_type": "code",
   "execution_count": null,
   "metadata": {},
   "outputs": [],
   "source": [
    "# Time Complexity: O(n), where n is the length of the input array.\n",
    "# Space Complexity: O(n), as we store all distinct numbers in the dictionary.\n",
    "class Solution:\n",
    "    def maxOperations(self, nums: List[int], k: int) -> int:\n",
    "        hashmap = {}\n",
    "        count = 0\n",
    "# insert into hashmap when there is a pair and only add one element to hashmap\n",
    "        for num in nums:\n",
    "            diff = k - num\n",
    "            # we found the pair, diff is in the hashmap and decrement it by 1\n",
    "            if diff in hashmap and hashmap[diff] > 0:\n",
    "                count += 1\n",
    "                hashmap[diff] -= 1\n",
    "            # if we haven't found the pair, we insert num to hashmap with its count\n",
    "            else:\n",
    "                if num in hashmap:\n",
    "                    hashmap[num] += 1\n",
    "                else:\n",
    "                    hashmap[num] = 1\n",
    "        \n",
    "        return count"
   ]
  },
  {
   "cell_type": "code",
   "execution_count": 2,
   "metadata": {},
   "outputs": [
    {
     "data": {
      "text/plain": [
       "{3: -1}"
      ]
     },
     "execution_count": 2,
     "metadata": {},
     "output_type": "execute_result"
    }
   ],
   "source": [
    "hashmap = {3:1}\n",
    "hashmap[3] -=1\n",
    "hashmap[3] -=1\n",
    "hashmap"
   ]
  },
  {
   "cell_type": "code",
   "execution_count": null,
   "metadata": {},
   "outputs": [],
   "source": [
    "def maxOperations(nums, k):\n",
    "    count = {}\n",
    "    operations = 0\n",
    "    \n",
    "    for num in nums:\n",
    "        complement = k - num\n",
    "        if count.get(complement, 0) > 0:\n",
    "            operations += 1\n",
    "            count[complement] -= 1\n",
    "        else:\n",
    "            count[num] = count.get(num, 0) + 1\n",
    "\n",
    "    return operations"
   ]
  }
 ],
 "metadata": {
  "kernelspec": {
   "display_name": "Python 3",
   "language": "python",
   "name": "python3"
  },
  "language_info": {
   "codemirror_mode": {
    "name": "ipython",
    "version": 3
   },
   "file_extension": ".py",
   "mimetype": "text/x-python",
   "name": "python",
   "nbconvert_exporter": "python",
   "pygments_lexer": "ipython3",
   "version": "3.10.11"
  }
 },
 "nbformat": 4,
 "nbformat_minor": 2
}
