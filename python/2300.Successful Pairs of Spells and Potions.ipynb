{
 "cells": [
  {
   "cell_type": "markdown",
   "metadata": {},
   "source": [
    "2300. Successful Pairs of Spells and Potions\n",
    "Solved\n",
    "Medium\n",
    "Topics\n",
    "Companies\n",
    "Hint\n",
    "You are given two positive integer arrays spells and potions, of length n and m respectively, where spells[i] represents the strength of the ith spell and potions[j] represents the strength of the jth potion.\n",
    "\n",
    "You are also given an integer success. A spell and potion pair is considered successful if the product of their strengths is at least success.\n",
    "\n",
    "Return an integer array pairs of length n where pairs[i] is the number of potions that will form a successful pair with the ith spell.\n",
    "\n",
    " \n",
    "\n",
    "Example 1:\n",
    "\n",
    "Input: spells = [5,1,3], potions = [1,2,3,4,5], success = 7\n",
    "Output: [4,0,3]\n",
    "Explanation:\n",
    "- 0th spell: 5 * [1,2,3,4,5] = [5,10,15,20,25]. 4 pairs are successful.\n",
    "- 1st spell: 1 * [1,2,3,4,5] = [1,2,3,4,5]. 0 pairs are successful.\n",
    "- 2nd spell: 3 * [1,2,3,4,5] = [3,6,9,12,15]. 3 pairs are successful.\n",
    "Thus, [4,0,3] is returned.\n",
    "Example 2:\n",
    "\n",
    "Input: spells = [3,1,2], potions = [8,5,8], success = 16\n",
    "Output: [2,0,2]\n",
    "Explanation:\n",
    "- 0th spell: 3 * [8,5,8] = [24,15,24]. 2 pairs are successful.\n",
    "- 1st spell: 1 * [8,5,8] = [8,5,8]. 0 pairs are successful. \n",
    "- 2nd spell: 2 * [8,5,8] = [16,10,16]. 2 pairs are successful. \n",
    "Thus, [2,0,2] is returned.\n",
    " \n",
    "\n",
    "Constraints:\n",
    "\n",
    "n == spells.length\n",
    "m == potions.length\n",
    "1 <= n, m <= 105\n",
    "1 <= spells[i], potions[i] <= 105\n",
    "1 <= success <= 1010"
   ]
  },
  {
   "cell_type": "markdown",
   "metadata": {},
   "source": [
    "Complexity Analysis\n",
    "Here, nnn is the number of elements in the spells array, and mmm is the number of elements in the potions array.\n",
    "\n",
    "Time complexity: O((m+n)⋅log⁡m)\n",
    "\n",
    "We sort the potions array which takes O(mlog⁡m)O(m \\log m)O(mlogm) time.\n",
    "Then, for each element of the spells array using binary search we find the respective minPotion which takes O(log⁡m) time. So, for nnn elements it takes O(nlog⁡m) time.\n",
    "Thus, overall we take O(mlog⁡m+nlog⁡m) time.\n",
    "Space complexity: O(log⁡m) or O(m)\n",
    "\n",
    "The output array answer is not considered as additional space usage.\n",
    "But some extra space is used when we sort the potions array in place. The space complexity of the sorting algorithm depends on the programming language.\n",
    "In Python, the sort() method sorts a list using the Timsort algorithm which has O(m) additional space where mmm is the number of the elements.\n",
    "In C++ and Swift, the sort() function is implemented as a hybrid of Quick Sort, Heap Sort, and Insertion Sort, with a worst-case space complexity of O(log⁡m).\n",
    "In Java, Arrays.sort() is implemented using a variant of the Quick Sort algorithm which has a space complexity of O(log⁡m).\n",
    "In JavaScript, the space complexity of sort() is O(log⁡m)O(\\log m)O(logm).\n",
    "In Swift, we need to create an additional array for keeping sorted potions which will take O(m) space."
   ]
  },
  {
   "cell_type": "code",
   "execution_count": null,
   "metadata": {},
   "outputs": [],
   "source": [
    "class Solution:\n",
    "    def successfulPairs(self, spells: List[int], potions: List[int], success: int) -> List[int]:\n",
    "        # Sort the potions for binary search\n",
    "        potions.sort()\n",
    "        n = len(potions)\n",
    "        res = []\n",
    "        # For each spell, find the number of potions that form a successful pair\n",
    "        for spell in spells:\n",
    "            # Find the minimum potion value required\n",
    "            '''In general, (success + divisor - 1) // divisor is a standard way to compute the ceiling of an integer division in Python.'''\n",
    "            minPotion = (success + spell - 1)//spell\n",
    "            # Use bisect_left to find the index of the first potion that is >= min_potion\n",
    "            index = bisect_left(potions, minPotion)\n",
    "            # The number of successful pairs is the number of elements to the right of the index\n",
    "            res.append(n - index)\n",
    "\n",
    "        return res"
   ]
  }
 ],
 "metadata": {
  "language_info": {
   "name": "python"
  }
 },
 "nbformat": 4,
 "nbformat_minor": 2
}
