{
 "cells": [
  {
   "cell_type": "markdown",
   "metadata": {},
   "source": [
    "1456. Maximum Number of Vowels in a Substring of Given Length\n",
    "Solved\n",
    "Medium\n",
    "Topics\n",
    "Companies\n",
    "Hint\n",
    "Given a string s and an integer k, return the maximum number of vowel letters in any substring of s with length k.\n",
    "\n",
    "Vowel letters in English are 'a', 'e', 'i', 'o', and 'u'.\n",
    "\n",
    " \n",
    "\n",
    "Example 1:\n",
    "\n",
    "Input: s = \"abciiidef\", k = 3\n",
    "Output: 3\n",
    "Explanation: The substring \"iii\" contains 3 vowel letters.\n",
    "Example 2:\n",
    "\n",
    "Input: s = \"aeiou\", k = 2\n",
    "Output: 2\n",
    "Explanation: Any substring of length 2 contains 2 vowels.\n",
    "Example 3:\n",
    "\n",
    "Input: s = \"leetcode\", k = 3\n",
    "Output: 2\n",
    "Explanation: \"lee\", \"eet\" and \"ode\" contain 2 vowels.\n",
    " \n",
    "\n",
    "Constraints:\n",
    "\n",
    "1 <= s.length <= 105\n",
    "s consists of lowercase English letters.\n",
    "1 <= k <= s.length"
   ]
  },
  {
   "cell_type": "code",
   "execution_count": null,
   "metadata": {},
   "outputs": [],
   "source": [
    "# sliding window\n",
    "# t O(n)\n",
    "# s O(1)\n",
    "class Solution:\n",
    "    def maxVowels(self, s: str, k: int) -> int:\n",
    "        count = 0\n",
    "        vowels = set('aeiouAEIOU')\n",
    "\n",
    "        for i in range(k):\n",
    "            if s[i] in vowels:\n",
    "                count += 1\n",
    "        max_count = count\n",
    "\n",
    "        for i in range(k, len(s)):\n",
    "            if s[i] in vowels:\n",
    "                count += 1\n",
    "            if s[i-k] in vowels:\n",
    "                count -= 1\n",
    "\n",
    "            max_count = max(max_count, count)\n",
    "        return max_count"
   ]
  },
  {
   "cell_type": "code",
   "execution_count": null,
   "metadata": {},
   "outputs": [],
   "source": [
    "class Solution:\n",
    "    def maxVowels(self, s: str, k: int) -> int:\n",
    "        vowels = set('aeiouAEIOU')\n",
    "        count = sum(1 for char in s[:k] if char in vowels)\n",
    "        max_count = count\n",
    "\n",
    "        for i in range(k, len(s)):\n",
    "            if s[i] in vowels:\n",
    "                count += 1\n",
    "            if s[i-k] in vowels:\n",
    "                count -= 1\n",
    "            max_count = max(max_count, count)\n",
    "\n",
    "        return max_count"
   ]
  }
 ],
 "metadata": {
  "language_info": {
   "name": "python"
  }
 },
 "nbformat": 4,
 "nbformat_minor": 2
}
