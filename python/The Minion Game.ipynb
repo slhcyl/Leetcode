{
 "cells": [
  {
   "cell_type": "code",
   "execution_count": 1,
   "metadata": {},
   "outputs": [
    {
     "name": "stdout",
     "output_type": "stream",
     "text": [
      "Stuart 12\n"
     ]
    }
   ],
   "source": [
    "def minion_game(string):\n",
    "    vowels = \"AEIOU\"\n",
    "    stuart_score = 0\n",
    "    kevin_score = 0\n",
    "\n",
    "    for i in range(len(string)):\n",
    "        if string[i] in vowels:\n",
    "            kevin_score += len(string) - i\n",
    "        else:\n",
    "            stuart_score += len(string) - i\n",
    "\n",
    "    if stuart_score > kevin_score:\n",
    "        print(f\"Stuart {stuart_score}\")\n",
    "    elif kevin_score > stuart_score:\n",
    "        print(f\"Kevin {kevin_score}\")\n",
    "    else:\n",
    "        print(\"Draw\")\n",
    "\n",
    "# Example usage:\n",
    "minion_game(\"BANANA\")"
   ]
  },
  {
   "cell_type": "code",
   "execution_count": 8,
   "metadata": {},
   "outputs": [
    {
     "name": "stdout",
     "output_type": "stream",
     "text": [
      "s 6 0 6\n",
      "k 6 1 5\n",
      "s 6 2 10\n",
      "k 6 3 8\n",
      "s 6 4 12\n",
      "k 6 5 9\n"
     ]
    }
   ],
   "source": [
    "string = 'BANANA'\n",
    "vowels = \"AEIOU\"\n",
    "stuart_score = 0\n",
    "kevin_score = 0\n",
    "for i in range(len(string)):\n",
    "    if string[i] in vowels:\n",
    "        kevin_score += len(string) - i\n",
    "        print('k',len(string),i,kevin_score)\n",
    "    else:\n",
    "        stuart_score += len(string) - i\n",
    "        print('s',len(string),i,stuart_score)"
   ]
  },
  {
   "cell_type": "code",
   "execution_count": 9,
   "metadata": {},
   "outputs": [
    {
     "name": "stdout",
     "output_type": "stream",
     "text": [
      "Join Result:\n",
      "   A  B  C  D\n",
      "a  1  3  5  7\n",
      "b  2  4  6  8\n",
      "\n",
      "Merge Result:\n",
      "   A  B  C  D\n",
      "a  1  3  5  7\n",
      "b  2  4  6  8\n"
     ]
    }
   ],
   "source": [
    "import pandas as pd\n",
    "\n",
    "# Using join()\n",
    "df1 = pd.DataFrame({'A': [1, 2], 'B': [3, 4]}, index=['a', 'b'])\n",
    "df2 = pd.DataFrame({'C': [5, 6], 'D': [7, 8]}, index=['a', 'b'])\n",
    "result_join = df1.join(df2)\n",
    "\n",
    "# Using merge()\n",
    "result_merge = pd.merge(df1, df2, left_index=True, right_index=True)\n",
    "\n",
    "print(\"Join Result:\")\n",
    "print(result_join)\n",
    "\n",
    "print(\"\\nMerge Result:\")\n",
    "print(result_merge)\n"
   ]
  },
  {
   "cell_type": "code",
   "execution_count": 16,
   "metadata": {},
   "outputs": [
    {
     "data": {
      "text/plain": [
       "['user_id',\n",
       " 'user_first_name',\n",
       " 'user_last_name',\n",
       " 'user_email',\n",
       " 'user_phone_numbers',\n",
       " 'user_courses']"
      ]
     },
     "execution_count": 16,
     "metadata": {},
     "output_type": "execute_result"
    }
   ],
   "source": [
    "required_columns=['id','first_name','last_name','email','phone_numbers','courses']\n",
    "new_list = []\n",
    "for key, item in enumerate(required_columns):\n",
    "    new_list.append(item)\n",
    "    new_list[key] = 'user_'+ item\n",
    "\n",
    "new_list\n",
    "\n"
   ]
  },
  {
   "cell_type": "code",
   "execution_count": null,
   "metadata": {},
   "outputs": [],
   "source": []
  }
 ],
 "metadata": {
  "kernelspec": {
   "display_name": "Python 3",
   "language": "python",
   "name": "python3"
  },
  "language_info": {
   "codemirror_mode": {
    "name": "ipython",
    "version": 3
   },
   "file_extension": ".py",
   "mimetype": "text/x-python",
   "name": "python",
   "nbconvert_exporter": "python",
   "pygments_lexer": "ipython3",
   "version": "3.10.11"
  }
 },
 "nbformat": 4,
 "nbformat_minor": 2
}
