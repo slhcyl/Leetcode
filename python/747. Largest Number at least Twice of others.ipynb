{
 "cells": [
  {
   "cell_type": "markdown",
   "metadata": {},
   "source": [
    "747. Largest Number At Least Twice of Others\n",
    "Solved\n",
    "Easy\n",
    "Topics\n",
    "Companies\n",
    "Hint\n",
    "You are given an integer array nums where the largest integer is unique.\n",
    "\n",
    "Determine whether the largest element in the array is at least twice as much as every other number in the array. If it is, return the index of the largest element, or return -1 otherwise.\n",
    "\n",
    " \n",
    "\n",
    "Example 1:\n",
    "\n",
    "Input: nums = [3,6,1,0]\n",
    "Output: 1\n",
    "Explanation: 6 is the largest integer.\n",
    "For every other number in the array x, 6 is at least twice as big as x.\n",
    "The index of value 6 is 1, so we return 1.\n",
    "Example 2:\n",
    "\n",
    "Input: nums = [1,2,3,4]\n",
    "Output: -1\n",
    "Explanation: 4 is less than twice the value of 3, so we return -1.\n",
    " \n",
    "\n",
    "Constraints:\n",
    "\n",
    "2 <= nums.length <= 50\n",
    "0 <= nums[i] <= 100\n",
    "The largest element in nums is unique."
   ]
  },
  {
   "cell_type": "code",
   "execution_count": null,
   "metadata": {},
   "outputs": [],
   "source": [
    "class Solution:\n",
    "    def dominantIndex(self, nums: List[int]) -> int:\n",
    "        max_index_at = -1\n",
    "        max_val = -1\n",
    "        for i, num in enumerate(nums):\n",
    "            if num >= max_val:\n",
    "                max_index_at = i\n",
    "                max_val = num\n",
    "        \n",
    "        for num in nums:\n",
    "            if max_val < 2 * num and max_val != num:\n",
    "                return -1\n",
    "        \n",
    "        return max_index_at\n",
    "# t O(n)\n",
    "# s O(1)"
   ]
  },
  {
   "cell_type": "code",
   "execution_count": null,
   "metadata": {},
   "outputs": [],
   "source": [
    "def dominantIndex(nums):\n",
    "    max_num = max(nums)\n",
    "    max_index = nums.index(max_num)\n",
    "    \n",
    "    for i, num in enumerate(nums):\n",
    "        if i != max_index and max_num < 2 * num:\n",
    "            return -1\n",
    "    \n",
    "    return max_index\n"
   ]
  }
 ],
 "metadata": {
  "language_info": {
   "name": "python"
  }
 },
 "nbformat": 4,
 "nbformat_minor": 2
}
