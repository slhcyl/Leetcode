{
 "cells": [
  {
   "cell_type": "markdown",
   "metadata": {},
   "source": [
    "931. Minimum Falling Path Sum\n",
    "Medium\n",
    "Topics\n",
    "Companies\n",
    "Given an n x n array of integers matrix, return the minimum sum of any falling path through matrix.\n",
    "\n",
    "A falling path starts at any element in the first row and chooses the element in the next row that is either directly below or diagonally left/right. Specifically, the next element from position (row, col) will be (row + 1, col - 1), (row + 1, col), or (row + 1, col + 1).\n",
    "\n",
    " \n",
    "\n",
    "Example 1:\n",
    "\n",
    "\n",
    "Input: matrix = [[2,1,3],[6,5,4],[7,8,9]]\n",
    "Output: 13\n",
    "Explanation: There are two falling paths with a minimum sum as shown.\n",
    "Example 2:\n",
    "\n",
    "\n",
    "Input: matrix = [[-19,57],[-40,-5]]\n",
    "Output: -59\n",
    "Explanation: The falling path with a minimum sum is shown.\n",
    " \n",
    "\n",
    "Constraints:\n",
    "\n",
    "n == matrix.length == matrix[i].length\n",
    "1 <= n <= 100\n",
    "-100 <= matrix[i][j] <= 100"
   ]
  },
  {
   "cell_type": "code",
   "execution_count": null,
   "metadata": {},
   "outputs": [],
   "source": []
  }
 ],
 "metadata": {
  "language_info": {
   "name": "python"
  }
 },
 "nbformat": 4,
 "nbformat_minor": 2
}
