{
 "cells": [
  {
   "cell_type": "markdown",
   "metadata": {},
   "source": [
    "45. Jump Game II\n",
    "Solved\n",
    "Medium\n",
    "Topics\n",
    "Companies\n",
    "You are given a 0-indexed array of integers nums of length n. You are initially positioned at nums[0].\n",
    "\n",
    "Each element nums[i] represents the maximum length of a forward jump from index i. In other words, if you are at nums[i], you can jump to any nums[i + j] where:\n",
    "\n",
    "0 <= j <= nums[i] and\n",
    "i + j < n\n",
    "Return the minimum number of jumps to reach nums[n - 1]. The test cases are generated such that you can reach nums[n - 1].\n",
    "\n",
    " \n",
    "\n",
    "Example 1:\n",
    "\n",
    "Input: nums = [2,3,1,1,4]\n",
    "Output: 2\n",
    "Explanation: The minimum number of jumps to reach the last index is 2. Jump 1 step from index 0 to 1, then 3 steps to the last index.\n",
    "Example 2:\n",
    "\n",
    "Input: nums = [2,3,0,1,4]\n",
    "Output: 2\n",
    " \n",
    "\n",
    "Constraints:\n",
    "\n",
    "1 <= nums.length <= 104\n",
    "0 <= nums[i] <= 1000\n",
    "It's guaranteed that you can reach nums[n - 1]."
   ]
  },
  {
   "cell_type": "code",
   "execution_count": null,
   "metadata": {},
   "outputs": [],
   "source": [
    "# greedy\n",
    "# T O(n)\n",
    "# s O(1)\n",
    "class Solution:\n",
    "    def jump(self, nums: List[int]) -> int:\n",
    "        farthest = 0\n",
    "        jump = 0\n",
    "        current_end = 0\n",
    "        n = len(nums)\n",
    "        for i in range(n-1):\n",
    "            farthest = max(farthest, i + nums[i]) # the farthest position that current position can go\n",
    "            # all positions in this range got exhausted\n",
    "            if i == current_end:\n",
    "                jump += 1\n",
    "                current_end = farthest\n",
    "\n",
    "            if current_end >= n - 1:\n",
    "                # reach the end\n",
    "                break\n",
    "\n",
    "        return jump"
   ]
  }
 ],
 "metadata": {
  "language_info": {
   "name": "python"
  }
 },
 "nbformat": 4,
 "nbformat_minor": 2
}
