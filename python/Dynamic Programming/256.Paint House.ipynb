{
 "cells": [
  {
   "cell_type": "markdown",
   "metadata": {},
   "source": [
    "256. Paint House\n",
    "Medium\n",
    "Topics\n",
    "Companies\n",
    "There is a row of n houses, where each house can be painted one of three colors: red, blue, or green. The cost of painting each house with a certain color is different. You have to paint all the houses such that no two adjacent houses have the same color.\n",
    "\n",
    "The cost of painting each house with a certain color is represented by an n x 3 cost matrix costs.\n",
    "\n",
    "For example, costs[0][0] is the cost of painting house 0 with the color red; costs[1][2] is the cost of painting house 1 with color green, and so on...\n",
    "Return the minimum cost to paint all houses.\n",
    "\n",
    " \n",
    "\n",
    "Example 1:\n",
    "\n",
    "Input: costs = [[17,2,17],[16,16,5],[14,3,19]]\n",
    "Output: 10\n",
    "Explanation: Paint house 0 into blue, paint house 1 into green, paint house 2 into blue.\n",
    "Minimum cost: 2 + 5 + 3 = 10.\n",
    "Example 2:\n",
    "\n",
    "Input: costs = [[7,6,2]]\n",
    "Output: 2\n",
    " \n",
    "\n",
    "Constraints:\n",
    "\n",
    "costs.length == n\n",
    "costs[i].length == 3\n",
    "1 <= n <= 100\n",
    "1 <= costs[i][j] <= 20"
   ]
  },
  {
   "cell_type": "code",
   "execution_count": null,
   "metadata": {},
   "outputs": [],
   "source": []
  }
 ],
 "metadata": {
  "language_info": {
   "name": "python"
  }
 },
 "nbformat": 4,
 "nbformat_minor": 2
}
