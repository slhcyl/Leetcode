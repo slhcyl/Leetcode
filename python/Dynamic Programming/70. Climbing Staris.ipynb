{
 "cells": [
  {
   "cell_type": "markdown",
   "metadata": {},
   "source": [
    "\n",
    "70. Climbing Stairs\n",
    "Solved\n",
    "Easy\n",
    "Topics\n",
    "Companies\n",
    "Hint\n",
    "You are climbing a staircase. It takes n steps to reach the top.\n",
    "\n",
    "Each time you can either climb 1 or 2 steps. In how many distinct ways can you climb to the top?\n",
    "\n",
    " \n",
    "\n",
    "Example 1:\n",
    "\n",
    "Input: n = 2\n",
    "Output: 2\n",
    "Explanation: There are two ways to climb to the top.\n",
    "1. 1 step + 1 step\n",
    "2. 2 steps\n",
    "Example 2:\n",
    "\n",
    "Input: n = 3\n",
    "Output: 3\n",
    "Explanation: There are three ways to climb to the top.\n",
    "1. 1 step + 1 step + 1 step\n",
    "2. 1 step + 2 steps\n",
    "3. 2 steps + 1 step\n",
    " \n",
    "\n",
    "Constraints:\n",
    "\n",
    "1 <= n <= 45"
   ]
  },
  {
   "cell_type": "code",
   "execution_count": null,
   "metadata": {},
   "outputs": [],
   "source": [
    "# Approach 4: Fibonacci Number\n",
    "'''Time complexity : O(n). Single loop upto nnn is required to calculate nth fibonacci number.\n",
    "Space complexity : O(1). Constant space is used.\n",
    "'''\n",
    "class Solution(object):\n",
    "    def climbStairs(self, n):\n",
    "        \"\"\"\n",
    "        :type n: int\n",
    "        :rtype: int\n",
    "        \"\"\"\n",
    "        if n == 1:\n",
    "            return 1\n",
    "        first = 1\n",
    "        second = 2\n",
    "        for i in range(3, n + 1):\n",
    "            third = first + second\n",
    "            first = second\n",
    "            second = third\n",
    "        return second"
   ]
  },
  {
   "cell_type": "code",
   "execution_count": null,
   "metadata": {},
   "outputs": [],
   "source": [
    "# Approach 3: Dynamic Programming\n",
    "'''Time complexity : O(n). Single loop up to n.\n",
    "Space complexity : O(n). dp array of size nnn is used.'''\n",
    "class Solution:\n",
    "    def climbStairs(self, n: int) -> int:\n",
    "        if n == 1:\n",
    "            return 1\n",
    "        dp = [0 for _ in range(n + 1)]\n",
    "        dp[1] = 1\n",
    "        dp[2] = 2\n",
    "        for i in range(3, n + 1):\n",
    "            dp[i] = dp[i - 1] + dp[i - 2]\n",
    "        return dp[n]"
   ]
  },
  {
   "cell_type": "code",
   "execution_count": null,
   "metadata": {},
   "outputs": [],
   "source": [
    "# similar to the next approach but it travels from left to right\n",
    "# bottom up\n",
    "# t o(n)\n",
    "# s O(1)\n",
    "class Solution:\n",
    "    def climbStairs(self, n: int) -> int:\n",
    "        # trick: the second element is the answer according to direction either from left to right or right to left\n",
    "        # n2 is at level 0 and n1 is at level 1\n",
    "        # sequence: n2 --> n1, so n1 is always the final answer from left to right\n",
    "        # consider n2 is level 0 and it takes one way/step to reach it self.\n",
    "        # n1 is level 1 and it takes n2 one step to reach.\n",
    "        n1, n2 = 1, 1\n",
    "\n",
    "        for i in range(2,n+1):\n",
    "            temp = n1\n",
    "            n1 = n1 + n2\n",
    "            n2 = temp\n",
    "\n",
    "        return n1"
   ]
  },
  {
   "cell_type": "code",
   "execution_count": null,
   "metadata": {},
   "outputs": [],
   "source": [
    "# bottom up but the bottom is from the right to the left (the top stair to bottom).\n",
    "class Solution:\n",
    "    def climbStairs(self, n: int) -> int:\n",
    "        # sequence: n1 --> n2 travel from right to left, so n1 is the answer\n",
    "        # n2 is the top, n1 is one step down from n2\n",
    "        # consider n2 is the top (base case) that you take n step to reach, n1 is one step down from n2 or previous stair of current n2.\n",
    "        # n2 will take 1 step to reach itself/the top, and n1 will take 1 setp to reach n2/the top, although you can take one or two step but at this point,\n",
    "        # if n1 takes two steps, it will reach the oustide of the top which is out of balance.\n",
    "        n1, n2 = 1, 1\n",
    "        # n1 is the current stage\n",
    "        for i in range(n-1):\n",
    "            temp = n1\n",
    "            n1 = n1 + n2\n",
    "            n2 = temp\n",
    "\n",
    "        return n1"
   ]
  }
 ],
 "metadata": {
  "language_info": {
   "name": "python"
  }
 },
 "nbformat": 4,
 "nbformat_minor": 2
}
