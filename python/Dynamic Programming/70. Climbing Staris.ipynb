{
 "cells": [
  {
   "cell_type": "markdown",
   "metadata": {},
   "source": [
    "\n",
    "70. Climbing Stairs\n",
    "Solved\n",
    "Easy\n",
    "Topics\n",
    "Companies\n",
    "Hint\n",
    "You are climbing a staircase. It takes n steps to reach the top.\n",
    "\n",
    "Each time you can either climb 1 or 2 steps. In how many distinct ways can you climb to the top?\n",
    "\n",
    " \n",
    "\n",
    "Example 1:\n",
    "\n",
    "Input: n = 2\n",
    "Output: 2\n",
    "Explanation: There are two ways to climb to the top.\n",
    "1. 1 step + 1 step\n",
    "2. 2 steps\n",
    "Example 2:\n",
    "\n",
    "Input: n = 3\n",
    "Output: 3\n",
    "Explanation: There are three ways to climb to the top.\n",
    "1. 1 step + 1 step + 1 step\n",
    "2. 1 step + 2 steps\n",
    "3. 2 steps + 1 step\n",
    " \n",
    "\n",
    "Constraints:\n",
    "\n",
    "1 <= n <= 45"
   ]
  },
  {
   "cell_type": "code",
   "execution_count": null,
   "metadata": {},
   "outputs": [],
   "source": [
    "# Approach 4: Fibonacci Number\n",
    "'''Time complexity : O(n). Single loop upto nnn is required to calculate nth fibonacci number.\n",
    "Space complexity : O(1). Constant space is used.\n",
    "'''\n",
    "class Solution(object):\n",
    "    def climbStairs(self, n):\n",
    "        \"\"\"\n",
    "        :type n: int\n",
    "        :rtype: int\n",
    "        \"\"\"\n",
    "        if n == 1:\n",
    "            return 1\n",
    "        first = 1\n",
    "        second = 2\n",
    "        for i in range(3, n + 1):\n",
    "            third = first + second\n",
    "            first = second\n",
    "            second = third\n",
    "        return second"
   ]
  },
  {
   "cell_type": "code",
   "execution_count": null,
   "metadata": {},
   "outputs": [],
   "source": [
    "# Approach 3: Dynamic Programming\n",
    "'''Time complexity : O(n). Single loop up to n.\n",
    "Space complexity : O(n). dp array of size nnn is used.'''\n",
    "class Solution:\n",
    "    def climbStairs(self, n: int) -> int:\n",
    "        if n == 1:\n",
    "            return 1\n",
    "        dp = [0 for _ in range(n + 1)]\n",
    "        dp[1] = 1\n",
    "        dp[2] = 2\n",
    "        for i in range(3, n + 1):\n",
    "            dp[i] = dp[i - 1] + dp[i - 2]\n",
    "        return dp[n]"
   ]
  },
  {
   "cell_type": "code",
   "execution_count": null,
   "metadata": {},
   "outputs": [],
   "source": [
    "class Solution:\n",
    "    def climbStairs(self, n: int) -> int:\n",
    "        n1, n2 = 1, 1\n",
    "\n",
    "        for i in range(2,n+1):\n",
    "            temp = n1\n",
    "            n1 = n1 + n2\n",
    "            n2 = temp\n",
    "\n",
    "        return n1"
   ]
  },
  {
   "cell_type": "code",
   "execution_count": null,
   "metadata": {},
   "outputs": [],
   "source": [
    "class Solution:\n",
    "    def climbStairs(self, n: int) -> int:\n",
    "        n1, n2 = 1, 1\n",
    "        # n1 is the current stage\n",
    "        for i in range(n-1):\n",
    "            temp = n1\n",
    "            n1 = n1 + n2\n",
    "            n2 = temp\n",
    "\n",
    "        return n1"
   ]
  }
 ],
 "metadata": {
  "language_info": {
   "name": "python"
  }
 },
 "nbformat": 4,
 "nbformat_minor": 2
}
