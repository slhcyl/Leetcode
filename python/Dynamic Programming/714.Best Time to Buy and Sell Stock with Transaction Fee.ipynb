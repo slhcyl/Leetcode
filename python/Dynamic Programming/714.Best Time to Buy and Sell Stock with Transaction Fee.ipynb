{
 "cells": [
  {
   "cell_type": "markdown",
   "metadata": {},
   "source": [
    "714. Best Time to Buy and Sell Stock with Transaction Fee\n",
    "Solved\n",
    "Medium\n",
    "Topics\n",
    "Companies\n",
    "Hint\n",
    "You are given an array prices where prices[i] is the price of a given stock on the ith day, and an integer fee representing a transaction fee.\n",
    "\n",
    "Find the maximum profit you can achieve. You may complete as many transactions as you like, but you need to pay the transaction fee for each transaction.\n",
    "\n",
    "Note:\n",
    "\n",
    "You may not engage in multiple transactions simultaneously (i.e., you must sell the stock before you buy again).\n",
    "The transaction fee is only charged once for each stock purchase and sale.\n",
    " \n",
    "\n",
    "Example 1:\n",
    "\n",
    "Input: prices = [1,3,2,8,4,9], fee = 2\n",
    "Output: 8\n",
    "Explanation: The maximum profit can be achieved by:\n",
    "- Buying at prices[0] = 1\n",
    "- Selling at prices[3] = 8\n",
    "- Buying at prices[4] = 4\n",
    "- Selling at prices[5] = 9\n",
    "The total profit is ((8 - 1) - 2) + ((9 - 4) - 2) = 8.\n",
    "Example 2:\n",
    "\n",
    "Input: prices = [1,3,7,5,10,3], fee = 3\n",
    "Output: 6\n",
    " \n",
    "\n",
    "Constraints:\n",
    "\n",
    "1 <= prices.length <= 5 * 104\n",
    "1 <= prices[i] < 5 * 104\n",
    "0 <= fee < 5 * 104"
   ]
  },
  {
   "cell_type": "code",
   "execution_count": null,
   "metadata": {},
   "outputs": [],
   "source": [
    "# bottom up DP\n",
    "'''Complexity Analysis\n",
    "Let n be the length of the input array prices.\n",
    "Time complexity: O(n)\n",
    "We iterate from day 1 to day n - 1, which contains n - 1 steps.\n",
    "At each step, we update free[i] and hold[i] which takes O(1).\n",
    "Space complexity: O(n)\n",
    "We create two arrays of length n to record the maximum profit with two status on each day.'''\n",
    "class Solution:\n",
    "    def maxProfit(self, prices: List[int], fee: int) -> int:\n",
    "        n = len(prices)\n",
    "        hold, free = [0] * n, [0] * n\n",
    "        \n",
    "        # In order to hold a stock on day 0, we have no other choice but to buy it for prices[0].\n",
    "        hold[0] = -prices[0]\n",
    "        \n",
    "        for i in range(1, n):\n",
    "            hold[i] = max(hold[i - 1], free[i - 1] - prices[i])\n",
    "            free[i] = max(free[i - 1], hold[i - 1] + prices[i] - fee)\n",
    "        \n",
    "        return free[-1]"
   ]
  },
  {
   "cell_type": "code",
   "execution_count": null,
   "metadata": {},
   "outputs": [],
   "source": [
    "'''Complexity Analysis\n",
    "Let nnn be the length of the input array prices.\n",
    "Time complexity: O(n)\n",
    "We iterate from day 1 to day n - 1, which contains n - 1 steps.\n",
    "At each step, we update free and hold which takes O(1).\n",
    "Space complexity: O(1)\n",
    "We only need to update three parameters tmp, free and hold.'''\n",
    "class Solution:\n",
    "    def maxProfit(self, prices: List[int], fee: int) -> int:\n",
    "        n = len(prices)\n",
    "        hold, free = -prices[0], 0\n",
    "\n",
    "        for i in range(1,n):\n",
    "            temp = hold\n",
    "            hold = max(hold, free - prices[i])\n",
    "            free = max(free, temp + prices[i] - fee)\n",
    "\n",
    "        return free"
   ]
  }
 ],
 "metadata": {
  "language_info": {
   "name": "python"
  }
 },
 "nbformat": 4,
 "nbformat_minor": 2
}
