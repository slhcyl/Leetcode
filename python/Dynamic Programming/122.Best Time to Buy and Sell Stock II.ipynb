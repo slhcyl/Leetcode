{
 "cells": [
  {
   "cell_type": "markdown",
   "metadata": {},
   "source": [
    "122. Best Time to Buy and Sell Stock II\n",
    "Solved\n",
    "Medium\n",
    "Topics\n",
    "Companies\n",
    "You are given an integer array prices where prices[i] is the price of a given stock on the ith day.\n",
    "\n",
    "On each day, you may decide to buy and/or sell the stock. You can only hold at most one share of the stock at any time. However, you can buy it then immediately sell it on the same day.\n",
    "\n",
    "Find and return the maximum profit you can achieve.\n",
    "\n",
    " \n",
    "\n",
    "Example 1:\n",
    "\n",
    "Input: prices = [7,1,5,3,6,4]\n",
    "Output: 7\n",
    "Explanation: Buy on day 2 (price = 1) and sell on day 3 (price = 5), profit = 5-1 = 4.\n",
    "Then buy on day 4 (price = 3) and sell on day 5 (price = 6), profit = 6-3 = 3.\n",
    "Total profit is 4 + 3 = 7.\n",
    "Example 2:\n",
    "\n",
    "Input: prices = [1,2,3,4,5]\n",
    "Output: 4\n",
    "Explanation: Buy on day 1 (price = 1) and sell on day 5 (price = 5), profit = 5-1 = 4.\n",
    "Total profit is 4.\n",
    "Example 3:\n",
    "\n",
    "Input: prices = [7,6,4,3,1]\n",
    "Output: 0\n",
    "Explanation: There is no way to make a positive profit, so we never buy the stock to achieve the maximum profit of 0.\n",
    " \n",
    "\n",
    "Constraints:\n",
    "\n",
    "1 <= prices.length <= 3 * 104\n",
    "0 <= prices[i] <= 104"
   ]
  },
  {
   "cell_type": "code",
   "execution_count": null,
   "metadata": {},
   "outputs": [],
   "source": [
    "# dp\n",
    "class Solution:\n",
    "    def maxProfit(self, prices: List[int]) -> int:\n",
    "        hold = -prices[0]\n",
    "        free = 0\n",
    "\n",
    "        for i in range(1, len(prices)):\n",
    "            temp = hold\n",
    "            hold = max(hold, free - prices[i])\n",
    "            free = max(free, temp + prices[i])\n",
    "        return free"
   ]
  },
  {
   "cell_type": "code",
   "execution_count": null,
   "metadata": {},
   "outputs": [],
   "source": [
    "# dp tabulation bottom up\n",
    "class Solution:\n",
    "    def maxProfit(self, prices: List[int]) -> int:\n",
    "        n = len(prices)\n",
    "        hold, free = [0] * n, [0] * n\n",
    "        hold[0] = -prices[0]\n",
    "        \n",
    "\n",
    "        for i in range(1, n):\n",
    "            hold[i] = max(hold[i-1], free[i-1] - prices[i])\n",
    "            free[i] = max(free[i-1], hold[i-1] + prices[i])\n",
    "        return free[-1]"
   ]
  },
  {
   "cell_type": "code",
   "execution_count": null,
   "metadata": {},
   "outputs": [],
   "source": [
    "'''Complexity Analysis\n",
    "Time complexity : O(n). Single pass.\n",
    "Space complexity: O(1). Constant space needed.'''\n",
    "class Solution:\n",
    "    def maxProfit(self, prices: List[int]) -> int:\n",
    "        maxprofit = 0\n",
    "        for i in range(1, len(prices)):\n",
    "            # if stocks are in the increasing order\n",
    "            if prices[i] > prices[i - 1]:\n",
    "                maxprofit += prices[i] - prices[i - 1]\n",
    "        return maxprofit"
   ]
  },
  {
   "cell_type": "code",
   "execution_count": null,
   "metadata": {},
   "outputs": [],
   "source": [
    "class Solution:\n",
    "    def maxProfit(self, prices: List[int]) -> int:\n",
    "        i = 0\n",
    "        valley = prices[0]\n",
    "        peak = prices[0]\n",
    "        maxprofit = 0\n",
    "        while i < len(prices) - 1:\n",
    "            while i < len(prices) - 1 and prices[i] >= prices[i + 1]:\n",
    "                i += 1\n",
    "            valley = prices[i]\n",
    "            while i < len(prices) - 1 and prices[i] <= prices[i + 1]:\n",
    "                i += 1\n",
    "            peak = prices[i]\n",
    "            maxprofit += peak - valley\n",
    "        return maxprofit"
   ]
  }
 ],
 "metadata": {
  "language_info": {
   "name": "python"
  }
 },
 "nbformat": 4,
 "nbformat_minor": 2
}
