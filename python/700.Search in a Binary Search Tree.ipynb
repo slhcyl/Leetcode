{
 "cells": [
  {
   "cell_type": "markdown",
   "metadata": {},
   "source": [
    "700. Search in a Binary Search Tree\n",
    "Solved\n",
    "Easy\n",
    "Topics\n",
    "Companies\n",
    "You are given the root of a binary search tree (BST) and an integer val.\n",
    "\n",
    "Find the node in the BST that the node's value equals val and return the subtree rooted with that node. If such a node does not exist, return null.\n",
    "\n",
    " \n",
    "\n",
    "Example 1:\n",
    "\n",
    "\n",
    "Input: root = [4,2,7,1,3], val = 2\n",
    "Output: [2,1,3]\n",
    "Example 2:\n",
    "\n",
    "\n",
    "Input: root = [4,2,7,1,3], val = 5\n",
    "Output: []\n",
    " \n",
    "\n",
    "Constraints:\n",
    "\n",
    "The number of nodes in the tree is in the range [1, 5000].\n",
    "1 <= Node.val <= 107\n",
    "root is a binary search tree.\n",
    "1 <= val <= 107"
   ]
  },
  {
   "cell_type": "markdown",
   "metadata": {},
   "source": [
    "Time Complexity:\n",
    "Each comparison allows us to skip half the remaining tree (binary search).\n",
    "Thus, the time complexity is O(logn) in a balanced BST and O(n) in the worst case (unbalanced).\n",
    "Space Complexity:\n",
    "Recursive Approach: O(h) due to the recursion stack, where h is the height of the tree.\n",
    "Iterative Approach: O(1) because no extra stack space is required."
   ]
  },
  {
   "cell_type": "code",
   "execution_count": null,
   "metadata": {},
   "outputs": [],
   "source": [
    "# Definition for a binary tree node.\n",
    "# class TreeNode:\n",
    "#     def __init__(self, val=0, left=None, right=None):\n",
    "#         self.val = val\n",
    "#         self.left = left\n",
    "#         self.right = right\n",
    "class Solution:\n",
    "    def searchBST(self, root: Optional[TreeNode], val: int) -> Optional[TreeNode]:\n",
    "        if root is None or val == root.val:\n",
    "            return root\n",
    "\n",
    "        if val < root.val:\n",
    "            return self.searchBST(root.left, val)\n",
    "        else:\n",
    "            return self.searchBST(root.right, val)"
   ]
  },
  {
   "cell_type": "code",
   "execution_count": null,
   "metadata": {},
   "outputs": [],
   "source": [
    "# Definition for a binary tree node.\n",
    "# class TreeNode:\n",
    "#     def __init__(self, val=0, left=None, right=None):\n",
    "#         self.val = val\n",
    "#         self.left = left\n",
    "#         self.right = right\n",
    "class Solution:\n",
    "    def searchBST(self, root: Optional[TreeNode], val: int) -> Optional[TreeNode]:\n",
    "        if not root:\n",
    "            return root\n",
    "\n",
    "        node = root\n",
    "        while node:\n",
    "            if node.val < val:\n",
    "                node = node.right\n",
    "            elif node.val > val:\n",
    "                node = node.left\n",
    "            else:\n",
    "                return node"
   ]
  },
  {
   "cell_type": "code",
   "execution_count": null,
   "metadata": {},
   "outputs": [],
   "source": [
    "# Definition for a binary tree node.\n",
    "# class TreeNode:\n",
    "#     def __init__(self, val=0, left=None, right=None):\n",
    "#         self.val = val\n",
    "#         self.left = left\n",
    "#         self.right = right\n",
    "class Solution:\n",
    "    def searchBST(self, root: Optional[TreeNode], val: int) -> Optional[TreeNode]:\n",
    "        if not root or val == root.val:\n",
    "            return root\n",
    "\n",
    "        if root.val < val:\n",
    "            return self.searchBST(root.right,val)\n",
    "        elif root.val > val:\n",
    "            return self.searchBST(root.left,val)\n",
    "        else:\n",
    "            return root"
   ]
  },
  {
   "cell_type": "markdown",
   "metadata": {},
   "source": [
    "Approach 1: Recursion\n",
    "Algorithm\n",
    "\n",
    "The recursion implementation is very straightforward:\n",
    "\n",
    "If the tree is empty root == null or the value to find is here val == root.val - return root.\n",
    "\n",
    "If val < root.val - go to search into the left subtree searchBST(root.left, val).\n",
    "\n",
    "If val > root.val - go to search into the right subtree searchBST(root.right, val).\n",
    "\n",
    "Return root.\n",
    "\n",
    "Implementation\n",
    "\n",
    "Complexity Analysis\n",
    "\n",
    "Time complexity : O(H), where H is a tree height. That results in O(log⁡N) in the average case, and O(N) in the worst case.\n",
    "\n",
    "Space complexity : O(H) to keep the recursion stack, i.e. O(log⁡N) in the average case, and O(N) in the worst case.\n",
    "\n"
   ]
  },
  {
   "cell_type": "code",
   "execution_count": null,
   "metadata": {},
   "outputs": [],
   "source": [
    "class Solution:\n",
    "    def searchBST(self, root: TreeNode, val: int) -> TreeNode:\n",
    "        if root is None or val == root.val:\n",
    "            return root\n",
    "        \n",
    "        return self.searchBST(root.left, val) if val < root.val \\\n",
    "            else self.searchBST(root.right, val)"
   ]
  },
  {
   "cell_type": "markdown",
   "metadata": {},
   "source": [
    "Approach 2: Iteration\n",
    "To reduce the space complexity, one could convert the recursive approach into an iterative one:\n",
    "\n",
    "While the tree is not empty root != null and the value to find is not here val != root.val:\n",
    "\n",
    "If val < root.val - go to search into the left subtree root = root.left.\n",
    "\n",
    "If val > root.val - go to search into the right subtree root = root.right.\n",
    "\n",
    "Return root.\n",
    "\n",
    "\n",
    "Complexity Analysis\n",
    "\n",
    "Time complexity : O(H), where H is a tree height. That results in O(log⁡N) in the average case, and O(N) in the worst case.\n",
    "\n",
    "Let's compute time complexity with the help of master theorem T(N)=aT(Nb)+Θ(Nd)T(N). The equation represents dividing the problem up into aaa subproblems of size N/b in Θ(N^d) time. Here at step, there is only one subproblem a = 1, its size is half of the initial problem b = 2, and all this happens in a constant time d = 0, as for the binary search. That means that log⁡ba=dlog_b{a} \n",
    " a=d and hence we're dealing with case 2 that results in O(nlog⁡balog⁡d+1N) = O(log⁡N) time complexity.\n",
    "\n",
    "Space complexity : O(1) since it's a constant space solution."
   ]
  },
  {
   "cell_type": "code",
   "execution_count": null,
   "metadata": {},
   "outputs": [],
   "source": [
    "class Solution:\n",
    "    def searchBST(self, root: TreeNode, val: int) -> TreeNode:\n",
    "        while root is not None and root.val != val:\n",
    "            root = root.left if val < root.val else root.right\n",
    "        return root"
   ]
  }
 ],
 "metadata": {
  "language_info": {
   "name": "python"
  }
 },
 "nbformat": 4,
 "nbformat_minor": 2
}
