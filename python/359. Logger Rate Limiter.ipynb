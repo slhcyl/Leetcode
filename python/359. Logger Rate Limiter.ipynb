{
 "cells": [
  {
   "cell_type": "markdown",
   "metadata": {},
   "source": [
    "359. Logger Rate Limiter\n",
    "Easy\n",
    "Topics\n",
    "Companies\n",
    "Design a logger system that receives a stream of messages along with their timestamps. Each unique message should only be printed at most every 10 seconds (i.e. a message printed at timestamp t will prevent other identical messages from being printed until timestamp t + 10).\n",
    "\n",
    "All messages will come in chronological order. Several messages may arrive at the same timestamp.\n",
    "\n",
    "Implement the Logger class:\n",
    "\n",
    "Logger() Initializes the logger object.\n",
    "bool shouldPrintMessage(int timestamp, string message) Returns true if the message should be printed in the given timestamp, otherwise returns false.\n",
    " \n",
    "\n",
    "Example 1:\n",
    "\n",
    "Input\n",
    "[\"Logger\", \"shouldPrintMessage\", \"shouldPrintMessage\", \"shouldPrintMessage\", \"shouldPrintMessage\", \"shouldPrintMessage\", \"shouldPrintMessage\"]\n",
    "[[], [1, \"foo\"], [2, \"bar\"], [3, \"foo\"], [8, \"bar\"], [10, \"foo\"], [11, \"foo\"]]\n",
    "Output\n",
    "[null, true, true, false, false, false, true]\n",
    "\n",
    "Explanation\n",
    "Logger logger = new Logger();\n",
    "logger.shouldPrintMessage(1, \"foo\");  // return true, next allowed timestamp for \"foo\" is 1 + 10 = 11\n",
    "logger.shouldPrintMessage(2, \"bar\");  // return true, next allowed timestamp for \"bar\" is 2 + 10 = 12\n",
    "logger.shouldPrintMessage(3, \"foo\");  // 3 < 11, return false\n",
    "logger.shouldPrintMessage(8, \"bar\");  // 8 < 12, return false\n",
    "logger.shouldPrintMessage(10, \"foo\"); // 10 < 11, return false\n",
    "logger.shouldPrintMessage(11, \"foo\"); // 11 >= 11, return true, next allowed timestamp for \"foo\" is 11 + 10 = 21\n",
    " \n",
    "\n",
    "Constraints:\n",
    "\n",
    "0 <= timestamp <= 109\n",
    "Every timestamp will be passed in non-decreasing order (chronological order).\n",
    "1 <= message.length <= 30\n",
    "At most 104 calls will be made to shouldPrintMessage."
   ]
  },
  {
   "cell_type": "code",
   "execution_count": null,
   "metadata": {},
   "outputs": [],
   "source": [
    "# Time Complexity: O(1). The lookup and update of the hashtable takes a constant time.\n",
    "# Space Complexity: O(M) where MMM is the size of all incoming messages. Over the time, the hashtable would have an entry for each unique message that has appeared.\n",
    "class Logger:\n",
    "\n",
    "    def __init__(self):\n",
    "        self.message_dict = {}\n",
    "\n",
    "    def shouldPrintMessage(self, timestamp: int, message: str) -> bool:\n",
    "        if message not in self.message_dict:\n",
    "            self.message_dict[message] = timestamp\n",
    "            return True\n",
    "        \n",
    "        if timestamp - selt.message_dict(message )>= 10:\n",
    "            self.message_dict[message] = timestamp\n",
    "            return True\n",
    "        else:\n",
    "            return False\n",
    "\n",
    "\n",
    "# Your Logger object will be instantiated and called as such:\n",
    "# obj = Logger()\n",
    "# param_1 = obj.shouldPrintMessage(timestamp,message)"
   ]
  }
 ],
 "metadata": {
  "language_info": {
   "name": "python"
  }
 },
 "nbformat": 4,
 "nbformat_minor": 2
}
