{
 "cells": [
  {
   "cell_type": "code",
   "execution_count": 24,
   "metadata": {},
   "outputs": [
    {
     "data": {
      "text/plain": [
       "[1, 5, 2, 9, 20]"
      ]
     },
     "execution_count": 24,
     "metadata": {},
     "output_type": "execute_result"
    }
   ],
   "source": [
    "x = [1,3,5,2,9,20]\n",
    "del(x[1]) # index in the square bracket: when you want to delete elements or slices from a list.\n",
    "x"
   ]
  },
  {
   "cell_type": "code",
   "execution_count": 25,
   "metadata": {},
   "outputs": [
    {
     "data": {
      "text/plain": [
       "[1, 5, 2, 9]"
      ]
     },
     "execution_count": 25,
     "metadata": {},
     "output_type": "execute_result"
    }
   ],
   "source": [
    "x.pop() # index is optional in the bracket: if no index is defined, then removed the last element and output this last removed element\n",
    "x"
   ]
  },
  {
   "cell_type": "code",
   "execution_count": 26,
   "metadata": {},
   "outputs": [
    {
     "data": {
      "text/plain": [
       "5"
      ]
     },
     "execution_count": 26,
     "metadata": {},
     "output_type": "execute_result"
    }
   ],
   "source": [
    "x.pop(1) # index in the bracket: when you want to remove and get the value of a specific element.\n",
    "# x"
   ]
  },
  {
   "cell_type": "code",
   "execution_count": 27,
   "metadata": {},
   "outputs": [
    {
     "data": {
      "text/plain": [
       "[2, 9]"
      ]
     },
     "execution_count": 27,
     "metadata": {},
     "output_type": "execute_result"
    }
   ],
   "source": [
    "x.remove(1) # element in the bracket: when you want to remove the first occurrence of a specific element.\n",
    "x"
   ]
  },
  {
   "cell_type": "code",
   "execution_count": 28,
   "metadata": {},
   "outputs": [
    {
     "data": {
      "text/plain": [
       "[2, 20]"
      ]
     },
     "execution_count": 28,
     "metadata": {},
     "output_type": "execute_result"
    }
   ],
   "source": [
    "x[1]=20\n",
    "x"
   ]
  },
  {
   "cell_type": "code",
   "execution_count": 57,
   "metadata": {},
   "outputs": [
    {
     "data": {
      "text/plain": [
       "'country,\\npopulation,\\narea\\nUK,\\n67m,\\n242000km2'"
      ]
     },
     "execution_count": 57,
     "metadata": {},
     "output_type": "execute_result"
    }
   ],
   "source": [
    "import pandas as pd\n",
    "\n",
    "given = 'country,population,area\\nUK,67m,242000km2\\nUSA,NULL,38Km'\n",
    "\n",
    "# Use the splitlines() method to convert the string into a list of lines\n",
    "lines = given.strip().split('\\n')\n",
    "header = lines[0]\n",
    "filtered_rows = [row for row in lines[1:] if 'NULL' not in row]\n",
    "output_string = '\\n'.join([header] + filtered_rows)\n",
    "output_string\n"
   ]
  },
  {
   "cell_type": "code",
   "execution_count": 39,
   "metadata": {},
   "outputs": [
    {
     "name": "stdout",
     "output_type": "stream",
     "text": [
      "country,population,area\n",
      "UK,67m,242000km2\n"
     ]
    }
   ],
   "source": [
    "def filter_null_rows(csv_string):\n",
    "    # Split the CSV string into lines\n",
    "    lines = csv_string.strip().split('\\n')\n",
    "    \n",
    "    # Get the header\n",
    "    header = lines[0]\n",
    "    \n",
    "    # Filter rows with null values\n",
    "    filtered_rows = [row for row in lines[1:] if all(cell.strip() for cell in row.split(','))]\n",
    "    \n",
    "    # Combine the header and filtered rows back into a CSV string\n",
    "    output_string = '\\n'.join([header] + filtered_rows)\n",
    "    \n",
    "    return output_string\n",
    "\n",
    "# Example\n",
    "csv_string = 'country,population,area\\nUK,67m,242000km2\\n,25m,'\n",
    "filtered_csv = filter_null_rows(csv_string)\n",
    "\n",
    "print(filtered_csv)\n"
   ]
  },
  {
   "cell_type": "code",
   "execution_count": 58,
   "metadata": {},
   "outputs": [
    {
     "name": "stdout",
     "output_type": "stream",
     "text": [
      "header,header\n",
      "ANNUL,ANNULLED\n",
      "null,NILL\n"
     ]
    }
   ],
   "source": [
    "input_string = 'header,header\\nANNUL,ANNULLED\\nnull,NILL\\nNULL,NULL'\n",
    "\n",
    "# Split the input string into lines\n",
    "lines = input_string.split('\\n')\n",
    "\n",
    "# Filter out lines where any field contains NULL\n",
    "filtered_lines = [line for line in lines if 'NULL' not in line.split(',')]\n",
    "\n",
    "# Join the filtered lines back into a string\n",
    "output_string = '\\n'.join(filtered_lines)\n",
    "\n",
    "print(output_string)\n"
   ]
  },
  {
   "cell_type": "code",
   "execution_count": 63,
   "metadata": {},
   "outputs": [
    {
     "data": {
      "text/plain": [
       "['header,header', 'ANNUL,ANNULLED', 'null,NILL', 'NULL,NULL']"
      ]
     },
     "execution_count": 63,
     "metadata": {},
     "output_type": "execute_result"
    }
   ],
   "source": [
    "[line for line in lines if 'NULL' not in line.split(',')]"
   ]
  },
  {
   "cell_type": "code",
   "execution_count": 62,
   "metadata": {},
   "outputs": [
    {
     "ename": "AttributeError",
     "evalue": "'list' object has no attribute 'split'",
     "output_type": "error",
     "traceback": [
      "\u001b[1;31m---------------------------------------------------------------------------\u001b[0m",
      "\u001b[1;31mAttributeError\u001b[0m                            Traceback (most recent call last)",
      "\u001b[1;32mc:\\Users\\tt861\\Documents\\GitHub\\Leetcode\\python\\how to delete from a list.ipynb Cell 10\u001b[0m line \u001b[0;36m5\n\u001b[0;32m      <a href='vscode-notebook-cell:/c%3A/Users/tt861/Documents/GitHub/Leetcode/python/how%20to%20delete%20from%20a%20list.ipynb#X12sZmlsZQ%3D%3D?line=2'>3</a>\u001b[0m \u001b[39m# Split the input string into lines\u001b[39;00m\n\u001b[0;32m      <a href='vscode-notebook-cell:/c%3A/Users/tt861/Documents/GitHub/Leetcode/python/how%20to%20delete%20from%20a%20list.ipynb#X12sZmlsZQ%3D%3D?line=3'>4</a>\u001b[0m lines \u001b[39m=\u001b[39m input_string\u001b[39m.\u001b[39msplit(\u001b[39m'\u001b[39m\u001b[39m\\n\u001b[39;00m\u001b[39m'\u001b[39m)\n\u001b[1;32m----> <a href='vscode-notebook-cell:/c%3A/Users/tt861/Documents/GitHub/Leetcode/python/how%20to%20delete%20from%20a%20list.ipynb#X12sZmlsZQ%3D%3D?line=4'>5</a>\u001b[0m lines\u001b[39m.\u001b[39;49msplit(\u001b[39m'\u001b[39m\u001b[39m,\u001b[39m\u001b[39m'\u001b[39m)\n",
      "\u001b[1;31mAttributeError\u001b[0m: 'list' object has no attribute 'split'"
     ]
    }
   ],
   "source": [
    "input_string = 'header,header\\nANNUL,ANNULLED\\nnull,NILL\\nNULL,NULL'\n",
    "\n",
    "# Split the input string into lines\n",
    "lines = input_string.split('\\n')\n",
    "lines.split(',')"
   ]
  },
  {
   "cell_type": "code",
   "execution_count": 64,
   "metadata": {},
   "outputs": [
    {
     "ename": "AttributeError",
     "evalue": "'str' object has no attribute 'ascii_lowercase'",
     "output_type": "error",
     "traceback": [
      "\u001b[1;31m---------------------------------------------------------------------------\u001b[0m",
      "\u001b[1;31mAttributeError\u001b[0m                            Traceback (most recent call last)",
      "\u001b[1;32mc:\\Users\\tt861\\Documents\\GitHub\\Leetcode\\python\\how to delete from a list.ipynb Cell 11\u001b[0m line \u001b[0;36m1\n\u001b[1;32m----> <a href='vscode-notebook-cell:/c%3A/Users/tt861/Documents/GitHub/Leetcode/python/how%20to%20delete%20from%20a%20list.ipynb#X13sZmlsZQ%3D%3D?line=0'>1</a>\u001b[0m \u001b[39m'\u001b[39;49m\u001b[39ma\u001b[39;49m\u001b[39m'\u001b[39;49m\u001b[39m.\u001b[39;49mascii_lowercase\n",
      "\u001b[1;31mAttributeError\u001b[0m: 'str' object has no attribute 'ascii_lowercase'"
     ]
    }
   ],
   "source": [
    "'a'.ascii_lowercase"
   ]
  }
 ],
 "metadata": {
  "kernelspec": {
   "display_name": "Python 3",
   "language": "python",
   "name": "python3"
  },
  "language_info": {
   "codemirror_mode": {
    "name": "ipython",
    "version": 3
   },
   "file_extension": ".py",
   "mimetype": "text/x-python",
   "name": "python",
   "nbconvert_exporter": "python",
   "pygments_lexer": "ipython3",
   "version": "3.10.11"
  }
 },
 "nbformat": 4,
 "nbformat_minor": 2
}
