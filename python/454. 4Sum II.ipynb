{
 "cells": [
  {
   "cell_type": "markdown",
   "metadata": {},
   "source": [
    "454. 4Sum II\n",
    "Solved\n",
    "Medium\n",
    "Topics\n",
    "Companies\n",
    "Given four integer arrays nums1, nums2, nums3, and nums4 all of length n, return the number of tuples (i, j, k, l) such that:\n",
    "\n",
    "0 <= i, j, k, l < n\n",
    "nums1[i] + nums2[j] + nums3[k] + nums4[l] == 0\n",
    " \n",
    "\n",
    "Example 1:\n",
    "\n",
    "Input: nums1 = [1,2], nums2 = [-2,-1], nums3 = [-1,2], nums4 = [0,2]\n",
    "Output: 2\n",
    "Explanation:\n",
    "The two tuples are:\n",
    "1. (0, 0, 0, 1) -> nums1[0] + nums2[0] + nums3[0] + nums4[1] = 1 + (-2) + (-1) + 2 = 0\n",
    "2. (1, 1, 0, 0) -> nums1[1] + nums2[1] + nums3[0] + nums4[0] = 2 + (-1) + (-1) + 0 = 0\n",
    "Example 2:\n",
    "\n",
    "Input: nums1 = [0], nums2 = [0], nums3 = [0], nums4 = [0]\n",
    "Output: 1\n",
    " \n",
    "\n",
    "Constraints:\n",
    "\n",
    "n == nums1.length\n",
    "n == nums2.length\n",
    "n == nums3.length\n",
    "n == nums4.length\n",
    "1 <= n <= 200\n",
    "-228 <= nums1[i], nums2[i], nums3[i], nums4[i] <= 228"
   ]
  },
  {
   "cell_type": "markdown",
   "metadata": {},
   "source": [
    "Complexity Analysis\n",
    "Time Complexity: O(n^2). We have 2 nested loops to count sums, and another 2 nested loops to find complements.\n",
    "\n",
    "Space Complexity: O(n^2) for the hashmap. There could be up to O(n^2) distinct a + b keys."
   ]
  },
  {
   "cell_type": "code",
   "execution_count": null,
   "metadata": {},
   "outputs": [],
   "source": [
    "class Solution:\n",
    "    def fourSumCount(self, nums1: List[int], nums2: List[int], nums3: List[int], nums4: List[int]) -> int:\n",
    "        sum_count = {}\n",
    "        count = 0\n",
    "\n",
    "        for a in nums1:\n",
    "            for b in nums2:\n",
    "                pair_sum = a + b\n",
    "\n",
    "                if pair_sum in sum_count:\n",
    "                    sum_count[pair_sum] += 1\n",
    "                else:\n",
    "                    sum_count[pair_sum] = 1\n",
    "        \n",
    "        for c in nums3:\n",
    "            for d in nums4:\n",
    "                target = -(c + d)\n",
    "                if target in sum_count:\n",
    "                    count += sum_count[target]\n",
    "        return count"
   ]
  }
 ],
 "metadata": {
  "language_info": {
   "name": "python"
  }
 },
 "nbformat": 4,
 "nbformat_minor": 2
}
