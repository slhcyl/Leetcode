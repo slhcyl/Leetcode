{
 "cells": [
  {
   "cell_type": "markdown",
   "metadata": {},
   "source": [
    "398. Random Pick Index\n",
    "Solved\n",
    "Medium\n",
    "Topics\n",
    "Companies\n",
    "Given an integer array nums with possible duplicates, randomly output the index of a given target number. You can assume that the given target number must exist in the array.\n",
    "\n",
    "Implement the Solution class:\n",
    "\n",
    "Solution(int[] nums) Initializes the object with the array nums.\n",
    "int pick(int target) Picks a random index i from nums where nums[i] == target. If there are multiple valid i's, then each index should have an equal probability of returning.\n",
    " \n",
    "\n",
    "Example 1:\n",
    "\n",
    "Input\n",
    "[\"Solution\", \"pick\", \"pick\", \"pick\"]\n",
    "[[[1, 2, 3, 3, 3]], [3], [1], [3]]\n",
    "Output\n",
    "[null, 4, 0, 2]\n",
    "\n",
    "Explanation\n",
    "Solution solution = new Solution([1, 2, 3, 3, 3]);\n",
    "solution.pick(3); // It should return either index 2, 3, or 4 randomly. Each index should have equal probability of returning.\n",
    "solution.pick(1); // It should return 0. Since in the array only nums[0] is equal to 1.\n",
    "solution.pick(3); // It should return either index 2, 3, or 4 randomly. Each index should have equal probability of returning.\n",
    " \n",
    "\n",
    "Constraints:\n",
    "\n",
    "1 <= nums.length <= 2 * 104\n",
    "-231 <= nums[i] <= 231 - 1\n",
    "target is an integer from nums.\n",
    "At most 104 calls will be made to pick."
   ]
  },
  {
   "cell_type": "code",
   "execution_count": null,
   "metadata": {},
   "outputs": [],
   "source": [
    "# t O(n)\n",
    "# s O(1)\n",
    "class Solution:\n",
    "\n",
    "    def __init__(self, nums: List[int]):\n",
    "        self.nums = nums\n",
    "\n",
    "    def pick(self, target: int) -> int:\n",
    "        count = picked_index = 0\n",
    "        for i, num in enumerate(self.nums):\n",
    "            if num == target:\n",
    "                count += 1\n",
    "                if random.randint(1, count) == count:\n",
    "                    picked_index = i\n",
    "        return picked_index\n",
    "\n",
    "\n",
    "# Your Solution object will be instantiated and called as such:\n",
    "# obj = Solution(nums)\n",
    "# param_1 = obj.pick(target)"
   ]
  },
  {
   "cell_type": "code",
   "execution_count": null,
   "metadata": {},
   "outputs": [],
   "source": [
    "# t O(n)\n",
    "# s O(n)\n",
    "import random\n",
    "\n",
    "class Solution:\n",
    "    def __init__(self, nums):\n",
    "        self.index_map = {}\n",
    "        for index, num in enumerate(nums):\n",
    "            if num not in self.index_map:\n",
    "                self.index_map[num] = []\n",
    "            self.index_map[num].append(index)\n",
    "\n",
    "    def pick(self, target):\n",
    "        indices = self.index_map[target]\n",
    "        return random.choice(indices)\n"
   ]
  }
 ],
 "metadata": {
  "language_info": {
   "name": "python"
  }
 },
 "nbformat": 4,
 "nbformat_minor": 2
}
