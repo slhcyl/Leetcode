{
 "cells": [
  {
   "cell_type": "markdown",
   "metadata": {},
   "source": [
    "643. Maximum Average Subarray I\n",
    "Solved\n",
    "Easy\n",
    "Topics\n",
    "Companies\n",
    "You are given an integer array nums consisting of n elements, and an integer k.\n",
    "\n",
    "Find a contiguous subarray whose length is equal to k that has the maximum average value and return this value. Any answer with a calculation error less than 10-5 will be accepted.\n",
    "\n",
    " \n",
    "\n",
    "Example 1:\n",
    "\n",
    "Input: nums = [1,12,-5,-6,50,3], k = 4\n",
    "Output: 12.75000\n",
    "Explanation: Maximum average is (12 - 5 - 6 + 50) / 4 = 51 / 4 = 12.75\n",
    "Example 2:\n",
    "\n",
    "Input: nums = [5], k = 1\n",
    "Output: 5.00000\n",
    " \n",
    "\n",
    "Constraints:\n",
    "\n",
    "n == nums.length\n",
    "1 <= k <= n <= 105\n",
    "-104 <= nums[i] <= 104"
   ]
  },
  {
   "cell_type": "code",
   "execution_count": null,
   "metadata": {},
   "outputs": [],
   "source": [
    "# sliding window:\n",
    "# Time complexity : O(n). We iterate over the given numsnumsnums array of length nnn once only.\n",
    "# Space complexity : O(1). Constant extra space is used.\n",
    "class Solution:\n",
    "    def findMaxAverage(self, nums: List[int], k: int) -> float:\n",
    "        cur_sum = sum(nums[:k])\n",
    "        max_sum = cur_sum\n",
    "\n",
    "        for i in range(k, len(nums)):\n",
    "            cur_sum += nums[i] - nums[i - k]\n",
    "            max_sum = max(cur_sum,max_sum)\n",
    "\n",
    "        return max_sum/k"
   ]
  },
  {
   "cell_type": "code",
   "execution_count": null,
   "metadata": {},
   "outputs": [],
   "source": [
    "class Solution:\n",
    "    def findMaxAverage(self, nums: List[int], k: int) -> float:\n",
    "        max_sum = float('-inf')\n",
    "        cur_sum = 0\n",
    "        l = 0\n",
    "        for i in range(len(nums)):\n",
    "            cur_sum += nums[i]\n",
    "            # reach to the length of k\n",
    "            if i >= k - 1:\n",
    "                max_sum = max(cur_sum, max_sum)\n",
    "                cur_sum -= nums[l]\n",
    "                l += 1\n",
    "\n",
    "        return max_sum/k"
   ]
  }
 ],
 "metadata": {
  "language_info": {
   "name": "python"
  }
 },
 "nbformat": 4,
 "nbformat_minor": 2
}
