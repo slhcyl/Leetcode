{
 "cells": [
  {
   "cell_type": "markdown",
   "metadata": {},
   "source": [
    "3. Longest Substring Without Repeating Characters\n",
    "Solved\n",
    "Medium\n",
    "Topics\n",
    "Companies\n",
    "Hint\n",
    "Given a string s, find the length of the longest \n",
    "substring\n",
    " without repeating characters.\n",
    "\n",
    " \n",
    "\n",
    "Example 1:\n",
    "\n",
    "Input: s = \"abcabcbb\"\n",
    "Output: 3\n",
    "Explanation: The answer is \"abc\", with the length of 3.\n",
    "Example 2:\n",
    "\n",
    "Input: s = \"bbbbb\"\n",
    "Output: 1\n",
    "Explanation: The answer is \"b\", with the length of 1.\n",
    "Example 3:\n",
    "\n",
    "Input: s = \"pwwkew\"\n",
    "Output: 3\n",
    "Explanation: The answer is \"wke\", with the length of 3.\n",
    "Notice that the answer must be a substring, \"pwke\" is a subsequence and not a substring.\n",
    " \n",
    "\n",
    "Constraints:\n",
    "\n",
    "0 <= s.length <= 5 * 104\n",
    "s consists of English letters, digits, symbols and spaces."
   ]
  },
  {
   "cell_type": "code",
   "execution_count": null,
   "metadata": {},
   "outputs": [],
   "source": [
    "# sliding window\n",
    "# hashset, two pointers\n",
    "# t o(n)\n",
    "# s O(n)\n",
    "class Solution:\n",
    "    def lengthOfLongestSubstring(self, s: str) -> int:\n",
    "        longest = 0\n",
    "        hashset = set()\n",
    "        l = 0\n",
    "\n",
    "        for r in range(len(s)):\n",
    "            while s[r] in hashset:\n",
    "                hashset.remove(s[l])\n",
    "                l += 1\n",
    "            hashset.add(s[r])\n",
    "            longest = max(longest, r - l + 1)\n",
    "        \n",
    "        return longest"
   ]
  },
  {
   "cell_type": "code",
   "execution_count": null,
   "metadata": {},
   "outputs": [],
   "source": [
    "'''Complexity Analysis\n",
    "Time complexity : O(2n)=O(n). In the worst case each character will be visited twice by i and j.\n",
    "Space complexity : O(min(m,n)). Same as the previous approach. We need O(k) space for the sliding window, where k is the size of the Set. \n",
    "The size of the Set is upper bounded by the size of the string n and the size of the charset/alphabet m.'''\n",
    "class Solution:\n",
    "    def lengthOfLongestSubstring(self, s: str) -> int:\n",
    "        l = 0\n",
    "        longest = 0\n",
    "        position_map = {}\n",
    "\n",
    "        for r, char in enumerate(s):\n",
    "            # sliding window began\n",
    "            if char in position_map and position_map[char] >= l:\n",
    "                l = position_map[char] + 1\n",
    "            position_map[char] = r\n",
    "            longest = max(longest, r - l + 1)\n",
    "        return longest"
   ]
  }
 ],
 "metadata": {
  "language_info": {
   "name": "python"
  }
 },
 "nbformat": 4,
 "nbformat_minor": 2
}
