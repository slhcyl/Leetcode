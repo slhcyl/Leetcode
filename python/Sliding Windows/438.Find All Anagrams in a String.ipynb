{
 "cells": [
  {
   "cell_type": "markdown",
   "metadata": {},
   "source": [
    "438. Find All Anagrams in a String\n",
    "Solved\n",
    "Medium\n",
    "Topics\n",
    "Companies\n",
    "Given two strings s and p, return an array of all the start indices of p's anagrams in s. You may return the answer in any order.\n",
    "\n",
    "An Anagram is a word or phrase formed by rearranging the letters of a different word or phrase, typically using all the original letters exactly once.\n",
    "\n",
    " \n",
    "\n",
    "Example 1:\n",
    "\n",
    "Input: s = \"cbaebabacd\", p = \"abc\"\n",
    "Output: [0,6]\n",
    "Explanation:\n",
    "The substring with start index = 0 is \"cba\", which is an anagram of \"abc\".\n",
    "The substring with start index = 6 is \"bac\", which is an anagram of \"abc\".\n",
    "Example 2:\n",
    "\n",
    "Input: s = \"abab\", p = \"ab\"\n",
    "Output: [0,1,2]\n",
    "Explanation:\n",
    "The substring with start index = 0 is \"ab\", which is an anagram of \"ab\".\n",
    "The substring with start index = 1 is \"ba\", which is an anagram of \"ab\".\n",
    "The substring with start index = 2 is \"ab\", which is an anagram of \"ab\".\n",
    " \n",
    "\n",
    "Constraints:\n",
    "\n",
    "1 <= s.length, p.length <= 3 * 104\n",
    "s and p consist of lowercase English letters."
   ]
  },
  {
   "cell_type": "markdown",
   "metadata": {},
   "source": [
    "Complexity Analysis\n",
    "Time Complexity: O(N+M) where 𝑁 is the length of s and M is the length of p. The sliding window process requires only a constant amount of work per position.\n",
    "Space Complexity: O(1) because the counters can only hold a fixed number of characters (26 lowercase English letters)."
   ]
  },
  {
   "cell_type": "code",
   "execution_count": null,
   "metadata": {},
   "outputs": [],
   "source": [
    "# Approach 1: Sliding Window with HashMap\n",
    "'''Complexity Analysis\n",
    "Let Ns and Np be the length of s and p respectively. Let KKK be the maximum possible number of distinct characters. In this problem, K equals 262626 because s and p \n",
    "consist of lowercase English letters.\n",
    "\n",
    "Time complexity: O(Ns)\n",
    "We perform one pass along each string when Ns≥Np which costs O(Ns+Np) time. Since we only perform this step when Ns≥Np the time complexity simplifies to O(Ns)\n",
    "Space complexity: O(K)\n",
    "pCount and sCount will contain at most K elements each. Since K is fixed at 262626 for this problem, this can be considered as O(1).'''\n",
    "class Solution:\n",
    "    def findAnagrams(self, s: str, p: str) -> List[int]:\n",
    "        if len(p) > len(s):\n",
    "            return []\n",
    "        s_count, p_count = {}, {}\n",
    "        for i in range(len(p)):\n",
    "            p_count[p[i]] = 1 + p_count.get(p[i], 0)\n",
    "            s_count[s[i]] = 1 + s_count.get(s[i], 0)\n",
    "\n",
    "        res = [0] if p_count == s_count else []\n",
    "        l = 0\n",
    "        for r in range(len(p), len(s)):\n",
    "            s_count[s[r]] = 1 + s_count.get(s[r], 0)\n",
    "            s_count[s[l]] -= 1\n",
    "\n",
    "            if s_count[s[l]] == 0:\n",
    "                s_count.pop(s[l])\n",
    "                # del s_count[s[l]]\n",
    "            l += 1\n",
    "            if p_count == s_count:\n",
    "                res.append(l)\n",
    "        return res"
   ]
  },
  {
   "cell_type": "markdown",
   "metadata": {},
   "source": [
    "Complexity Analysis\n",
    "Let Ns and Np be the length of s and p respectively. Let K be the maximum possible number of distinct characters. In this problem, K equals 262626 because s and p consist of lowercase English letters.\n",
    "\n",
    "Time complexity: O(Ns)\n",
    "We perform one pass along each string when Ns≥Np which costs O(Ns+Np) time. Since we only perform this step when Ns≥Np the time complexity simplifies to O(Ns)\n",
    "\n",
    "Space complexity: O(K)\n",
    "pCount and sCount contain KKK elements each. Since K is fixed at 262626 for this problem, this can be considered as O(1) space."
   ]
  },
  {
   "cell_type": "code",
   "execution_count": null,
   "metadata": {},
   "outputs": [],
   "source": [
    "class Solution:\n",
    "    def findAnagrams(self, s: str, p: str) -> List[int]:\n",
    "        ns, np = len(s), len(p)\n",
    "        if ns < np:\n",
    "            return []\n",
    "\n",
    "        p_count, s_count = [0] * 26, [0] * 26\n",
    "        # build reference array using string p\n",
    "        for ch in p:\n",
    "            p_count[ord(ch) - ord('a')] += 1\n",
    "        \n",
    "        output = []\n",
    "        # sliding window on the string s\n",
    "        for i in range(ns):\n",
    "            # add one more letter \n",
    "            # on the right side of the window\n",
    "            s_count[ord(s[i]) - ord('a')] += 1\n",
    "            # remove one letter \n",
    "            # from the left side of the window\n",
    "            if i >= np:\n",
    "                s_count[ord(s[i - np]) - ord('a')] -= 1\n",
    "            # compare array in the sliding window\n",
    "            # with the reference array\n",
    "            if p_count == s_count:\n",
    "                output.append(i - np + 1)\n",
    "        \n",
    "        return output"
   ]
  }
 ],
 "metadata": {
  "language_info": {
   "name": "python"
  }
 },
 "nbformat": 4,
 "nbformat_minor": 2
}
