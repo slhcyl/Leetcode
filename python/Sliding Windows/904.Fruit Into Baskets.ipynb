{
 "cells": [
  {
   "cell_type": "markdown",
   "metadata": {},
   "source": [
    "904. Fruit Into Baskets\n",
    "Solved\n",
    "Medium\n",
    "Topics\n",
    "Companies\n",
    "You are visiting a farm that has a single row of fruit trees arranged from left to right. The trees are represented by an integer array fruits where fruits[i] is the type of fruit the ith tree produces.\n",
    "\n",
    "You want to collect as much fruit as possible. However, the owner has some strict rules that you must follow:\n",
    "\n",
    "You only have two baskets, and each basket can only hold a single type of fruit. There is no limit on the amount of fruit each basket can hold.\n",
    "Starting from any tree of your choice, you must pick exactly one fruit from every tree (including the start tree) while moving to the right. The picked fruits must fit in one of your baskets.\n",
    "Once you reach a tree with fruit that cannot fit in your baskets, you must stop.\n",
    "Given the integer array fruits, return the maximum number of fruits you can pick.\n",
    "\n",
    " \n",
    "\n",
    "Example 1:\n",
    "\n",
    "Input: fruits = [1,2,1]\n",
    "Output: 3\n",
    "Explanation: We can pick from all 3 trees.\n",
    "Example 2:\n",
    "\n",
    "Input: fruits = [0,1,2,2]\n",
    "Output: 3\n",
    "Explanation: We can pick from trees [1,2,2].\n",
    "If we had started at the first tree, we would only pick from trees [0,1].\n",
    "Example 3:\n",
    "\n",
    "Input: fruits = [1,2,3,2,2]\n",
    "Output: 4\n",
    "Explanation: We can pick from trees [2,3,2,2].\n",
    "If we had started at the first tree, we would only pick from trees [1,2].\n",
    " \n",
    "\n",
    "Constraints:\n",
    "\n",
    "1 <= fruits.length <= 105\n",
    "0 <= fruits[i] < fruits.length"
   ]
  },
  {
   "cell_type": "markdown",
   "metadata": {},
   "source": [
    "Complexity Analysis\n",
    "Let n be the length of the input array fruits.\n",
    "\n",
    "Time complexity: O(n)\n",
    "Similarly, both indexes left and right are only monotonically increasing during the iteration, thus we have at most 2⋅n2 \\cdot n2⋅n steps,\n",
    "At each step, we update the hash set by addition or deletion of one fruit, which takes constant time. Note that the number of additions or deletions does not exceed nnn.\n",
    "To sum up, the overall time complexity is O(n)\n",
    "Space complexity: O(1)\n",
    "We maintain the number of fruit types contained in the window in time. Therefore, at any given time, there are at most 3 types of fruits in the window or the hash map basket.\n",
    "In summary, the space complexity is O(1)."
   ]
  },
  {
   "cell_type": "code",
   "execution_count": null,
   "metadata": {},
   "outputs": [],
   "source": [
    "# sliding windows\n",
    "class Solution:\n",
    "    def totalFruit(self, fruits: List[int]) -> int:\n",
    "        l = 0\n",
    "        hashmap = {}\n",
    "        max_num = 0\n",
    "        for r in range(len(fruits)):\n",
    "            fruit = fruits[r]\n",
    "            hashmap[fruit] = 1 + hashmap.get(fruit, 0)\n",
    "            while len(hashmap) > 2:\n",
    "                hashmap[fruits[l]] -= 1\n",
    "                if hashmap[fruits[l]] == 0:\n",
    "                    del hashmap[fruits[l]]\n",
    "                l += 1\n",
    "            max_num = max(max_num, r - l + 1)\n",
    "        return max_num"
   ]
  }
 ],
 "metadata": {
  "language_info": {
   "name": "python"
  }
 },
 "nbformat": 4,
 "nbformat_minor": 2
}
