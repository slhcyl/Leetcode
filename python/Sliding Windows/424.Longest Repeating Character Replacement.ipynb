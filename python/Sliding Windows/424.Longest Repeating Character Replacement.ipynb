{
 "cells": [
  {
   "cell_type": "markdown",
   "metadata": {},
   "source": [
    "424. Longest Repeating Character Replacement\n",
    "Solved\n",
    "Medium\n",
    "Topics\n",
    "Companies\n",
    "You are given a string s and an integer k. You can choose any character of the string and change it to any other uppercase English character. You can perform this operation at most k times.\n",
    "\n",
    "Return the length of the longest substring containing the same letter you can get after performing the above operations.\n",
    "\n",
    " \n",
    "\n",
    "Example 1:\n",
    "\n",
    "Input: s = \"ABAB\", k = 2\n",
    "Output: 4\n",
    "Explanation: Replace the two 'A's with two 'B's or vice versa.\n",
    "Example 2:\n",
    "\n",
    "Input: s = \"AABABBA\", k = 1\n",
    "Output: 4\n",
    "Explanation: Replace the one 'A' in the middle with 'B' and form \"AABBBBA\".\n",
    "The substring \"BBBB\" has the longest repeating letters, which is 4.\n",
    "There may exists other ways to achieve this answer too.\n",
    " \n",
    "\n",
    "Constraints:\n",
    "\n",
    "1 <= s.length <= 105\n",
    "s consists of only uppercase English letters.\n",
    "0 <= k <= s.length"
   ]
  },
  {
   "cell_type": "markdown",
   "metadata": {},
   "source": [
    "Complexity Analysis\n",
    "If there are nnn characters in the given string -\n",
    "\n",
    "Time complexity: O(n). In this approach, we access each index of the string at most two times. When it is added to the sliding window, and when it is removed from the sliding window. The sliding window always moves forward. In each step, we update the frequency map, maxFrequencymaxFrequencymaxFrequency, and check for validity, they are all constant-time operations. To sum up, the time complexity is proportional to the number of characters in the string - O(n).\n",
    "\n",
    "Space complexity: O(m). Similar to the previous approaches, this approach requires an auxiliary frequency map. The maximum number of keys in the map equals the number of unique characters in the string. If there are mmm unique characters, then the memory required is proportional to mmm. So the space complexity is O(m). Considering uppercase English letters only, m=26."
   ]
  },
  {
   "cell_type": "code",
   "execution_count": null,
   "metadata": {},
   "outputs": [],
   "source": [
    "class Solution:\n",
    "    def characterReplacement(self, s: str, k: int) -> int:\n",
    "        l = 0\n",
    "        longest = 0\n",
    "        freq = {}\n",
    "        mostFreqLetter = 0\n",
    "\n",
    "        for r in range(len(s)):\n",
    "            freq[s[r]] = 1 + freq.get(s[r], 0)\n",
    "            mostFreqLetter = max(mostFreqLetter,freq[s[r]])\n",
    "            letterToChange = (r - l + 1) - mostFreqLetter\n",
    "            # sliding window began\n",
    "            if letterToChange > k:\n",
    "                freq[s[l]] -= 1\n",
    "                l += 1\n",
    "            longest = max(longest, r-l+1)\n",
    "        return longest"
   ]
  }
 ],
 "metadata": {
  "language_info": {
   "name": "python"
  }
 },
 "nbformat": 4,
 "nbformat_minor": 2
}
