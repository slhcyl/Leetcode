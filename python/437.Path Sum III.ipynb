{
 "cells": [
  {
   "cell_type": "markdown",
   "metadata": {},
   "source": [
    "437. Path Sum III\n",
    "Solved\n",
    "Medium\n",
    "Topics\n",
    "Companies\n",
    "Given the root of a binary tree and an integer targetSum, return the number of paths where the sum of the values along the path equals targetSum.\n",
    "\n",
    "The path does not need to start or end at the root or a leaf, but it must go downwards (i.e., traveling only from parent nodes to child nodes).\n",
    "\n",
    " \n",
    "\n",
    "Example 1:\n",
    "\n",
    "\n",
    "Input: root = [10,5,-3,3,2,null,11,3,-2,null,1], targetSum = 8\n",
    "Output: 3\n",
    "Explanation: The paths that sum to 8 are shown.\n",
    "Example 2:\n",
    "\n",
    "Input: root = [5,4,8,11,null,13,4,7,2,null,null,5,1], targetSum = 22\n",
    "Output: 3\n",
    " \n",
    "\n",
    "Constraints:\n",
    "\n",
    "The number of nodes in the tree is in the range [0, 1000].\n",
    "-109 <= Node.val <= 109\n",
    "-1000 <= targetSum <= 1000"
   ]
  },
  {
   "cell_type": "markdown",
   "metadata": {},
   "source": [
    "Complexity Analysis\n",
    "Time complexity: O(N), where N is a number of nodes. During preorder traversal, each node is visited once.\n",
    "Space complexity: up to O(N) to keep the hashmap of prefix sums, where NNN is a number of nodes."
   ]
  },
  {
   "cell_type": "code",
   "execution_count": null,
   "metadata": {},
   "outputs": [],
   "source": [
    "# dfs\n",
    "# prefix: similar to leetcode 560\n",
    "# Definition for a binary tree node.\n",
    "# class TreeNode:\n",
    "#     def __init__(self, val=0, left=None, right=None):\n",
    "#         self.val = val\n",
    "#         self.left = left\n",
    "#         self.right = right\n",
    "class Solution:\n",
    "    def pathSum(self, root: Optional[TreeNode], targetSum: int) -> int:\n",
    "        count = 0\n",
    "        # possible subarray sum starting from index 0 is equal to k (targetSum)\n",
    "        prefixSumCount = {0:1}\n",
    "        def dfs(node, currentSum):\n",
    "            nonlocal count\n",
    "            if not node:\n",
    "                return\n",
    "            \n",
    "            currentSum += node.val\n",
    "            count += prefixSumCount.get(currentSum - targetSum, 0)\n",
    "            prefixSumCount[currentSum] = 1 + prefixSumCount.get(currentSum, 0)\n",
    "\n",
    "            dfs(node.left, currentSum)\n",
    "            dfs(node.right, currentSum)\n",
    "            # backtracking to prevent parallel processing (e.g., remove left prefix sum when move to process right node)\n",
    "            # Remove the current sum from the hashmap\n",
    "            # in order not to use it during \n",
    "            # the parallel subtree processing\n",
    "            prefixSumCount[currentSum] -= 1\n",
    "\n",
    "        dfs(root, 0)\n",
    "\n",
    "        return count"
   ]
  }
 ],
 "metadata": {
  "language_info": {
   "name": "python"
  }
 },
 "nbformat": 4,
 "nbformat_minor": 2
}
