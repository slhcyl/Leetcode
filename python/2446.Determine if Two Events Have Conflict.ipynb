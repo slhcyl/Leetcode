{
 "cells": [
  {
   "cell_type": "markdown",
   "metadata": {},
   "source": [
    "2446. Determine if Two Events Have Conflict\n",
    "Solved\n",
    "Easy\n",
    "Topics\n",
    "Companies\n",
    "Hint\n",
    "You are given two arrays of strings that represent two inclusive events that happened on the same day, event1 and event2, where:\n",
    "\n",
    "event1 = [startTime1, endTime1] and\n",
    "event2 = [startTime2, endTime2].\n",
    "Event times are valid 24 hours format in the form of HH:MM.\n",
    "\n",
    "A conflict happens when two events have some non-empty intersection (i.e., some moment is common to both events).\n",
    "\n",
    "Return true if there is a conflict between two events. Otherwise, return false.\n",
    "\n",
    " \n",
    "\n",
    "Example 1:\n",
    "\n",
    "Input: event1 = [\"01:15\",\"02:00\"], event2 = [\"02:00\",\"03:00\"]\n",
    "Output: true\n",
    "Explanation: The two events intersect at time 2:00.\n",
    "Example 2:\n",
    "\n",
    "Input: event1 = [\"01:00\",\"02:00\"], event2 = [\"01:20\",\"03:00\"]\n",
    "Output: true\n",
    "Explanation: The two events intersect starting from 01:20 to 02:00.\n",
    "Example 3:\n",
    "\n",
    "Input: event1 = [\"10:00\",\"11:00\"], event2 = [\"14:00\",\"15:00\"]\n",
    "Output: false\n",
    "Explanation: The two events do not intersect.\n",
    " \n",
    "\n",
    "Constraints:\n",
    "\n",
    "event1.length == event2.length == 2\n",
    "event1[i].length == event2[i].length == 5\n",
    "startTime1 <= endTime1\n",
    "startTime2 <= endTime2\n",
    "All the event times follow the HH:MM format."
   ]
  },
  {
   "cell_type": "code",
   "execution_count": null,
   "metadata": {},
   "outputs": [],
   "source": [
    "class Solution:\n",
    "    def haveConflict(self, event1: List[str], event2: List[str]) -> bool:\n",
    "        return event1[1] >= event2[0] and event1[0] <= event2[1]"
   ]
  }
 ],
 "metadata": {
  "language_info": {
   "name": "python"
  }
 },
 "nbformat": 4,
 "nbformat_minor": 2
}
