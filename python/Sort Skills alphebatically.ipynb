{
 "cells": [
  {
   "cell_type": "code",
   "execution_count": 4,
   "metadata": {},
   "outputs": [
    {
     "data": {
      "text/plain": [
       "' A/B Testing, AWS, Apache Spark, Azure, Azure DevOps, BigQuery, BigQuery Oracle, DAX, Data Analysis/Analytics, Data Modeling, Data warehousing, EMR, ETL, Erwin(BRIOormance Point, Excel, Github, HTML, Hyerion Essbase, JavaScript., Jira, Jupyter, Lambda, Machine Learning, Matplotlib, MySQL, NumPy, Oracle Hyperion Reporting ( BRIO Studio), Oracle SQL Developer, Pandas, PostgreSQL, Power BI, PowerPivot, PowerPoint, PowerView, Python, Qlikview, R, SSAS, SSIS, SSMS, SSRS, Seaborn, SharePoint, Snowflake, Statistical modeling, Statistics, Tableau, Teradata, Visual Studio, XML, scikit-learn,T-SQL'"
      ]
     },
     "execution_count": 4,
     "metadata": {},
     "output_type": "execute_result"
    }
   ],
   "source": [
    "skills=\"T-SQL, MySQL, PostgreSQL, BigQuery Oracle, Python, Pandas, NumPy, Matplotlib, Seaborn, R, Data Analysis/Analytics, Power BI, DAX, Tableau, Qlikview, Snowflake, Azure, AWS, Teradata, EMR, Lambda, Machine Learning, scikit-learn, ETL, Data warehousing, Apache Spark, Statistics, Statistical modeling, A/B Testing, Visual Studio, Jupyter, Jira, Azure DevOps, Github, BigQuery, Data Modeling, SSMS, SSIS, SSRS, SSAS, Excel, PowerPoint, HTML, XML, Erwin(BRIOormance Point, SharePoint, PowerPivot, PowerView, Oracle SQL Developer, Oracle Hyperion Reporting ( BRIO Studio), Hyerion Essbase, JavaScript.\"\n",
    "skill_list = skills.split(',')\n",
    "skill_list.sort()\n",
    "','.join(skill_list)\n"
   ]
  }
 ],
 "metadata": {
  "kernelspec": {
   "display_name": "Python 3",
   "language": "python",
   "name": "python3"
  },
  "language_info": {
   "codemirror_mode": {
    "name": "ipython",
    "version": 3
   },
   "file_extension": ".py",
   "mimetype": "text/x-python",
   "name": "python",
   "nbconvert_exporter": "python",
   "pygments_lexer": "ipython3",
   "version": "3.10.11"
  }
 },
 "nbformat": 4,
 "nbformat_minor": 2
}
