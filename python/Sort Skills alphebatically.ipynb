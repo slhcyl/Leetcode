{
 "cells": [
  {
   "cell_type": "code",
   "execution_count": 13,
   "metadata": {},
   "outputs": [
    {
     "data": {
      "text/plain": [
       "' A/B Testing, Apache Spark, Azure, Azure DevOps, BigQuery, Business Intelligence, CI/CD, DAX, Data Analytics, Data Lake, Data Modeling, Data warehousing, Databricks, Databricks Lakehouse, EMR, ETL, Github, HTML, Hyerion Essbase, JSON, JavaScript, Jira, Jupyter, Lambda, Machine Learning, Matplotlib, MySQL, NumPy, Oracle Hyperion Reporting ( BRIO Studio), Oracle SQL Developer, Pandas, PostgreSQL, Power BI, PowerPivot, PowerView, PySpark.sql, Python, Qlikview, R, SSAS, SSIS, SSMS, SSRS, Seaborn, SharePoint, Snowflake, Statistical modeling, Statistics, T-SQL, Tableau, Teradata, Visual Studio, XML, scikit-learn,AWS'"
      ]
     },
     "execution_count": 13,
     "metadata": {},
     "output_type": "execute_result"
    }
   ],
   "source": [
    "skills=\"AWS, Apache Spark, Azure, Azure DevOps, BigQuery, Business Intelligence, CI/CD, DAX, Data Analytics, Data Lake, Data Modeling, Data warehousing, Databricks, Databricks Lakehouse, EMR, ETL, Github, HTML, Hyerion Essbase, JSON, Jira, Jupyter, Lambda, Machine Learning, Matplotlib, MySQL, NumPy, Oracle Hyperion Reporting ( BRIO Studio), Oracle SQL Developer, Pandas, PostgreSQL, Power BI, PowerPivot, PowerView, Python, PySpark.sql, Qlikview, R, SSAS, SSIS, SSMS, SSRS, Seaborn, SharePoint, Snowflake, Statistical modeling, Statistics, T-SQL, Tableau, Teradata, Visual Studio, XML, scikit-learn, A/B Testing, JavaScript\"\n",
    "skill_list = skills.split(',')\n",
    "skill_list.sort()\n",
    "# ','.join(skill_list)\n",
    "# help(skill_list.sort)\n",
    "','.join(skill_list)"
   ]
  },
  {
   "cell_type": "code",
   "execution_count": 23,
   "metadata": {},
   "outputs": [
    {
     "data": {
      "text/plain": [
       "[' A/B Testing',\n",
       " ' Apache Spark',\n",
       " ' Azure',\n",
       " ' Azure DevOps',\n",
       " ' BigQuery',\n",
       " ' Business Intelligence',\n",
       " ' CI/CD',\n",
       " ' DAX',\n",
       " ' Data Analytics',\n",
       " ' Data Lake',\n",
       " ' Data Modeling',\n",
       " ' Data warehousing',\n",
       " ' Databricks',\n",
       " ' Databricks Lakehouse',\n",
       " ' EMR',\n",
       " ' ETL',\n",
       " ' Github',\n",
       " ' HTML',\n",
       " ' Hyerion Essbase',\n",
       " ' JSON',\n",
       " ' JavaScript',\n",
       " ' Jira',\n",
       " ' Jupyter',\n",
       " ' Lambda',\n",
       " ' Machine Learning',\n",
       " ' Matplotlib',\n",
       " ' MySQL',\n",
       " ' NumPy',\n",
       " ' Oracle Hyperion Reporting ( BRIO Studio)',\n",
       " ' Oracle SQL Developer',\n",
       " ' Pandas',\n",
       " ' PostgreSQL',\n",
       " ' Power BI',\n",
       " ' PowerPivot',\n",
       " ' PowerView',\n",
       " ' PySpark.sql',\n",
       " ' Python',\n",
       " ' Qlikview',\n",
       " ' R',\n",
       " ' SSAS',\n",
       " ' SSIS',\n",
       " ' SSMS',\n",
       " ' SSRS',\n",
       " ' Seaborn',\n",
       " ' SharePoint',\n",
       " ' Snowflake',\n",
       " ' Statistical modeling',\n",
       " ' Statistics',\n",
       " ' T-SQL',\n",
       " ' Tableau',\n",
       " ' Teradata',\n",
       " ' Visual Studio',\n",
       " ' XML',\n",
       " ' scikit-learn',\n",
       " 'AWS']"
      ]
     },
     "execution_count": 23,
     "metadata": {},
     "output_type": "execute_result"
    }
   ],
   "source": [
    "skills=\"AWS, Apache Spark, Azure, Azure DevOps, BigQuery, Business Intelligence, CI/CD, DAX, Data Analytics, Data Lake, Data Modeling, Data warehousing, Databricks, Databricks Lakehouse, EMR, ETL, Github, HTML, Hyerion Essbase, JSON, Jira, Jupyter, Lambda, Machine Learning, Matplotlib, MySQL, NumPy, Oracle Hyperion Reporting ( BRIO Studio), Oracle SQL Developer, Pandas, PostgreSQL, Power BI, PowerPivot, PowerView, Python, PySpark.sql, Qlikview, R, SSAS, SSIS, SSMS, SSRS, Seaborn, SharePoint, Snowflake, Statistical modeling, Statistics, T-SQL, Tableau, Teradata, Visual Studio, XML, scikit-learn, A/B Testing, JavaScript\"\n",
    "skill_list = skills.split(',')\n",
    "sorted(skill_list)"
   ]
  },
  {
   "cell_type": "code",
   "execution_count": 24,
   "metadata": {},
   "outputs": [
    {
     "data": {
      "text/plain": [
       "['AWS',\n",
       " ' Apache Spark',\n",
       " ' Azure',\n",
       " ' Azure DevOps',\n",
       " ' BigQuery',\n",
       " ' Business Intelligence',\n",
       " ' CI/CD',\n",
       " ' DAX',\n",
       " ' Data Analytics',\n",
       " ' Data Lake',\n",
       " ' Data Modeling',\n",
       " ' Data warehousing',\n",
       " ' Databricks',\n",
       " ' Databricks Lakehouse',\n",
       " ' EMR',\n",
       " ' ETL',\n",
       " ' Github',\n",
       " ' HTML',\n",
       " ' Hyerion Essbase',\n",
       " ' JSON',\n",
       " ' Jira',\n",
       " ' Jupyter',\n",
       " ' Lambda',\n",
       " ' Machine Learning',\n",
       " ' Matplotlib',\n",
       " ' MySQL',\n",
       " ' NumPy',\n",
       " ' Oracle Hyperion Reporting ( BRIO Studio)',\n",
       " ' Oracle SQL Developer',\n",
       " ' Pandas',\n",
       " ' PostgreSQL',\n",
       " ' Power BI',\n",
       " ' PowerPivot',\n",
       " ' PowerView',\n",
       " ' Python',\n",
       " ' PySpark.sql',\n",
       " ' Qlikview',\n",
       " ' R',\n",
       " ' SSAS',\n",
       " ' SSIS',\n",
       " ' SSMS',\n",
       " ' SSRS',\n",
       " ' Seaborn',\n",
       " ' SharePoint',\n",
       " ' Snowflake',\n",
       " ' Statistical modeling',\n",
       " ' Statistics',\n",
       " ' T-SQL',\n",
       " ' Tableau',\n",
       " ' Teradata',\n",
       " ' Visual Studio',\n",
       " ' XML',\n",
       " ' scikit-learn',\n",
       " ' A/B Testing',\n",
       " ' JavaScript']"
      ]
     },
     "execution_count": 24,
     "metadata": {},
     "output_type": "execute_result"
    }
   ],
   "source": [
    "skills=\"AWS, Apache Spark, Azure, Azure DevOps, BigQuery, Business Intelligence, CI/CD, DAX, Data Analytics, Data Lake, Data Modeling, Data warehousing, Databricks, Databricks Lakehouse, EMR, ETL, Github, HTML, Hyerion Essbase, JSON, Jira, Jupyter, Lambda, Machine Learning, Matplotlib, MySQL, NumPy, Oracle Hyperion Reporting ( BRIO Studio), Oracle SQL Developer, Pandas, PostgreSQL, Power BI, PowerPivot, PowerView, Python, PySpark.sql, Qlikview, R, SSAS, SSIS, SSMS, SSRS, Seaborn, SharePoint, Snowflake, Statistical modeling, Statistics, T-SQL, Tableau, Teradata, Visual Studio, XML, scikit-learn, A/B Testing, JavaScript\"\n",
    "skill_list = skills.split(',')\n",
    "skill_list\n"
   ]
  }
 ],
 "metadata": {
  "kernelspec": {
   "display_name": "Python 3",
   "language": "python",
   "name": "python3"
  },
  "language_info": {
   "codemirror_mode": {
    "name": "ipython",
    "version": 3
   },
   "file_extension": ".py",
   "mimetype": "text/x-python",
   "name": "python",
   "nbconvert_exporter": "python",
   "pygments_lexer": "ipython3",
   "version": "3.10.11"
  }
 },
 "nbformat": 4,
 "nbformat_minor": 2
}
