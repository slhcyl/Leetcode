{
 "cells": [
  {
   "cell_type": "markdown",
   "metadata": {},
   "source": [
    "547. Number of Provinces\n",
    "Solved\n",
    "Medium\n",
    "Topics\n",
    "Companies\n",
    "There are n cities. Some of them are connected, while some are not. If city a is connected directly with city b, and city b is connected directly with city c, then city a is connected indirectly with city c.\n",
    "\n",
    "A province is a group of directly or indirectly connected cities and no other cities outside of the group.\n",
    "\n",
    "You are given an n x n matrix isConnected where isConnected[i][j] = 1 if the ith city and the jth city are directly connected, and isConnected[i][j] = 0 otherwise.\n",
    "\n",
    "Return the total number of provinces.\n",
    "\n",
    " \n",
    "\n",
    "Example 1:\n",
    "\n",
    "\n",
    "Input: isConnected = [[1,1,0],[1,1,0],[0,0,1]]\n",
    "Output: 2\n",
    "Example 2:\n",
    "\n",
    "\n",
    "Input: isConnected = [[1,0,0],[0,1,0],[0,0,1]]\n",
    "Output: 3\n",
    " \n",
    "\n",
    "Constraints:\n",
    "\n",
    "1 <= n <= 200\n",
    "n == isConnected.length\n",
    "n == isConnected[i].length\n",
    "isConnected[i][j] is 1 or 0.\n",
    "isConnected[i][i] == 1\n",
    "isConnected[i][j] == isConnected[j][i]"
   ]
  },
  {
   "cell_type": "markdown",
   "metadata": {},
   "source": [
    "Time Complexity:\n",
    "Each city and its neighbors are visited once.\n",
    "Thus, the complexity is O(n ^2 ) because each cell in the matrix is visited once.\n",
    "Space Complexity:\n",
    "The visited set uses O(n) space for tracking cities.\n",
    "The DFS recursion stack can also take up to O(n) space."
   ]
  },
  {
   "cell_type": "code",
   "execution_count": null,
   "metadata": {},
   "outputs": [],
   "source": [
    "# dfs\n",
    "class Solution:\n",
    "    def findCircleNum(self, isConnected: List[List[int]]) -> int:\n",
    "        # use graph to find the neighbors \n",
    "        def dfs(city):\n",
    "            for neighbor, connected in enumerate(isConnected[city]):\n",
    "                if connected and neighbor not in visited:\n",
    "                    visited.add(neighbor)\n",
    "                    dfs(neighbor)\n",
    "\n",
    "        n = len(isConnected)\n",
    "        province = 0\n",
    "        visited = set()\n",
    "\n",
    "        for city in range(n):\n",
    "            if city not in visited:\n",
    "                dfs(city)\n",
    "                province += 1\n",
    "        \n",
    "        # dfs(0)\n",
    "        '''the additional call to dfs(0) at the end isn't needed because the outer loop through for city in range(n): \n",
    "        already ensures that all nodes (or cities) are fully traversed. Here's why the loop alone is sufficient:'''\n",
    "\n",
    "        return province"
   ]
  }
 ],
 "metadata": {
  "language_info": {
   "name": "python"
  }
 },
 "nbformat": 4,
 "nbformat_minor": 2
}
