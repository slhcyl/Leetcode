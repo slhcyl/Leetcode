{
 "cells": [
  {
   "cell_type": "markdown",
   "metadata": {},
   "source": [
    "58. Length of Last Word\n",
    "Solved\n",
    "Easy\n",
    "Topics\n",
    "Companies\n",
    "Given a string s consisting of words and spaces, return the length of the last word in the string.\n",
    "\n",
    "A word is a maximal \n",
    "substring\n",
    " consisting of non-space characters only.\n",
    "\n",
    " \n",
    "\n",
    "Example 1:\n",
    "\n",
    "Input: s = \"Hello World\"\n",
    "Output: 5\n",
    "Explanation: The last word is \"World\" with length 5.\n",
    "Example 2:\n",
    "\n",
    "Input: s = \"   fly me   to   the moon  \"\n",
    "Output: 4\n",
    "Explanation: The last word is \"moon\" with length 4.\n",
    "Example 3:\n",
    "\n",
    "Input: s = \"luffy is still joyboy\"\n",
    "Output: 6\n",
    "Explanation: The last word is \"joyboy\" with length 6.\n",
    " \n",
    "\n",
    "Constraints:\n",
    "\n",
    "1 <= s.length <= 104\n",
    "s consists of only English letters and spaces ' '.\n",
    "There will be at least one word in s."
   ]
  },
  {
   "cell_type": "code",
   "execution_count": null,
   "metadata": {},
   "outputs": [],
   "source": [
    "'''Complexity\n",
    "Time Complexity: O(N), where NNN is the length of the input string.\n",
    "In the worst case, the input string might contain only a single word, which implies that we would need to iterate through the entire string to obtain the result.\n",
    "Space Complexity: O(1), only constant memory is consumed, regardless the input.'''\n",
    "class Solution:\n",
    "    def lengthOfLastWord(self, s: str) -> int:\n",
    "        i = len(s) - 1\n",
    "        length = 0\n",
    "        while s[i] == ' ':\n",
    "            i -= 1\n",
    "        while i >= 0 and s[i] != ' ':\n",
    "            length += 1\n",
    "            i -= 1\n",
    "\n",
    "        return length"
   ]
  },
  {
   "cell_type": "code",
   "execution_count": null,
   "metadata": {},
   "outputs": [],
   "source": [
    "class Solution:\n",
    "    def lengthOfLastWord(self, s: str) -> int:\n",
    "        p, length = len(s), 0\n",
    "\n",
    "        while p > 0:\n",
    "            p -= 1\n",
    "            # we're in the middle of the last word\n",
    "            if s[p] != \" \":\n",
    "                length += 1\n",
    "            # here is the end of last word\n",
    "            elif length > 0:\n",
    "                return length\n",
    "\n",
    "        return length"
   ]
  },
  {
   "cell_type": "code",
   "execution_count": null,
   "metadata": {},
   "outputs": [],
   "source": [
    "class Solution:\n",
    "    def lengthOfLastWord(self, s: str) -> int:\n",
    "        s = list(s.split())\n",
    "\n",
    "        return len(s[-1])"
   ]
  }
 ],
 "metadata": {
  "language_info": {
   "name": "python"
  }
 },
 "nbformat": 4,
 "nbformat_minor": 2
}
