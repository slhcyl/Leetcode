{
 "cells": [
  {
   "cell_type": "markdown",
   "metadata": {},
   "source": [
    "So what stands out right away about this output\n",
    "\n",
    "There are letters and dashes\n",
    "The letters are in index formation so for an input of 3, the last letter to show is “c” i.e. alphabets=’abcdefghijklmnopqrstuvwxyz” so alphabets[0:3] will give us ‘abc’\n",
    "The center includes all the letters with dashes in between\n",
    "As we go away from the center, we start cutting out letters from start i.e. a goes away first round from center both top and bottom, b goes away 2nd round from top and bottom\n",
    "Now let’s look at my solution for this problem and I will go through what I did line by line\n",
    "Since we exclusively use alphabets, instead of making my own variable which held all the letters of the alphabet, I imported python’s string library and assigned the lowercase alphabets to the variable alpha.\n",
    "\n",
    "I then set an empty list, a_lst, to which I will append each line of my rangoli to. Like I mentioned earlier, there will be a for loop, I will use range for this loop where n is the size input. We set it this way because the last index in N is not included and indexes in python start at 0. And as you notice in the rangoli, as we progress we lose a letter. This is what is indicated by line 9 where we join the letters with “-”. Then we append this to our list but with some modifications.\n",
    "\n",
    "If you notice in the output picture, on the left of the letter “a”, we repeat all the letters and that is accomplished by [::-1], we get all the letters but in reverse and then to that we add the [1:] letters that come after “a”. In the same append method once we set the arrangement letter, we use the .center() method to account for the spacing with dashes, .center() takes two parameters (length, character).\n",
    "\n",
    "The character parameter here is “-” i.e. when there aren’t alphabets, “-” will take up its space. Next, how did we figure out the length parameter?\n",
    "\n",
    "4*n-3 ==> for an input size of 3\n",
    "\n",
    "taking max. number of alphabets into account, this would be at the center i.e. 5 ==> 2*n-1\n",
    "taking least number of dashes into account, this would be at the center i.e. 4 ==> 2*n-2\n",
    "And that is how we come up with that calculation\n",
    "\n",
    "Now putting it all together and packaging up nicely for our rangoli in line 12. We start in reverse order and stop before the center and then we just add the list in the correct order and voila!!! our very beautiful alphabet rangoli!\n",
    "\n",
    "As always, thanks for stopping by! Please do leave a comment if you have any questions or if any part of this solution did not make sense. I am trying to be better about breaking down my thought process while writing out code."
   ]
  },
  {
   "cell_type": "markdown",
   "metadata": {},
   "source": [
    "The expression a_list[:0:-1] is a Python slice that extracts a reversed subsequence from the list a_list. Let's break it down:\n",
    "\n",
    "a_list[:]: This is a slice that extracts the entire list. It's equivalent to a_list itself.\n",
    "\n",
    "a_list[:0:-1]: This slice specifies three parameters: start, stop, and step. Here:\n",
    "\n",
    "start: The beginning of the slice. : indicates that it starts from the beginning of the list.\n",
    "stop: The end of the slice. 0 indicates that it stops just before the first element (at index 0).\n",
    "step: The step size. -1 indicates that it steps backward.\n",
    "Putting it all together:\n",
    "\n",
    "a_list[:0:-1] starts from the end of the list, goes backward, and stops just before the first element, effectively reversing the list excluding the first element."
   ]
  },
  {
   "cell_type": "code",
   "execution_count": 8,
   "metadata": {},
   "outputs": [],
   "source": [
    "def print_rangoli(size):\n",
    "    import string\n",
    "    alpha = string.ascii_lowercase\n",
    "\n",
    "    a_list = []\n",
    "\n",
    "    for i in range(size):\n",
    "        p = \"-\".join(alpha[i:size])\n",
    "        a_list.append((p[::-1]+p[1:]).center(4*size - 3,\"-\"))\n",
    "    print(\"\\n\".join(a_list[:0:-1] + a_list))"
   ]
  },
  {
   "cell_type": "code",
   "execution_count": 9,
   "metadata": {},
   "outputs": [
    {
     "name": "stdout",
     "output_type": "stream",
     "text": [
      "----c----\n",
      "--c-b-c--\n",
      "c-b-a-b-c\n",
      "--c-b-c--\n",
      "----c----\n"
     ]
    }
   ],
   "source": [
    "print_rangoli(3)"
   ]
  },
  {
   "cell_type": "code",
   "execution_count": 7,
   "metadata": {},
   "outputs": [
    {
     "name": "stdout",
     "output_type": "stream",
     "text": [
      "c-b-a-b-c\n"
     ]
    }
   ],
   "source": [
    "import string\n",
    "alpha = string.ascii_lowercase\n",
    "\n",
    "a_list = []\n",
    "\n",
    "p = \"-\".join(alpha[0:3])\n",
    "a_list.append((p[::-1]+p[1:]).center(4*3 - 3,\"-\"))\n",
    "print(\"\\n\".join(a_list[:0:-1] + a_list))\n",
    "# a_list"
   ]
  },
  {
   "cell_type": "code",
   "execution_count": 11,
   "metadata": {},
   "outputs": [
    {
     "data": {
      "text/plain": [
       "['c-b-a-b-c']"
      ]
     },
     "execution_count": 11,
     "metadata": {},
     "output_type": "execute_result"
    }
   ],
   "source": [
    "a_list.append((p[::-1]+p[1:]).center(4*3 - 3,\"-\"))\n",
    "a_list"
   ]
  },
  {
   "cell_type": "code",
   "execution_count": 10,
   "metadata": {},
   "outputs": [
    {
     "name": "stdout",
     "output_type": "stream",
     "text": [
      "a-b-c\n"
     ]
    }
   ],
   "source": [
    "import string\n",
    "alpha = string.ascii_lowercase\n",
    "\n",
    "a_list = []\n",
    "\n",
    "p = \"-\".join(alpha[0:3])\n",
    "print(p)"
   ]
  },
  {
   "cell_type": "code",
   "execution_count": 15,
   "metadata": {},
   "outputs": [
    {
     "name": "stdout",
     "output_type": "stream",
     "text": [
      "0\n",
      "a-b-c\n",
      "['c-b-a-b-c']\n",
      "1\n",
      "b-c\n",
      "['c-b-a-b-c', '--c-b-c--']\n",
      "2\n",
      "c\n",
      "['c-b-a-b-c', '--c-b-c--', '----c----']\n",
      "----c----\n",
      "--c-b-c--\n",
      "c-b-a-b-c\n",
      "--c-b-c--\n",
      "----c----\n"
     ]
    }
   ],
   "source": [
    "import string\n",
    "alpha = string.ascii_lowercase\n",
    "\n",
    "a_list = []\n",
    "\n",
    "for i in range(3):\n",
    "    print(i)\n",
    "    p = \"-\".join(alpha[i:3])\n",
    "    print(p)\n",
    "    a_list.append((p[::-1]+p[1:]).center(4*3 - 3,\"-\"))\n",
    "    print(a_list)\n",
    "print(\"\\n\".join(a_list[:0:-1] + a_list))"
   ]
  },
  {
   "cell_type": "code",
   "execution_count": null,
   "metadata": {},
   "outputs": [],
   "source": [
    "def print_rangoli(size):\n",
    "    # your code goes here\n",
    "    for i in range(size):\n",
    "        s = \"-\".join(chr(ord('a') + size-j-1 ) for j in range(i+1))\n",
    "        print((s + s[::-1][1:]).center(size*4-3,'-'))\n",
    "        \n",
    "    for i in range(size - 1):\n",
    "        s = '-'.join(chr(ord('a')+ size-j-1) for j in range(size-1-i))\n",
    "        print((s+s[::-1][1:]).center(size*4-3,'-'))\n",
    "    "
   ]
  },
  {
   "cell_type": "code",
   "execution_count": 20,
   "metadata": {},
   "outputs": [
    {
     "name": "stdout",
     "output_type": "stream",
     "text": [
      "0\n",
      "c\n",
      "----c----\n",
      "1\n",
      "c-b\n",
      "--c-b-c--\n",
      "2\n",
      "c-b-a\n",
      "c-b-a-b-c\n"
     ]
    }
   ],
   "source": [
    "for i in range(3):\n",
    "    print(i)\n",
    "    s = \"-\".join(chr(ord('a') + 3-j-1 ) for j in range(i+1))\n",
    "    print(s)\n",
    "    print((s + s[::-1][1:]).center(3*4-3,'-'))\n",
    "        \n"
   ]
  },
  {
   "cell_type": "code",
   "execution_count": 21,
   "metadata": {},
   "outputs": [
    {
     "name": "stdout",
     "output_type": "stream",
     "text": [
      "0\n",
      "c-b\n",
      "--c-b-c--\n",
      "1\n",
      "c\n",
      "----c----\n"
     ]
    }
   ],
   "source": [
    "for i in range(3-1):\n",
    "    print(i)\n",
    "    s = \"-\".join(chr(ord('a') + 3-j-1 ) for j in range(3-1-i))\n",
    "    print(s)\n",
    "    print((s + s[::-1][1:]).center(3*4-3,'-'))"
   ]
  },
  {
   "cell_type": "code",
   "execution_count": 31,
   "metadata": {},
   "outputs": [
    {
     "name": "stdout",
     "output_type": "stream",
     "text": [
      "['AAB', 'CAA', 'ADA']\n",
      "0\n",
      "{'B', 'A'}\n",
      "BA\n",
      "1\n",
      "{'C', 'A'}\n",
      "CA\n",
      "2\n",
      "{'D', 'A'}\n",
      "DA\n"
     ]
    }
   ],
   "source": [
    "string='AABCAAADA'\n",
    "s_len = 9\n",
    "k=3\n",
    "t = 3\n",
    "lt = [string[i:k+i] for i in range(0,s_len,k)]\n",
    "print(lt)\n",
    "[set(lt[j]) for j in range(t)]\n",
    "\n",
    "for j in range(t):\n",
    "    print(j)\n",
    "    dist = set(lt[j])\n",
    "    print(set(lt[j]))\n",
    "    print(''.join(dist))"
   ]
  },
  {
   "cell_type": "code",
   "execution_count": 32,
   "metadata": {},
   "outputs": [
    {
     "name": "stdout",
     "output_type": "stream",
     "text": [
      "{'Hacker', 'Rank'}\n"
     ]
    }
   ],
   "source": [
    "print(set({'Hacker' : 'DOSHI', 'Rank' : 616 }))"
   ]
  },
  {
   "cell_type": "code",
   "execution_count": 33,
   "metadata": {},
   "outputs": [
    {
     "name": "stdout",
     "output_type": "stream",
     "text": [
      "{(9, 'k'), (2, 'c'), (6, 'r'), (4, 'e'), (1, 'a'), (5, 'r'), (3, 'k'), (7, 'a'), (8, 'n'), (0, 'H')}\n"
     ]
    }
   ],
   "source": [
    "print(set(enumerate(['H','a','c','k','e','r','r','a','n','k'])))"
   ]
  }
 ],
 "metadata": {
  "kernelspec": {
   "display_name": "Python 3",
   "language": "python",
   "name": "python3"
  },
  "language_info": {
   "codemirror_mode": {
    "name": "ipython",
    "version": 3
   },
   "file_extension": ".py",
   "mimetype": "text/x-python",
   "name": "python",
   "nbconvert_exporter": "python",
   "pygments_lexer": "ipython3",
   "version": "3.10.11"
  }
 },
 "nbformat": 4,
 "nbformat_minor": 2
}
