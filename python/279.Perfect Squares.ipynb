{
 "cells": [
  {
   "cell_type": "markdown",
   "metadata": {},
   "source": [
    "279. Perfect Squares\n",
    "Solved\n",
    "Medium\n",
    "Topics\n",
    "Companies\n",
    "Given an integer n, return the least number of perfect square numbers that sum to n.\n",
    "\n",
    "A perfect square is an integer that is the square of an integer; in other words, it is the product of some integer with itself. For example, 1, 4, 9, and 16 are perfect squares while 3 and 11 are not.\n",
    "\n",
    " \n",
    "\n",
    "Example 1:\n",
    "\n",
    "Input: n = 12\n",
    "Output: 3\n",
    "Explanation: 12 = 4 + 4 + 4.\n",
    "Example 2:\n",
    "\n",
    "Input: n = 13\n",
    "Output: 2\n",
    "Explanation: 13 = 4 + 9.\n",
    " \n",
    "\n",
    "Constraints:\n",
    "\n",
    "1 <= n <= 104"
   ]
  },
  {
   "cell_type": "code",
   "execution_count": null,
   "metadata": {},
   "outputs": [],
   "source": [
    "# dynamic programming\n",
    "# Time complexity: O(n⋅sqrt{n}). In main step, we have a nested loop, where the outer loop is of n iterations and in the inner loop it takes at maximum sqrt{n} iterations.\n",
    "# Space Complexity: O(n). We keep all the intermediate sub-solutions in the array dp[].\n",
    "class Solution:\n",
    "    def numSquares(self, n: int) -> int:\n",
    "        dp = [n] * (n + 1)\n",
    "        # print(dp)\n",
    "        dp[0] = 0\n",
    "        # print(dp)\n",
    "        for target in range(1, n + 1):\n",
    "            for s in range(1, target + 1):\n",
    "                square = s * s\n",
    "                print(target, s, square,target - square)\n",
    "                if target - square < 0:\n",
    "                    break\n",
    "                dp[target] = min(dp[target], 1 + dp[target - square])\n",
    "                print(dp)\n",
    "        return dp[n]"
   ]
  }
 ],
 "metadata": {
  "language_info": {
   "name": "python"
  }
 },
 "nbformat": 4,
 "nbformat_minor": 2
}
