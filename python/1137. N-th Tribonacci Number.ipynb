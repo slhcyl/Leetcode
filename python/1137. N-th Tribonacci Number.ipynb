{
 "cells": [
  {
   "cell_type": "markdown",
   "metadata": {},
   "source": [
    "1137. N-th Tribonacci Number\n",
    "Solved\n",
    "Easy\n",
    "Topics\n",
    "Companies\n",
    "Hint\n",
    "The Tribonacci sequence Tn is defined as follows: \n",
    "\n",
    "T0 = 0, T1 = 1, T2 = 1, and Tn+3 = Tn + Tn+1 + Tn+2 for n >= 0.\n",
    "\n",
    "Given n, return the value of Tn.\n",
    "\n",
    " \n",
    "\n",
    "Example 1:\n",
    "\n",
    "Input: n = 4\n",
    "Output: 4\n",
    "Explanation:\n",
    "T_3 = 0 + 1 + 1 = 2\n",
    "T_4 = 1 + 1 + 2 = 4\n",
    "Example 2:\n",
    "\n",
    "Input: n = 25\n",
    "Output: 1389537\n",
    " \n",
    "\n",
    "Constraints:\n",
    "\n",
    "0 <= n <= 37\n",
    "The answer is guaranteed to fit within a 32-bit integer, ie. answer <= 2^31 - 1."
   ]
  },
  {
   "cell_type": "code",
   "execution_count": null,
   "metadata": {},
   "outputs": [],
   "source": [
    "# Approach 2: Dynamic Programming (Bottom Up)\n",
    "'''Time complexity: O(n)\n",
    "Iterating over indices from 3 to n takes O(n) time.\n",
    "Space complexity: O(n)\n",
    "We build an array of size n + 1, which takes O(n) space.'''\n",
    "class Solution:\n",
    "    def tribonacci(self, n: int) -> int:\n",
    "        if n < 3:\n",
    "            return 1 if n else 0\n",
    "        dp = [0] * (n+1)\n",
    "        dp[1], dp[2] = 1,1\n",
    "\n",
    "        for i in range(3,n+1):\n",
    "            dp[i] = dp[i-1] + dp[i-2] + dp[i-3]\n",
    "\n",
    "        return dp[n]"
   ]
  },
  {
   "cell_type": "code",
   "execution_count": null,
   "metadata": {},
   "outputs": [],
   "source": [
    "# Approach 3: Better Dynamic Programming (Bottom Up)\n",
    "'''Time complexity: O(n)\n",
    "We have to update the value of a, b and c by n - 2 times, each update takes constant time. Thus it takes O(n) time.\n",
    "Space complexity: O(1)\n",
    "We only need to update several parameters a, b, c and tmp, which takes O(1) space.'''\n",
    "class Solution:\n",
    "    def tribonacci(self, n: int) -> int:\n",
    "        if n < 3:\n",
    "            return 1 if n else 0\n",
    "        a, b, c = 0, 1, 1\n",
    "        for _ in range(n - 2):\n",
    "            a, b, c = b, c, a + b + c\n",
    "        return c\n"
   ]
  }
 ],
 "metadata": {
  "language_info": {
   "name": "python"
  }
 },
 "nbformat": 4,
 "nbformat_minor": 2
}
