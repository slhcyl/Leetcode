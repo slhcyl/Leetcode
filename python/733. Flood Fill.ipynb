{
 "cells": [
  {
   "cell_type": "markdown",
   "metadata": {},
   "source": [
    "733. Flood Fill\n",
    "Solved\n",
    "Easy\n",
    "Topics\n",
    "Companies\n",
    "Hint\n",
    "An image is represented by an m x n integer grid image where image[i][j] represents the pixel value of the image.\n",
    "\n",
    "You are also given three integers sr, sc, and color. You should perform a flood fill on the image starting from the pixel image[sr][sc].\n",
    "\n",
    "To perform a flood fill, consider the starting pixel, plus any pixels connected 4-directionally to the starting pixel of the same color as the starting pixel, plus any pixels connected 4-directionally to those pixels (also with the same color), and so on. Replace the color of all of the aforementioned pixels with color.\n",
    "\n",
    "Return the modified image after performing the flood fill.\n",
    "\n",
    " \n",
    "\n",
    "Example 1:\n",
    "\n",
    "\n",
    "Input: image = [[1,1,1],[1,1,0],[1,0,1]], sr = 1, sc = 1, color = 2\n",
    "Output: [[2,2,2],[2,2,0],[2,0,1]]\n",
    "Explanation: From the center of the image with position (sr, sc) = (1, 1) (i.e., the red pixel), all pixels connected by a path of the same color as the starting pixel (i.e., the blue pixels) are colored with the new color.\n",
    "Note the bottom corner is not colored 2, because it is not 4-directionally connected to the starting pixel.\n",
    "Example 2:\n",
    "\n",
    "Input: image = [[0,0,0],[0,0,0]], sr = 0, sc = 0, color = 0\n",
    "Output: [[0,0,0],[0,0,0]]\n",
    "Explanation: The starting pixel is already colored 0, so no changes are made to the image.\n",
    " \n",
    "\n",
    "Constraints:\n",
    "\n",
    "m == image.length\n",
    "n == image[i].length\n",
    "1 <= m, n <= 50\n",
    "0 <= image[i][j], color < 216\n",
    "0 <= sr < m\n",
    "0 <= sc < n"
   ]
  },
  {
   "cell_type": "code",
   "execution_count": null,
   "metadata": {},
   "outputs": [],
   "source": [
    "# Depth-First Search (DFS)\n",
    "# t O(m×n) \n",
    "# s O(m×n) \n",
    "class Solution:\n",
    "    def floodFill(self, image: List[List[int]], sr: int, sc: int, color: int) -> List[List[int]]:\n",
    "        rows, cols = len(image), len(image[0])\n",
    "        start_color = image[sr][sc]\n",
    "        if start_color == color:\n",
    "            return image\n",
    "\n",
    "        def dfs(r, c):\n",
    "            if image[r][c] == start_color:\n",
    "                image[r][c] = color\n",
    "                directions = [(1,0),(-1,0),(0,1),(0,-1)]\n",
    "\n",
    "                for dr, dc in directions:\n",
    "                    new_r = dr + r\n",
    "                    new_c = dc + c\n",
    "                    if 0 <= new_r < rows and 0 <= new_c < cols:\n",
    "                        dfs(new_r, new_c)\n",
    "        \n",
    "        dfs(sr,sc)\n",
    "\n",
    "        return image"
   ]
  }
 ],
 "metadata": {
  "language_info": {
   "name": "python"
  }
 },
 "nbformat": 4,
 "nbformat_minor": 2
}
