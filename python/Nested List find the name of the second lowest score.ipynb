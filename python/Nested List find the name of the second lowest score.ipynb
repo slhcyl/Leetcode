{
 "cells": [
  {
   "cell_type": "code",
   "execution_count": 11,
   "metadata": {},
   "outputs": [
    {
     "name": "stdout",
     "output_type": "stream",
     "text": [
      "Berry\n",
      "Harry\n"
     ]
    },
    {
     "data": {
      "text/plain": [
       "[['Harsh', 39],\n",
       " ['Akriti', 41],\n",
       " ['Tina', 37.2],\n",
       " ['Berry', 37.21],\n",
       " ['Harry', 37.21]]"
      ]
     },
     "execution_count": 11,
     "metadata": {},
     "output_type": "execute_result"
    }
   ],
   "source": [
    "students = [['Harry', 37.21], ['Berry', 37.21], ['Tina', 37.2], ['Akriti', 41], ['Harsh', 39]]\n",
    "scores_sorted_list = sorted(set(score for name, score in students))\n",
    "second_lowest_score = scores_sorted_list[1]\n",
    "# for name, score in students:\n",
    "#     print(name,score)\n",
    "second_lowest_score_names =[name for name , score in sorted(students) if score == second_lowest_score]\n",
    "for name in second_lowest_score_names:\n",
    "    print(name)\n",
    "students.reverse()\n",
    "students"
   ]
  },
  {
   "cell_type": "code",
   "execution_count": 9,
   "metadata": {},
   "outputs": [
    {
     "name": "stdout",
     "output_type": "stream",
     "text": [
      "Krishna [67, 68, 69]\n",
      "Arjun [70, 98, 63]\n",
      "Malika [52, 56, 60]\n"
     ]
    },
    {
     "data": {
      "text/plain": [
       "3"
      ]
     },
     "execution_count": 9,
     "metadata": {},
     "output_type": "execute_result"
    }
   ],
   "source": [
    "students_mark = {\"Krishna\": [67, 68, 69], \"Arjun\": [70, 98, 63],\"Malika\": [52, 56, 60]}\n",
    "for name, mark in students_mark.items():\n",
    "    print(name,mark)\n",
    "students_mark[\"Krishna\"]\n",
    "len(students_mark[\"Krishna\"])"
   ]
  },
  {
   "cell_type": "code",
   "execution_count": 13,
   "metadata": {},
   "outputs": [
    {
     "data": {
      "text/plain": [
       "[['Akriti', 41], ['Tina', 37.2], ['Berry', 37.21], ['Harry', 37.21]]"
      ]
     },
     "execution_count": 13,
     "metadata": {},
     "output_type": "execute_result"
    }
   ],
   "source": [
    "students = [['Harry', 37.21], ['Berry', 37.21], ['Tina', 37.2], ['Akriti', 41], ['Harsh', 39]]\n",
    "students[::-1][1:]"
   ]
  }
 ],
 "metadata": {
  "kernelspec": {
   "display_name": "Python 3",
   "language": "python",
   "name": "python3"
  },
  "language_info": {
   "codemirror_mode": {
    "name": "ipython",
    "version": 3
   },
   "file_extension": ".py",
   "mimetype": "text/x-python",
   "name": "python",
   "nbconvert_exporter": "python",
   "pygments_lexer": "ipython3",
   "version": "3.10.11"
  }
 },
 "nbformat": 4,
 "nbformat_minor": 2
}
