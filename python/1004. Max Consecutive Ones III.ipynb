{
 "cells": [
  {
   "cell_type": "markdown",
   "metadata": {},
   "source": [
    "1004. Max Consecutive Ones III\n",
    "Medium\n",
    "Topics\n",
    "Companies\n",
    "Hint\n",
    "Given a binary array nums and an integer k, return the maximum number of consecutive 1's in the array if you can flip at most k 0's.\n",
    "\n",
    " \n",
    "\n",
    "Example 1:\n",
    "\n",
    "Input: nums = [1,1,1,0,0,0,1,1,1,1,0], k = 2\n",
    "Output: 6\n",
    "Explanation: [1,1,1,0,0,1,1,1,1,1,1]\n",
    "Bolded numbers were flipped from 0 to 1. The longest subarray is underlined.\n",
    "Example 2:\n",
    "\n",
    "Input: nums = [0,0,1,1,0,0,1,1,1,0,1,1,0,0,0,1,1,1,1], k = 3\n",
    "Output: 10\n",
    "Explanation: [0,0,1,1,1,1,1,1,1,1,1,1,0,0,0,1,1,1,1]\n",
    "Bolded numbers were flipped from 0 to 1. The longest subarray is underlined.\n",
    " \n",
    "\n",
    "Constraints:\n",
    "\n",
    "1 <= nums.length <= 105\n",
    "nums[i] is either 0 or 1.\n",
    "0 <= k <= nums.length"
   ]
  },
  {
   "cell_type": "code",
   "execution_count": null,
   "metadata": {},
   "outputs": [],
   "source": [
    "# t O(n)\n",
    "# s O(1)\n",
    "# two pointer: left and right, right travels faster, sliding windows\n",
    "class Solution:\n",
    "    def longestOnes(self, nums: List[int], k: int) -> int:\n",
    "        l = max_cons = 0\n",
    "\n",
    "        for r, num in enumerate(nums):\n",
    "            # If we included a zero in the window we reduce the value of k.\n",
    "            # Since k is the maximum zeros allowed in a window.\n",
    "            k -= 1 - num\n",
    "            # A negative k denotes we have consumed all allowed flips and window has\n",
    "            # more than allowed zeros, thus increment left pointer by 1 to keep the window size same.\n",
    "\n",
    "            if k < 0:\n",
    "                # If the left element to be thrown out is zero we increase k.\n",
    "                k += 1 - nums[l]\n",
    "                l += 1 \n",
    "            else:\n",
    "                max_cons = max(max_cons, r - l + 1)\n",
    "        return max_cons"
   ]
  },
  {
   "cell_type": "code",
   "execution_count": null,
   "metadata": {},
   "outputs": [],
   "source": [
    "class Solution:\n",
    "    def longestOnes(self, nums: List[int], k: int) -> int:\n",
    "        left = zero_count = max_length = 0\n",
    "\n",
    "        for right in range(len(nums)):\n",
    "            if nums[right] == 0:\n",
    "                zero_count += 1\n",
    "            # sliding window left to right where the count of 0 should be <= k\n",
    "            while zero_count > k:\n",
    "                if nums[left] == 0:\n",
    "                    zero_count -= 1\n",
    "                left += 1\n",
    "            \n",
    "            max_length = max(max_length, right - left + 1)\n",
    "        \n",
    "        return max_length"
   ]
  }
 ],
 "metadata": {
  "language_info": {
   "name": "python"
  }
 },
 "nbformat": 4,
 "nbformat_minor": 2
}
