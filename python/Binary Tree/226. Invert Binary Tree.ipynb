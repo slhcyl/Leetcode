{
 "cells": [
  {
   "cell_type": "markdown",
   "metadata": {},
   "source": [
    "226. Invert Binary Tree\n",
    "Solved\n",
    "Easy\n",
    "Topics\n",
    "Companies\n",
    "Given the root of a binary tree, invert the tree, and return its root.\n",
    "\n",
    " \n",
    "\n",
    "Example 1:\n",
    "\n",
    "\n",
    "Input: root = [4,2,7,1,3,6,9]\n",
    "Output: [4,7,2,9,6,3,1]\n",
    "Example 2:\n",
    "\n",
    "\n",
    "Input: root = [2,1,3]\n",
    "Output: [2,3,1]\n",
    "Example 3:\n",
    "\n",
    "Input: root = []\n",
    "Output: []\n",
    " \n",
    "\n",
    "Constraints:\n",
    "\n",
    "The number of nodes in the tree is in the range [0, 100].\n",
    "-100 <= Node.val <= 100"
   ]
  },
  {
   "cell_type": "markdown",
   "metadata": {},
   "source": [
    "Complexity Analysis\n",
    "\n",
    "Since each node in the tree is visited only once, the time complexity is O(n), where nnn is the number of nodes in the tree. We cannot do better than that, since at the very least we have to visit each node to invert it.\n",
    "\n",
    "Because of recursion, O(h)function calls will be placed on the stack in the worst case, where hhh is the height of the tree. Because h∈O(n)), the space complexity is O(n)."
   ]
  },
  {
   "cell_type": "code",
   "execution_count": null,
   "metadata": {},
   "outputs": [],
   "source": [
    "# Approach 1: Recursive\n",
    "# Definition for a binary tree node.\n",
    "# class TreeNode:\n",
    "#     def __init__(self, val=0, left=None, right=None):\n",
    "#         self.val = val\n",
    "#         self.left = left\n",
    "#         self.right = right\n",
    "class Solution:\n",
    "    def invertTree(self, root: Optional[TreeNode]) -> Optional[TreeNode]:\n",
    "        if not root:\n",
    "            return None\n",
    "\n",
    "        temp = root.left\n",
    "        root.left = root.right\n",
    "        root.right = temp\n",
    "\n",
    "        self.invertTree(root.left)\n",
    "        self.invertTree(root.right)\n",
    "\n",
    "        return root\n",
    "        \n",
    "# Time O(n)\n",
    "# Space O(h) -> O(n)"
   ]
  },
  {
   "cell_type": "code",
   "execution_count": null,
   "metadata": {},
   "outputs": [],
   "source": [
    "class Solution:\n",
    "    def invertTree(self, root: Optional[TreeNode]) -> Optional[TreeNode]:\n",
    "        if not root:\n",
    "            return None\n",
    "\n",
    "        \n",
    "        root.left, root.right = root.right, root.left\n",
    "\n",
    "        self.invertTree(root.left)\n",
    "        self.invertTree(root.right)\n",
    "\n",
    "        return root"
   ]
  },
  {
   "cell_type": "code",
   "execution_count": null,
   "metadata": {},
   "outputs": [],
   "source": [
    "# Approach 2: Iterative\n",
    "''''Complexity Analysis\n",
    "Since each node in the tree is visited / added to the queue only once, the time complexity is O(n), where nnn is the number of nodes in the tree.\n",
    "Space complexity is O(n), since in the worst case, the queue will contain all nodes in one level of the binary tree. For a full binary tree, the leaf level has ⌈n/2⌉⌉=O(n) leaves.'''\n",
    "class Solution:\n",
    "    def invertTree(self, root: Optional[TreeNode]) -> Optional[TreeNode]:\n",
    "        if not root:\n",
    "            return None\n",
    "        \n",
    "        queue = collections.deque([root])\n",
    "        while queue:\n",
    "            current = queue.popleft()\n",
    "            current.left, current.right = current.right, current.left\n",
    "            \n",
    "            if current.left:\n",
    "                queue.append(current.left)\n",
    "            \n",
    "            if current.right:\n",
    "                queue.append(current.right)\n",
    "        \n",
    "        return root"
   ]
  }
 ],
 "metadata": {
  "language_info": {
   "name": "python"
  }
 },
 "nbformat": 4,
 "nbformat_minor": 2
}
