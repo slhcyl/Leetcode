{
 "cells": [
  {
   "cell_type": "markdown",
   "metadata": {},
   "source": [
    "186. Reverse Words in a String II\n",
    "Solved\n",
    "Medium\n",
    "Topics\n",
    "Companies\n",
    "Given a character array s, reverse the order of the words.\n",
    "\n",
    "A word is defined as a sequence of non-space characters. The words in s will be separated by a single space.\n",
    "\n",
    "Your code must solve the problem in-place, i.e. without allocating extra space.\n",
    "\n",
    " \n",
    "\n",
    "Example 1:\n",
    "\n",
    "Input: s = [\"t\",\"h\",\"e\",\" \",\"s\",\"k\",\"y\",\" \",\"i\",\"s\",\" \",\"b\",\"l\",\"u\",\"e\"]\n",
    "Output: [\"b\",\"l\",\"u\",\"e\",\" \",\"i\",\"s\",\" \",\"s\",\"k\",\"y\",\" \",\"t\",\"h\",\"e\"]\n",
    "Example 2:\n",
    "\n",
    "Input: s = [\"a\"]\n",
    "Output: [\"a\"]\n",
    " \n",
    "\n",
    "Constraints:\n",
    "\n",
    "1 <= s.length <= 105\n",
    "s[i] is an English letter (uppercase or lowercase), digit, or space ' '.\n",
    "There is at least one word in s.\n",
    "s does not contain leading or trailing spaces.\n",
    "All the words in s are guaranteed to be separated by a single space."
   ]
  },
  {
   "cell_type": "code",
   "execution_count": null,
   "metadata": {},
   "outputs": [],
   "source": [
    "'''Complexity Analysis\n",
    "Time complexity: O(N), it's two passes along the string.\n",
    "Space complexity: O(1), it's a constant space solution.'''\n",
    "class Solution:\n",
    "    def reverseWords(self, s: List[str]) -> None:\n",
    "        \"\"\"\n",
    "        Do not return anything, modify s in-place instead.\n",
    "        \"\"\"\n",
    "        def reverse(start, end):\n",
    "            while start < end:\n",
    "                s[start], s[end] = s[end], s[start]\n",
    "                start += 1\n",
    "                end -= 1\n",
    "\n",
    "        reverse(0, len(s)- 1)\n",
    "\n",
    "        start = 0\n",
    "        for i in range(len(s)):\n",
    "            if s[i] == ' ':\n",
    "                reverse(start, i-1)\n",
    "                start = i + 1\n",
    "            elif i == len(s) - 1:\n",
    "                reverse(start, i)\n",
    "        return s"
   ]
  }
 ],
 "metadata": {
  "language_info": {
   "name": "python"
  }
 },
 "nbformat": 4,
 "nbformat_minor": 2
}
