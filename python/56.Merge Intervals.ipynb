{
 "cells": [
  {
   "cell_type": "markdown",
   "metadata": {},
   "source": [
    "56. Merge Intervals\n",
    "Solved\n",
    "Medium\n",
    "Topics\n",
    "Companies\n",
    "Given an array of intervals where intervals[i] = [starti, endi], merge all overlapping intervals, and return an array of the non-overlapping intervals that cover all the intervals in the input.\n",
    "\n",
    " \n",
    "\n",
    "Example 1:\n",
    "\n",
    "Input: intervals = [[1,3],[2,6],[8,10],[15,18]]\n",
    "Output: [[1,6],[8,10],[15,18]]\n",
    "Explanation: Since intervals [1,3] and [2,6] overlap, merge them into [1,6].\n",
    "Example 2:\n",
    "\n",
    "Input: intervals = [[1,4],[4,5]]\n",
    "Output: [[1,5]]\n",
    "Explanation: Intervals [1,4] and [4,5] are considered overlapping.\n",
    " \n",
    "\n",
    "Constraints:\n",
    "\n",
    "1 <= intervals.length <= 104\n",
    "intervals[i].length == 2\n",
    "0 <= starti <= endi <= 104"
   ]
  },
  {
   "cell_type": "code",
   "execution_count": null,
   "metadata": {},
   "outputs": [],
   "source": [
    "# t O(nlogn) where n is the number of intervals. Sorting the intervals takes O(nlogn), and merging them takes O(n) in a single pass.\n",
    "# s O(log(n)) to O(n), depending on the implementation of the sort algorithm (due to space used by the sort stack). \n",
    "# The space used to store the result (merged intervals) is O(n) in the worst case, where no intervals are merged.\n",
    "class Solution:\n",
    "    def merge(self, intervals: List[List[int]]) -> List[List[int]]:\n",
    "\n",
    "        if not intervals:\n",
    "            return []\n",
    "\n",
    "        intervals.sort(key = lambda x: x[0])\n",
    "        output = [intervals[0]]\n",
    "        print(output)\n",
    "\n",
    "        for start, end in intervals:\n",
    "            lastend = output[-1][1]\n",
    "            if start <= lastend:\n",
    "                output[-1][1] = max(lastend, end)\n",
    "            else:\n",
    "                output.append([start, end])\n",
    "        return output"
   ]
  }
 ],
 "metadata": {
  "language_info": {
   "name": "python"
  }
 },
 "nbformat": 4,
 "nbformat_minor": 2
}
