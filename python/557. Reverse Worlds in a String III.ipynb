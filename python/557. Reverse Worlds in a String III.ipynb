{
 "cells": [
  {
   "cell_type": "markdown",
   "metadata": {},
   "source": [
    "557. Reverse Words in a String III\n",
    "Solved\n",
    "Easy\n",
    "Topics\n",
    "Companies\n",
    "Given a string s, reverse the order of characters in each word within a sentence while still preserving whitespace and initial word order.\n",
    "\n",
    " \n",
    "\n",
    "Example 1:\n",
    "\n",
    "Input: s = \"Let's take LeetCode contest\"\n",
    "Output: \"s'teL ekat edoCteeL tsetnoc\"\n",
    "Example 2:\n",
    "\n",
    "Input: s = \"Mr Ding\"\n",
    "Output: \"rM gniD\"\n",
    " \n",
    "\n",
    "Constraints:\n",
    "\n",
    "1 <= s.length <= 5 * 104\n",
    "s contains printable ASCII characters.\n",
    "s does not contain any leading or trailing spaces.\n",
    "There is at least one word in s.\n",
    "All the words in s are separated by a single space."
   ]
  },
  {
   "cell_type": "code",
   "execution_count": null,
   "metadata": {},
   "outputs": [],
   "source": [
    "# Time Complexity: O(n), where n is the length of the string. The entire string is traversed once, and each word is reversed in place.\n",
    "# Space Complexity: O(n) for the list of characters. In terms of extra space beyond the input, it's O(1) because we're only using a few extra variables for indices.\n",
    "class Solution:\n",
    "    def reverseWords(self, s: str) -> str:\n",
    "        s_list = list(s)\n",
    "        start = 0\n",
    "        \n",
    "        def reverse(start, end):\n",
    "            while start < end:\n",
    "                s_list[start], s_list[end] = s_list[end], s_list[start]\n",
    "                start += 1\n",
    "                end -= 1\n",
    "\n",
    "        for i in range(len(s_list)):\n",
    "            if s_list[i] == ' ':\n",
    "                reverse(start, i - 1)\n",
    "                start = i + 1\n",
    "            elif i == len(s_list) - 1:\n",
    "                reverse(start, i)\n",
    "\n",
    "        return ''.join(s_list)"
   ]
  },
  {
   "cell_type": "code",
   "execution_count": null,
   "metadata": {},
   "outputs": [],
   "source": [
    "# Time Complexity: O(n), where n is the length of the string. \n",
    "# This complexity arises because the algorithm needs to traverse each character in the string to reverse the words and then again to concatenate them.\n",
    "# Space Complexity: O(n), as the space needed depends on the input string size due to storing the words and the reversed words.\n",
    "class Solution:\n",
    "    def reverseWords(self, s: str) -> str:\n",
    "        words = s.split()\n",
    "\n",
    "        reversed_words = ' '.join([word[::-1] for word in words])\n",
    "        \n",
    "        return reversed_words\n"
   ]
  },
  {
   "cell_type": "code",
   "execution_count": null,
   "metadata": {},
   "outputs": [],
   "source": [
    "class Solution:\n",
    "    def reverseWords(self, s: str) -> str:\n",
    "        words = s.split()\n",
    "\n",
    "        reversed_words = ' '.join(word[::-1] for word in words)\n",
    "        \n",
    "        return reversed_words\n"
   ]
  }
 ],
 "metadata": {
  "language_info": {
   "name": "python"
  }
 },
 "nbformat": 4,
 "nbformat_minor": 2
}
