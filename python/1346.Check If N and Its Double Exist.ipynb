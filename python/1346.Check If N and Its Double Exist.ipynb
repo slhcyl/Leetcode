{
 "cells": [
  {
   "cell_type": "markdown",
   "metadata": {},
   "source": [
    "1346. Check If N and Its Double Exist\n",
    "Solved\n",
    "Easy\n",
    "Topics\n",
    "Companies\n",
    "Hint\n",
    "Given an array arr of integers, check if there exist two indices i and j such that :\n",
    "\n",
    "i != j\n",
    "0 <= i, j < arr.length\n",
    "arr[i] == 2 * arr[j]\n",
    " \n",
    "\n",
    "Example 1:\n",
    "\n",
    "Input: arr = [10,2,5,3]\n",
    "Output: true\n",
    "Explanation: For i = 0 and j = 2, arr[i] == 10 == 2 * 5 == 2 * arr[j]\n",
    "Example 2:\n",
    "\n",
    "Input: arr = [3,1,7,11]\n",
    "Output: false\n",
    "Explanation: There is no i and j that satisfy the conditions.\n",
    " \n",
    "\n",
    "Constraints:\n",
    "\n",
    "2 <= arr.length <= 500\n",
    "-103 <= arr[i] <= 103"
   ]
  },
  {
   "cell_type": "code",
   "execution_count": null,
   "metadata": {},
   "outputs": [],
   "source": [
    "# Time Complexity: O(n), where n is the number of elements in the array. \n",
    "# This is because each element is processed exactly once, and set operations (check and insert) are average O(1) time.\n",
    "# Space Complexity: O(n), due to the space needed for the set that could store up to n elements in the worst case.\n",
    "class Solution:\n",
    "    def checkIfExist(self, arr: List[int]) -> bool:\n",
    "        seen = set()\n",
    "\n",
    "        for x in arr:\n",
    "            if (2 * x in seen) or (x % 2 == 0 and x/2 in seen):\n",
    "                return True\n",
    "            seen.add(x)\n",
    "        return False"
   ]
  }
 ],
 "metadata": {
  "language_info": {
   "name": "python"
  }
 },
 "nbformat": 4,
 "nbformat_minor": 2
}
