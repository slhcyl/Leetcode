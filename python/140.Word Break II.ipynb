{
 "cells": [
  {
   "cell_type": "markdown",
   "metadata": {},
   "source": [
    "140. Word Break II\n",
    "Solved\n",
    "Hard\n",
    "Topics\n",
    "Companies\n",
    "Given a string s and a dictionary of strings wordDict, add spaces in s to construct a sentence where each word is a valid dictionary word. Return all such possible sentences in any order.\n",
    "\n",
    "Note that the same word in the dictionary may be reused multiple times in the segmentation.\n",
    "\n",
    " \n",
    "\n",
    "Example 1:\n",
    "\n",
    "Input: s = \"catsanddog\", wordDict = [\"cat\",\"cats\",\"and\",\"sand\",\"dog\"]\n",
    "Output: [\"cats and dog\",\"cat sand dog\"]\n",
    "Example 2:\n",
    "\n",
    "Input: s = \"pineapplepenapple\", wordDict = [\"apple\",\"pen\",\"applepen\",\"pine\",\"pineapple\"]\n",
    "Output: [\"pine apple pen apple\",\"pineapple pen apple\",\"pine applepen apple\"]\n",
    "Explanation: Note that you are allowed to reuse a dictionary word.\n",
    "Example 3:\n",
    "\n",
    "Input: s = \"catsandog\", wordDict = [\"cats\",\"dog\",\"sand\",\"and\",\"cat\"]\n",
    "Output: []\n",
    " \n",
    "\n",
    "Constraints:\n",
    "\n",
    "1 <= s.length <= 20\n",
    "1 <= wordDict.length <= 1000\n",
    "1 <= wordDict[i].length <= 10\n",
    "s and wordDict[i] consist of only lowercase English letters.\n",
    "All the strings of wordDict are unique.\n",
    "Input is generated in a way that the length of the answer doesn't exceed 105."
   ]
  },
  {
   "cell_type": "code",
   "execution_count": null,
   "metadata": {},
   "outputs": [],
   "source": [
    "# t O(2^n + n^2)\n",
    "# s O(2^n + n^2)\n",
    "class Solution:\n",
    "    def wordBreak(self, s: str, wordDict: List[str]) -> List[str]:\n",
    "        memo = {}\n",
    "\n",
    "        def dfs(string):\n",
    "            if string in memo:\n",
    "                return memo[string]\n",
    "            \n",
    "            if not string:\n",
    "                return ['']\n",
    "            \n",
    "            local_res = []\n",
    "\n",
    "            for word in wordDict:\n",
    "                if string.startswith(word):\n",
    "                    sub_words = dfs(string[len(word):])\n",
    "\n",
    "                    for sub_word in sub_words:\n",
    "                        local_res.append(word + (' ' if sub_word else '') + sub_word)\n",
    "            \n",
    "            memo[string] = local_res\n",
    "            return local_res\n",
    "\n",
    "        return dfs(s)"
   ]
  }
 ],
 "metadata": {
  "language_info": {
   "name": "python"
  }
 },
 "nbformat": 4,
 "nbformat_minor": 2
}
