{
 "cells": [
  {
   "cell_type": "markdown",
   "metadata": {},
   "source": [
    "55. Jump Game\n",
    "Medium\n",
    "Topics\n",
    "Companies\n",
    "You are given an integer array nums. You are initially positioned at the array's first index, and each element in the array represents your maximum jump length at that position.\n",
    "\n",
    "Return true if you can reach the last index, or false otherwise.\n",
    "\n",
    " \n",
    "\n",
    "Example 1:\n",
    "\n",
    "Input: nums = [2,3,1,1,4]\n",
    "Output: true\n",
    "Explanation: Jump 1 step from index 0 to 1, then 3 steps to the last index.\n",
    "Example 2:\n",
    "\n",
    "Input: nums = [3,2,1,0,4]\n",
    "Output: false\n",
    "Explanation: You will always arrive at index 3 no matter what. Its maximum jump length is 0, which makes it impossible to reach the last index.\n",
    " \n",
    "\n",
    "Constraints:\n",
    "\n",
    "1 <= nums.length <= 104\n",
    "0 <= nums[i] <= 105"
   ]
  },
  {
   "cell_type": "code",
   "execution_count": null,
   "metadata": {},
   "outputs": [],
   "source": [
    "# greedy\n",
    "'''Complexity Analysis\n",
    "Time complexity : O(n).\n",
    "We are doing a single pass through the nums array, hence n steps, where n is the length of array nums.\n",
    "Space complexity : O(1).\n",
    "We are not using any extra memory.'''\n",
    "class Solution:\n",
    "    def canJump(self, nums: List[int]) -> bool:\n",
    "        lastPosition = len(nums)-1\n",
    "        for i in range(len(nums)-1, -1, -1):\n",
    "            # reach the goal: greedy\n",
    "            '''Greedy Update: Whenever a position can reach or surpass the current lastPosition, \n",
    "            it updates lastPosition to that position. This step effectively moves the goalpost closer to the start.'''\n",
    "            if i + nums[i] >= lastPosition:\n",
    "                lastPosition = i\n",
    "        return lastPosition == 0"
   ]
  },
  {
   "cell_type": "code",
   "execution_count": null,
   "metadata": {},
   "outputs": [],
   "source": [
    "class Solution:\n",
    "    def canJump(self, nums: List[int]) -> bool:\n",
    "        max_reach = 0\n",
    "        for i, jump in enumerate(nums):\n",
    "            # current indext is larger than max_reach, that means, max_reach can never reach to this current index\n",
    "            if i > max_reach:\n",
    "                return False\n",
    "            max_reach = max(max_reach, i + jump)\n",
    "            # True if max_reach == length of the arr\n",
    "            if max_reach >= len(nums) - 1:\n",
    "                return True\n",
    "        return True\n"
   ]
  }
 ],
 "metadata": {
  "language_info": {
   "name": "python"
  }
 },
 "nbformat": 4,
 "nbformat_minor": 2
}
