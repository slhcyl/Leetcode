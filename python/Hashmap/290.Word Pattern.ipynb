{
 "cells": [
  {
   "cell_type": "markdown",
   "metadata": {},
   "source": [
    "290. Word Pattern\n",
    "Solved\n",
    "Easy\n",
    "Topics\n",
    "Companies\n",
    "Given a pattern and a string s, find if s follows the same pattern.\n",
    "\n",
    "Here follow means a full match, such that there is a bijection between a letter in pattern and a non-empty word in s.\n",
    "\n",
    " \n",
    "\n",
    "Example 1:\n",
    "\n",
    "Input: pattern = \"abba\", s = \"dog cat cat dog\"\n",
    "Output: true\n",
    "Example 2:\n",
    "\n",
    "Input: pattern = \"abba\", s = \"dog cat cat fish\"\n",
    "Output: false\n",
    "Example 3:\n",
    "\n",
    "Input: pattern = \"aaaa\", s = \"dog cat cat dog\"\n",
    "Output: false\n",
    " \n",
    "\n",
    "Constraints:\n",
    "\n",
    "1 <= pattern.length <= 300\n",
    "pattern contains only lower-case English letters.\n",
    "1 <= s.length <= 3000\n",
    "s contains only lowercase English letters and spaces ' '.\n",
    "s does not contain any leading or trailing spaces.\n",
    "All the words in s are separated by a single space."
   ]
  },
  {
   "cell_type": "markdown",
   "metadata": {},
   "source": [
    "Complexity Analysis\n",
    "\n",
    "Time complexity : O(N+M) where N represents the length of s and M represents the length of pattern. All operations in the algorithm are linear with the length of the inputs.\n",
    "\n",
    "Space complexity : O(N) where NNN represents the length of s. No more than 26 bijections will be added to each hashmap since they are limited by the number of letters in the alphabet. The character to word hash map stores a word for each entry, which are substrings of s, so their combined lengths equal s. Therefore, this hashmap requires O(26+N) space. The other hashmap requires the same amount of space, so the overall space complexity is O(N)."
   ]
  },
  {
   "cell_type": "code",
   "execution_count": null,
   "metadata": {},
   "outputs": [],
   "source": [
    "class Solution:\n",
    "    def wordPattern(self, pattern: str, s: str) -> bool:\n",
    "        words = s.split()        \n",
    "        if len(pattern) != len(words):\n",
    "            return False\n",
    "        p_to_s = {}\n",
    "        s_to_p = {}\n",
    "        for char, word in zip(pattern, words):\n",
    "            if (char in p_to_s and p_to_s[char] != word) or (word in s_to_p and s_to_p[word] != char):\n",
    "                return False\n",
    "            p_to_s[char] = word\n",
    "            s_to_p[word] = char\n",
    "        return True"
   ]
  }
 ],
 "metadata": {
  "language_info": {
   "name": "python"
  }
 },
 "nbformat": 4,
 "nbformat_minor": 2
}
