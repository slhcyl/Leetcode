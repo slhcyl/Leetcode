{
 "cells": [
  {
   "cell_type": "markdown",
   "metadata": {},
   "source": [
    "205. Isomorphic Strings\n",
    "Solved\n",
    "Easy\n",
    "Topics\n",
    "Companies\n",
    "Given two strings s and t, determine if they are isomorphic.\n",
    "\n",
    "Two strings s and t are isomorphic if the characters in s can be replaced to get t.\n",
    "\n",
    "All occurrences of a character must be replaced with another character while preserving the order of characters. No two characters may map to the same character, but a character may map to itself.\n",
    "\n",
    " \n",
    "\n",
    "Example 1:\n",
    "\n",
    "Input: s = \"egg\", t = \"add\"\n",
    "Output: true\n",
    "Example 2:\n",
    "\n",
    "Input: s = \"foo\", t = \"bar\"\n",
    "Output: false\n",
    "Example 3:\n",
    "\n",
    "Input: s = \"paper\", t = \"title\"\n",
    "Output: true\n",
    " \n",
    "\n",
    "Constraints:\n",
    "\n",
    "1 <= s.length <= 5 * 104\n",
    "t.length == s.length\n",
    "s and t consist of any valid ascii character."
   ]
  },
  {
   "cell_type": "code",
   "execution_count": null,
   "metadata": {},
   "outputs": [],
   "source": [
    "# Time Complexity: O(N). We process each character in both the strings exactly once to determine if the strings are isomorphic.\n",
    "# Space Complexity: O(1) since the size of the ASCII character set is fixed and the keys in our dictionary are all valid ASCII characters according to the problem statement.\n",
    "class Solution:\n",
    "    def isIsomorphic(self, s: str, t: str) -> bool:\n",
    "        mapS, mapT = {}, {}\n",
    "\n",
    "        for charS, charT in zip(s, t):\n",
    "            if (charS in mapS and mapS[charS] != charT) or (charT in mapT and mapT[charT] != charS):\n",
    "                return False\n",
    "            \n",
    "            mapS[charS] = charT\n",
    "            mapT[charT] = charS\n",
    "\n",
    "        return True"
   ]
  },
  {
   "cell_type": "code",
   "execution_count": null,
   "metadata": {},
   "outputs": [],
   "source": [
    "class Solution:\n",
    "    def isIsomorphic(self, s: str, t: str) -> bool:\n",
    "        s_to_t , t_to_s = {}, {}\n",
    "        \n",
    "        for c1, c2 in zip(s,t):\n",
    "            if (c1 not in s_to_t ) and (c2 not in t_to_s):\n",
    "                s_to_t [c1] = c2\n",
    "                t_to_s[c2] = c1\n",
    "\n",
    "            elif s_to_t .get(c1) != c2 or t_to_s.get(c2) != c1:\n",
    "                return False\n",
    "\n",
    "        return True"
   ]
  },
  {
   "cell_type": "code",
   "execution_count": null,
   "metadata": {},
   "outputs": [],
   "source": [
    "class Solution:\n",
    "    def isIsomorphic(self, s: str, t: str) -> bool:\n",
    "        s_to_t , t_to_s = {}, {}\n",
    "        \n",
    "        for c1, c2 in zip(s,t):\n",
    "            if (c1 in s_to_t and s_to_t .get(c1) != c2) or (c2 in t_to_s and t_to_s.get(c2) != c1):\n",
    "                return False\n",
    "            s_to_t [c1] = c2\n",
    "            t_to_s[c2] = c1\n",
    "\n",
    "        return True"
   ]
  }
 ],
 "metadata": {
  "language_info": {
   "name": "python"
  }
 },
 "nbformat": 4,
 "nbformat_minor": 2
}
