{
 "cells": [
  {
   "cell_type": "code",
   "execution_count": 25,
   "metadata": {},
   "outputs": [],
   "source": [
    "def merge_the_tools(string, k):\n",
    "    # your code goes here\n",
    "    s_len = len(string)\n",
    "    t = s_len//k\n",
    "    lt = []\n",
    "    for i in range(0,s_len,k):\n",
    "        lt.append(string[i:k+i])\n",
    "    for j in range(t):\n",
    "        dist = set(lt[j])\n",
    "        # print(set(lt[j]))\n",
    "        print(''.join(dist))"
   ]
  },
  {
   "cell_type": "code",
   "execution_count": 26,
   "metadata": {},
   "outputs": [
    {
     "name": "stdout",
     "output_type": "stream",
     "text": [
      "AB\n",
      "AC\n",
      "AD\n"
     ]
    }
   ],
   "source": [
    "merge_the_tools('AABCAAADA',3)"
   ]
  },
  {
   "cell_type": "code",
   "execution_count": 24,
   "metadata": {},
   "outputs": [
    {
     "name": "stdout",
     "output_type": "stream",
     "text": [
      "AB\n",
      "AC\n",
      "AD\n"
     ]
    }
   ],
   "source": [
    "\n",
    "string='AABCAAADA'\n",
    "k=3\n",
    "s_len = len(string)\n",
    "t = s_len//k\n",
    "lt = []\n",
    "for i in range(0,s_len,k):\n",
    "    lt.append(string[i:k+i])\n",
    "for j in range(t):\n",
    "    dist = set(lt[j])\n",
    "    # print(set(lt[j]))\n",
    "    print(''.join(dist))"
   ]
  },
  {
   "cell_type": "code",
   "execution_count": 47,
   "metadata": {},
   "outputs": [],
   "source": [
    "def merge_the_tools(string, k):\n",
    "    # your code goes here\n",
    "    s_len = len(string)\n",
    "    t = s_len//k\n",
    "    lt = [string[i:k+i] for i in range(0,s_len,k)]\n",
    "    for j in range(t):\n",
    "        dist = set(lt[j])\n",
    "        # print(set(lt[j]))\n",
    "        print(''.join(dist))"
   ]
  },
  {
   "cell_type": "code",
   "execution_count": 48,
   "metadata": {},
   "outputs": [
    {
     "name": "stdout",
     "output_type": "stream",
     "text": [
      "AB\n",
      "AC\n",
      "AD\n"
     ]
    }
   ],
   "source": [
    "merge_the_tools('AABCAAADA',3)"
   ]
  },
  {
   "cell_type": "code",
   "execution_count": 46,
   "metadata": {},
   "outputs": [
    {
     "name": "stdout",
     "output_type": "stream",
     "text": [
      "AB\n",
      "AC\n",
      "AD\n"
     ]
    }
   ],
   "source": [
    "string='AABCAAADA'\n",
    "k=3\n",
    "s_len = len(string)\n",
    "t = s_len//k\n",
    "lt = [string[i:k+i] for i in range(0,s_len,k)]\n",
    "for j in range(t):\n",
    "    dist = set(lt[j])\n",
    "    # print(set(lt[j]))\n",
    "    print(''.join(dist))\n",
    "\n"
   ]
  },
  {
   "cell_type": "code",
   "execution_count": 76,
   "metadata": {},
   "outputs": [],
   "source": [
    "def average(array):\n",
    "    # your code goes here\n",
    "    distinct_set = set(array)\n",
    "    distinct_count = len(distinct_set)\n",
    "    average = round(sum(distinct_set)/distinct_count, 3)\n",
    "    return average"
   ]
  },
  {
   "cell_type": "code",
   "execution_count": 78,
   "metadata": {},
   "outputs": [
    {
     "data": {
      "text/plain": [
       "169.375"
      ]
     },
     "execution_count": 78,
     "metadata": {},
     "output_type": "execute_result"
    }
   ],
   "source": [
    "average([161 ,182, 161, 154, 176, 170, 167, 171, 170, 174])"
   ]
  },
  {
   "cell_type": "code",
   "execution_count": 73,
   "metadata": {},
   "outputs": [
    {
     "data": {
      "text/plain": [
       "{154, 161, 167, 170, 171, 174, 176, 182}"
      ]
     },
     "execution_count": 73,
     "metadata": {},
     "output_type": "execute_result"
    }
   ],
   "source": [
    "s=\"161 182 161 154 176 170 167 171 170 174\".split(' ')\n",
    "set(map(int,s))"
   ]
  },
  {
   "cell_type": "code",
   "execution_count": 81,
   "metadata": {},
   "outputs": [
    {
     "data": {
      "text/plain": [
       "'abcdefghijklmnopqrstuvwxyz'"
      ]
     },
     "execution_count": 81,
     "metadata": {},
     "output_type": "execute_result"
    }
   ],
   "source": [
    "import string\n",
    "string.ascii_lowercase"
   ]
  },
  {
   "cell_type": "code",
   "execution_count": 85,
   "metadata": {},
   "outputs": [
    {
     "name": "stdout",
     "output_type": "stream",
     "text": [
      "2\n",
      "3\n"
     ]
    }
   ],
   "source": [
    "s= [2,3]\n",
    "for i in s:\n",
    "    print(i)"
   ]
  },
  {
   "cell_type": "code",
   "execution_count": 93,
   "metadata": {},
   "outputs": [
    {
     "name": "stdout",
     "output_type": "stream",
     "text": [
      "5\n",
      "9\n",
      "11\n",
      "12\n"
     ]
    }
   ],
   "source": [
    "m = \"2 4 5 9\"\n",
    "n = \"2 4 11 12\"\n",
    "set_m = set(map(int,m.split()))\n",
    "set_n = set(map(int,n.split()))\n",
    "m_diff_l = list(set_m.difference(set_n))\n",
    "n_diff_l = list(set_n.difference(set_m))\n",
    "for i in (sorted(m_diff_l + n_diff_l)):\n",
    "    print(i)\n",
    "\n",
    "\n"
   ]
  },
  {
   "cell_type": "code",
   "execution_count": 2,
   "metadata": {},
   "outputs": [
    {
     "data": {
      "text/plain": [
       "[2, 4, 5, 9]"
      ]
     },
     "execution_count": 2,
     "metadata": {},
     "output_type": "execute_result"
    }
   ],
   "source": [
    "m = {2, 4, 5 ,9}\n",
    "sorted(m)"
   ]
  },
  {
   "cell_type": "code",
   "execution_count": 6,
   "metadata": {},
   "outputs": [
    {
     "data": {
      "text/plain": [
       "{2, 4, 5, 9}"
      ]
     },
     "execution_count": 6,
     "metadata": {},
     "output_type": "execute_result"
    }
   ],
   "source": [
    "{2, 4, 5 ,9}.union({2, 4, 5 ,9})"
   ]
  },
  {
   "cell_type": "code",
   "execution_count": 7,
   "metadata": {},
   "outputs": [
    {
     "data": {
      "text/plain": [
       "20"
      ]
     },
     "execution_count": 7,
     "metadata": {},
     "output_type": "execute_result"
    }
   ],
   "source": [
    "sum({2, 4, 5 ,9})"
   ]
  },
  {
   "cell_type": "code",
   "execution_count": null,
   "metadata": {},
   "outputs": [],
   "source": []
  }
 ],
 "metadata": {
  "kernelspec": {
   "display_name": "Python 3",
   "language": "python",
   "name": "python3"
  },
  "language_info": {
   "codemirror_mode": {
    "name": "ipython",
    "version": 3
   },
   "file_extension": ".py",
   "mimetype": "text/x-python",
   "name": "python",
   "nbconvert_exporter": "python",
   "pygments_lexer": "ipython3",
   "version": "3.10.11"
  }
 },
 "nbformat": 4,
 "nbformat_minor": 2
}
