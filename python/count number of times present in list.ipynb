{
 "cells": [
  {
   "cell_type": "code",
   "execution_count": 1,
   "metadata": {},
   "outputs": [
    {
     "data": {
      "text/plain": [
       "{1: 2, 3: 2, 4: 1, 2: 2, 10: 2, 5: 2, 7: 1, 8: 1, 20: 3, 11: 1, 21: 1}"
      ]
     },
     "execution_count": 1,
     "metadata": {},
     "output_type": "execute_result"
    }
   ],
   "source": [
    "list_1 = [1,3,4,3,2,10,5,5,7,8,10,20,20,11,21,20,1,2]\n",
    "dict = {}\n",
    "for i in list_1:\n",
    "    if i not in dict:\n",
    "        dict[i] = 1\n",
    "    else:\n",
    "        dict[i] += 1\n",
    "dict"
   ]
  }
 ],
 "metadata": {
  "kernelspec": {
   "display_name": "Python 3",
   "language": "python",
   "name": "python3"
  },
  "language_info": {
   "codemirror_mode": {
    "name": "ipython",
    "version": 3
   },
   "file_extension": ".py",
   "mimetype": "text/x-python",
   "name": "python",
   "nbconvert_exporter": "python",
   "pygments_lexer": "ipython3",
   "version": "3.10.11"
  }
 },
 "nbformat": 4,
 "nbformat_minor": 2
}
