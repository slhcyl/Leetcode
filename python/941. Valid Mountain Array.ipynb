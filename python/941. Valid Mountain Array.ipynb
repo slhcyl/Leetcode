{
 "cells": [
  {
   "cell_type": "markdown",
   "metadata": {},
   "source": [
    "941. Valid Mountain Array\n",
    "Easy\n",
    "Topics\n",
    "Companies\n",
    "Hint\n",
    "Given an array of integers arr, return true if and only if it is a valid mountain array.\n",
    "\n",
    "Recall that arr is a mountain array if and only if:\n",
    "\n",
    "arr.length >= 3\n",
    "There exists some i with 0 < i < arr.length - 1 such that:\n",
    "arr[0] < arr[1] < ... < arr[i - 1] < arr[i] \n",
    "arr[i] > arr[i + 1] > ... > arr[arr.length - 1]\n",
    "\n",
    " \n",
    "\n",
    "Example 1:\n",
    "\n",
    "Input: arr = [2,1]\n",
    "Output: false\n",
    "Example 2:\n",
    "\n",
    "Input: arr = [3,5,5]\n",
    "Output: false\n",
    "Example 3:\n",
    "\n",
    "Input: arr = [0,3,2,1]\n",
    "Output: true\n",
    " \n",
    "\n",
    "Constraints:\n",
    "\n",
    "1 <= arr.length <= 104\n",
    "0 <= arr[i] <= 104"
   ]
  },
  {
   "cell_type": "code",
   "execution_count": null,
   "metadata": {},
   "outputs": [],
   "source": [
    "class Solution:\n",
    "    def validMountainArray(self, arr: List[int]) -> bool:\n",
    "        n = len(arr)\n",
    "        if n < 3:\n",
    "            return False\n",
    "        \n",
    "        i, j = 0, n - 1\n",
    "\n",
    "        # check left_end should be in the boundry of n\n",
    "        while i + 1 < n and arr[i] < arr[i + 1]:\n",
    "            i += 1\n",
    "\n",
    "        while j > 0 and arr[j] < arr[j - 1]:\n",
    "            j -= 1  \n",
    "\n",
    "        return i == j and i > 0 and j < n - 1"
   ]
  },
  {
   "cell_type": "markdown",
   "metadata": {},
   "source": [
    "Approach 1: One Pass\n",
    "Intuition\n",
    "\n",
    "If we walk along the mountain from left to right, we have to move strictly up, then strictly down.\n",
    "\n",
    "Algorithm\n",
    "\n",
    "Let's walk up from left to right until we can't: that has to be the peak. We should ensure the peak is not the first or last element. Then, we walk down. If we reach the end, the array is valid, otherwise its not.\n",
    "\n",
    "Complexity Analysis\n",
    "\n",
    "Time Complexity: O(N)O(N)O(N), where NNN is the length of A.\n",
    "\n",
    "Space Complexity: O(1)O(1)O(1).\n"
   ]
  },
  {
   "cell_type": "code",
   "execution_count": null,
   "metadata": {},
   "outputs": [],
   "source": [
    "class Solution(object):\n",
    "    def validMountainArray(self, A):\n",
    "        N = len(A)\n",
    "        i = 0\n",
    "\n",
    "        # walk up\n",
    "        while i+1 < N and A[i] < A[i+1]:\n",
    "            i += 1\n",
    "\n",
    "        # peak can't be first or last\n",
    "        if i == 0 or i == N-1:\n",
    "            return False\n",
    "\n",
    "        # walk down\n",
    "        while i+1 < N and A[i] > A[i+1]:\n",
    "            i += 1\n",
    "\n",
    "        return i == N-1"
   ]
  }
 ],
 "metadata": {
  "language_info": {
   "name": "python"
  }
 },
 "nbformat": 4,
 "nbformat_minor": 2
}
