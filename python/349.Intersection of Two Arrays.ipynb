{
 "cells": [
  {
   "cell_type": "markdown",
   "metadata": {},
   "source": [
    "349. Intersection of Two Arrays\n",
    "Solved\n",
    "Easy\n",
    "Topics\n",
    "Companies\n",
    "Given two integer arrays nums1 and nums2, return an array of their \n",
    "intersection\n",
    ". Each element in the result must be unique and you may return the result in any order.\n",
    "\n",
    " \n",
    "\n",
    "Example 1:\n",
    "\n",
    "Input: nums1 = [1,2,2,1], nums2 = [2,2]\n",
    "Output: [2]\n",
    "Example 2:\n",
    "\n",
    "Input: nums1 = [4,9,5], nums2 = [9,4,9,8,4]\n",
    "Output: [9,4]\n",
    "Explanation: [4,9] is also accepted.\n",
    " \n",
    "\n",
    "Constraints:\n",
    "\n",
    "1 <= nums1.length, nums2.length <= 1000\n",
    "0 <= nums1[i], nums2[i] <= 1000"
   ]
  },
  {
   "cell_type": "code",
   "execution_count": null,
   "metadata": {},
   "outputs": [],
   "source": [
    "# Time Complexity:\n",
    "# Converting an array to a set takes O(n) time for each array, where n is the number of elements in the array.\n",
    "# Intersection operation takes O(min(m,n)) time, where m and n are the sizes of the two sets.\n",
    "# Thus, the overall time complexity is O(n+m), where n and m are the lengths of the two input arrays.\n",
    "# Space Complexity:\n",
    "# Space used by the two sets is O(n+m) in the worst case when all elements are unique.\n",
    "# This is efficient given the problem constraints and ensures that the solution works well within the provided limits.\n",
    "class Solution:\n",
    "    def intersection(self, nums1: List[int], nums2: List[int]) -> List[int]:\n",
    "        set1 = set(nums1)\n",
    "        set2 = set(nums2)\n",
    "\n",
    "        return list(set1 & set2)"
   ]
  }
 ],
 "metadata": {
  "kernelspec": {
   "display_name": "Python 3",
   "language": "python",
   "name": "python3"
  },
  "language_info": {
   "codemirror_mode": {
    "name": "ipython",
    "version": 3
   },
   "file_extension": ".py",
   "mimetype": "text/x-python",
   "name": "python",
   "nbconvert_exporter": "python",
   "pygments_lexer": "ipython3",
   "version": "3.10.11"
  }
 },
 "nbformat": 4,
 "nbformat_minor": 2
}
