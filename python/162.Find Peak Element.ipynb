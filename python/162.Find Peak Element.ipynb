{
 "cells": [
  {
   "cell_type": "markdown",
   "metadata": {},
   "source": [
    "162. Find Peak Element\n",
    "Solved\n",
    "Medium\n",
    "Topics\n",
    "Companies\n",
    "A peak element is an element that is strictly greater than its neighbors.\n",
    "\n",
    "Given a 0-indexed integer array nums, find a peak element, and return its index. If the array contains multiple peaks, return the index to any of the peaks.\n",
    "\n",
    "You may imagine that nums[-1] = nums[n] = -∞. In other words, an element is always considered to be strictly greater than a neighbor that is outside the array.\n",
    "\n",
    "You must write an algorithm that runs in O(log n) time.\n",
    "\n",
    " \n",
    "\n",
    "Example 1:\n",
    "\n",
    "Input: nums = [1,2,3,1]\n",
    "Output: 2\n",
    "Explanation: 3 is a peak element and your function should return the index number 2.\n",
    "Example 2:\n",
    "\n",
    "Input: nums = [1,2,1,3,5,6,4]\n",
    "Output: 5\n",
    "Explanation: Your function can return either index number 1 where the peak element is 2, or index number 5 where the peak element is 6.\n",
    " \n",
    "\n",
    "Constraints:\n",
    "\n",
    "1 <= nums.length <= 1000\n",
    "-231 <= nums[i] <= 231 - 1\n",
    "nums[i] != nums[i + 1] for all valid i."
   ]
  },
  {
   "cell_type": "code",
   "execution_count": null,
   "metadata": {},
   "outputs": [],
   "source": [
    "class Solution:\n",
    "    def findPeakElement(self, nums: List[int]) -> int:\n",
    "        l, r = 0, len(nums) - 1\n",
    "        while l <= r:\n",
    "            mid = (l+r)//2 # l + ((r -l)//2) prevent overflow\n",
    "            mid_val = nums[mid]\n",
    "            to_left = nums[mid - 1] if mid > 0 else float('-inf')\n",
    "            to_right = nums[mid + 1] if mid < len(nums) - 1 else float('-inf')\n",
    "            if to_left < mid_val > to_right:\n",
    "                return mid\n",
    "            elif to_left < mid_val < to_right:\n",
    "                l = mid + 1\n",
    "            else:\n",
    "                r = mid - 1\n",
    "# binary search\n",
    "# t O(n)\n",
    "# s O(1)         "
   ]
  },
  {
   "cell_type": "code",
   "execution_count": null,
   "metadata": {},
   "outputs": [],
   "source": [
    "class Solution:\n",
    "    def findPeakElement(self, nums: List[int]) -> int:\n",
    "        l, r = 0, len(nums) - 1\n",
    "        while l <= r:\n",
    "            m = (l+r)//2 # l + ((r -l)//2) prevent overflow\n",
    "            if m > 0 and nums[m] < nums[m - 1]:\n",
    "                r = m - 1\n",
    "            elif m < len(nums) - 1 and nums[m] < nums[m + 1]:\n",
    "                l = m + 1\n",
    "            else:\n",
    "                return m\n",
    "            "
   ]
  }
 ],
 "metadata": {
  "kernelspec": {
   "display_name": "Python 3",
   "language": "python",
   "name": "python3"
  },
  "language_info": {
   "name": "python",
   "version": "3.10.11"
  }
 },
 "nbformat": 4,
 "nbformat_minor": 2
}
