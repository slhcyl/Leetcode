{
 "cells": [
  {
   "cell_type": "markdown",
   "metadata": {},
   "source": [
    "986. Interval List Intersections\n",
    "Solved\n",
    "Medium\n",
    "Topics\n",
    "Companies\n",
    "You are given two lists of closed intervals, firstList and secondList, where firstList[i] = [starti, endi] and secondList[j] = [startj, endj]. Each list of intervals is pairwise disjoint and in sorted order.\n",
    "\n",
    "Return the intersection of these two interval lists.\n",
    "\n",
    "A closed interval [a, b] (with a <= b) denotes the set of real numbers x with a <= x <= b.\n",
    "\n",
    "The intersection of two closed intervals is a set of real numbers that are either empty or represented as a closed interval. For example, the intersection of [1, 3] and [2, 4] is [2, 3].\n",
    "\n",
    " \n",
    "\n",
    "Example 1:\n",
    "\n",
    "\n",
    "Input: firstList = [[0,2],[5,10],[13,23],[24,25]], secondList = [[1,5],[8,12],[15,24],[25,26]]\n",
    "Output: [[1,2],[5,5],[8,10],[15,23],[24,24],[25,25]]\n",
    "Example 2:\n",
    "\n",
    "Input: firstList = [[1,3],[5,9]], secondList = []\n",
    "Output: []\n",
    " \n",
    "\n",
    "Constraints:\n",
    "\n",
    "0 <= firstList.length, secondList.length <= 1000\n",
    "firstList.length + secondList.length >= 1\n",
    "0 <= starti < endi <= 109\n",
    "endi < starti+1\n",
    "0 <= startj < endj <= 109 \n",
    "endj < startj+1"
   ]
  },
  {
   "cell_type": "code",
   "execution_count": null,
   "metadata": {},
   "outputs": [],
   "source": [
    "# T O(m + n) where n is len(list1) and m is len(list2). o(n)\n",
    "# S O(n) otherwise O(1)\n",
    "class Solution:\n",
    "    def intervalIntersection(self, firstList: List[List[int]], secondList: List[List[int]]) -> List[List[int]]:\n",
    "        i = j = 0\n",
    "        res = []\n",
    "\n",
    "        while i < len(firstList) and j < len(secondList):\n",
    "            # Let's check if A[i] intersects B[j].\n",
    "            # lo - the startpoint of the intersection\n",
    "            # hi - the endpoint of the intersection\n",
    "            start = max(firstList[i][0],secondList[j][0])\n",
    "            end = min(firstList[i][1], secondList[j][1])\n",
    "\n",
    "            if start <= end:\n",
    "                res.append([start,end])\n",
    "             # Remove the interval with the smallest endpoint\n",
    "            if firstList[i][1] < secondList[j][1]:\n",
    "                i += 1\n",
    "            else:\n",
    "                j += 1\n",
    "        \n",
    "        return res"
   ]
  }
 ],
 "metadata": {
  "language_info": {
   "name": "python"
  }
 },
 "nbformat": 4,
 "nbformat_minor": 2
}
