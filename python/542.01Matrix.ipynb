{
 "cells": [
  {
   "cell_type": "markdown",
   "metadata": {},
   "source": [
    "542. 01 Matrix\n",
    "Solved\n",
    "Medium\n",
    "Topics\n",
    "Companies\n",
    "Given an m x n binary matrix mat, return the distance of the nearest 0 for each cell.\n",
    "\n",
    "The distance between two adjacent cells is 1.\n",
    "\n",
    " \n",
    "\n",
    "Example 1:\n",
    "\n",
    "\n",
    "Input: mat = [[0,0,0],[0,1,0],[0,0,0]]\n",
    "Output: [[0,0,0],[0,1,0],[0,0,0]]\n",
    "Example 2:\n",
    "\n",
    "\n",
    "Input: mat = [[0,0,0],[0,1,0],[1,1,1]]\n",
    "Output: [[0,0,0],[0,1,0],[1,2,1]]\n",
    " \n",
    "\n",
    "Constraints:\n",
    "\n",
    "m == mat.length\n",
    "n == mat[i].length\n",
    "1 <= m, n <= 104\n",
    "1 <= m * n <= 104\n",
    "mat[i][j] is either 0 or 1.\n",
    "There is at least one 0 in mat."
   ]
  },
  {
   "cell_type": "code",
   "execution_count": null,
   "metadata": {},
   "outputs": [],
   "source": [
    "# bfs\n",
    "# a time complexity of O(m×n), where m and n are the dimensions of the matrix, because each cell is processed once. \n",
    "# The space complexity is also O(m×n) in the worst case due to the queue potentially holding a significant fraction of the cells in scenarios where many cells need to be updated.\n",
    "class Solution:\n",
    "    def updateMatrix(self, mat: List[List[int]]) -> List[List[int]]:\n",
    "        rows, cols = len(mat), len(mat[0])\n",
    "        directions = [(1,0),(-1,0),(0,1),(0,-1)]\n",
    "        queue = collections.deque()\n",
    "\n",
    "        for r in range(rows):\n",
    "            for c in range(cols):\n",
    "                if mat[r][c] == 0:\n",
    "                    queue.append((r,c))\n",
    "                else:\n",
    "                    mat[r][c] = float('inf')\n",
    "\n",
    "        while queue:\n",
    "            r, c = queue.popleft()\n",
    "\n",
    "            for dr, dc in directions:\n",
    "                new_r, new_c = dr + r, dc + c\n",
    "                if 0 <= new_r < rows and 0 <= new_c < cols:\n",
    "                    if mat[new_r][new_c] > mat[r][c] + 1:\n",
    "                        mat[new_r][new_c] = mat[r][c] + 1\n",
    "                        queue.append((new_r, new_c))\n",
    "        return mat"
   ]
  }
 ],
 "metadata": {
  "language_info": {
   "name": "python"
  }
 },
 "nbformat": 4,
 "nbformat_minor": 2
}
