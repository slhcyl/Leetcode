{
 "cells": [
  {
   "cell_type": "markdown",
   "metadata": {},
   "source": [
    "345. Reverse Vowels of a String\n",
    "Solved\n",
    "Easy\n",
    "Topics\n",
    "Companies\n",
    "Given a string s, reverse only all the vowels in the string and return it.\n",
    "\n",
    "The vowels are 'a', 'e', 'i', 'o', and 'u', and they can appear in both lower and upper cases, more than once.\n",
    "\n",
    " \n",
    "\n",
    "Example 1:\n",
    "\n",
    "Input: s = \"hello\"\n",
    "Output: \"holle\"\n",
    "Example 2:\n",
    "\n",
    "Input: s = \"leetcode\"\n",
    "Output: \"leotcede\"\n",
    " \n",
    "\n",
    "Constraints:\n",
    "\n",
    "1 <= s.length <= 3 * 105\n",
    "s consist of printable ASCII characters."
   ]
  },
  {
   "cell_type": "markdown",
   "metadata": {},
   "source": [
    "Time Complexity\n",
    "Pointer Movement: Each of the two pointers (left and right) can travel across the entire length of the string in the worst-case scenario. The left pointer starts at the beginning of the string and moves toward the end, while the right pointer starts at the end and moves toward the beginning. Each character is checked once by either pointer to determine if it is a vowel.\n",
    "Vowel Check: Checking whether a character is a vowel is performed in constant time 𝑂(1) because we use a set for vowels. Set operations like checking membership (in) have average-case time complexity of O(1).\n",
    "Overall Time Complexity: Each pointer potentially moves across all characters in the string, leading to a complexity of O(n), where n is the length of the string. Even though there are two pointers, their operations are not nested but parallel (sequential checks), keeping the overall time complexity linear.\n",
    "Space Complexity\n",
    "String to List Conversion: Since strings in Python are immutable, the solution converts the string to a list of characters to perform swapping. This list will occupy O(n) space, where n is the length of the string.\n",
    "Vowel Set: The set of vowels is a constant size (10 characters: 'a', 'e', 'i', 'o', 'u' in both lowercase and uppercase), so it occupies O(1) space.\n",
    "Overall Space Complexity: The dominant factor here is the list of characters derived from the input string, leading to a space complexity of O(n)."
   ]
  },
  {
   "cell_type": "code",
   "execution_count": null,
   "metadata": {},
   "outputs": [],
   "source": [
    "# two pointers: \n",
    "class Solution:\n",
    "    def reverseVowels(self, s: str) -> str:\n",
    "        s_list = list(s)\n",
    "        l, r = 0, len(s_list) - 1\n",
    "        vowels = set('aeiouAEIOU')\n",
    "\n",
    "        while l < r:\n",
    "            while l < r and s_list[l] not in vowels:\n",
    "                l += 1\n",
    "            while l < r and s_list[r] not in vowels:\n",
    "                r -= 1\n",
    "\n",
    "            if l < r:\n",
    "                s_list[l], s_list[r] = s_list[r], s_list[l]\n",
    "                l += 1\n",
    "                r -= 1\n",
    "\n",
    "        return ''.join(s_list)"
   ]
  }
 ],
 "metadata": {
  "language_info": {
   "name": "python"
  }
 },
 "nbformat": 4,
 "nbformat_minor": 2
}
