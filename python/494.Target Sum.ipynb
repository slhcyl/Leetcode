{
 "cells": [
  {
   "cell_type": "markdown",
   "metadata": {},
   "source": [
    "494. Target Sum\n",
    "Solved\n",
    "Medium\n",
    "Topics\n",
    "Companies\n",
    "You are given an integer array nums and an integer target.\n",
    "\n",
    "You want to build an expression out of nums by adding one of the symbols '+' and '-' before each integer in nums and then concatenate all the integers.\n",
    "\n",
    "For example, if nums = [2, 1], you can add a '+' before 2 and a '-' before 1 and concatenate them to build the expression \"+2-1\".\n",
    "Return the number of different expressions that you can build, which evaluates to target.\n",
    "\n",
    " \n",
    "\n",
    "Example 1:\n",
    "\n",
    "Input: nums = [1,1,1,1,1], target = 3\n",
    "Output: 5\n",
    "Explanation: There are 5 ways to assign symbols to make the sum of nums be target 3.\n",
    "-1 + 1 + 1 + 1 + 1 = 3\n",
    "+1 - 1 + 1 + 1 + 1 = 3\n",
    "+1 + 1 - 1 + 1 + 1 = 3\n",
    "+1 + 1 + 1 - 1 + 1 = 3\n",
    "+1 + 1 + 1 + 1 - 1 = 3\n",
    "Example 2:\n",
    "\n",
    "Input: nums = [1], target = 1\n",
    "Output: 1\n",
    " \n",
    "\n",
    "Constraints:\n",
    "\n",
    "1 <= nums.length <= 20\n",
    "0 <= nums[i] <= 1000\n",
    "0 <= sum(nums[i]) <= 1000\n",
    "-1000 <= target <= 1000"
   ]
  },
  {
   "cell_type": "markdown",
   "metadata": {},
   "source": [
    "Time Complexity\n",
    "Initialization:\n",
    "Initializing the dp array of size S1+1 takes O(S1) time.\n",
    "Filling the DP Array:\n",
    "You iterate through each number in the input list nums, and for each number, you potentially update every entry in the dp array up to S1.\n",
    "The nested loop structure where for each num in nums you iterate from S1 down to num means that each num could cause up to S1 updates in the dp array.\n",
    "If there are n numbers in nums, the worst-case scenario for the nested loops is O(n×S1).\n",
    "Hence, the overall time complexity is O(n×S1), where n is the number of elements in nums and S1 is the target subset sum which we calculated as (sum(nums)+target)/2.\n",
    "\n",
    "Space Complexity\n",
    "DP Array:\n",
    "The space complexity is dominated by the dp array which needs to store the count of ways to achieve every sum from 0 to S1.\n",
    "Therefore, the space required for the dp array is O(S1+1) or simplified as O(S1).\n",
    "Auxiliary Space:\n",
    "Apart from the dp array, the extra space used (for variables and stack space in the case of recursion) is minimal (constant space O(1)) since we are only iterating through nums and updating the dp array.\n",
    "Thus, the space complexity of the solution is O(S1)."
   ]
  },
  {
   "cell_type": "code",
   "execution_count": null,
   "metadata": {},
   "outputs": [],
   "source": [
    "class Solution:\n",
    "    def findTargetSumWays(self, nums: List[int], target: int) -> int:\n",
    "        # finding the number of subsets of nums which sum up to S1\n",
    "        total = sum(nums)\n",
    "        if (target + total) % 2 != 0 or abs(target) > total:\n",
    "            return 0\n",
    "        \n",
    "        s1 = (target + total) // 2\n",
    "        if s1 < 0:\n",
    "            return 0\n",
    "\n",
    "        dp = [0] * (s1 + 1)\n",
    "        dp[0] = 1\n",
    "\n",
    "        for num in nums:\n",
    "            for i in range(s1, num - 1, -1):\n",
    "                dp[i] += dp[i - num]\n",
    "        \n",
    "        return dp[s1]\n"
   ]
  }
 ],
 "metadata": {
  "language_info": {
   "name": "python"
  }
 },
 "nbformat": 4,
 "nbformat_minor": 2
}
