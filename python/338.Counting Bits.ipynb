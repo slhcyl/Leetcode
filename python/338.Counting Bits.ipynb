{
 "cells": [
  {
   "cell_type": "markdown",
   "metadata": {},
   "source": [
    "338. Counting Bits\n",
    "Solved\n",
    "Easy\n",
    "Topics\n",
    "Companies\n",
    "Hint\n",
    "Given an integer n, return an array ans of length n + 1 such that for each i (0 <= i <= n), ans[i] is the number of 1's in the binary representation of i.\n",
    "\n",
    " \n",
    "\n",
    "Example 1:\n",
    "\n",
    "Input: n = 2\n",
    "Output: [0,1,1]\n",
    "Explanation:\n",
    "0 --> 0\n",
    "1 --> 1\n",
    "2 --> 10\n",
    "Example 2:\n",
    "\n",
    "Input: n = 5\n",
    "Output: [0,1,1,2,1,2]\n",
    "Explanation:\n",
    "0 --> 0\n",
    "1 --> 1\n",
    "2 --> 10\n",
    "3 --> 11\n",
    "4 --> 100\n",
    "5 --> 101\n",
    " \n",
    "\n",
    "Constraints:\n",
    "\n",
    "0 <= n <= 105\n",
    " \n",
    "\n",
    "Follow up:\n",
    "\n",
    "It is very easy to come up with a solution with a runtime of O(n log n). Can you do it in linear time O(n) and possibly in a single pass?\n",
    "Can you do it without using any built-in function (i.e., like __builtin_popcount in C++)?"
   ]
  },
  {
   "cell_type": "markdown",
   "metadata": {},
   "source": [
    "Time Complexity\n",
    "Initialization: dp = [0] * (n + 1) initializes an array of n + 1 elements to 0. This operation takes O(n) time.\n",
    "Iteration: The loop for i in range(1, n + 1): iterates n times.\n",
    "Operation inside the loop:\n",
    "The check if offset * 2 == i: is a constant-time operation, O(1).\n",
    "Updating the dp[i] using dp[i - offset] is also a constant-time operation, O(1).\n",
    "Given that each iteration of the loop involves only constant-time operations, the total time complexity for the loop is O(n).\n",
    "Total Time Complexity: O(n)\n",
    "\n",
    "Space Complexity\n",
    "DP Array: The dp array holds n + 1 integers. This results in a space requirement of O(n).\n",
    "Offset Variable: The offset variable is a single integer, which is a constant space, O(1).\n",
    "Total Space Complexity: O(n) (as the space used by the dp array dominates)."
   ]
  },
  {
   "cell_type": "code",
   "execution_count": null,
   "metadata": {},
   "outputs": [],
   "source": [
    "class Solution:\n",
    "    def countBits(self, n: int) -> List[int]:\n",
    "        dp = [0] * (n + 1)\n",
    "        offset = 1\n",
    "\n",
    "        for i in range(1, n + 1):\n",
    "            # check the i is significiant: 2*2 = 4, so 4 is significant\n",
    "            if offset * 2 == i:\n",
    "                offset = i\n",
    "            dp[i] = 1 + dp[i - offset]\n",
    "        return dp"
   ]
  }
 ],
 "metadata": {
  "language_info": {
   "name": "python"
  }
 },
 "nbformat": 4,
 "nbformat_minor": 2
}
