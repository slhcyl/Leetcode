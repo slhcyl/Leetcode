{
 "cells": [
  {
   "cell_type": "markdown",
   "metadata": {},
   "source": [
    "62. Unique Paths\n",
    "Solved\n",
    "Medium\n",
    "Topics\n",
    "Companies\n",
    "There is a robot on an m x n grid. The robot is initially located at the top-left corner (i.e., grid[0][0]). The robot tries to move to the bottom-right corner (i.e., grid[m - 1][n - 1]). The robot can only move either down or right at any point in time.\n",
    "\n",
    "Given the two integers m and n, return the number of possible unique paths that the robot can take to reach the bottom-right corner.\n",
    "\n",
    "The test cases are generated so that the answer will be less than or equal to 2 * 109.\n",
    "\n",
    " \n",
    "\n",
    "Example 1:\n",
    "\n",
    "\n",
    "Input: m = 3, n = 7\n",
    "Output: 28\n",
    "Example 2:\n",
    "\n",
    "Input: m = 3, n = 2\n",
    "Output: 3\n",
    "Explanation: From the top-left corner, there are a total of 3 ways to reach the bottom-right corner:\n",
    "1. Right -> Down -> Down\n",
    "2. Down -> Down -> Right\n",
    "3. Down -> Right -> Down\n",
    " \n",
    "\n",
    "Constraints:\n",
    "\n",
    "1 <= m, n <= 100"
   ]
  },
  {
   "cell_type": "code",
   "execution_count": null,
   "metadata": {},
   "outputs": [],
   "source": [
    "class Solution:\n",
    "    def uniquePaths(self, m: int, n: int) -> int:\n",
    "        row = [1] * n\n",
    "        newRow = [1] * n\n",
    "\n",
    "        for i in range(m-2,-1,-1):\n",
    "            for j in range(n - 2, -1, -1):\n",
    "                newRow[j] = newRow[j + 1] + row[j]\n",
    "            row = newRow\n",
    "        \n",
    "        return row[0]"
   ]
  },
  {
   "cell_type": "code",
   "execution_count": null,
   "metadata": {},
   "outputs": [],
   "source": [
    "class Solution:\n",
    "    def uniquePaths(self, m: int, n: int) -> int:\n",
    "        row = [1] * n\n",
    "\n",
    "        for i in range(m - 1):\n",
    "            newRow = [1] * n\n",
    "            for j in range(n - 2, -1, -1):\n",
    "                newRow[j] = newRow[j + 1] + row[j]\n",
    "            row = newRow\n",
    "        return row[0]\n",
    "\n",
    "        # O(n * m) O(n)\n"
   ]
  },
  {
   "cell_type": "markdown",
   "metadata": {},
   "source": [
    "Both of these implementations aim to solve the problem of finding the number of unique paths in a grid from the top-left corner to the bottom-right corner. The first code snippet initializes `newRow` outside the loop, while the second initializes it inside the loop.\n",
    "\n",
    "Let's analyze the behavior of both implementations:\n",
    "\n",
    "1. **Code One:**\n",
    "   - `newRow` is initialized outside the loop.\n",
    "   - The outer loop iterates over the rows from `m-2` to 0, and the inner loop iterates over the columns from `n-2` to 0.\n",
    "   - At each cell, the value of `newRow[j]` is updated based on the values of `newRow[j+1]` and `row[j]`.\n",
    "   - After updating the `newRow`, it replaces the `row`.\n",
    "   - This implementation ensures that the same `newRow` is used for updating values in each row of the grid.\n",
    "\n",
    "2. **Code Two:**\n",
    "   - `newRow` is initialized inside the outer loop.\n",
    "   - The outer loop iterates over the rows from 0 to `m-2`, and the inner loop iterates over the columns from `n-2` to 0.\n",
    "   - At each cell, the value of `newRow[j]` is updated based on the values of `newRow[j+1]` and `row[j]`.\n",
    "   - After updating the `newRow`, it replaces the `row`.\n",
    "   - Since `newRow` is initialized inside the loop, it's created anew for each row. However, this doesn't affect the correctness of the algorithm because the value of `newRow` at each index is determined solely by the previous row's values and doesn't rely on any previous state of `newRow`.\n",
    "\n",
    "Both implementations essentially follow the same dynamic programming approach, updating the values of the grid cells based on previous values. In Code Two, the reinitialization of `newRow` inside the loop doesn't cause issues because each cell's value is determined solely by the values of the previous row and the current row being processed.\n",
    "\n",
    "So, both implementations will indeed produce the same result. The main difference lies in how `newRow` is initialized, but it doesn't affect the correctness of the algorithm."
   ]
  },
  {
   "cell_type": "code",
   "execution_count": null,
   "metadata": {},
   "outputs": [],
   "source": [
    "# In-place solution:\n",
    "class Solution:\n",
    "    def uniquePaths(self, m: int, n: int) -> int:\n",
    "        row = [1] * n\n",
    "\n",
    "        for i in range(m-2,-1,-1):\n",
    "            for j in range(n - 2, -1, -1):\n",
    "                row[j] = row[j + 1] + row[j]\n",
    "        \n",
    "        return row[0]"
   ]
  }
 ],
 "metadata": {
  "language_info": {
   "name": "python"
  }
 },
 "nbformat": 4,
 "nbformat_minor": 2
}
