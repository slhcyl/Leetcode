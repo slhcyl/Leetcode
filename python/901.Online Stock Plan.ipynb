{
 "cells": [
  {
   "cell_type": "markdown",
   "metadata": {},
   "source": [
    "901. Online Stock Span\n",
    "Medium\n",
    "Topics\n",
    "Companies\n",
    "Design an algorithm that collects daily price quotes for some stock and returns the span of that stock's price for the current day.\n",
    "\n",
    "The span of the stock's price in one day is the maximum number of consecutive days (starting from that day and going backward) for which the stock price was less than or equal to the price of that day.\n",
    "\n",
    "For example, if the prices of the stock in the last four days is [7,2,1,2] and the price of the stock today is 2, then the span of today is 4 because starting from today, the price of the stock was less than or equal 2 for 4 consecutive days.\n",
    "Also, if the prices of the stock in the last four days is [7,34,1,2] and the price of the stock today is 8, then the span of today is 3 because starting from today, the price of the stock was less than or equal 8 for 3 consecutive days.\n",
    "Implement the StockSpanner class:\n",
    "\n",
    "StockSpanner() Initializes the object of the class.\n",
    "int next(int price) Returns the span of the stock's price given that today's price is price.\n",
    " \n",
    "\n",
    "Example 1:\n",
    "\n",
    "Input\n",
    "[\"StockSpanner\", \"next\", \"next\", \"next\", \"next\", \"next\", \"next\", \"next\"]\n",
    "[[], [100], [80], [60], [70], [60], [75], [85]]\n",
    "Output\n",
    "[null, 1, 1, 1, 2, 1, 4, 6]\n",
    "\n",
    "Explanation\n",
    "StockSpanner stockSpanner = new StockSpanner();\n",
    "stockSpanner.next(100); // return 1\n",
    "stockSpanner.next(80);  // return 1\n",
    "stockSpanner.next(60);  // return 1\n",
    "stockSpanner.next(70);  // return 2\n",
    "stockSpanner.next(60);  // return 1\n",
    "stockSpanner.next(75);  // return 4, because the last 4 prices (including today's price of 75) were less than or equal to today's price.\n",
    "stockSpanner.next(85);  // return 6\n",
    " \n",
    "\n",
    "Constraints:\n",
    "\n",
    "1 <= price <= 105\n",
    "At most 104 calls will be made to next."
   ]
  },
  {
   "cell_type": "code",
   "execution_count": null,
   "metadata": {},
   "outputs": [],
   "source": [
    "# Time Complexity: Amortized O(1) per query because every element is pushed and popped from the stack only once.\n",
    "# Space Complexity: O(N), where N is the number of queries. This is because the stack will hold at most N elements.\n",
    "class StockSpanner:\n",
    "\n",
    "    def __init__(self):\n",
    "        self.stack = []\n",
    "\n",
    "    def next(self, price: int) -> int:\n",
    "        span = 1\n",
    "        # monotonic stack\n",
    "        # created to store the span of previous stock price so that we don't need to go through the enire stack.\n",
    "        while self.stack and price >= self.stack[-1][0]:\n",
    "            # add the last span from the previous stock. \n",
    "            # if the stock price is every less than or equal to current price, \n",
    "            # it is okay to the previous stock is removed because current span stored the culumlative count for current price if the conditoin met.\n",
    "            span += self.stack.pop()[1]\n",
    "        self.stack.append((price, span))\n",
    "        return span\n",
    "\n",
    "# Your StockSpanner object will be instantiated and called as such:\n",
    "# obj = StockSpanner()\n",
    "# param_1 = obj.next(price)"
   ]
  },
  {
   "cell_type": "code",
   "execution_count": null,
   "metadata": {},
   "outputs": [],
   "source": [
    "# it was time out although passed test code. so it is not an optimal solution.\n",
    "class StockSpanner:\n",
    "\n",
    "    def __init__(self):\n",
    "        self.stack = []\n",
    "\n",
    "    def next(self, price: int) -> int:\n",
    "        self.stack.append(price)\n",
    "        count = 0\n",
    "        for i in range(len(self.stack)):\n",
    "            if self.stack[i] > price:\n",
    "                count = 0\n",
    "            else:\n",
    "                count += 1\n",
    "        return count  "
   ]
  }
 ],
 "metadata": {
  "language_info": {
   "name": "python"
  }
 },
 "nbformat": 4,
 "nbformat_minor": 2
}
