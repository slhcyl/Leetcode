{
 "cells": [
  {
   "cell_type": "markdown",
   "metadata": {},
   "source": [
    "17. Letter Combinations of a Phone Number\n",
    "Medium\n",
    "Topics\n",
    "Companies\n",
    "Given a string containing digits from 2-9 inclusive, return all possible letter combinations that the number could represent. Return the answer in any order.\n",
    "\n",
    "A mapping of digits to letters (just like on the telephone buttons) is given below. Note that 1 does not map to any letters.\n",
    "\n",
    "\n",
    " \n",
    "\n",
    "Example 1:\n",
    "\n",
    "Input: digits = \"23\"\n",
    "Output: [\"ad\",\"ae\",\"af\",\"bd\",\"be\",\"bf\",\"cd\",\"ce\",\"cf\"]\n",
    "Example 2:\n",
    "\n",
    "Input: digits = \"\"\n",
    "Output: []\n",
    "Example 3:\n",
    "\n",
    "Input: digits = \"2\"\n",
    "Output: [\"a\",\"b\",\"c\"]\n",
    " \n",
    "\n",
    "Constraints:\n",
    "\n",
    "0 <= digits.length <= 4\n",
    "digits[i] is a digit in the range ['2', '9']."
   ]
  },
  {
   "cell_type": "markdown",
   "metadata": {},
   "source": [
    "Complexity Analysis\n",
    "\n",
    "Time complexity: O(4^N * N), where NNN is the length of digits. Note that 444 in this expression is referring to the maximum value length in the hash map, and not to the length of the input.\n",
    "\n",
    "The worst-case is where the input consists of only 7s and 9s. In that case, we have to explore 4 additional paths for every extra digit. Then, for each combination, it costs up to NNN to build the combination. This problem can be generalized to a scenario where numbers correspond with up to MMM digits, in which case the time complexity would be O(M^N * N). For the problem constraints, we're given, M=4, because of digits 7 and 9 having 4 letters each.\n",
    "\n",
    "Space complexity: O(N), where NNN is the length of digits.\n",
    "\n",
    "Not counting space used for the output, the extra space we use relative to input size is the space occupied by the recursion call stack. It will only go as deep as the number of digits in the input since whenever we reach that depth, we backtrack.\n",
    "\n",
    "As the hash map does not grow as the inputs grows, it occupies O(1) space."
   ]
  },
  {
   "cell_type": "code",
   "execution_count": null,
   "metadata": {},
   "outputs": [],
   "source": [
    "class Solution:\n",
    "    def letterCombinations(self, digits: str) -> List[str]:\n",
    "        # If the input is empty, immediately return an empty answer array\n",
    "        if len(digits) == 0:\n",
    "            return []\n",
    "\n",
    "        # Map all the digits to their corresponding letters\n",
    "        letters = {\n",
    "            \"2\": \"abc\",\n",
    "            \"3\": \"def\",\n",
    "            \"4\": \"ghi\",\n",
    "            \"5\": \"jkl\",\n",
    "            \"6\": \"mno\",\n",
    "            \"7\": \"pqrs\",\n",
    "            \"8\": \"tuv\",\n",
    "            \"9\": \"wxyz\",\n",
    "        }\n",
    "\n",
    "        def backtrack(index, path):\n",
    "            # If the path is the same length as digits, we have a complete combination\n",
    "            if len(path) == len(digits):\n",
    "                combinations.append(\"\".join(path))\n",
    "                return  # Backtrack\n",
    "\n",
    "            # Get the letters that the current digit maps to, and loop through them\n",
    "            possible_letters = letters[digits[index]]\n",
    "            for letter in possible_letters:\n",
    "                # Add the letter to our current path\n",
    "                path.append(letter)\n",
    "                # Move on to the next digit\n",
    "                backtrack(index + 1, path)\n",
    "                # Backtrack by removing the letter before moving onto the next\n",
    "                path.pop()\n",
    "\n",
    "        # Initiate backtracking with an empty path and starting index of 0\n",
    "        combinations = []\n",
    "        backtrack(0, [])\n",
    "        return combinations"
   ]
  }
 ],
 "metadata": {
  "language_info": {
   "name": "python"
  }
 },
 "nbformat": 4,
 "nbformat_minor": 2
}
