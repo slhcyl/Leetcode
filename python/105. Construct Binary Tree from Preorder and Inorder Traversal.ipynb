{
 "cells": [
  {
   "cell_type": "markdown",
   "metadata": {},
   "source": [
    "105. Construct Binary Tree from Preorder and Inorder Traversal\n",
    "Solved\n",
    "Medium\n",
    "Topics\n",
    "Companies\n",
    "Given two integer arrays preorder and inorder where preorder is the preorder traversal of a binary tree and inorder is the inorder traversal of the same tree, construct and return the binary tree.\n",
    "\n",
    " \n",
    "\n",
    "Example 1:\n",
    "\n",
    "\n",
    "Input: preorder = [3,9,20,15,7], inorder = [9,3,15,20,7]\n",
    "Output: [3,9,20,null,null,15,7]\n",
    "Example 2:\n",
    "\n",
    "Input: preorder = [-1], inorder = [-1]\n",
    "Output: [-1]\n",
    " \n",
    "\n",
    "Constraints:\n",
    "\n",
    "1 <= preorder.length <= 3000\n",
    "inorder.length == preorder.length\n",
    "-3000 <= preorder[i], inorder[i] <= 3000\n",
    "preorder and inorder consist of unique values.\n",
    "Each value of inorder also appears in preorder.\n",
    "preorder is guaranteed to be the preorder traversal of the tree.\n",
    "inorder is guaranteed to be the inorder traversal of the tree."
   ]
  },
  {
   "cell_type": "markdown",
   "metadata": {},
   "source": [
    "Complexity analysis\n",
    "\n",
    "Let NNN be the length of the input arrays.\n",
    "\n",
    "Time complexity : O(N).\n",
    "\n",
    "Building the hashmap takes O(N) time, as there are NNN nodes to add, and adding items to a hashmap has a cost of O(1), so we get N⋅O(1)=O(N) .\n",
    "\n",
    "Building the tree also takes O(N) time. The recursive helper method has a cost of O(1) for each call (it has no loops), and it is called once for each of the NNN nodes, giving a total of O(N).\n",
    "\n",
    "Taking both into consideration, the time complexity is O(N).\n",
    "\n",
    "Space complexity : O(N).\n",
    "\n",
    "Building the hashmap and storing the entire tree each requires O(N) memory. The size of the implicit system stack used by recursion calls depends on the height of the tree, which is O(N) in the worst case and O(log⁡N) on average. Taking both into consideration, the space complexity is O(N)."
   ]
  },
  {
   "cell_type": "code",
   "execution_count": null,
   "metadata": {},
   "outputs": [],
   "source": [
    "'''\n",
    "Time:\n",
    "Index Map: Similar to Solution 1, creating an index map from the inorder array also takes O(n).\n",
    "Recursive Calls: The recursive structure is similar to Solution 1. The slicing of the preorder array, \n",
    "like preorder[1:mid+1] and preorder[mid+1:], also introduces overhead, which is O(k) for each slice. \n",
    "The total work across all recursive calls, considering all elements are processed, remains O(n) in total.\n",
    "Total: Overall time complexity is also O(n) because every node is processed exactly once through the recursive calls.\n",
    "Space:\n",
    "Space for Index Map: O(n) space for storing the index map.\n",
    "Recursive Call Stack: Similar to Solution 1, space complexity due to the recursive stack can range from O(logn) for a balanced tree to O(n) for a skewed tree.\n",
    "Total: Similarly, the overall space complexity in the worst case is O(n).\n",
    "'''\n",
    "# Definition for a binary tree node.\n",
    "# class TreeNode:\n",
    "#     def __init__(self, val=0, left=None, right=None):\n",
    "#         self.val = val\n",
    "#         self.left = left\n",
    "#         self.right = right\n",
    "class Solution:\n",
    "    def buildTree(self, preorder: List[int], inorder: List[int]) -> Optional[TreeNode]:\n",
    "        if not preorder or not inorder:\n",
    "            return None\n",
    "        \n",
    "        root = TreeNode(preorder[0])\n",
    "        mid = inorder.index(preorder[0])\n",
    "        root.left = self.buildTree(preorder[1:mid +1],inorder[:mid])\n",
    "        root.right = self.buildTree(preorder[mid+1:],inorder[mid+1:])\n",
    "        return root\n",
    "#  O(n)   \n",
    "#  O(n)   "
   ]
  }
 ],
 "metadata": {
  "language_info": {
   "name": "python"
  }
 },
 "nbformat": 4,
 "nbformat_minor": 2
}
