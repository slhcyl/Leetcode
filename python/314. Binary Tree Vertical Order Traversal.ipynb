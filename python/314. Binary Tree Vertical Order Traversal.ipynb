{
 "cells": [
  {
   "cell_type": "markdown",
   "metadata": {},
   "source": [
    "314. Binary Tree Vertical Order Traversal\n",
    "Medium\n",
    "Topics\n",
    "Companies\n",
    "Hint\n",
    "Given the root of a binary tree, return the vertical order traversal of its nodes' values. (i.e., from top to bottom, column by column).\n",
    "\n",
    "If two nodes are in the same row and column, the order should be from left to right.\n",
    "\n",
    " \n",
    "\n",
    "Example 1:\n",
    "\n",
    "\n",
    "Input: root = [3,9,20,null,null,15,7]\n",
    "Output: [[9],[3,15],[20],[7]]\n",
    "Example 2:\n",
    "\n",
    "\n",
    "Input: root = [3,9,8,4,0,1,7]\n",
    "Output: [[4],[9],[3,0,1],[8],[7]]\n",
    "Example 3:\n",
    "\n",
    "\n",
    "Input: root = [3,9,8,4,0,1,7,null,null,null,2,5]\n",
    "Output: [[4],[9,5],[3,0,1],[8,2],[7]]\n",
    " \n",
    "\n",
    "Constraints:\n",
    "\n",
    "The number of nodes in the tree is in the range [0, 100].\n",
    "-100 <= Node.val <= 100"
   ]
  },
  {
   "cell_type": "code",
   "execution_count": null,
   "metadata": {},
   "outputs": [],
   "source": [
    "# BFS without Sorting\n",
    "# Definition for a binary tree node.\n",
    "# class TreeNode:\n",
    "#     def __init__(self, val=0, left=None, right=None):\n",
    "#         self.val = val\n",
    "#         self.left = left\n",
    "#         self.right = right\n",
    "class Solution:\n",
    "    def verticalOrder(self, root: Optional[TreeNode]) -> List[List[int]]:\n",
    "        if not root:\n",
    "            return []\n",
    "        columnTable = defaultdict(list)\n",
    "        min_column, max_column = 0, 0\n",
    "        queue = deque([(root, 0)])\n",
    "\n",
    "        while queue:\n",
    "            node, level = queue.popleft()\n",
    "            columnTable[level].append(node.val)\n",
    "            \n",
    "            min_column = min(min_column, level)\n",
    "            max_column = max(max_column, level)\n",
    "\n",
    "            if node.left:\n",
    "                queue.append([node.left, level - 1])\n",
    "            if node.right:\n",
    "                queue.append([node.right, level + 1])\n",
    "\n",
    "        return [columnTable[i] for i in range(min_column,max_column+1)]\n",
    "# T: O(n)\n",
    "# S: O(n)"
   ]
  }
 ],
 "metadata": {
  "language_info": {
   "name": "python"
  }
 },
 "nbformat": 4,
 "nbformat_minor": 2
}
