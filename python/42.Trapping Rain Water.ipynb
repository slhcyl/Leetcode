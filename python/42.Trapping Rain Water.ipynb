{
 "cells": [
  {
   "cell_type": "markdown",
   "metadata": {},
   "source": [
    "42. Trapping Rain Water\n",
    "Solved\n",
    "Hard\n",
    "Topics\n",
    "Companies\n",
    "Given n non-negative integers representing an elevation map where the width of each bar is 1, compute how much water it can trap after raining.\n",
    "\n",
    " \n",
    "\n",
    "Example 1:\n",
    "\n",
    "\n",
    "Input: height = [0,1,0,2,1,0,1,3,2,1,2,1]\n",
    "Output: 6\n",
    "Explanation: The above elevation map (black section) is represented by array [0,1,0,2,1,0,1,3,2,1,2,1]. In this case, 6 units of rain water (blue section) are being trapped.\n",
    "Example 2:\n",
    "\n",
    "Input: height = [4,2,0,3,2,5]\n",
    "Output: 9\n",
    " \n",
    "\n",
    "Constraints:\n",
    "\n",
    "n == height.length\n",
    "1 <= n <= 2 * 104\n",
    "0 <= height[i] <= 105"
   ]
  },
  {
   "cell_type": "code",
   "execution_count": null,
   "metadata": {},
   "outputs": [],
   "source": [
    "'''Complexity Analysis\n",
    "Time complexity: O(n). Single iteration of O(n).\n",
    "Space complexity: O(1) extra space. Only constant space required for left, right, left_max and right_max.'''\n",
    "class Solution:\n",
    "    def trap(self, height: List[int]) -> int:\n",
    "        left, right = 0, len(height) - 1\n",
    "        trapped = 0\n",
    "        l_max = r_max = 0\n",
    "\n",
    "        while left < right:\n",
    "            if height[left] < height[right]:\n",
    "                l_max = max(l_max, height[left])\n",
    "                trapped += l_max - height[left]\n",
    "                left += 1\n",
    "            else:\n",
    "                r_max = max(r_max, height[right])\n",
    "                trapped += r_max - height[right]\n",
    "                right -= 1\n",
    "\n",
    "        return trapped"
   ]
  }
 ],
 "metadata": {
  "language_info": {
   "name": "python"
  }
 },
 "nbformat": 4,
 "nbformat_minor": 2
}
