{
 "cells": [
  {
   "cell_type": "markdown",
   "metadata": {},
   "source": [
    "118. Pascal's Triangle\n",
    "Solved\n",
    "Easy\n",
    "Topics\n",
    "Companies\n",
    "Given an integer numRows, return the first numRows of Pascal's triangle.\n",
    "\n",
    "In Pascal's triangle, each number is the sum of the two numbers directly above it as shown:\n",
    "\n",
    "\n",
    " \n",
    "\n",
    "Example 1:\n",
    "\n",
    "Input: numRows = 5\n",
    "Output: [[1],[1,1],[1,2,1],[1,3,3,1],[1,4,6,4,1]]\n",
    "Example 2:\n",
    "\n",
    "Input: numRows = 1\n",
    "Output: [[1]]\n",
    " \n",
    "\n",
    "Constraints:\n",
    "\n",
    "1 <= numRows <= 30"
   ]
  },
  {
   "cell_type": "markdown",
   "metadata": {},
   "source": [
    "Time Complexity:\n",
    "\n",
    "Generating each row requires iterating through the row above it to calculate the new elements. This process takes linear time proportional to the number of elements in the row above.\n",
    "Since we generate numRows rows, the overall time complexity is O(numRows^2).\n",
    "Space Complexity:\n",
    "\n",
    "We store the entire Pascal's Triangle, which consists of numRows rows and each row contains a number of elements proportional to its row index.\n",
    "Therefore, the space complexity is O(numRows^2), as we store all the elements in the triangle."
   ]
  },
  {
   "cell_type": "code",
   "execution_count": null,
   "metadata": {},
   "outputs": [],
   "source": [
    "# t O(n^2)\n",
    "# s O(n^2)\n",
    "class Solution:\n",
    "    def generate(self, numRows: int) -> List[List[int]]:\n",
    "        res = [[1]]\n",
    "\n",
    "        for i in range(numRows - 1):\n",
    "            temp = [0] + res[-1] + [0]\n",
    "            row = []\n",
    "            for j in range(len(res[-1]) + 1):\n",
    "                row.append(temp[j] + temp[j + 1])\n",
    "            res.append(row)\n",
    "        \n",
    "        return res"
   ]
  }
 ],
 "metadata": {
  "language_info": {
   "name": "python"
  }
 },
 "nbformat": 4,
 "nbformat_minor": 2
}
