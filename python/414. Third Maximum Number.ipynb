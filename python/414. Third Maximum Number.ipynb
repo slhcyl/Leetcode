{
 "cells": [
  {
   "cell_type": "markdown",
   "metadata": {},
   "source": [
    "414. Third Maximum Number\n",
    "Solved\n",
    "Easy\n",
    "Topics\n",
    "Companies\n",
    "Given an integer array nums, return the third distinct maximum number in this array. If the third maximum does not exist, return the maximum number.\n",
    "\n",
    " \n",
    "\n",
    "Example 1:\n",
    "\n",
    "Input: nums = [3,2,1]\n",
    "Output: 1\n",
    "Explanation:\n",
    "The first distinct maximum is 3.\n",
    "The second distinct maximum is 2.\n",
    "The third distinct maximum is 1.\n",
    "Example 2:\n",
    "\n",
    "Input: nums = [1,2]\n",
    "Output: 2\n",
    "Explanation:\n",
    "The first distinct maximum is 2.\n",
    "The second distinct maximum is 1.\n",
    "The third distinct maximum does not exist, so the maximum (2) is returned instead.\n",
    "Example 3:\n",
    "\n",
    "Input: nums = [2,2,3,1]\n",
    "Output: 1\n",
    "Explanation:\n",
    "The first distinct maximum is 3.\n",
    "The second distinct maximum is 2 (both 2's are counted together since they have the same value).\n",
    "The third distinct maximum is 1.\n",
    " \n",
    "\n",
    "Constraints:\n",
    "\n",
    "1 <= nums.length <= 104\n",
    "-231 <= nums[i] <= 231 - 1\n",
    " \n",
    "\n",
    "Follow up: Can you find an O(n) solution?"
   ]
  },
  {
   "cell_type": "code",
   "execution_count": null,
   "metadata": {},
   "outputs": [],
   "source": [
    "# Time Complexity: O(n), since we traverse the array a single time and operations involving addition and deletion in a set (especially \n",
    "# with a maximum of three elements) can be considered O(1) on average.\n",
    "# Space Complexity: O(1), because the size of the set is capped at three elements, making it constant space despite the input size.\n",
    "class Solution:\n",
    "    def thirdMax(self, nums: List[int]) -> int:\n",
    "        max_set = set()\n",
    "        for num in nums:\n",
    "            max_set.add(num)\n",
    "            if len(max_set) > 3:\n",
    "                max_set.remove(min(max_set))\n",
    "\n",
    "        if len(max_set) == 3:\n",
    "            return min(max_set)\n",
    "\n",
    "        return max(max_set)"
   ]
  }
 ],
 "metadata": {
  "language_info": {
   "name": "python"
  }
 },
 "nbformat": 4,
 "nbformat_minor": 2
}
