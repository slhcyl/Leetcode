{
 "cells": [
  {
   "cell_type": "markdown",
   "metadata": {},
   "source": [
    "328. Odd Even Linked List\n",
    "Solved\n",
    "Medium\n",
    "Topics\n",
    "Companies\n",
    "Given the head of a singly linked list, group all the nodes with odd indices together followed by the nodes with even indices, and return the reordered list.\n",
    "\n",
    "The first node is considered odd, and the second node is even, and so on.\n",
    "\n",
    "Note that the relative order inside both the even and odd groups should remain as it was in the input.\n",
    "\n",
    "You must solve the problem in O(1) extra space complexity and O(n) time complexity.\n",
    "\n",
    " \n",
    "\n",
    "Example 1:\n",
    "\n",
    "\n",
    "Input: head = [1,2,3,4,5]\n",
    "Output: [1,3,5,2,4]\n",
    "Example 2:\n",
    "\n",
    "\n",
    "Input: head = [2,1,3,5,6,4,7]\n",
    "Output: [2,3,6,7,1,5,4]\n",
    " \n",
    "\n",
    "Constraints:\n",
    "\n",
    "The number of nodes in the linked list is in the range [0, 104].\n",
    "-106 <= Node.val <= 106"
   ]
  },
  {
   "cell_type": "code",
   "execution_count": null,
   "metadata": {},
   "outputs": [],
   "source": [
    "# Time complexity : O(n). There are total nnn nodes and we visit each node once.\n",
    "# Space complexity : O(1). All we need is the four pointers.\n",
    "# Definition for singly-linked list.\n",
    "# class ListNode:\n",
    "#     def __init__(self, val=0, next=None):\n",
    "#         self.val = val\n",
    "#         self.next = next\n",
    "class Solution:\n",
    "    def oddEvenList(self, head: Optional[ListNode]) -> Optional[ListNode]:\n",
    "        if not head or not head.next:\n",
    "            return head\n",
    "\n",
    "        odd = head\n",
    "        even = head.next\n",
    "        even_head = head.next\n",
    "\n",
    "        while even and even.next:\n",
    "            odd.next = even.next\n",
    "            odd = odd.next\n",
    "            even.next = odd.next\n",
    "            even = even.next\n",
    "        \n",
    "        odd.next = even_head\n",
    "\n",
    "        return head"
   ]
  }
 ],
 "metadata": {
  "language_info": {
   "name": "python"
  }
 },
 "nbformat": 4,
 "nbformat_minor": 2
}
