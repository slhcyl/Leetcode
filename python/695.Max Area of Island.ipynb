{
 "cells": [
  {
   "cell_type": "markdown",
   "metadata": {},
   "source": [
    "\n",
    "695. Max Area of Island\n",
    "Solved\n",
    "Medium\n",
    "Topics\n",
    "Companies\n",
    "You are given an m x n binary matrix grid. An island is a group of 1's (representing land) connected 4-directionally (horizontal or vertical.) You may assume all four edges of the grid are surrounded by water.\n",
    "\n",
    "The area of an island is the number of cells with a value 1 in the island.\n",
    "\n",
    "Return the maximum area of an island in grid. If there is no island, return 0.\n",
    "\n",
    " \n",
    "\n",
    "Example 1:\n",
    "\n",
    "\n",
    "Input: grid = [[0,0,1,0,0,0,0,1,0,0,0,0,0],[0,0,0,0,0,0,0,1,1,1,0,0,0],[0,1,1,0,1,0,0,0,0,0,0,0,0],[0,1,0,0,1,1,0,0,1,0,1,0,0],[0,1,0,0,1,1,0,0,1,1,1,0,0],[0,0,0,0,0,0,0,0,0,0,1,0,0],[0,0,0,0,0,0,0,1,1,1,0,0,0],[0,0,0,0,0,0,0,1,1,0,0,0,0]]\n",
    "Output: 6\n",
    "Explanation: The answer is not 11, because the island must be connected 4-directionally.\n",
    "Example 2:\n",
    "\n",
    "Input: grid = [[0,0,0,0,0,0,0,0]]\n",
    "Output: 0\n",
    " \n",
    "\n",
    "Constraints:\n",
    "\n",
    "m == grid.length\n",
    "n == grid[i].length\n",
    "1 <= m, n <= 50\n",
    "grid[i][j] is either 0 or 1."
   ]
  },
  {
   "cell_type": "code",
   "execution_count": null,
   "metadata": {},
   "outputs": [],
   "source": [
    "class Solution:\n",
    "    def maxAreaOfIsland(self, grid: List[List[int]]) -> int:\n",
    "        ROWS, COLS = len(grid), len(grid[0])\n",
    "        visit = set()\n",
    "\n",
    "        def dfs(r,c):\n",
    "            if (r < 0 \n",
    "                or r == ROWS \n",
    "                or c < 0 \n",
    "                or c == COLS \n",
    "                or grid[r][c] == 0\n",
    "                or (r,c) in visit):\n",
    "                return 0\n",
    "\n",
    "            visit.add((r,c))\n",
    "            return (1 + dfs(r + 1, c) +\n",
    "                        dfs(r - 1, c) +\n",
    "                        dfs(r, c + 1) +\n",
    "                        dfs(r, c - 1)\n",
    "                        )\n",
    "        area = 0\n",
    "        for r in range(ROWS):\n",
    "            for c in range(COLS):\n",
    "                area = max(area, dfs(r,c))\n",
    "        return area"
   ]
  }
 ],
 "metadata": {
  "language_info": {
   "name": "python"
  }
 },
 "nbformat": 4,
 "nbformat_minor": 2
}
