{
 "cells": [
  {
   "cell_type": "markdown",
   "metadata": {},
   "source": [
    "713. Subarray Product Less Than K\n",
    "Solved\n",
    "Medium\n",
    "Topics\n",
    "Companies\n",
    "Hint\n",
    "Given an array of integers nums and an integer k, return the number of contiguous subarrays where the product of all the elements in the subarray is strictly less than k.\n",
    "\n",
    " \n",
    "\n",
    "Example 1:\n",
    "\n",
    "Input: nums = [10,5,2,6], k = 100\n",
    "Output: 8\n",
    "Explanation: The 8 subarrays that have product less than 100 are:\n",
    "[10], [5], [2], [6], [10, 5], [5, 2], [2, 6], [5, 2, 6]\n",
    "Note that [10, 5, 2] is not included as the product of 100 is not strictly less than k.\n",
    "Example 2:\n",
    "\n",
    "Input: nums = [1,2,3], k = 0\n",
    "Output: 0\n",
    " \n",
    "\n",
    "Constraints:\n",
    "\n",
    "1 <= nums.length <= 3 * 104\n",
    "1 <= nums[i] <= 1000\n",
    "0 <= k <= 106"
   ]
  },
  {
   "cell_type": "markdown",
   "metadata": {},
   "source": [
    "Complexity Analysis\n",
    "Let nnn be the length of nums.\n",
    "\n",
    "Time complexity: O(n)\n",
    "\n",
    "The algorithm iterates through the input array nums using a single for loop. Inside the loop, there are nested operations for shrinking the window, but since left is incremented a total number of n times during the whole array traversal, each element in the array is visited at most twice.\n",
    "\n",
    "The nested loop terminates when the product becomes less than k, and this can only happen at most n times total (once for each element). Therefore, the overall time complexity is 2n2n2n, which we describe as O(n).\n",
    "\n",
    "Space complexity: O(1)\n",
    "\n",
    "The algorithm uses a constant amount of extra space for variables like totalCount, product, left, and right. These variables do not depend on the size of the input array. Therefore, the space complexity is considered constant, denoted as O(1)."
   ]
  },
  {
   "cell_type": "code",
   "execution_count": null,
   "metadata": {},
   "outputs": [],
   "source": [
    "class Solution:\n",
    "    def numSubarrayProductLessThanK(self, nums: List[int], k: int) -> int:\n",
    "        # Handle edge cases where k is 0 or 1 (no subarrays possible)\n",
    "        if k <= 1:\n",
    "            return 0\n",
    "\n",
    "        total_count = 0\n",
    "        product = 1\n",
    "\n",
    "        # Use two pointers to maintain a sliding window\n",
    "        left = 0\n",
    "        for right, num in enumerate(nums):\n",
    "            product *= num  # Expand the window by including the element at the right pointer\n",
    "\n",
    "            # Shrink the window from the left while the product is greater than or equal to k\n",
    "            while product >= k:\n",
    "                product //= nums[left]  # Remove the element at the left pointer from the product\n",
    "                left += 1\n",
    "\n",
    "            # Update the total count by adding the number of valid subarrays with the current window size\n",
    "            total_count += right - left + 1  # right - left + 1 represents the current window size\n",
    "\n",
    "        return total_count"
   ]
  },
  {
   "cell_type": "code",
   "execution_count": null,
   "metadata": {},
   "outputs": [],
   "source": [
    "class Solution:\n",
    "    def numSubarrayProductLessThanK(self, nums: List[int], k: int) -> int:\n",
    "        if k <= 1:\n",
    "            return 0\n",
    "        l = 0\n",
    "        product = 1\n",
    "        count = 0\n",
    "\n",
    "        for r in range(len(nums)):\n",
    "            product *= nums[r]\n",
    "            # window\n",
    "            while product >= k:\n",
    "                product /= nums[l]\n",
    "                l += 1\n",
    "            '''By calculating right - left + 1, we enumerate all subarrays that end with the current element of the window (nums[right]). \n",
    "            This ensures that we count all possible subarrays as we slide the window across the array. As we can observe, \n",
    "            adding element 6 to the window created 4 new subarrays.'''    \n",
    "            count += r - l + 1\n",
    "\n",
    "        return count"
   ]
  }
 ],
 "metadata": {
  "language_info": {
   "name": "python"
  }
 },
 "nbformat": 4,
 "nbformat_minor": 2
}
