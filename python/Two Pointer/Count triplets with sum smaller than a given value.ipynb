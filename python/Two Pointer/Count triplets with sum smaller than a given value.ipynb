{
 "cells": [
  {
   "cell_type": "markdown",
   "metadata": {},
   "source": [
    "Given an array of distinct integers and a sum value. Find count of triplets with sum smaller than given sum value. The expected Time Complexity is O(n2).\n",
    "Examples: \n",
    " \n",
    "\n",
    "Input : arr[] = {-2, 0, 1, 3}\n",
    "        sum = 2.\n",
    "Output : 2\n",
    "Explanation :  Below are triplets with sum less than 2\n",
    "               (-2, 0, 1) and (-2, 0, 3) \n",
    "\n",
    "Input : arr[] = {5, 1, 3, 4, 7}\n",
    "        sum = 12.\n",
    "Output : 4\n",
    "Explanation :  Below are triplets with sum less than 12\n",
    "               (1, 3, 4), (1, 3, 5), (1, 3, 7) and \n",
    "               (1, 4, 5)"
   ]
  },
  {
   "cell_type": "code",
   "execution_count": null,
   "metadata": {},
   "outputs": [],
   "source": [
    "'''Time Complexity: O(n2)\n",
    "Auxiliary Space: O(1)'''\n",
    "# Function to count triplets with sum smaller \n",
    "# than a given value\t\t \n",
    "def countTriplets(arr,n,sum): \n",
    "\t\n",
    "\t# Sort input array \n",
    "\tarr.sort() \n",
    "\t\n",
    "\t# Initialize result \n",
    "\tans = 0\n",
    "\t\n",
    "\t# Every iteration of loop counts triplet with \n",
    "\t# first element as arr[i]. \n",
    "\tfor i in range(0,n-2): \n",
    "\t\t\n",
    "\t\t# Initialize other two elements as corner elements \n",
    "\t\t# of subarray arr[j+1..k] \n",
    "\t\tj = i + 1\n",
    "\t\tk = n-1\n",
    "\n",
    "\t\t# Use Meet in the Middle concept \n",
    "\t\twhile(j < k): \n",
    "\t\t\t\n",
    "\t\t\t# If sum of current triplet is more or equal, \n",
    "\t\t\t# move right corner to look for smaller values \n",
    "\t\t\tif (arr[i]+arr[j]+arr[k] >=sum): \n",
    "\t\t\t\tk = k-1\n",
    "\t\t\t\n",
    "\t\t\t# Else move left corner \n",
    "\t\t\telse: \n",
    "\t\t\t\t\n",
    "\t\t\t\t# This is important. For current i and j, there \n",
    "\t\t\t\t# can be total k-j third elements. \n",
    "\t\t\t\tans += (k - j) \n",
    "\t\t\t\tj = j+1\n",
    "\t\n",
    "\treturn ans \n",
    "\n",
    "# Driver program \n",
    "if __name__=='__main__': \n",
    "\tarr = [5, 1, 3, 4, 7] \n",
    "\tn = len(arr) \n",
    "\tsum = 12\n",
    "\tprint(countTriplets(arr, n, sum)) \n",
    "\t\n",
    "# This code is contributed by \n",
    "# Yatin Gupta \n"
   ]
  }
 ],
 "metadata": {
  "language_info": {
   "name": "python"
  }
 },
 "nbformat": 4,
 "nbformat_minor": 2
}
