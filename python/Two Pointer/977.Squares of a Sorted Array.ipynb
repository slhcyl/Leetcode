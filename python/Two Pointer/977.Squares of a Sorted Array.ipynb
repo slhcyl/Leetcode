{
 "cells": [
  {
   "cell_type": "markdown",
   "metadata": {},
   "source": [
    "977. Squares of a Sorted Array\n",
    "Solved\n",
    "Easy\n",
    "Topics\n",
    "Companies\n",
    "Given an integer array nums sorted in non-decreasing order, return an array of the squares of each number sorted in non-decreasing order.\n",
    "\n",
    " \n",
    "\n",
    "Example 1:\n",
    "\n",
    "Input: nums = [-4,-1,0,3,10]\n",
    "Output: [0,1,9,16,100]\n",
    "Explanation: After squaring, the array becomes [16,1,0,9,100].\n",
    "After sorting, it becomes [0,1,9,16,100].\n",
    "Example 2:\n",
    "\n",
    "Input: nums = [-7,-3,2,3,11]\n",
    "Output: [4,9,9,49,121]\n",
    " \n",
    "\n",
    "Constraints:\n",
    "\n",
    "1 <= nums.length <= 104\n",
    "-104 <= nums[i] <= 104\n",
    "nums is sorted in non-decreasing order.\n",
    " \n",
    "\n",
    "Follow up: Squaring each element and sorting the new array is very trivial, could you find an O(n) solution using a different approach?"
   ]
  },
  {
   "cell_type": "markdown",
   "metadata": {},
   "source": [
    "Approach 1: Sort\n",
    "Intuition and Algorithm\n",
    "\n",
    "Create an array of the squares of each element, and sort them.\n",
    "Complexity Analysis\n",
    "\n",
    "Time Complexity: O(Nlog⁡N), where NNN is the length of A.\n",
    "\n",
    "Space complexity : O(N) or O(log⁡N)\n",
    "\n",
    "The space complexity of the sorting algorithm depends on the implementation of each program language.\n",
    "\n",
    "For instance, the list.sort() function in Python is implemented with the Timsort algorithm whose space complexity is O(N).\n",
    "\n",
    "In Java, the Arrays.sort() is implemented as a variant of quicksort algorithm whose space complexity is O(log⁡N). However, if the array is highly structured (has few sorted subarrays), then linear space may be used instead."
   ]
  },
  {
   "cell_type": "code",
   "execution_count": null,
   "metadata": {},
   "outputs": [],
   "source": [
    "class Solution:\n",
    "    def sortedSquares(self, nums: List[int]) -> List[int]:\n",
    "        return sorted(x**2 for x in nums)"
   ]
  },
  {
   "cell_type": "markdown",
   "metadata": {},
   "source": [
    "Approach 2: Two Pointer\n",
    "Intuition\n",
    "\n",
    "Since the array A is sorted, loosely speaking it has some negative elements with squares in decreasing order, then some non-negative elements with squares in increasing order.\n",
    "\n",
    "For example, with [-3, -2, -1, 4, 5, 6], we have the negative part [-3, -2, -1] with squares [9, 4, 1], and the positive part [4, 5, 6] with squares [16, 25, 36]. Our strategy is to iterate over the negative part in reverse, and the positive part in the forward direction.\n",
    "\n",
    "Algorithm\n",
    "\n",
    "We can use two pointers to read the positive and negative parts of the array - one pointer j in the positive direction, and another i in the negative direction.\n",
    "\n",
    "Now that we are reading two increasing arrays (the squares of the elements), we can merge these arrays together using a two-pointer technique.\n",
    "Complexity Analysis\n",
    "\n",
    "Time Complexity: O(N), where NNN is the length of A.\n",
    "\n",
    "Space Complexity: O(N) if you take output into account and O(1) otherwise."
   ]
  },
  {
   "cell_type": "code",
   "execution_count": null,
   "metadata": {},
   "outputs": [],
   "source": [
    "class Solution:\n",
    "    def sortedSquares(self, nums: List[int]) -> List[int]:\n",
    "        left, right = 0, len(nums) - 1\n",
    "\n",
    "        res = [0] * len(nums)\n",
    "\n",
    "        for i in range(len(nums) - 1, -1, -1):\n",
    "            if abs(nums[left]) < abs(nums[right]):\n",
    "                x = nums[right]\n",
    "                right -= 1\n",
    "            else:\n",
    "                x = nums[left]\n",
    "                left += 1\n",
    "            res[i] = x*x\n",
    "        \n",
    "        return res"
   ]
  },
  {
   "cell_type": "code",
   "execution_count": null,
   "metadata": {},
   "outputs": [],
   "source": [
    "class Solution:\n",
    "    def sortedSquares(self, nums: List[int]) -> List[int]:\n",
    "        left, right = 0, len(nums) - 1\n",
    "        res = [0] * len(nums)\n",
    "\n",
    "        for i in range(len(nums)-1, -1, -1):\n",
    "            if abs(nums[left]) < abs(nums[right]):\n",
    "                x = nums[right]\n",
    "                right -= 1\n",
    "            else:\n",
    "                x = nums[left]\n",
    "                left += 1\n",
    "            res[i] = x * x\n",
    "\n",
    "        return res"
   ]
  }
 ],
 "metadata": {
  "language_info": {
   "name": "python"
  }
 },
 "nbformat": 4,
 "nbformat_minor": 2
}
