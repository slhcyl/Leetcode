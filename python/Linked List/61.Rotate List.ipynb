{
 "cells": [
  {
   "cell_type": "markdown",
   "metadata": {},
   "source": [
    "61. Rotate List\n",
    "Solved\n",
    "Medium\n",
    "Topics\n",
    "Companies\n",
    "Given the head of a linked list, rotate the list to the right by k places.\n",
    "\n",
    " \n",
    "\n",
    "Example 1:\n",
    "\n",
    "\n",
    "Input: head = [1,2,3,4,5], k = 2\n",
    "Output: [4,5,1,2,3]\n",
    "Example 2:\n",
    "\n",
    "\n",
    "Input: head = [0,1,2], k = 4\n",
    "Output: [2,0,1]\n",
    " \n",
    "\n",
    "Constraints:\n",
    "\n",
    "The number of nodes in the list is in the range [0, 500].\n",
    "-100 <= Node.val <= 100\n",
    "0 <= k <= 2 * 109"
   ]
  },
  {
   "cell_type": "code",
   "execution_count": null,
   "metadata": {},
   "outputs": [],
   "source": [
    "# t O(n)\n",
    "# s O(1)\n",
    "# Definition for singly-linked list.\n",
    "# class ListNode:\n",
    "#     def __init__(self, val=0, next=None):\n",
    "#         self.val = val\n",
    "#         self.next = next\n",
    "class Solution:\n",
    "    def rotateRight(self, head: Optional[ListNode], k: int) -> Optional[ListNode]:\n",
    "        if not head or not k:\n",
    "            return head\n",
    "        \n",
    "        length = 1\n",
    "        tail = head\n",
    "        while tail.next:\n",
    "            tail = tail.next\n",
    "            length += 1\n",
    "        # in case k is larger than length \n",
    "        k = k % length\n",
    "        if k == 0:\n",
    "            return head\n",
    "        \n",
    "        curr = head\n",
    "        for i in range(length - k - 1):\n",
    "            curr = curr.next\n",
    "        \n",
    "        new_head = curr.next\n",
    "        curr.next = None\n",
    "        tail.next = head\n",
    "        \n",
    "        return new_head"
   ]
  }
 ],
 "metadata": {
  "language_info": {
   "name": "python"
  }
 },
 "nbformat": 4,
 "nbformat_minor": 2
}
