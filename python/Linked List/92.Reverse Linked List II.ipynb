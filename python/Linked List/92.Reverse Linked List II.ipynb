{
 "cells": [
  {
   "cell_type": "markdown",
   "metadata": {},
   "source": [
    "92. Reverse Linked List II\n",
    "Solved\n",
    "Medium\n",
    "Topics\n",
    "Companies\n",
    "Given the head of a singly linked list and two integers left and right where left <= right, reverse the nodes of the list from position left to position right, and return the reversed list.\n",
    "\n",
    " \n",
    "\n",
    "Example 1:\n",
    "\n",
    "\n",
    "Input: head = [1,2,3,4,5], left = 2, right = 4\n",
    "Output: [1,4,3,2,5]\n",
    "Example 2:\n",
    "\n",
    "Input: head = [5], left = 1, right = 1\n",
    "Output: [5]\n",
    " \n",
    "\n",
    "Constraints:\n",
    "\n",
    "The number of nodes in the list is n.\n",
    "1 <= n <= 500\n",
    "-500 <= Node.val <= 500\n",
    "1 <= left <= right <= n\n",
    " \n",
    "\n",
    "Follow up: Could you do it in one pass?"
   ]
  },
  {
   "cell_type": "markdown",
   "metadata": {},
   "source": [
    "Complexity Analysis\n",
    "Time Complexity: O(N) considering the list consists of NNN nodes. We process each of the nodes at most once we don't process the nodes after the nth  node from the beginning.\n",
    "Space Complexity: O(1) since we simply adjust some pointers in the original linked list and only use O(1) additional memory for achieving the final result."
   ]
  },
  {
   "cell_type": "code",
   "execution_count": null,
   "metadata": {},
   "outputs": [],
   "source": [
    "# Definition for singly-linked list.\n",
    "# class ListNode:\n",
    "#     def __init__(self, val=0, next=None):\n",
    "#         self.val = val\n",
    "#         self.next = next\n",
    "class Solution:\n",
    "    def reverseBetween(self, head: Optional[ListNode], left: int, right: int) -> Optional[ListNode]:\n",
    "        dummy = ListNode(0, head)\n",
    "        # reach node at the position 'Left'\n",
    "        leftPrev, cur = dummy, head\n",
    "        for i in range(left - 1):\n",
    "            leftPrev, cur = cur, cur.next\n",
    "        # now cur = ' left', leftPrev = 'Node before Left'\n",
    "        # reverse from left to right\n",
    "        prev = None\n",
    "        for i in range(right - left + 1):\n",
    "            tempNext = cur.next\n",
    "            cur.next = prev\n",
    "            prev, cur = cur, tempNext\n",
    "        # leftPrev.next pointed to orgianl 'left' node, so leftPrev.next.next means the orginal'left' node point to the last node which is cur now\n",
    "        leftPrev.next.next = cur\n",
    "        # update the pointers to the next which is the 'right' node\n",
    "        leftPrev.next = prev\n",
    "\n",
    "        return dummy.next\n"
   ]
  }
 ],
 "metadata": {
  "language_info": {
   "name": "python"
  }
 },
 "nbformat": 4,
 "nbformat_minor": 2
}
