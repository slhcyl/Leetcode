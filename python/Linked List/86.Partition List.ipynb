{
 "cells": [
  {
   "cell_type": "markdown",
   "metadata": {},
   "source": [
    "86. Partition List\n",
    "Solved\n",
    "Medium\n",
    "Topics\n",
    "Companies\n",
    "Given the head of a linked list and a value x, partition it such that all nodes less than x come before nodes greater than or equal to x.\n",
    "\n",
    "You should preserve the original relative order of the nodes in each of the two partitions.\n",
    "\n",
    " \n",
    "\n",
    "Example 1:\n",
    "\n",
    "\n",
    "Input: head = [1,4,3,2,5,2], x = 3\n",
    "Output: [1,2,2,4,3,5]\n",
    "Example 2:\n",
    "\n",
    "Input: head = [2,1], x = 2\n",
    "Output: [1,2]\n",
    " \n",
    "\n",
    "Constraints:\n",
    "\n",
    "The number of nodes in the list is in the range [0, 200].\n",
    "-100 <= Node.val <= 100\n",
    "-200 <= x <= 200"
   ]
  },
  {
   "cell_type": "markdown",
   "metadata": {},
   "source": [
    "Complexity Analysis\n",
    "Time Complexity: O(N), where N is the number of nodes in the original linked list and we iterate the original list.\n",
    "Space Complexity: O(1), we have not utilized any extra space, the point to note is that we are reforming the original list, by moving the original nodes, we have not used any extra space as such."
   ]
  },
  {
   "cell_type": "code",
   "execution_count": null,
   "metadata": {},
   "outputs": [],
   "source": [
    "# Definition for singly-linked list.\n",
    "# class ListNode:\n",
    "#     def __init__(self, val=0, next=None):\n",
    "#         self.val = val\n",
    "#         self.next = next\n",
    "class Solution:\n",
    "    def partition(self, head: Optional[ListNode], x: int) -> Optional[ListNode]:\n",
    "        # dummy node\n",
    "        left, right = ListNode(), ListNode()\n",
    "        ltail, rtail = left, right\n",
    "\n",
    "        while head:\n",
    "            # any node.val < x will be added to ltail\n",
    "            if head.val < x:\n",
    "                ltail.next = head\n",
    "                ltail = ltail.next\n",
    "            else:\n",
    "                # any node.val >= x will be added to ltail\n",
    "                rtail.next = head\n",
    "                rtail = rtail.next\n",
    "            head = head.next\n",
    "\n",
    "        # connect left tail to the head of right node\n",
    "        ltail.next = right.next\n",
    "        rtail.next = None\n",
    "\n",
    "        return left.next"
   ]
  }
 ],
 "metadata": {
  "language_info": {
   "name": "python"
  }
 },
 "nbformat": 4,
 "nbformat_minor": 2
}
