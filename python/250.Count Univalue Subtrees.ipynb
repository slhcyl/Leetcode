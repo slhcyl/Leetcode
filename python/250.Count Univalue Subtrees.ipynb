{
 "cells": [
  {
   "cell_type": "markdown",
   "metadata": {},
   "source": [
    "250. Count Univalue Subtrees\n",
    "Solved\n",
    "Medium\n",
    "Topics\n",
    "Given the root of a binary tree, return the number of uni-value \n",
    "subtrees\n",
    ".\n",
    "\n",
    "A uni-value subtree means all nodes of the subtree have the same value.\n",
    "\n",
    " \n",
    "\n",
    "Example 1:\n",
    "\n",
    "\n",
    "Input: root = [5,1,5,5,5,null,5]\n",
    "Output: 4\n",
    "Example 2:\n",
    "\n",
    "Input: root = []\n",
    "Output: 0\n",
    "Example 3:\n",
    "\n",
    "Input: root = [5,5,5,5,5,null,5]\n",
    "Output: 6\n",
    " \n",
    "\n",
    "Constraints:\n",
    "\n",
    "The number of the node in the tree will be in the range [0, 1000].\n",
    "-1000 <= Node.val <= 1000"
   ]
  },
  {
   "cell_type": "markdown",
   "metadata": {},
   "source": [
    "Complexity Analysis\n",
    "Here nnn is the number of nodes in the given binary tree.\n",
    "\n",
    "Time complexity: O(n).\n",
    "\n",
    "We traverse once over each node of the tree using DFS traversal which takes O(n) time.\n",
    "Space complexity: O(n).\n",
    "\n",
    "The DFS traversal is recursive and would take some space to store the stack calls. The maximum number of active stack calls at a time would be the tree's height, \n",
    "which in the worst case would be O(n) when the tree is a straight line."
   ]
  },
  {
   "cell_type": "code",
   "execution_count": null,
   "metadata": {},
   "outputs": [],
   "source": [
    "# dfs\n",
    "# Definition for a binary tree node.\n",
    "# class TreeNode:\n",
    "#     def __init__(self, val=0, left=None, right=None):\n",
    "#         self.val = val\n",
    "#         self.left = left\n",
    "#         self.right = right\n",
    "class Solution:\n",
    "    def countUnivalSubtrees(self, root: Optional[TreeNode]) -> int:\n",
    "        self.count = 0\n",
    "\n",
    "        def dfs(node):\n",
    "            if not node:\n",
    "                return True\n",
    "\n",
    "            isLeftUniVal = dfs(node.left)\n",
    "            isRightUniVal = dfs(node.right)\n",
    "            \n",
    "            if isLeftUniVal and isRightUniVal:\n",
    "                if node.left and node.val != node.left.val:\n",
    "                    return False\n",
    "                if node.right and node.val != node.right.val:\n",
    "                    return False\n",
    "                \n",
    "                self.count += 1\n",
    "                return True\n",
    "            return False\n",
    "\n",
    "        dfs(root)\n",
    "        return self.count"
   ]
  }
 ],
 "metadata": {
  "language_info": {
   "name": "python"
  }
 },
 "nbformat": 4,
 "nbformat_minor": 2
}
