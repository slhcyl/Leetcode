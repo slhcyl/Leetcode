{
 "cells": [
  {
   "cell_type": "markdown",
   "metadata": {},
   "source": [
    "1268. Search Suggestions System\n",
    "Solved\n",
    "Medium\n",
    "Topics\n",
    "Companies\n",
    "Hint\n",
    "You are given an array of strings products and a string searchWord.\n",
    "\n",
    "Design a system that suggests at most three product names from products after each character of searchWord is typed. Suggested products should have common prefix with searchWord. If there are more than three products with a common prefix return the three lexicographically minimums products.\n",
    "\n",
    "Return a list of lists of the suggested products after each character of searchWord is typed.\n",
    "\n",
    " \n",
    "\n",
    "Example 1:\n",
    "\n",
    "Input: products = [\"mobile\",\"mouse\",\"moneypot\",\"monitor\",\"mousepad\"], searchWord = \"mouse\"\n",
    "Output: [[\"mobile\",\"moneypot\",\"monitor\"],[\"mobile\",\"moneypot\",\"monitor\"],[\"mouse\",\"mousepad\"],[\"mouse\",\"mousepad\"],[\"mouse\",\"mousepad\"]]\n",
    "Explanation: products sorted lexicographically = [\"mobile\",\"moneypot\",\"monitor\",\"mouse\",\"mousepad\"].\n",
    "After typing m and mo all products match and we show user [\"mobile\",\"moneypot\",\"monitor\"].\n",
    "After typing mou, mous and mouse the system suggests [\"mouse\",\"mousepad\"].\n",
    "Example 2:\n",
    "\n",
    "Input: products = [\"havana\"], searchWord = \"havana\"\n",
    "Output: [[\"havana\"],[\"havana\"],[\"havana\"],[\"havana\"],[\"havana\"],[\"havana\"]]\n",
    "Explanation: The only word \"havana\" will be always suggested while typing the search word.\n",
    " \n",
    "\n",
    "Constraints:\n",
    "\n",
    "1 <= products.length <= 1000\n",
    "1 <= products[i].length <= 3000\n",
    "1 <= sum(products[i].length) <= 2 * 104\n",
    "All the strings of products are unique.\n",
    "products[i] consists of lowercase English letters.\n",
    "1 <= searchWord.length <= 1000\n",
    "searchWord consists of lowercase English letters."
   ]
  },
  {
   "cell_type": "markdown",
   "metadata": {},
   "source": [
    "Complexity Analysis\n",
    "Time Complexity: Sorting the products takes O(NlogN) time, where N is the number of products. For each prefix, the binary search operation and subsequent collection of up to three matching products will take O(logN) for the search and O(1) for collection, since collecting three elements is constant time. Thus, the total time complexity for generating suggestions for all prefixes is O(MlogN), where M is the length of searchWord.\n",
    "\n",
    "Space Complexity: The additional space used by the algorithm is O(N) for the sorted products. The output list size is O(M×3), but since this is required for output, it may not count towards auxiliary space complexity, depending on the context."
   ]
  },
  {
   "cell_type": "code",
   "execution_count": null,
   "metadata": {},
   "outputs": [],
   "source": [
    "from bisect import bisect_left\n",
    "class Solution:\n",
    "    def suggestedProducts(self, products: List[str], searchWord: str) -> List[List[str]]:\n",
    "        # Sort products to maintain lexicographical order\n",
    "        products.sort()\n",
    "        \n",
    "        # Result container\n",
    "        result = []\n",
    "        prefix = \"\"\n",
    "        \n",
    "        # Iterate over each character in searchWord to build prefixes\n",
    "        for char in searchWord:\n",
    "            prefix += char\n",
    "            # Start of the matches in sorted list using binary search\n",
    "            start = bisect_left(products, prefix)\n",
    "            print(start)\n",
    "            # Collect up to 3 matches\n",
    "            matches = []\n",
    "            for i in range(start, min(start + 3, len(products))):\n",
    "                if products[i].startswith(prefix):\n",
    "                    matches.append(products[i])\n",
    "                else:\n",
    "                    break\n",
    "            result.append(matches)\n",
    "        \n",
    "        return result"
   ]
  },
  {
   "cell_type": "code",
   "execution_count": 1,
   "metadata": {},
   "outputs": [
    {
     "name": "stdout",
     "output_type": "stream",
     "text": [
      "2\n"
     ]
    }
   ],
   "source": [
    "import bisect\n",
    "a = [1, 2, 4, 5]\n",
    "x = 3\n",
    "index = bisect.bisect_left(a, x)\n",
    "print(index)\n",
    "a.insert(index, x)  # The list becomes [1, 2, 3, 4, 5]\n"
   ]
  }
 ],
 "metadata": {
  "kernelspec": {
   "display_name": "Python 3",
   "language": "python",
   "name": "python3"
  },
  "language_info": {
   "codemirror_mode": {
    "name": "ipython",
    "version": 3
   },
   "file_extension": ".py",
   "mimetype": "text/x-python",
   "name": "python",
   "nbconvert_exporter": "python",
   "pygments_lexer": "ipython3",
   "version": "3.10.11"
  }
 },
 "nbformat": 4,
 "nbformat_minor": 2
}
