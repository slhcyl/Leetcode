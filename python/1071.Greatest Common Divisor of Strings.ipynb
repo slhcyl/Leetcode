{
 "cells": [
  {
   "cell_type": "markdown",
   "metadata": {},
   "source": [
    "1071. Greatest Common Divisor of Strings\n",
    "Solved\n",
    "Easy\n",
    "Topics\n",
    "Companies\n",
    "Hint\n",
    "For two strings s and t, we say \"t divides s\" if and only if s = t + t + t + ... + t + t (i.e., t is concatenated with itself one or more times).\n",
    "\n",
    "Given two strings str1 and str2, return the largest string x such that x divides both str1 and str2.\n",
    "\n",
    " \n",
    "\n",
    "Example 1:\n",
    "\n",
    "Input: str1 = \"ABCABC\", str2 = \"ABC\"\n",
    "Output: \"ABC\"\n",
    "Example 2:\n",
    "\n",
    "Input: str1 = \"ABABAB\", str2 = \"ABAB\"\n",
    "Output: \"AB\"\n",
    "Example 3:\n",
    "\n",
    "Input: str1 = \"LEET\", str2 = \"CODE\"\n",
    "Output: \"\"\n",
    " \n",
    "\n",
    "Constraints:\n",
    "\n",
    "1 <= str1.length, str2.length <= 1000\n",
    "str1 and str2 consist of English uppercase letters."
   ]
  },
  {
   "cell_type": "code",
   "execution_count": null,
   "metadata": {},
   "outputs": [],
   "source": [
    "# Approach 2: Greatest Common Divisor\n",
    "'''Complexity Analysis\n",
    "Let m,n be the lengthes of the two input strings str1 and str2.\n",
    "Time complexity: O(m+n)\n",
    "We need to compare the two concatenations of length O(m+n), it takes O(m+n) time.\n",
    "We calculate the GCD using binary Euclidean algorithm, it takes log⁡(m⋅n) time.\n",
    "To sum up, the overall time complexity is O(m+n).\n",
    "Space complexity: O(m+n)\n",
    "We need to compare the two concatenations of length O(m+n).'''\n",
    "class Solution:\n",
    "    def gcdOfStrings(self, str1: str, str2: str) -> str:\n",
    "        if str1 + str2 != str2 + str1:\n",
    "            return ''\n",
    "        \n",
    "        gcd_length = math.gcd(len(str1),len(str2))\n",
    "\n",
    "        return str1[:gcd_length]"
   ]
  },
  {
   "cell_type": "code",
   "execution_count": null,
   "metadata": {},
   "outputs": [],
   "source": [
    "# Approach 1: Brute Force\n",
    "'''Complexity Analysis\n",
    "Let m,nm, nm,n be the lengths of the two input strings str1 and str2.\n",
    "\n",
    "Time complexity: O(min⁡(m,n)⋅(m+n))\n",
    "We checked every prefix string base of the shorter string among str1 and str2, and verify if both strings are made by multiples of base. \n",
    "There are up to min⁡(m,n) prefix strings to verify and each check involves iterating over the two input strings to check if the current base is the GCD string, \n",
    "which costs O(m+n). Therefore, the overall time complexity is O(min⁡(m,n)⋅(m+n)).\n",
    "\n",
    "Space complexity: O(min⁡(m,n))\n",
    "We need to keep a copy of base in each iteration, which takes O(min⁡(m,n)) space.'''\n",
    "class Solution:\n",
    "    def gcdOfStrings(self, str1: str, str2: str) -> str:\n",
    "        len1, len2 = len(str1), len(str2)\n",
    "\n",
    "        def valid(k):\n",
    "            if len1 % k or len2 % k:\n",
    "                return False\n",
    "\n",
    "            n1, n2 = len1//k, len2//k\n",
    "            common_string = str1[:k]\n",
    "            return n1*common_string == str1 and n2*common_string == str2\n",
    "\n",
    "        for i in range(min(len1,len2), 0, -1):\n",
    "            if valid(i):\n",
    "                return str1[:i]\n",
    "        return"
   ]
  }
 ],
 "metadata": {
  "language_info": {
   "name": "python"
  }
 },
 "nbformat": 4,
 "nbformat_minor": 2
}
