{
 "cells": [
  {
   "cell_type": "code",
   "execution_count": null,
   "metadata": {},
   "outputs": [],
   "source": [
    "704. Binary Search\n",
    "Solved\n",
    "Easy\n",
    "Topics\n",
    "Companies\n",
    "Given an array of integers nums which is sorted in ascending order, and an integer target, write a function to search target in nums. If target exists, then return its index. Otherwise, return -1.\n",
    "\n",
    "You must write an algorithm with O(log n) runtime complexity.\n",
    "\n",
    " \n",
    "\n",
    "Example 1:\n",
    "\n",
    "Input: nums = [-1,0,3,5,9,12], target = 9\n",
    "Output: 4\n",
    "Explanation: 9 exists in nums and its index is 4\n",
    "Example 2:\n",
    "\n",
    "Input: nums = [-1,0,3,5,9,12], target = 2\n",
    "Output: -1\n",
    "Explanation: 2 does not exist in nums so return -1\n",
    " \n",
    "\n",
    "Constraints:\n",
    "\n",
    "1 <= nums.length <= 104\n",
    "-104 < nums[i], target < 104\n",
    "All the integers in nums are unique.\n",
    "nums is sorted in ascending order."
   ]
  },
  {
   "cell_type": "code",
   "execution_count": null,
   "metadata": {},
   "outputs": [],
   "source": [
    "class Solution:\n",
    "    def search(self, nums: List[int], target: int) -> int:\n",
    "        l, r = 0, len(nums) - 1\n",
    "\n",
    "        while l <= r:\n",
    "            m = (l+r)//2  #to prevent overflow, to use l + ((r-l)//2) if the input array is small\n",
    "\n",
    "            if nums[m] > target:\n",
    "                r = m - 1\n",
    "            elif nums[m] < target:\n",
    "                l = m + 1\n",
    "            else:\n",
    "                return m\n",
    "        return -1"
   ]
  }
 ],
 "metadata": {
  "language_info": {
   "name": "python"
  }
 },
 "nbformat": 4,
 "nbformat_minor": 2
}
