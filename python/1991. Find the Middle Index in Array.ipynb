{
 "cells": [
  {
   "cell_type": "markdown",
   "metadata": {},
   "source": [
    "1991. Find the Middle Index in Array\n",
    "Solved\n",
    "Easy\n",
    "Topics\n",
    "Companies\n",
    "Hint\n",
    "Given a 0-indexed integer array nums, find the leftmost middleIndex (i.e., the smallest amongst all the possible ones).\n",
    "\n",
    "A middleIndex is an index where nums[0] + nums[1] + ... + nums[middleIndex-1] == nums[middleIndex+1] + nums[middleIndex+2] + ... + nums[nums.length-1].\n",
    "\n",
    "If middleIndex == 0, the left side sum is considered to be 0. Similarly, if middleIndex == nums.length - 1, the right side sum is considered to be 0.\n",
    "\n",
    "Return the leftmost middleIndex that satisfies the condition, or -1 if there is no such index.\n",
    "\n",
    " \n",
    "\n",
    "Example 1:\n",
    "\n",
    "Input: nums = [2,3,-1,8,4]\n",
    "Output: 3\n",
    "Explanation: The sum of the numbers before index 3 is: 2 + 3 + -1 = 4\n",
    "The sum of the numbers after index 3 is: 4 = 4\n",
    "Example 2:\n",
    "\n",
    "Input: nums = [1,-1,4]\n",
    "Output: 2\n",
    "Explanation: The sum of the numbers before index 2 is: 1 + -1 = 0\n",
    "The sum of the numbers after index 2 is: 0\n",
    "Example 3:\n",
    "\n",
    "Input: nums = [2,5]\n",
    "Output: -1\n",
    "Explanation: There is no valid middleIndex.\n",
    " \n",
    "\n",
    "Constraints:\n",
    "\n",
    "1 <= nums.length <= 100\n",
    "-1000 <= nums[i] <= 1000\n",
    " \n",
    "\n",
    "Note: This question is the same as 724: https://leetcode.com/problems/find-pivot-index/"
   ]
  },
  {
   "cell_type": "code",
   "execution_count": null,
   "metadata": {},
   "outputs": [],
   "source": [
    "class Solution:\n",
    "    def findMiddleIndex(self, nums: List[int]) -> int:\n",
    "        total = sum(nums)\n",
    "        left_sum = 0\n",
    "\n",
    "        for i in range(len(nums)):\n",
    "            right_sum = total - left_sum - nums[i]\n",
    "            if left_sum == right_sum:\n",
    "                return i\n",
    "            left_sum += nums[i]\n",
    "        \n",
    "        return -1\n",
    "# t O(n)\n",
    "# s O(1)"
   ]
  }
 ],
 "metadata": {
  "language_info": {
   "name": "python"
  }
 },
 "nbformat": 4,
 "nbformat_minor": 2
}
